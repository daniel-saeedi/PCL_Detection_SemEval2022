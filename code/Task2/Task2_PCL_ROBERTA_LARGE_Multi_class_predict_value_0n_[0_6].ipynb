{
  "cells": [
    {
      "cell_type": "code",
      "execution_count": null,
      "metadata": {
        "colab": {
          "base_uri": "https://localhost:8080/"
        },
        "id": "Kml5KHaDqkD0",
        "outputId": "55db71e6-70ba-4b2b-d248-fefdf4d487f9"
      },
      "outputs": [
        {
          "name": "stdout",
          "output_type": "stream",
          "text": [
            "\u001b[K     |████████████████████████████████| 3.4 MB 4.3 MB/s \n",
            "\u001b[K     |████████████████████████████████| 311 kB 73.4 MB/s \n",
            "\u001b[K     |████████████████████████████████| 596 kB 73.9 MB/s \n",
            "\u001b[K     |████████████████████████████████| 67 kB 6.1 MB/s \n",
            "\u001b[K     |████████████████████████████████| 3.3 MB 61.6 MB/s \n",
            "\u001b[K     |████████████████████████████████| 895 kB 89.8 MB/s \n",
            "\u001b[K     |████████████████████████████████| 133 kB 84.1 MB/s \n",
            "\u001b[K     |████████████████████████████████| 1.1 MB 74.1 MB/s \n",
            "\u001b[K     |████████████████████████████████| 243 kB 86.0 MB/s \n",
            "\u001b[K     |████████████████████████████████| 94 kB 4.4 MB/s \n",
            "\u001b[K     |████████████████████████████████| 144 kB 85.3 MB/s \n",
            "\u001b[K     |████████████████████████████████| 271 kB 83.4 MB/s \n",
            "\u001b[?25h"
          ]
        }
      ],
      "source": [
        "pip -q install transformers datasets    "
      ]
    },
    {
      "cell_type": "code",
      "execution_count": null,
      "metadata": {
        "colab": {
          "base_uri": "https://localhost:8080/"
        },
        "id": "8MmGPa5BAiKi",
        "outputId": "8eb80a53-5b19-4539-af53-0c38a0d334aa"
      },
      "outputs": [
        {
          "name": "stdout",
          "output_type": "stream",
          "text": [
            "Mon Jan 24 19:11:43 2022       \n",
            "+-----------------------------------------------------------------------------+\n",
            "| NVIDIA-SMI 495.46       Driver Version: 460.32.03    CUDA Version: 11.2     |\n",
            "|-------------------------------+----------------------+----------------------+\n",
            "| GPU  Name        Persistence-M| Bus-Id        Disp.A | Volatile Uncorr. ECC |\n",
            "| Fan  Temp  Perf  Pwr:Usage/Cap|         Memory-Usage | GPU-Util  Compute M. |\n",
            "|                               |                      |               MIG M. |\n",
            "|===============================+======================+======================|\n",
            "|   0  Tesla T4            Off  | 00000000:00:04.0 Off |                    0 |\n",
            "| N/A   33C    P8     9W /  70W |      0MiB / 15109MiB |      0%      Default |\n",
            "|                               |                      |                  N/A |\n",
            "+-------------------------------+----------------------+----------------------+\n",
            "                                                                               \n",
            "+-----------------------------------------------------------------------------+\n",
            "| Processes:                                                                  |\n",
            "|  GPU   GI   CI        PID   Type   Process name                  GPU Memory |\n",
            "|        ID   ID                                                   Usage      |\n",
            "|=============================================================================|\n",
            "|  No running processes found                                                 |\n",
            "+-----------------------------------------------------------------------------+\n"
          ]
        }
      ],
      "source": [
        "!nvidia-smi"
      ]
    },
    {
      "cell_type": "code",
      "execution_count": null,
      "metadata": {
        "id": "ErjttzAQ3gth"
      },
      "outputs": [],
      "source": [
        "# load tensorboard extension\n",
        "%load_ext tensorboard"
      ]
    },
    {
      "cell_type": "markdown",
      "metadata": {
        "id": "rIKme_eZez-k"
      },
      "source": [
        "# Patronizing and Condescending Language Detection"
      ]
    },
    {
      "cell_type": "markdown",
      "metadata": {
        "id": "ctVgp-AIga5D"
      },
      "source": [
        "##Task 2"
      ]
    },
    {
      "cell_type": "markdown",
      "metadata": {
        "id": "MJ9FngSb-RzF"
      },
      "source": [
        "## Prepare Dataset"
      ]
    },
    {
      "cell_type": "code",
      "execution_count": null,
      "metadata": {
        "id": "yF3nOctNeqfn"
      },
      "outputs": [],
      "source": [
        "import pandas as pd\n",
        "import numpy as np"
      ]
    },
    {
      "cell_type": "code",
      "execution_count": null,
      "metadata": {
        "colab": {
          "base_uri": "https://localhost:8080/"
        },
        "id": "dC2V46kB-z_d",
        "outputId": "12550194-e16f-43d4-ff9a-38821ff28708"
      },
      "outputs": [
        {
          "name": "stdout",
          "output_type": "stream",
          "text": [
            "--2022-01-24 19:11:43--  https://gist.githubusercontent.com/Sirwe-Saeedi/ea22d87102a08df69aea188e53fa16af/raw/8a4106077c4ce731044bc8546ad795c42cfe68d0/PCL_task2_Training_Set.tsv\n",
            "Resolving gist.githubusercontent.com (gist.githubusercontent.com)... 185.199.110.133, 185.199.108.133, 185.199.111.133, ...\n",
            "Connecting to gist.githubusercontent.com (gist.githubusercontent.com)|185.199.110.133|:443... connected.\n",
            "HTTP request sent, awaiting response... 200 OK\n",
            "Length: 1342370 (1.3M) [text/plain]\n",
            "Saving to: ‘PCL_task2_Training_Set.tsv’\n",
            "\n",
            "PCL_task2_Training_ 100%[===================>]   1.28M  --.-KB/s    in 0.06s   \n",
            "\n",
            "2022-01-24 19:11:43 (20.2 MB/s) - ‘PCL_task2_Training_Set.tsv’ saved [1342370/1342370]\n",
            "\n"
          ]
        }
      ],
      "source": [
        "!wget https://gist.githubusercontent.com/Sirwe-Saeedi/ea22d87102a08df69aea188e53fa16af/raw/8a4106077c4ce731044bc8546ad795c42cfe68d0/PCL_task2_Training_Set.tsv"
      ]
    },
    {
      "cell_type": "code",
      "execution_count": null,
      "metadata": {
        "colab": {
          "base_uri": "https://localhost:8080/",
          "height": 987
        },
        "id": "-ptB0aGP_nlW",
        "outputId": "096f5924-4432-4d16-ac19-5ee540c9dba6"
      },
      "outputs": [
        {
          "data": {
            "text/html": [
              "\n",
              "  <div id=\"df-8ec5970e-fa5d-494f-8b4d-59701ed85eff\">\n",
              "    <div class=\"colab-df-container\">\n",
              "      <div>\n",
              "<style scoped>\n",
              "    .dataframe tbody tr th:only-of-type {\n",
              "        vertical-align: middle;\n",
              "    }\n",
              "\n",
              "    .dataframe tbody tr th {\n",
              "        vertical-align: top;\n",
              "    }\n",
              "\n",
              "    .dataframe thead th {\n",
              "        text-align: right;\n",
              "    }\n",
              "</style>\n",
              "<table border=\"1\" class=\"dataframe\">\n",
              "  <thead>\n",
              "    <tr style=\"text-align: right;\">\n",
              "      <th></th>\n",
              "      <th>par_id</th>\n",
              "      <th>art_id</th>\n",
              "      <th>text</th>\n",
              "      <th>keyword</th>\n",
              "      <th>country_code</th>\n",
              "      <th>span_start</th>\n",
              "      <th>span_finish</th>\n",
              "      <th>span_text</th>\n",
              "      <th>pcl_category</th>\n",
              "      <th>number_of_annotators</th>\n",
              "    </tr>\n",
              "  </thead>\n",
              "  <tbody>\n",
              "    <tr>\n",
              "      <th>0</th>\n",
              "      <td>4046</td>\n",
              "      <td>@@14767805</td>\n",
              "      <td>We also know that they can benefit by receivin...</td>\n",
              "      <td>hopeless</td>\n",
              "      <td>us</td>\n",
              "      <td>201</td>\n",
              "      <td>236</td>\n",
              "      <td>put their situation in perspective</td>\n",
              "      <td>Authority_voice</td>\n",
              "      <td>2</td>\n",
              "    </tr>\n",
              "    <tr>\n",
              "      <th>1</th>\n",
              "      <td>4046</td>\n",
              "      <td>@@14767805</td>\n",
              "      <td>We also know that they can benefit by receivin...</td>\n",
              "      <td>hopeless</td>\n",
              "      <td>us</td>\n",
              "      <td>240</td>\n",
              "      <td>274</td>\n",
              "      <td>help them communicate with others</td>\n",
              "      <td>Unbalanced_power_relations</td>\n",
              "      <td>2</td>\n",
              "    </tr>\n",
              "    <tr>\n",
              "      <th>2</th>\n",
              "      <td>4046</td>\n",
              "      <td>@@14767805</td>\n",
              "      <td>We also know that they can benefit by receivin...</td>\n",
              "      <td>hopeless</td>\n",
              "      <td>us</td>\n",
              "      <td>274</td>\n",
              "      <td>300</td>\n",
              "      <td>who could provide support</td>\n",
              "      <td>Unbalanced_power_relations</td>\n",
              "      <td>1</td>\n",
              "    </tr>\n",
              "    <tr>\n",
              "      <th>3</th>\n",
              "      <td>4046</td>\n",
              "      <td>@@14767805</td>\n",
              "      <td>We also know that they can benefit by receivin...</td>\n",
              "      <td>hopeless</td>\n",
              "      <td>us</td>\n",
              "      <td>384</td>\n",
              "      <td>434</td>\n",
              "      <td>plan for their needs and the needs of their child</td>\n",
              "      <td>Authority_voice</td>\n",
              "      <td>2</td>\n",
              "    </tr>\n",
              "    <tr>\n",
              "      <th>4</th>\n",
              "      <td>4046</td>\n",
              "      <td>@@14767805</td>\n",
              "      <td>We also know that they can benefit by receivin...</td>\n",
              "      <td>hopeless</td>\n",
              "      <td>us</td>\n",
              "      <td>0</td>\n",
              "      <td>35</td>\n",
              "      <td>We also know that they can benefit</td>\n",
              "      <td>Unbalanced_power_relations</td>\n",
              "      <td>1</td>\n",
              "    </tr>\n",
              "    <tr>\n",
              "      <th>...</th>\n",
              "      <td>...</td>\n",
              "      <td>...</td>\n",
              "      <td>...</td>\n",
              "      <td>...</td>\n",
              "      <td>...</td>\n",
              "      <td>...</td>\n",
              "      <td>...</td>\n",
              "      <td>...</td>\n",
              "      <td>...</td>\n",
              "      <td>...</td>\n",
              "    </tr>\n",
              "    <tr>\n",
              "      <th>2755</th>\n",
              "      <td>10070</td>\n",
              "      <td>@@15573661</td>\n",
              "      <td>Fern ? ndez was a well-known philanthropist wh...</td>\n",
              "      <td>disabled</td>\n",
              "      <td>ng</td>\n",
              "      <td>0</td>\n",
              "      <td>210</td>\n",
              "      <td>Fern ? ndez was a well-known philanthropist wh...</td>\n",
              "      <td>Unbalanced_power_relations</td>\n",
              "      <td>1</td>\n",
              "    </tr>\n",
              "    <tr>\n",
              "      <th>2756</th>\n",
              "      <td>6484</td>\n",
              "      <td>@@2559173</td>\n",
              "      <td>Touched much by their plight , Commanding Offi...</td>\n",
              "      <td>homeless</td>\n",
              "      <td>lk</td>\n",
              "      <td>0</td>\n",
              "      <td>29</td>\n",
              "      <td>Touched much by their plight</td>\n",
              "      <td>Compassion</td>\n",
              "      <td>1</td>\n",
              "    </tr>\n",
              "    <tr>\n",
              "      <th>2757</th>\n",
              "      <td>6484</td>\n",
              "      <td>@@2559173</td>\n",
              "      <td>Touched much by their plight , Commanding Offi...</td>\n",
              "      <td>homeless</td>\n",
              "      <td>lk</td>\n",
              "      <td>31</td>\n",
              "      <td>315</td>\n",
              "      <td>Commanding Officer and all ranks of the 7 Sri ...</td>\n",
              "      <td>Unbalanced_power_relations</td>\n",
              "      <td>1</td>\n",
              "    </tr>\n",
              "    <tr>\n",
              "      <th>2758</th>\n",
              "      <td>6249</td>\n",
              "      <td>@@1947926</td>\n",
              "      <td>She reiterated her ministry 's commitment to p...</td>\n",
              "      <td>women</td>\n",
              "      <td>gh</td>\n",
              "      <td>153</td>\n",
              "      <td>205</td>\n",
              "      <td>gave a strong indication of hope for Ghanaian ...</td>\n",
              "      <td>Unbalanced_power_relations</td>\n",
              "      <td>1</td>\n",
              "    </tr>\n",
              "    <tr>\n",
              "      <th>2759</th>\n",
              "      <td>5149</td>\n",
              "      <td>@@1789214</td>\n",
              "      <td>Preaching the sermon , the Dean of the St. Pet...</td>\n",
              "      <td>vulnerable</td>\n",
              "      <td>gh</td>\n",
              "      <td>23</td>\n",
              "      <td>317</td>\n",
              "      <td>the Dean of the St. Peter 's Cathedral , Very ...</td>\n",
              "      <td>Authority_voice</td>\n",
              "      <td>1</td>\n",
              "    </tr>\n",
              "  </tbody>\n",
              "</table>\n",
              "<p>2760 rows × 10 columns</p>\n",
              "</div>\n",
              "      <button class=\"colab-df-convert\" onclick=\"convertToInteractive('df-8ec5970e-fa5d-494f-8b4d-59701ed85eff')\"\n",
              "              title=\"Convert this dataframe to an interactive table.\"\n",
              "              style=\"display:none;\">\n",
              "        \n",
              "  <svg xmlns=\"http://www.w3.org/2000/svg\" height=\"24px\"viewBox=\"0 0 24 24\"\n",
              "       width=\"24px\">\n",
              "    <path d=\"M0 0h24v24H0V0z\" fill=\"none\"/>\n",
              "    <path d=\"M18.56 5.44l.94 2.06.94-2.06 2.06-.94-2.06-.94-.94-2.06-.94 2.06-2.06.94zm-11 1L8.5 8.5l.94-2.06 2.06-.94-2.06-.94L8.5 2.5l-.94 2.06-2.06.94zm10 10l.94 2.06.94-2.06 2.06-.94-2.06-.94-.94-2.06-.94 2.06-2.06.94z\"/><path d=\"M17.41 7.96l-1.37-1.37c-.4-.4-.92-.59-1.43-.59-.52 0-1.04.2-1.43.59L10.3 9.45l-7.72 7.72c-.78.78-.78 2.05 0 2.83L4 21.41c.39.39.9.59 1.41.59.51 0 1.02-.2 1.41-.59l7.78-7.78 2.81-2.81c.8-.78.8-2.07 0-2.86zM5.41 20L4 18.59l7.72-7.72 1.47 1.35L5.41 20z\"/>\n",
              "  </svg>\n",
              "      </button>\n",
              "      \n",
              "  <style>\n",
              "    .colab-df-container {\n",
              "      display:flex;\n",
              "      flex-wrap:wrap;\n",
              "      gap: 12px;\n",
              "    }\n",
              "\n",
              "    .colab-df-convert {\n",
              "      background-color: #E8F0FE;\n",
              "      border: none;\n",
              "      border-radius: 50%;\n",
              "      cursor: pointer;\n",
              "      display: none;\n",
              "      fill: #1967D2;\n",
              "      height: 32px;\n",
              "      padding: 0 0 0 0;\n",
              "      width: 32px;\n",
              "    }\n",
              "\n",
              "    .colab-df-convert:hover {\n",
              "      background-color: #E2EBFA;\n",
              "      box-shadow: 0px 1px 2px rgba(60, 64, 67, 0.3), 0px 1px 3px 1px rgba(60, 64, 67, 0.15);\n",
              "      fill: #174EA6;\n",
              "    }\n",
              "\n",
              "    [theme=dark] .colab-df-convert {\n",
              "      background-color: #3B4455;\n",
              "      fill: #D2E3FC;\n",
              "    }\n",
              "\n",
              "    [theme=dark] .colab-df-convert:hover {\n",
              "      background-color: #434B5C;\n",
              "      box-shadow: 0px 1px 3px 1px rgba(0, 0, 0, 0.15);\n",
              "      filter: drop-shadow(0px 1px 2px rgba(0, 0, 0, 0.3));\n",
              "      fill: #FFFFFF;\n",
              "    }\n",
              "  </style>\n",
              "\n",
              "      <script>\n",
              "        const buttonEl =\n",
              "          document.querySelector('#df-8ec5970e-fa5d-494f-8b4d-59701ed85eff button.colab-df-convert');\n",
              "        buttonEl.style.display =\n",
              "          google.colab.kernel.accessAllowed ? 'block' : 'none';\n",
              "\n",
              "        async function convertToInteractive(key) {\n",
              "          const element = document.querySelector('#df-8ec5970e-fa5d-494f-8b4d-59701ed85eff');\n",
              "          const dataTable =\n",
              "            await google.colab.kernel.invokeFunction('convertToInteractive',\n",
              "                                                     [key], {});\n",
              "          if (!dataTable) return;\n",
              "\n",
              "          const docLinkHtml = 'Like what you see? Visit the ' +\n",
              "            '<a target=\"_blank\" href=https://colab.research.google.com/notebooks/data_table.ipynb>data table notebook</a>'\n",
              "            + ' to learn more about interactive tables.';\n",
              "          element.innerHTML = '';\n",
              "          dataTable['output_type'] = 'display_data';\n",
              "          await google.colab.output.renderOutput(dataTable, element);\n",
              "          const docLink = document.createElement('div');\n",
              "          docLink.innerHTML = docLinkHtml;\n",
              "          element.appendChild(docLink);\n",
              "        }\n",
              "      </script>\n",
              "    </div>\n",
              "  </div>\n",
              "  "
            ],
            "text/plain": [
              "      par_id      art_id  ...                pcl_category number_of_annotators\n",
              "0       4046  @@14767805  ...             Authority_voice                    2\n",
              "1       4046  @@14767805  ...  Unbalanced_power_relations                    2\n",
              "2       4046  @@14767805  ...  Unbalanced_power_relations                    1\n",
              "3       4046  @@14767805  ...             Authority_voice                    2\n",
              "4       4046  @@14767805  ...  Unbalanced_power_relations                    1\n",
              "...      ...         ...  ...                         ...                  ...\n",
              "2755   10070  @@15573661  ...  Unbalanced_power_relations                    1\n",
              "2756    6484   @@2559173  ...                  Compassion                    1\n",
              "2757    6484   @@2559173  ...  Unbalanced_power_relations                    1\n",
              "2758    6249   @@1947926  ...  Unbalanced_power_relations                    1\n",
              "2759    5149   @@1789214  ...             Authority_voice                    1\n",
              "\n",
              "[2760 rows x 10 columns]"
            ]
          },
          "execution_count": 6,
          "metadata": {},
          "output_type": "execute_result"
        }
      ],
      "source": [
        "#Skip the disclaimer at the beginning of file\n",
        "df_categories = pd.read_csv('./PCL_task2_Training_Set.tsv', sep='\\t', skiprows=4, header = None)\n",
        "df_categories.columns = ['par_id','art_id',\t'text', 'keyword',\t'country_code', 'span_start', 'span_finish', 'span_text', 'pcl_category', 'number_of_annotators']\n",
        "#  number_of_annotators = 'number_of_annotators_agreeing_in_that_label'\n",
        "#df_pcl.drop('index', axis = 1, inplace=True)\n",
        "df_categories"
      ]
    },
    {
      "cell_type": "code",
      "execution_count": null,
      "metadata": {
        "colab": {
          "base_uri": "https://localhost:8080/"
        },
        "id": "jrIThV48iENP",
        "outputId": "bb5d7316-e0f8-4739-fb2b-4194c6802bb5"
      },
      "outputs": [
        {
          "data": {
            "text/plain": [
              "0       2\n",
              "1       2\n",
              "2       1\n",
              "3       2\n",
              "4       1\n",
              "       ..\n",
              "2755    1\n",
              "2756    1\n",
              "2757    1\n",
              "2758    1\n",
              "2759    1\n",
              "Name: number_of_annotators, Length: 2760, dtype: int64"
            ]
          },
          "execution_count": 7,
          "metadata": {},
          "output_type": "execute_result"
        }
      ],
      "source": [
        "df_categories['number_of_annotators']"
      ]
    },
    {
      "cell_type": "code",
      "execution_count": null,
      "metadata": {
        "colab": {
          "base_uri": "https://localhost:8080/"
        },
        "id": "ukVsZoMtD8dl",
        "outputId": "fd86829b-23f7-450c-9186-1ee4a752da62"
      },
      "outputs": [
        {
          "data": {
            "text/plain": [
              "2    1401\n",
              "1    1359\n",
              "Name: number_of_annotators, dtype: int64"
            ]
          },
          "execution_count": 8,
          "metadata": {},
          "output_type": "execute_result"
        }
      ],
      "source": [
        "df_categories['number_of_annotators'].value_counts()"
      ]
    },
    {
      "cell_type": "code",
      "execution_count": null,
      "metadata": {
        "colab": {
          "base_uri": "https://localhost:8080/"
        },
        "id": "Rbl1cSPDXNVR",
        "outputId": "14a00cb1-61a2-48f6-dd29-4e8b24403588"
      },
      "outputs": [
        {
          "name": "stdout",
          "output_type": "stream",
          "text": [
            "category_label NaN values : 0\n",
            "span_tetx NaN values : 0\n"
          ]
        }
      ],
      "source": [
        "print(f\"category_label NaN values : {df_categories['pcl_category'].isnull().sum()}\")\n",
        "print(f\"span_tetx NaN values : {df_categories['span_text'].isnull().sum()}\")"
      ]
    },
    {
      "cell_type": "code",
      "execution_count": null,
      "metadata": {
        "id": "pkxYWXKkYB7P"
      },
      "outputs": [],
      "source": [
        "# df_categories = df_categories[df_categories['pcl_category'].notna()]\n",
        "# df_categories = df_categories[df_categories['span_text'].notna()]"
      ]
    },
    {
      "cell_type": "code",
      "execution_count": null,
      "metadata": {
        "id": "Rz-ETaT8YfNd"
      },
      "outputs": [],
      "source": [
        "# print(f\"category_label NaN values : {df_categories['pcl_category'].isnull().sum()}\")\n",
        "# print(f\"span_tetx NaN values : {df_categories['span_text'].isnull().sum()}\")"
      ]
    },
    {
      "cell_type": "code",
      "execution_count": null,
      "metadata": {
        "id": "aXXcHD5YT4aF"
      },
      "outputs": [],
      "source": [
        "a = df_categories['pcl_category'].astype('category')\n",
        "df_categories['labels'] = a.cat.codes"
      ]
    },
    {
      "cell_type": "code",
      "execution_count": null,
      "metadata": {
        "colab": {
          "base_uri": "https://localhost:8080/"
        },
        "id": "SkDgGwuQGGsz",
        "outputId": "a8ab18cb-aea1-4a06-b494-a9143f9c401d"
      },
      "outputs": [
        {
          "data": {
            "text/plain": [
              "0                  Authority_voice\n",
              "1       Unbalanced_power_relations\n",
              "2       Unbalanced_power_relations\n",
              "3                  Authority_voice\n",
              "4       Unbalanced_power_relations\n",
              "                   ...            \n",
              "2755    Unbalanced_power_relations\n",
              "2756                    Compassion\n",
              "2757    Unbalanced_power_relations\n",
              "2758    Unbalanced_power_relations\n",
              "2759               Authority_voice\n",
              "Name: pcl_category, Length: 2760, dtype: category\n",
              "Categories (7, object): ['Authority_voice', 'Compassion', 'Metaphors', 'Presupposition',\n",
              "                         'Shallow_solution', 'The_poorer_the_merrier', 'Unbalanced_power_relations']"
            ]
          },
          "execution_count": 13,
          "metadata": {},
          "output_type": "execute_result"
        }
      ],
      "source": [
        "a"
      ]
    },
    {
      "cell_type": "code",
      "execution_count": null,
      "metadata": {
        "colab": {
          "base_uri": "https://localhost:8080/"
        },
        "id": "DK9PwopWGNRd",
        "outputId": "8a303023-e42f-447f-92c3-426428b800a6"
      },
      "outputs": [
        {
          "data": {
            "text/plain": [
              "0       0\n",
              "1       6\n",
              "2       6\n",
              "3       0\n",
              "4       6\n",
              "       ..\n",
              "2755    6\n",
              "2756    1\n",
              "2757    6\n",
              "2758    6\n",
              "2759    0\n",
              "Name: labels, Length: 2760, dtype: int8"
            ]
          },
          "execution_count": 14,
          "metadata": {},
          "output_type": "execute_result"
        }
      ],
      "source": [
        "df_categories['labels']"
      ]
    },
    {
      "cell_type": "code",
      "execution_count": null,
      "metadata": {
        "colab": {
          "base_uri": "https://localhost:8080/"
        },
        "id": "yJ8DMfh1IV3i",
        "outputId": "927b51fb-3bba-48b7-c4b3-0f7e7888adee"
      },
      "outputs": [
        {
          "data": {
            "text/plain": [
              "6    968\n",
              "1    682\n",
              "3    296\n",
              "0    285\n",
              "2    250\n",
              "4    227\n",
              "5     52\n",
              "Name: labels, dtype: int64"
            ]
          },
          "execution_count": 15,
          "metadata": {},
          "output_type": "execute_result"
        }
      ],
      "source": [
        "df_categories['labels'].value_counts()"
      ]
    },
    {
      "cell_type": "code",
      "execution_count": null,
      "metadata": {
        "colab": {
          "base_uri": "https://localhost:8080/"
        },
        "id": "JO48_ynNXuGW",
        "outputId": "bbf8c468-5e70-4c01-c4c9-04d4f5fb3f2f"
      },
      "outputs": [
        {
          "data": {
            "text/plain": [
              "array([0, 6, 4, 3, 1, 2, 5], dtype=int8)"
            ]
          },
          "execution_count": 16,
          "metadata": {},
          "output_type": "execute_result"
        }
      ],
      "source": [
        "df_categories['labels'].unique()"
      ]
    },
    {
      "cell_type": "code",
      "execution_count": null,
      "metadata": {
        "colab": {
          "base_uri": "https://localhost:8080/"
        },
        "id": "UIeslhtb6T6j",
        "outputId": "1046b71d-06a2-43cc-f0d9-fc778a1d6b8c"
      },
      "outputs": [
        {
          "data": {
            "text/plain": [
              "2760"
            ]
          },
          "execution_count": 17,
          "metadata": {},
          "output_type": "execute_result"
        }
      ],
      "source": [
        "len(df_categories)"
      ]
    },
    {
      "cell_type": "markdown",
      "metadata": {
        "id": "8rBTn8VIatyI"
      },
      "source": [
        "#Test set"
      ]
    },
    {
      "cell_type": "code",
      "execution_count": null,
      "metadata": {
        "colab": {
          "base_uri": "https://localhost:8080/"
        },
        "id": "_9rn6wOBawOY",
        "outputId": "220eac2d-4c29-4f27-b42c-102c32fbc8e5"
      },
      "outputs": [
        {
          "name": "stdout",
          "output_type": "stream",
          "text": [
            "--2022-01-24 19:12:13--  https://gist.githubusercontent.com/Sirwe-Saeedi/f04bd684ad7b43f09934658c096dc475/raw/4128a99896080a84a61fccb73d58f82eb06a3b87/TestSet_EvaluationPhase.csv\n",
            "Resolving gist.githubusercontent.com (gist.githubusercontent.com)... 185.199.108.133, 185.199.110.133, 185.199.109.133, ...\n",
            "Connecting to gist.githubusercontent.com (gist.githubusercontent.com)|185.199.108.133|:443... connected.\n",
            "HTTP request sent, awaiting response... 200 OK\n",
            "Length: 1145277 (1.1M) [text/plain]\n",
            "Saving to: ‘TestSet_EvaluationPhase.csv’\n",
            "\n",
            "TestSet_EvaluationP 100%[===================>]   1.09M  --.-KB/s    in 0.06s   \n",
            "\n",
            "2022-01-24 19:12:15 (17.7 MB/s) - ‘TestSet_EvaluationPhase.csv’ saved [1145277/1145277]\n",
            "\n"
          ]
        }
      ],
      "source": [
        "!wget https://gist.githubusercontent.com/Sirwe-Saeedi/f04bd684ad7b43f09934658c096dc475/raw/4128a99896080a84a61fccb73d58f82eb06a3b87/TestSet_EvaluationPhase.csv"
      ]
    },
    {
      "cell_type": "code",
      "execution_count": null,
      "metadata": {
        "colab": {
          "base_uri": "https://localhost:8080/",
          "height": 423
        },
        "id": "aFAttZF7avM2",
        "outputId": "2b17af96-6bff-4a69-dc94-5ef9914d49ad"
      },
      "outputs": [
        {
          "data": {
            "text/html": [
              "\n",
              "  <div id=\"df-8642472d-37a6-4450-8982-38c1fb63f96e\">\n",
              "    <div class=\"colab-df-container\">\n",
              "      <div>\n",
              "<style scoped>\n",
              "    .dataframe tbody tr th:only-of-type {\n",
              "        vertical-align: middle;\n",
              "    }\n",
              "\n",
              "    .dataframe tbody tr th {\n",
              "        vertical-align: top;\n",
              "    }\n",
              "\n",
              "    .dataframe thead th {\n",
              "        text-align: right;\n",
              "    }\n",
              "</style>\n",
              "<table border=\"1\" class=\"dataframe\">\n",
              "  <thead>\n",
              "    <tr style=\"text-align: right;\">\n",
              "      <th></th>\n",
              "      <th>index</th>\n",
              "      <th>paragraph_id</th>\n",
              "      <th>keyword</th>\n",
              "      <th>country_code</th>\n",
              "      <th>paragraph</th>\n",
              "    </tr>\n",
              "  </thead>\n",
              "  <tbody>\n",
              "    <tr>\n",
              "      <th>0</th>\n",
              "      <td>t_0</td>\n",
              "      <td>@@7258997</td>\n",
              "      <td>vulnerable</td>\n",
              "      <td>us</td>\n",
              "      <td>In the meantime , conservatives are working to...</td>\n",
              "    </tr>\n",
              "    <tr>\n",
              "      <th>1</th>\n",
              "      <td>t_1</td>\n",
              "      <td>@@16397324</td>\n",
              "      <td>women</td>\n",
              "      <td>pk</td>\n",
              "      <td>In most poor households with no education chil...</td>\n",
              "    </tr>\n",
              "    <tr>\n",
              "      <th>2</th>\n",
              "      <td>t_2</td>\n",
              "      <td>@@16257812</td>\n",
              "      <td>migrant</td>\n",
              "      <td>ca</td>\n",
              "      <td>The real question is not whether immigration i...</td>\n",
              "    </tr>\n",
              "    <tr>\n",
              "      <th>3</th>\n",
              "      <td>t_3</td>\n",
              "      <td>@@3509652</td>\n",
              "      <td>migrant</td>\n",
              "      <td>gb</td>\n",
              "      <td>In total , the country 's immigrant population...</td>\n",
              "    </tr>\n",
              "    <tr>\n",
              "      <th>4</th>\n",
              "      <td>t_4</td>\n",
              "      <td>@@477506</td>\n",
              "      <td>vulnerable</td>\n",
              "      <td>ca</td>\n",
              "      <td>Members of the church , which is part of Ken C...</td>\n",
              "    </tr>\n",
              "    <tr>\n",
              "      <th>...</th>\n",
              "      <td>...</td>\n",
              "      <td>...</td>\n",
              "      <td>...</td>\n",
              "      <td>...</td>\n",
              "      <td>...</td>\n",
              "    </tr>\n",
              "    <tr>\n",
              "      <th>3827</th>\n",
              "      <td>t_3893</td>\n",
              "      <td>@@20319448</td>\n",
              "      <td>migrant</td>\n",
              "      <td>jm</td>\n",
              "      <td>In a letter dated Thursday to European Commiss...</td>\n",
              "    </tr>\n",
              "    <tr>\n",
              "      <th>3828</th>\n",
              "      <td>t_3894</td>\n",
              "      <td>@@9990672</td>\n",
              "      <td>poor-families</td>\n",
              "      <td>au</td>\n",
              "      <td>They discovered that poor families with health...</td>\n",
              "    </tr>\n",
              "    <tr>\n",
              "      <th>3829</th>\n",
              "      <td>t_3895</td>\n",
              "      <td>@@37984</td>\n",
              "      <td>migrant</td>\n",
              "      <td>ca</td>\n",
              "      <td>She married at 19 , to Milan ( Emil ) Badovina...</td>\n",
              "    </tr>\n",
              "    <tr>\n",
              "      <th>3830</th>\n",
              "      <td>t_3896</td>\n",
              "      <td>@@9691377</td>\n",
              "      <td>immigrant</td>\n",
              "      <td>us</td>\n",
              "      <td>The United Kingdom is n't going to devolve int...</td>\n",
              "    </tr>\n",
              "    <tr>\n",
              "      <th>3831</th>\n",
              "      <td>t_3897</td>\n",
              "      <td>@@26170085</td>\n",
              "      <td>poor-families</td>\n",
              "      <td>ng</td>\n",
              "      <td>This moral battle informed the recent defectio...</td>\n",
              "    </tr>\n",
              "  </tbody>\n",
              "</table>\n",
              "<p>3832 rows × 5 columns</p>\n",
              "</div>\n",
              "      <button class=\"colab-df-convert\" onclick=\"convertToInteractive('df-8642472d-37a6-4450-8982-38c1fb63f96e')\"\n",
              "              title=\"Convert this dataframe to an interactive table.\"\n",
              "              style=\"display:none;\">\n",
              "        \n",
              "  <svg xmlns=\"http://www.w3.org/2000/svg\" height=\"24px\"viewBox=\"0 0 24 24\"\n",
              "       width=\"24px\">\n",
              "    <path d=\"M0 0h24v24H0V0z\" fill=\"none\"/>\n",
              "    <path d=\"M18.56 5.44l.94 2.06.94-2.06 2.06-.94-2.06-.94-.94-2.06-.94 2.06-2.06.94zm-11 1L8.5 8.5l.94-2.06 2.06-.94-2.06-.94L8.5 2.5l-.94 2.06-2.06.94zm10 10l.94 2.06.94-2.06 2.06-.94-2.06-.94-.94-2.06-.94 2.06-2.06.94z\"/><path d=\"M17.41 7.96l-1.37-1.37c-.4-.4-.92-.59-1.43-.59-.52 0-1.04.2-1.43.59L10.3 9.45l-7.72 7.72c-.78.78-.78 2.05 0 2.83L4 21.41c.39.39.9.59 1.41.59.51 0 1.02-.2 1.41-.59l7.78-7.78 2.81-2.81c.8-.78.8-2.07 0-2.86zM5.41 20L4 18.59l7.72-7.72 1.47 1.35L5.41 20z\"/>\n",
              "  </svg>\n",
              "      </button>\n",
              "      \n",
              "  <style>\n",
              "    .colab-df-container {\n",
              "      display:flex;\n",
              "      flex-wrap:wrap;\n",
              "      gap: 12px;\n",
              "    }\n",
              "\n",
              "    .colab-df-convert {\n",
              "      background-color: #E8F0FE;\n",
              "      border: none;\n",
              "      border-radius: 50%;\n",
              "      cursor: pointer;\n",
              "      display: none;\n",
              "      fill: #1967D2;\n",
              "      height: 32px;\n",
              "      padding: 0 0 0 0;\n",
              "      width: 32px;\n",
              "    }\n",
              "\n",
              "    .colab-df-convert:hover {\n",
              "      background-color: #E2EBFA;\n",
              "      box-shadow: 0px 1px 2px rgba(60, 64, 67, 0.3), 0px 1px 3px 1px rgba(60, 64, 67, 0.15);\n",
              "      fill: #174EA6;\n",
              "    }\n",
              "\n",
              "    [theme=dark] .colab-df-convert {\n",
              "      background-color: #3B4455;\n",
              "      fill: #D2E3FC;\n",
              "    }\n",
              "\n",
              "    [theme=dark] .colab-df-convert:hover {\n",
              "      background-color: #434B5C;\n",
              "      box-shadow: 0px 1px 3px 1px rgba(0, 0, 0, 0.15);\n",
              "      filter: drop-shadow(0px 1px 2px rgba(0, 0, 0, 0.3));\n",
              "      fill: #FFFFFF;\n",
              "    }\n",
              "  </style>\n",
              "\n",
              "      <script>\n",
              "        const buttonEl =\n",
              "          document.querySelector('#df-8642472d-37a6-4450-8982-38c1fb63f96e button.colab-df-convert');\n",
              "        buttonEl.style.display =\n",
              "          google.colab.kernel.accessAllowed ? 'block' : 'none';\n",
              "\n",
              "        async function convertToInteractive(key) {\n",
              "          const element = document.querySelector('#df-8642472d-37a6-4450-8982-38c1fb63f96e');\n",
              "          const dataTable =\n",
              "            await google.colab.kernel.invokeFunction('convertToInteractive',\n",
              "                                                     [key], {});\n",
              "          if (!dataTable) return;\n",
              "\n",
              "          const docLinkHtml = 'Like what you see? Visit the ' +\n",
              "            '<a target=\"_blank\" href=https://colab.research.google.com/notebooks/data_table.ipynb>data table notebook</a>'\n",
              "            + ' to learn more about interactive tables.';\n",
              "          element.innerHTML = '';\n",
              "          dataTable['output_type'] = 'display_data';\n",
              "          await google.colab.output.renderOutput(dataTable, element);\n",
              "          const docLink = document.createElement('div');\n",
              "          docLink.innerHTML = docLinkHtml;\n",
              "          element.appendChild(docLink);\n",
              "        }\n",
              "      </script>\n",
              "    </div>\n",
              "  </div>\n",
              "  "
            ],
            "text/plain": [
              "       index  ...                                          paragraph\n",
              "0        t_0  ...  In the meantime , conservatives are working to...\n",
              "1        t_1  ...  In most poor households with no education chil...\n",
              "2        t_2  ...  The real question is not whether immigration i...\n",
              "3        t_3  ...  In total , the country 's immigrant population...\n",
              "4        t_4  ...  Members of the church , which is part of Ken C...\n",
              "...      ...  ...                                                ...\n",
              "3827  t_3893  ...  In a letter dated Thursday to European Commiss...\n",
              "3828  t_3894  ...  They discovered that poor families with health...\n",
              "3829  t_3895  ...  She married at 19 , to Milan ( Emil ) Badovina...\n",
              "3830  t_3896  ...  The United Kingdom is n't going to devolve int...\n",
              "3831  t_3897  ...  This moral battle informed the recent defectio...\n",
              "\n",
              "[3832 rows x 5 columns]"
            ]
          },
          "execution_count": 19,
          "metadata": {},
          "output_type": "execute_result"
        }
      ],
      "source": [
        "df_pcl_test = pd.read_csv('./TestSet_EvaluationPhase.csv', sep='\\t', header = None)\n",
        "df_pcl_test.columns = ['index','paragraph_id',\t'keyword', 'country_code',\t'paragraph']\n",
        "#df_pcl_test.drop('index', axis = 1, inplace=True)\n",
        "df_pcl_test"
      ]
    },
    {
      "cell_type": "markdown",
      "metadata": {
        "id": "lVJmmpoOWs0G"
      },
      "source": [
        "## Multi-class Classification\n"
      ]
    },
    {
      "cell_type": "code",
      "execution_count": null,
      "metadata": {
        "id": "9jzP03pn5KFj"
      },
      "outputs": [],
      "source": [
        "import os\n",
        "#os.environ['WANDB_PROJECT'] = 'pcl-binary'"
      ]
    },
    {
      "cell_type": "code",
      "execution_count": null,
      "metadata": {
        "id": "nLkhyhQnSs3O"
      },
      "outputs": [],
      "source": [
        "import torch\n",
        "from tqdm.notebook import tqdm\n",
        "\n",
        "from transformers import RobertaTokenizer, BertTokenizer\n",
        "from torch.utils.data import TensorDataset\n",
        "\n",
        "from transformers import RobertaForSequenceClassification, BertForSequenceClassification\n",
        "\n",
        "import seaborn as sns"
      ]
    },
    {
      "cell_type": "code",
      "execution_count": null,
      "metadata": {
        "colab": {
          "base_uri": "https://localhost:8080/"
        },
        "id": "qFgjI0pmSgdd",
        "outputId": "52c729ff-72c9-462e-fd00-e12fd7406f41"
      },
      "outputs": [
        {
          "data": {
            "text/plain": [
              "2760"
            ]
          },
          "execution_count": 22,
          "metadata": {},
          "output_type": "execute_result"
        }
      ],
      "source": [
        "len(df_categories)"
      ]
    },
    {
      "cell_type": "code",
      "execution_count": null,
      "metadata": {
        "colab": {
          "base_uri": "https://localhost:8080/"
        },
        "id": "0woMPr4_TZUV",
        "outputId": "55c85f27-5544-41fb-bacc-00763cd5141b"
      },
      "outputs": [
        {
          "data": {
            "text/plain": [
              "par_id                  0\n",
              "art_id                  0\n",
              "text                    0\n",
              "keyword                 0\n",
              "country_code            0\n",
              "span_start              0\n",
              "span_finish             0\n",
              "span_text               0\n",
              "pcl_category            0\n",
              "number_of_annotators    0\n",
              "labels                  0\n",
              "dtype: int64"
            ]
          },
          "execution_count": 23,
          "metadata": {},
          "output_type": "execute_result"
        }
      ],
      "source": [
        "df_categories.isnull().sum()"
      ]
    },
    {
      "cell_type": "code",
      "execution_count": null,
      "metadata": {
        "colab": {
          "base_uri": "https://localhost:8080/",
          "height": 336
        },
        "id": "apBdtyYYYioo",
        "outputId": "97a98abd-3d0f-4679-aaf3-025444829013"
      },
      "outputs": [
        {
          "name": "stderr",
          "output_type": "stream",
          "text": [
            "/usr/local/lib/python3.7/dist-packages/seaborn/_decorators.py:43: FutureWarning: Pass the following variable as a keyword arg: x. From version 0.12, the only valid positional argument will be `data`, and passing other arguments without an explicit keyword will result in an error or misinterpretation.\n",
            "  FutureWarning\n"
          ]
        },
        {
          "data": {
            "image/png": "[encoded data removed]",
            "text/plain": [
              "<Figure size 432x288 with 1 Axes>"
            ]
          },
          "metadata": {},
          "output_type": "display_data"
        }
      ],
      "source": [
        "sns.countplot(df_categories['labels']);"
      ]
    },
    {
      "cell_type": "markdown",
      "metadata": {
        "id": "4803fNK5YywX"
      },
      "source": [
        "## Training using Huggingface API"
      ]
    },
    {
      "cell_type": "code",
      "execution_count": null,
      "metadata": {
        "id": "lDc6dqwFh_iD"
      },
      "outputs": [],
      "source": [
        "df_categories_selected = df_categories\n",
        "def combine_features(row):\n",
        "  return '<s>'.join(row.drop(['text','keyword','span_start','span_finish','pcl_category','labels'],axis=0).apply(str).values)\n",
        "df_categories_selected['combined_features'] = df_categories_selected.apply(combine_features, axis = 1)\n",
        "#['par_id','art_id',\t'text', 'keyword',\t'country_code', 'span_start', 'span_finish', 'span_text', 'pcl_category', 'number_of_annotators']"
      ]
    },
    {
      "cell_type": "code",
      "execution_count": null,
      "metadata": {
        "colab": {
          "base_uri": "https://localhost:8080/"
        },
        "id": "bX1FJkIlNCUF",
        "outputId": "2246e7fc-8f94-46f6-edc3-37586d5064e9"
      },
      "outputs": [
        {
          "data": {
            "text/plain": [
              "False    2547\n",
              "True      213\n",
              "Name: span_text, dtype: int64"
            ]
          },
          "execution_count": 26,
          "metadata": {},
          "output_type": "execute_result"
        }
      ],
      "source": [
        "df_categories['span_text'].duplicated().value_counts()"
      ]
    },
    {
      "cell_type": "code",
      "execution_count": null,
      "metadata": {
        "colab": {
          "base_uri": "https://localhost:8080/",
          "height": 363
        },
        "id": "0-J4yKI4a-_c",
        "outputId": "0415ae45-360e-4d31-a22e-15748ca8761b"
      },
      "outputs": [
        {
          "data": {
            "text/html": [
              "\n",
              "  <div id=\"df-02d10dfc-d5ac-411a-aae3-dea7f511ef60\">\n",
              "    <div class=\"colab-df-container\">\n",
              "      <div>\n",
              "<style scoped>\n",
              "    .dataframe tbody tr th:only-of-type {\n",
              "        vertical-align: middle;\n",
              "    }\n",
              "\n",
              "    .dataframe tbody tr th {\n",
              "        vertical-align: top;\n",
              "    }\n",
              "\n",
              "    .dataframe thead th {\n",
              "        text-align: right;\n",
              "    }\n",
              "</style>\n",
              "<table border=\"1\" class=\"dataframe\">\n",
              "  <thead>\n",
              "    <tr style=\"text-align: right;\">\n",
              "      <th></th>\n",
              "      <th>index</th>\n",
              "      <th>paragraph_id</th>\n",
              "      <th>keyword</th>\n",
              "      <th>country_code</th>\n",
              "      <th>paragraph</th>\n",
              "      <th>combined_features</th>\n",
              "    </tr>\n",
              "  </thead>\n",
              "  <tbody>\n",
              "    <tr>\n",
              "      <th>0</th>\n",
              "      <td>t_0</td>\n",
              "      <td>@@7258997</td>\n",
              "      <td>vulnerable</td>\n",
              "      <td>us</td>\n",
              "      <td>In the meantime , conservatives are working to...</td>\n",
              "      <td>@@7258997&lt;/s&gt;vulnerable&lt;/s&gt;us&lt;/s&gt;In the meanti...</td>\n",
              "    </tr>\n",
              "    <tr>\n",
              "      <th>1</th>\n",
              "      <td>t_1</td>\n",
              "      <td>@@16397324</td>\n",
              "      <td>women</td>\n",
              "      <td>pk</td>\n",
              "      <td>In most poor households with no education chil...</td>\n",
              "      <td>@@16397324&lt;/s&gt;women&lt;/s&gt;pk&lt;/s&gt;In most poor hous...</td>\n",
              "    </tr>\n",
              "    <tr>\n",
              "      <th>2</th>\n",
              "      <td>t_2</td>\n",
              "      <td>@@16257812</td>\n",
              "      <td>migrant</td>\n",
              "      <td>ca</td>\n",
              "      <td>The real question is not whether immigration i...</td>\n",
              "      <td>@@16257812&lt;/s&gt;migrant&lt;/s&gt;ca&lt;/s&gt;The real questi...</td>\n",
              "    </tr>\n",
              "    <tr>\n",
              "      <th>3</th>\n",
              "      <td>t_3</td>\n",
              "      <td>@@3509652</td>\n",
              "      <td>migrant</td>\n",
              "      <td>gb</td>\n",
              "      <td>In total , the country 's immigrant population...</td>\n",
              "      <td>@@3509652&lt;/s&gt;migrant&lt;/s&gt;gb&lt;/s&gt;In total , the c...</td>\n",
              "    </tr>\n",
              "    <tr>\n",
              "      <th>4</th>\n",
              "      <td>t_4</td>\n",
              "      <td>@@477506</td>\n",
              "      <td>vulnerable</td>\n",
              "      <td>ca</td>\n",
              "      <td>Members of the church , which is part of Ken C...</td>\n",
              "      <td>@@477506&lt;/s&gt;vulnerable&lt;/s&gt;ca&lt;/s&gt;Members of the...</td>\n",
              "    </tr>\n",
              "    <tr>\n",
              "      <th>5</th>\n",
              "      <td>t_5</td>\n",
              "      <td>@@1797863</td>\n",
              "      <td>women</td>\n",
              "      <td>tz</td>\n",
              "      <td>To ensure that \" Priority Agriculture Programm...</td>\n",
              "      <td>@@1797863&lt;/s&gt;women&lt;/s&gt;tz&lt;/s&gt;To ensure that \" P...</td>\n",
              "    </tr>\n",
              "    <tr>\n",
              "      <th>6</th>\n",
              "      <td>t_6</td>\n",
              "      <td>@@17227791</td>\n",
              "      <td>immigrant</td>\n",
              "      <td>us</td>\n",
              "      <td>The deportees stepped off their flight from El...</td>\n",
              "      <td>@@17227791&lt;/s&gt;immigrant&lt;/s&gt;us&lt;/s&gt;The deportees...</td>\n",
              "    </tr>\n",
              "    <tr>\n",
              "      <th>7</th>\n",
              "      <td>t_7</td>\n",
              "      <td>@@8213205</td>\n",
              "      <td>disabled</td>\n",
              "      <td>pk</td>\n",
              "      <td>PIMS staffer who raped disabled girl at ICU wa...</td>\n",
              "      <td>@@8213205&lt;/s&gt;disabled&lt;/s&gt;pk&lt;/s&gt;PIMS staffer wh...</td>\n",
              "    </tr>\n",
              "    <tr>\n",
              "      <th>8</th>\n",
              "      <td>t_9</td>\n",
              "      <td>@@1750742</td>\n",
              "      <td>vulnerable</td>\n",
              "      <td>lk</td>\n",
              "      <td>I conclude , Yes , the general FEELING generat...</td>\n",
              "      <td>@@1750742&lt;/s&gt;vulnerable&lt;/s&gt;lk&lt;/s&gt;I conclude , ...</td>\n",
              "    </tr>\n",
              "    <tr>\n",
              "      <th>9</th>\n",
              "      <td>t_10</td>\n",
              "      <td>@@21002471</td>\n",
              "      <td>women</td>\n",
              "      <td>ke</td>\n",
              "      <td>After enduring discrimination in the all-male ...</td>\n",
              "      <td>@@21002471&lt;/s&gt;women&lt;/s&gt;ke&lt;/s&gt;After enduring di...</td>\n",
              "    </tr>\n",
              "  </tbody>\n",
              "</table>\n",
              "</div>\n",
              "      <button class=\"colab-df-convert\" onclick=\"convertToInteractive('df-02d10dfc-d5ac-411a-aae3-dea7f511ef60')\"\n",
              "              title=\"Convert this dataframe to an interactive table.\"\n",
              "              style=\"display:none;\">\n",
              "        \n",
              "  <svg xmlns=\"http://www.w3.org/2000/svg\" height=\"24px\"viewBox=\"0 0 24 24\"\n",
              "       width=\"24px\">\n",
              "    <path d=\"M0 0h24v24H0V0z\" fill=\"none\"/>\n",
              "    <path d=\"M18.56 5.44l.94 2.06.94-2.06 2.06-.94-2.06-.94-.94-2.06-.94 2.06-2.06.94zm-11 1L8.5 8.5l.94-2.06 2.06-.94-2.06-.94L8.5 2.5l-.94 2.06-2.06.94zm10 10l.94 2.06.94-2.06 2.06-.94-2.06-.94-.94-2.06-.94 2.06-2.06.94z\"/><path d=\"M17.41 7.96l-1.37-1.37c-.4-.4-.92-.59-1.43-.59-.52 0-1.04.2-1.43.59L10.3 9.45l-7.72 7.72c-.78.78-.78 2.05 0 2.83L4 21.41c.39.39.9.59 1.41.59.51 0 1.02-.2 1.41-.59l7.78-7.78 2.81-2.81c.8-.78.8-2.07 0-2.86zM5.41 20L4 18.59l7.72-7.72 1.47 1.35L5.41 20z\"/>\n",
              "  </svg>\n",
              "      </button>\n",
              "      \n",
              "  <style>\n",
              "    .colab-df-container {\n",
              "      display:flex;\n",
              "      flex-wrap:wrap;\n",
              "      gap: 12px;\n",
              "    }\n",
              "\n",
              "    .colab-df-convert {\n",
              "      background-color: #E8F0FE;\n",
              "      border: none;\n",
              "      border-radius: 50%;\n",
              "      cursor: pointer;\n",
              "      display: none;\n",
              "      fill: #1967D2;\n",
              "      height: 32px;\n",
              "      padding: 0 0 0 0;\n",
              "      width: 32px;\n",
              "    }\n",
              "\n",
              "    .colab-df-convert:hover {\n",
              "      background-color: #E2EBFA;\n",
              "      box-shadow: 0px 1px 2px rgba(60, 64, 67, 0.3), 0px 1px 3px 1px rgba(60, 64, 67, 0.15);\n",
              "      fill: #174EA6;\n",
              "    }\n",
              "\n",
              "    [theme=dark] .colab-df-convert {\n",
              "      background-color: #3B4455;\n",
              "      fill: #D2E3FC;\n",
              "    }\n",
              "\n",
              "    [theme=dark] .colab-df-convert:hover {\n",
              "      background-color: #434B5C;\n",
              "      box-shadow: 0px 1px 3px 1px rgba(0, 0, 0, 0.15);\n",
              "      filter: drop-shadow(0px 1px 2px rgba(0, 0, 0, 0.3));\n",
              "      fill: #FFFFFF;\n",
              "    }\n",
              "  </style>\n",
              "\n",
              "      <script>\n",
              "        const buttonEl =\n",
              "          document.querySelector('#df-02d10dfc-d5ac-411a-aae3-dea7f511ef60 button.colab-df-convert');\n",
              "        buttonEl.style.display =\n",
              "          google.colab.kernel.accessAllowed ? 'block' : 'none';\n",
              "\n",
              "        async function convertToInteractive(key) {\n",
              "          const element = document.querySelector('#df-02d10dfc-d5ac-411a-aae3-dea7f511ef60');\n",
              "          const dataTable =\n",
              "            await google.colab.kernel.invokeFunction('convertToInteractive',\n",
              "                                                     [key], {});\n",
              "          if (!dataTable) return;\n",
              "\n",
              "          const docLinkHtml = 'Like what you see? Visit the ' +\n",
              "            '<a target=\"_blank\" href=https://colab.research.google.com/notebooks/data_table.ipynb>data table notebook</a>'\n",
              "            + ' to learn more about interactive tables.';\n",
              "          element.innerHTML = '';\n",
              "          dataTable['output_type'] = 'display_data';\n",
              "          await google.colab.output.renderOutput(dataTable, element);\n",
              "          const docLink = document.createElement('div');\n",
              "          docLink.innerHTML = docLinkHtml;\n",
              "          element.appendChild(docLink);\n",
              "        }\n",
              "      </script>\n",
              "    </div>\n",
              "  </div>\n",
              "  "
            ],
            "text/plain": [
              "  index  ...                                  combined_features\n",
              "0   t_0  ...  @@7258997</s>vulnerable</s>us</s>In the meanti...\n",
              "1   t_1  ...  @@16397324</s>women</s>pk</s>In most poor hous...\n",
              "2   t_2  ...  @@16257812</s>migrant</s>ca</s>The real questi...\n",
              "3   t_3  ...  @@3509652</s>migrant</s>gb</s>In total , the c...\n",
              "4   t_4  ...  @@477506</s>vulnerable</s>ca</s>Members of the...\n",
              "5   t_5  ...  @@1797863</s>women</s>tz</s>To ensure that \" P...\n",
              "6   t_6  ...  @@17227791</s>immigrant</s>us</s>The deportees...\n",
              "7   t_7  ...  @@8213205</s>disabled</s>pk</s>PIMS staffer wh...\n",
              "8   t_9  ...  @@1750742</s>vulnerable</s>lk</s>I conclude , ...\n",
              "9  t_10  ...  @@21002471</s>women</s>ke</s>After enduring di...\n",
              "\n",
              "[10 rows x 6 columns]"
            ]
          },
          "execution_count": 27,
          "metadata": {},
          "output_type": "execute_result"
        }
      ],
      "source": [
        "def combine_features(row) :\n",
        "  return '</s>'.join(row.drop(['index'],axis=0).apply(str).values)\n",
        "df_pcl_test['combined_features'] = df_pcl_test.apply(combine_features, axis = 1)\n",
        "df_pcl_test.head(10)"
      ]
    },
    {
      "cell_type": "code",
      "execution_count": null,
      "metadata": {
        "colab": {
          "base_uri": "https://localhost:8080/",
          "height": 1000
        },
        "id": "sTezyA1dn0Xv",
        "outputId": "22c822f1-e03b-4bc1-84f0-ae97bafc8bb3"
      },
      "outputs": [
        {
          "data": {
            "text/html": [
              "\n",
              "  <div id=\"df-3daefe73-236a-4231-964f-87810d1bd4a8\">\n",
              "    <div class=\"colab-df-container\">\n",
              "      <div>\n",
              "<style scoped>\n",
              "    .dataframe tbody tr th:only-of-type {\n",
              "        vertical-align: middle;\n",
              "    }\n",
              "\n",
              "    .dataframe tbody tr th {\n",
              "        vertical-align: top;\n",
              "    }\n",
              "\n",
              "    .dataframe thead th {\n",
              "        text-align: right;\n",
              "    }\n",
              "</style>\n",
              "<table border=\"1\" class=\"dataframe\">\n",
              "  <thead>\n",
              "    <tr style=\"text-align: right;\">\n",
              "      <th></th>\n",
              "      <th>par_id</th>\n",
              "      <th>art_id</th>\n",
              "      <th>text</th>\n",
              "      <th>keyword</th>\n",
              "      <th>country_code</th>\n",
              "      <th>span_start</th>\n",
              "      <th>span_finish</th>\n",
              "      <th>span_text</th>\n",
              "      <th>pcl_category</th>\n",
              "      <th>number_of_annotators</th>\n",
              "      <th>labels</th>\n",
              "      <th>combined_features</th>\n",
              "    </tr>\n",
              "  </thead>\n",
              "  <tbody>\n",
              "    <tr>\n",
              "      <th>0</th>\n",
              "      <td>4046</td>\n",
              "      <td>@@14767805</td>\n",
              "      <td>We also know that they can benefit by receivin...</td>\n",
              "      <td>hopeless</td>\n",
              "      <td>us</td>\n",
              "      <td>201</td>\n",
              "      <td>236</td>\n",
              "      <td>put their situation in perspective</td>\n",
              "      <td>Authority_voice</td>\n",
              "      <td>2</td>\n",
              "      <td>0</td>\n",
              "      <td>4046&lt;s&gt;@@14767805&lt;s&gt;us&lt;s&gt;put their situation i...</td>\n",
              "    </tr>\n",
              "    <tr>\n",
              "      <th>1</th>\n",
              "      <td>4046</td>\n",
              "      <td>@@14767805</td>\n",
              "      <td>We also know that they can benefit by receivin...</td>\n",
              "      <td>hopeless</td>\n",
              "      <td>us</td>\n",
              "      <td>240</td>\n",
              "      <td>274</td>\n",
              "      <td>help them communicate with others</td>\n",
              "      <td>Unbalanced_power_relations</td>\n",
              "      <td>2</td>\n",
              "      <td>6</td>\n",
              "      <td>4046&lt;s&gt;@@14767805&lt;s&gt;us&lt;s&gt;help them communicate...</td>\n",
              "    </tr>\n",
              "    <tr>\n",
              "      <th>2</th>\n",
              "      <td>4046</td>\n",
              "      <td>@@14767805</td>\n",
              "      <td>We also know that they can benefit by receivin...</td>\n",
              "      <td>hopeless</td>\n",
              "      <td>us</td>\n",
              "      <td>274</td>\n",
              "      <td>300</td>\n",
              "      <td>who could provide support</td>\n",
              "      <td>Unbalanced_power_relations</td>\n",
              "      <td>1</td>\n",
              "      <td>6</td>\n",
              "      <td>4046&lt;s&gt;@@14767805&lt;s&gt;us&lt;s&gt;who could provide sup...</td>\n",
              "    </tr>\n",
              "    <tr>\n",
              "      <th>3</th>\n",
              "      <td>4046</td>\n",
              "      <td>@@14767805</td>\n",
              "      <td>We also know that they can benefit by receivin...</td>\n",
              "      <td>hopeless</td>\n",
              "      <td>us</td>\n",
              "      <td>384</td>\n",
              "      <td>434</td>\n",
              "      <td>plan for their needs and the needs of their child</td>\n",
              "      <td>Authority_voice</td>\n",
              "      <td>2</td>\n",
              "      <td>0</td>\n",
              "      <td>4046&lt;s&gt;@@14767805&lt;s&gt;us&lt;s&gt;plan for their needs ...</td>\n",
              "    </tr>\n",
              "    <tr>\n",
              "      <th>4</th>\n",
              "      <td>4046</td>\n",
              "      <td>@@14767805</td>\n",
              "      <td>We also know that they can benefit by receivin...</td>\n",
              "      <td>hopeless</td>\n",
              "      <td>us</td>\n",
              "      <td>0</td>\n",
              "      <td>35</td>\n",
              "      <td>We also know that they can benefit</td>\n",
              "      <td>Unbalanced_power_relations</td>\n",
              "      <td>1</td>\n",
              "      <td>6</td>\n",
              "      <td>4046&lt;s&gt;@@14767805&lt;s&gt;us&lt;s&gt;We also know that the...</td>\n",
              "    </tr>\n",
              "    <tr>\n",
              "      <th>...</th>\n",
              "      <td>...</td>\n",
              "      <td>...</td>\n",
              "      <td>...</td>\n",
              "      <td>...</td>\n",
              "      <td>...</td>\n",
              "      <td>...</td>\n",
              "      <td>...</td>\n",
              "      <td>...</td>\n",
              "      <td>...</td>\n",
              "      <td>...</td>\n",
              "      <td>...</td>\n",
              "      <td>...</td>\n",
              "    </tr>\n",
              "    <tr>\n",
              "      <th>2755</th>\n",
              "      <td>10070</td>\n",
              "      <td>@@15573661</td>\n",
              "      <td>Fern ? ndez was a well-known philanthropist wh...</td>\n",
              "      <td>disabled</td>\n",
              "      <td>ng</td>\n",
              "      <td>0</td>\n",
              "      <td>210</td>\n",
              "      <td>Fern ? ndez was a well-known philanthropist wh...</td>\n",
              "      <td>Unbalanced_power_relations</td>\n",
              "      <td>1</td>\n",
              "      <td>6</td>\n",
              "      <td>10070&lt;s&gt;@@15573661&lt;s&gt;ng&lt;s&gt;Fern ? ndez was a we...</td>\n",
              "    </tr>\n",
              "    <tr>\n",
              "      <th>2756</th>\n",
              "      <td>6484</td>\n",
              "      <td>@@2559173</td>\n",
              "      <td>Touched much by their plight , Commanding Offi...</td>\n",
              "      <td>homeless</td>\n",
              "      <td>lk</td>\n",
              "      <td>0</td>\n",
              "      <td>29</td>\n",
              "      <td>Touched much by their plight</td>\n",
              "      <td>Compassion</td>\n",
              "      <td>1</td>\n",
              "      <td>1</td>\n",
              "      <td>6484&lt;s&gt;@@2559173&lt;s&gt;lk&lt;s&gt;Touched much by their ...</td>\n",
              "    </tr>\n",
              "    <tr>\n",
              "      <th>2757</th>\n",
              "      <td>6484</td>\n",
              "      <td>@@2559173</td>\n",
              "      <td>Touched much by their plight , Commanding Offi...</td>\n",
              "      <td>homeless</td>\n",
              "      <td>lk</td>\n",
              "      <td>31</td>\n",
              "      <td>315</td>\n",
              "      <td>Commanding Officer and all ranks of the 7 Sri ...</td>\n",
              "      <td>Unbalanced_power_relations</td>\n",
              "      <td>1</td>\n",
              "      <td>6</td>\n",
              "      <td>6484&lt;s&gt;@@2559173&lt;s&gt;lk&lt;s&gt;Commanding Officer and...</td>\n",
              "    </tr>\n",
              "    <tr>\n",
              "      <th>2758</th>\n",
              "      <td>6249</td>\n",
              "      <td>@@1947926</td>\n",
              "      <td>She reiterated her ministry 's commitment to p...</td>\n",
              "      <td>women</td>\n",
              "      <td>gh</td>\n",
              "      <td>153</td>\n",
              "      <td>205</td>\n",
              "      <td>gave a strong indication of hope for Ghanaian ...</td>\n",
              "      <td>Unbalanced_power_relations</td>\n",
              "      <td>1</td>\n",
              "      <td>6</td>\n",
              "      <td>6249&lt;s&gt;@@1947926&lt;s&gt;gh&lt;s&gt;gave a strong indicati...</td>\n",
              "    </tr>\n",
              "    <tr>\n",
              "      <th>2759</th>\n",
              "      <td>5149</td>\n",
              "      <td>@@1789214</td>\n",
              "      <td>Preaching the sermon , the Dean of the St. Pet...</td>\n",
              "      <td>vulnerable</td>\n",
              "      <td>gh</td>\n",
              "      <td>23</td>\n",
              "      <td>317</td>\n",
              "      <td>the Dean of the St. Peter 's Cathedral , Very ...</td>\n",
              "      <td>Authority_voice</td>\n",
              "      <td>1</td>\n",
              "      <td>0</td>\n",
              "      <td>5149&lt;s&gt;@@1789214&lt;s&gt;gh&lt;s&gt;the Dean of the St. Pe...</td>\n",
              "    </tr>\n",
              "  </tbody>\n",
              "</table>\n",
              "<p>2481 rows × 12 columns</p>\n",
              "</div>\n",
              "      <button class=\"colab-df-convert\" onclick=\"convertToInteractive('df-3daefe73-236a-4231-964f-87810d1bd4a8')\"\n",
              "              title=\"Convert this dataframe to an interactive table.\"\n",
              "              style=\"display:none;\">\n",
              "        \n",
              "  <svg xmlns=\"http://www.w3.org/2000/svg\" height=\"24px\"viewBox=\"0 0 24 24\"\n",
              "       width=\"24px\">\n",
              "    <path d=\"M0 0h24v24H0V0z\" fill=\"none\"/>\n",
              "    <path d=\"M18.56 5.44l.94 2.06.94-2.06 2.06-.94-2.06-.94-.94-2.06-.94 2.06-2.06.94zm-11 1L8.5 8.5l.94-2.06 2.06-.94-2.06-.94L8.5 2.5l-.94 2.06-2.06.94zm10 10l.94 2.06.94-2.06 2.06-.94-2.06-.94-.94-2.06-.94 2.06-2.06.94z\"/><path d=\"M17.41 7.96l-1.37-1.37c-.4-.4-.92-.59-1.43-.59-.52 0-1.04.2-1.43.59L10.3 9.45l-7.72 7.72c-.78.78-.78 2.05 0 2.83L4 21.41c.39.39.9.59 1.41.59.51 0 1.02-.2 1.41-.59l7.78-7.78 2.81-2.81c.8-.78.8-2.07 0-2.86zM5.41 20L4 18.59l7.72-7.72 1.47 1.35L5.41 20z\"/>\n",
              "  </svg>\n",
              "      </button>\n",
              "      \n",
              "  <style>\n",
              "    .colab-df-container {\n",
              "      display:flex;\n",
              "      flex-wrap:wrap;\n",
              "      gap: 12px;\n",
              "    }\n",
              "\n",
              "    .colab-df-convert {\n",
              "      background-color: #E8F0FE;\n",
              "      border: none;\n",
              "      border-radius: 50%;\n",
              "      cursor: pointer;\n",
              "      display: none;\n",
              "      fill: #1967D2;\n",
              "      height: 32px;\n",
              "      padding: 0 0 0 0;\n",
              "      width: 32px;\n",
              "    }\n",
              "\n",
              "    .colab-df-convert:hover {\n",
              "      background-color: #E2EBFA;\n",
              "      box-shadow: 0px 1px 2px rgba(60, 64, 67, 0.3), 0px 1px 3px 1px rgba(60, 64, 67, 0.15);\n",
              "      fill: #174EA6;\n",
              "    }\n",
              "\n",
              "    [theme=dark] .colab-df-convert {\n",
              "      background-color: #3B4455;\n",
              "      fill: #D2E3FC;\n",
              "    }\n",
              "\n",
              "    [theme=dark] .colab-df-convert:hover {\n",
              "      background-color: #434B5C;\n",
              "      box-shadow: 0px 1px 3px 1px rgba(0, 0, 0, 0.15);\n",
              "      filter: drop-shadow(0px 1px 2px rgba(0, 0, 0, 0.3));\n",
              "      fill: #FFFFFF;\n",
              "    }\n",
              "  </style>\n",
              "\n",
              "      <script>\n",
              "        const buttonEl =\n",
              "          document.querySelector('#df-3daefe73-236a-4231-964f-87810d1bd4a8 button.colab-df-convert');\n",
              "        buttonEl.style.display =\n",
              "          google.colab.kernel.accessAllowed ? 'block' : 'none';\n",
              "\n",
              "        async function convertToInteractive(key) {\n",
              "          const element = document.querySelector('#df-3daefe73-236a-4231-964f-87810d1bd4a8');\n",
              "          const dataTable =\n",
              "            await google.colab.kernel.invokeFunction('convertToInteractive',\n",
              "                                                     [key], {});\n",
              "          if (!dataTable) return;\n",
              "\n",
              "          const docLinkHtml = 'Like what you see? Visit the ' +\n",
              "            '<a target=\"_blank\" href=https://colab.research.google.com/notebooks/data_table.ipynb>data table notebook</a>'\n",
              "            + ' to learn more about interactive tables.';\n",
              "          element.innerHTML = '';\n",
              "          dataTable['output_type'] = 'display_data';\n",
              "          await google.colab.output.renderOutput(dataTable, element);\n",
              "          const docLink = document.createElement('div');\n",
              "          docLink.innerHTML = docLinkHtml;\n",
              "          element.appendChild(docLink);\n",
              "        }\n",
              "      </script>\n",
              "    </div>\n",
              "  </div>\n",
              "  "
            ],
            "text/plain": [
              "      par_id  ...                                  combined_features\n",
              "0       4046  ...  4046<s>@@14767805<s>us<s>put their situation i...\n",
              "1       4046  ...  4046<s>@@14767805<s>us<s>help them communicate...\n",
              "2       4046  ...  4046<s>@@14767805<s>us<s>who could provide sup...\n",
              "3       4046  ...  4046<s>@@14767805<s>us<s>plan for their needs ...\n",
              "4       4046  ...  4046<s>@@14767805<s>us<s>We also know that the...\n",
              "...      ...  ...                                                ...\n",
              "2755   10070  ...  10070<s>@@15573661<s>ng<s>Fern ? ndez was a we...\n",
              "2756    6484  ...  6484<s>@@2559173<s>lk<s>Touched much by their ...\n",
              "2757    6484  ...  6484<s>@@2559173<s>lk<s>Commanding Officer and...\n",
              "2758    6249  ...  6249<s>@@1947926<s>gh<s>gave a strong indicati...\n",
              "2759    5149  ...  5149<s>@@1789214<s>gh<s>the Dean of the St. Pe...\n",
              "\n",
              "[2481 rows x 12 columns]"
            ]
          },
          "execution_count": 28,
          "metadata": {},
          "output_type": "execute_result"
        }
      ],
      "source": [
        "valid_size = 279\n",
        "duplicate = df_categories_selected[df_categories['span_text'].duplicated()]\n",
        "none_duplicate = df_categories_selected.drop(duplicate.index, axis=0)\n",
        "df_categories_valid = none_duplicate.sample(valid_size, random_state = 42)\n",
        "df_categories_train = df_categories_selected.drop(df_categories_valid.index, axis=0)\n",
        "df_categories_train"
      ]
    },
    {
      "cell_type": "code",
      "execution_count": null,
      "metadata": {
        "colab": {
          "base_uri": "https://localhost:8080/",
          "height": 1000
        },
        "id": "cVvubrAcNhLg",
        "outputId": "9760c026-8450-4a89-8366-f07fa006d5d2"
      },
      "outputs": [
        {
          "data": {
            "text/html": [
              "\n",
              "  <div id=\"df-be0fabd9-66a8-48a8-a083-bcfcd4ae3268\">\n",
              "    <div class=\"colab-df-container\">\n",
              "      <div>\n",
              "<style scoped>\n",
              "    .dataframe tbody tr th:only-of-type {\n",
              "        vertical-align: middle;\n",
              "    }\n",
              "\n",
              "    .dataframe tbody tr th {\n",
              "        vertical-align: top;\n",
              "    }\n",
              "\n",
              "    .dataframe thead th {\n",
              "        text-align: right;\n",
              "    }\n",
              "</style>\n",
              "<table border=\"1\" class=\"dataframe\">\n",
              "  <thead>\n",
              "    <tr style=\"text-align: right;\">\n",
              "      <th></th>\n",
              "      <th>par_id</th>\n",
              "      <th>art_id</th>\n",
              "      <th>text</th>\n",
              "      <th>keyword</th>\n",
              "      <th>country_code</th>\n",
              "      <th>span_start</th>\n",
              "      <th>span_finish</th>\n",
              "      <th>span_text</th>\n",
              "      <th>pcl_category</th>\n",
              "      <th>number_of_annotators</th>\n",
              "      <th>labels</th>\n",
              "      <th>combined_features</th>\n",
              "    </tr>\n",
              "  </thead>\n",
              "  <tbody>\n",
              "    <tr>\n",
              "      <th>62</th>\n",
              "      <td>5996</td>\n",
              "      <td>@@2822899</td>\n",
              "      <td>Real poverty of Britain : Shocking images of U...</td>\n",
              "      <td>poor-families</td>\n",
              "      <td>gb</td>\n",
              "      <td>135</td>\n",
              "      <td>198</td>\n",
              "      <td>glimpse into the harrowing day-to-day for poor...</td>\n",
              "      <td>Compassion</td>\n",
              "      <td>1</td>\n",
              "      <td>1</td>\n",
              "      <td>5996&lt;s&gt;@@2822899&lt;s&gt;gb&lt;s&gt;glimpse into the harro...</td>\n",
              "    </tr>\n",
              "    <tr>\n",
              "      <th>213</th>\n",
              "      <td>10468</td>\n",
              "      <td>@@16753236</td>\n",
              "      <td>\" Anja Ringgren Loven I ca n't find a word to ...</td>\n",
              "      <td>hopeless</td>\n",
              "      <td>in</td>\n",
              "      <td>79</td>\n",
              "      <td>187</td>\n",
              "      <td>May God almighty keep blessing you and always ...</td>\n",
              "      <td>Unbalanced_power_relations</td>\n",
              "      <td>1</td>\n",
              "      <td>6</td>\n",
              "      <td>10468&lt;s&gt;@@16753236&lt;s&gt;in&lt;s&gt;May God almighty kee...</td>\n",
              "    </tr>\n",
              "    <tr>\n",
              "      <th>2497</th>\n",
              "      <td>6910</td>\n",
              "      <td>@@19027470</td>\n",
              "      <td>World Refugee Day is marked on June 20 every y...</td>\n",
              "      <td>refugee</td>\n",
              "      <td>gh</td>\n",
              "      <td>0</td>\n",
              "      <td>18</td>\n",
              "      <td>World Refugee Day</td>\n",
              "      <td>Shallow_solution</td>\n",
              "      <td>2</td>\n",
              "      <td>4</td>\n",
              "      <td>6910&lt;s&gt;@@19027470&lt;s&gt;gh&lt;s&gt;World Refugee Day&lt;s&gt;2</td>\n",
              "    </tr>\n",
              "    <tr>\n",
              "      <th>256</th>\n",
              "      <td>7153</td>\n",
              "      <td>@@60096684</td>\n",
              "      <td>He stayed true to his promise , and at the ope...</td>\n",
              "      <td>homeless</td>\n",
              "      <td>pk</td>\n",
              "      <td>75</td>\n",
              "      <td>153</td>\n",
              "      <td>he brought a lot of homeless from the park to ...</td>\n",
              "      <td>Unbalanced_power_relations</td>\n",
              "      <td>2</td>\n",
              "      <td>6</td>\n",
              "      <td>7153&lt;s&gt;@@60096684&lt;s&gt;pk&lt;s&gt;he brought a lot of h...</td>\n",
              "    </tr>\n",
              "    <tr>\n",
              "      <th>2567</th>\n",
              "      <td>7735</td>\n",
              "      <td>@@4940628</td>\n",
              "      <td>King Wenceslas is probably standing on an elev...</td>\n",
              "      <td>hopeless</td>\n",
              "      <td>lk</td>\n",
              "      <td>339</td>\n",
              "      <td>389</td>\n",
              "      <td>The benevolent King is deeply moved by this sight</td>\n",
              "      <td>Unbalanced_power_relations</td>\n",
              "      <td>2</td>\n",
              "      <td>6</td>\n",
              "      <td>7735&lt;s&gt;@@4940628&lt;s&gt;lk&lt;s&gt;The benevolent King is...</td>\n",
              "    </tr>\n",
              "    <tr>\n",
              "      <th>...</th>\n",
              "      <td>...</td>\n",
              "      <td>...</td>\n",
              "      <td>...</td>\n",
              "      <td>...</td>\n",
              "      <td>...</td>\n",
              "      <td>...</td>\n",
              "      <td>...</td>\n",
              "      <td>...</td>\n",
              "      <td>...</td>\n",
              "      <td>...</td>\n",
              "      <td>...</td>\n",
              "      <td>...</td>\n",
              "    </tr>\n",
              "    <tr>\n",
              "      <th>34</th>\n",
              "      <td>773</td>\n",
              "      <td>@@1759840</td>\n",
              "      <td>Sheepherding in America has always been an imm...</td>\n",
              "      <td>immigrant</td>\n",
              "      <td>us</td>\n",
              "      <td>62</td>\n",
              "      <td>122</td>\n",
              "      <td>too dirty , too cold and too lonely for anyone...</td>\n",
              "      <td>Compassion</td>\n",
              "      <td>2</td>\n",
              "      <td>1</td>\n",
              "      <td>773&lt;s&gt;@@1759840&lt;s&gt;us&lt;s&gt;too dirty , too cold an...</td>\n",
              "    </tr>\n",
              "    <tr>\n",
              "      <th>2082</th>\n",
              "      <td>7888</td>\n",
              "      <td>@@50041353</td>\n",
              "      <td>Kate has also worked to help Liverpool 's home...</td>\n",
              "      <td>homeless</td>\n",
              "      <td>gb</td>\n",
              "      <td>61</td>\n",
              "      <td>87</td>\n",
              "      <td>by handing out gift boxes</td>\n",
              "      <td>Shallow_solution</td>\n",
              "      <td>2</td>\n",
              "      <td>4</td>\n",
              "      <td>7888&lt;s&gt;@@50041353&lt;s&gt;gb&lt;s&gt;by handing out gift b...</td>\n",
              "    </tr>\n",
              "    <tr>\n",
              "      <th>908</th>\n",
              "      <td>1510</td>\n",
              "      <td>@@23162563</td>\n",
              "      <td>\" Someone has to be there to care , \" he says ...</td>\n",
              "      <td>vulnerable</td>\n",
              "      <td>ie</td>\n",
              "      <td>2</td>\n",
              "      <td>34</td>\n",
              "      <td>Someone has to be there to care</td>\n",
              "      <td>Compassion</td>\n",
              "      <td>2</td>\n",
              "      <td>1</td>\n",
              "      <td>1510&lt;s&gt;@@23162563&lt;s&gt;ie&lt;s&gt;Someone has to be the...</td>\n",
              "    </tr>\n",
              "    <tr>\n",
              "      <th>2120</th>\n",
              "      <td>7095</td>\n",
              "      <td>@@1737715</td>\n",
              "      <td>Battling homelessness through fashion is the b...</td>\n",
              "      <td>homeless</td>\n",
              "      <td>us</td>\n",
              "      <td>0</td>\n",
              "      <td>185</td>\n",
              "      <td>Battling homelessness through fashion is the b...</td>\n",
              "      <td>Unbalanced_power_relations</td>\n",
              "      <td>2</td>\n",
              "      <td>6</td>\n",
              "      <td>7095&lt;s&gt;@@1737715&lt;s&gt;us&lt;s&gt;Battling homelessness ...</td>\n",
              "    </tr>\n",
              "    <tr>\n",
              "      <th>1375</th>\n",
              "      <td>441</td>\n",
              "      <td>@@14491425</td>\n",
              "      <td>It is often a painful and frustrating experien...</td>\n",
              "      <td>migrant</td>\n",
              "      <td>gh</td>\n",
              "      <td>0</td>\n",
              "      <td>299</td>\n",
              "      <td>It is often a painful and frustrating experien...</td>\n",
              "      <td>Authority_voice</td>\n",
              "      <td>1</td>\n",
              "      <td>0</td>\n",
              "      <td>441&lt;s&gt;@@14491425&lt;s&gt;gh&lt;s&gt;It is often a painful ...</td>\n",
              "    </tr>\n",
              "  </tbody>\n",
              "</table>\n",
              "<p>279 rows × 12 columns</p>\n",
              "</div>\n",
              "      <button class=\"colab-df-convert\" onclick=\"convertToInteractive('df-be0fabd9-66a8-48a8-a083-bcfcd4ae3268')\"\n",
              "              title=\"Convert this dataframe to an interactive table.\"\n",
              "              style=\"display:none;\">\n",
              "        \n",
              "  <svg xmlns=\"http://www.w3.org/2000/svg\" height=\"24px\"viewBox=\"0 0 24 24\"\n",
              "       width=\"24px\">\n",
              "    <path d=\"M0 0h24v24H0V0z\" fill=\"none\"/>\n",
              "    <path d=\"M18.56 5.44l.94 2.06.94-2.06 2.06-.94-2.06-.94-.94-2.06-.94 2.06-2.06.94zm-11 1L8.5 8.5l.94-2.06 2.06-.94-2.06-.94L8.5 2.5l-.94 2.06-2.06.94zm10 10l.94 2.06.94-2.06 2.06-.94-2.06-.94-.94-2.06-.94 2.06-2.06.94z\"/><path d=\"M17.41 7.96l-1.37-1.37c-.4-.4-.92-.59-1.43-.59-.52 0-1.04.2-1.43.59L10.3 9.45l-7.72 7.72c-.78.78-.78 2.05 0 2.83L4 21.41c.39.39.9.59 1.41.59.51 0 1.02-.2 1.41-.59l7.78-7.78 2.81-2.81c.8-.78.8-2.07 0-2.86zM5.41 20L4 18.59l7.72-7.72 1.47 1.35L5.41 20z\"/>\n",
              "  </svg>\n",
              "      </button>\n",
              "      \n",
              "  <style>\n",
              "    .colab-df-container {\n",
              "      display:flex;\n",
              "      flex-wrap:wrap;\n",
              "      gap: 12px;\n",
              "    }\n",
              "\n",
              "    .colab-df-convert {\n",
              "      background-color: #E8F0FE;\n",
              "      border: none;\n",
              "      border-radius: 50%;\n",
              "      cursor: pointer;\n",
              "      display: none;\n",
              "      fill: #1967D2;\n",
              "      height: 32px;\n",
              "      padding: 0 0 0 0;\n",
              "      width: 32px;\n",
              "    }\n",
              "\n",
              "    .colab-df-convert:hover {\n",
              "      background-color: #E2EBFA;\n",
              "      box-shadow: 0px 1px 2px rgba(60, 64, 67, 0.3), 0px 1px 3px 1px rgba(60, 64, 67, 0.15);\n",
              "      fill: #174EA6;\n",
              "    }\n",
              "\n",
              "    [theme=dark] .colab-df-convert {\n",
              "      background-color: #3B4455;\n",
              "      fill: #D2E3FC;\n",
              "    }\n",
              "\n",
              "    [theme=dark] .colab-df-convert:hover {\n",
              "      background-color: #434B5C;\n",
              "      box-shadow: 0px 1px 3px 1px rgba(0, 0, 0, 0.15);\n",
              "      filter: drop-shadow(0px 1px 2px rgba(0, 0, 0, 0.3));\n",
              "      fill: #FFFFFF;\n",
              "    }\n",
              "  </style>\n",
              "\n",
              "      <script>\n",
              "        const buttonEl =\n",
              "          document.querySelector('#df-be0fabd9-66a8-48a8-a083-bcfcd4ae3268 button.colab-df-convert');\n",
              "        buttonEl.style.display =\n",
              "          google.colab.kernel.accessAllowed ? 'block' : 'none';\n",
              "\n",
              "        async function convertToInteractive(key) {\n",
              "          const element = document.querySelector('#df-be0fabd9-66a8-48a8-a083-bcfcd4ae3268');\n",
              "          const dataTable =\n",
              "            await google.colab.kernel.invokeFunction('convertToInteractive',\n",
              "                                                     [key], {});\n",
              "          if (!dataTable) return;\n",
              "\n",
              "          const docLinkHtml = 'Like what you see? Visit the ' +\n",
              "            '<a target=\"_blank\" href=https://colab.research.google.com/notebooks/data_table.ipynb>data table notebook</a>'\n",
              "            + ' to learn more about interactive tables.';\n",
              "          element.innerHTML = '';\n",
              "          dataTable['output_type'] = 'display_data';\n",
              "          await google.colab.output.renderOutput(dataTable, element);\n",
              "          const docLink = document.createElement('div');\n",
              "          docLink.innerHTML = docLinkHtml;\n",
              "          element.appendChild(docLink);\n",
              "        }\n",
              "      </script>\n",
              "    </div>\n",
              "  </div>\n",
              "  "
            ],
            "text/plain": [
              "      par_id  ...                                  combined_features\n",
              "62      5996  ...  5996<s>@@2822899<s>gb<s>glimpse into the harro...\n",
              "213    10468  ...  10468<s>@@16753236<s>in<s>May God almighty kee...\n",
              "2497    6910  ...     6910<s>@@19027470<s>gh<s>World Refugee Day<s>2\n",
              "256     7153  ...  7153<s>@@60096684<s>pk<s>he brought a lot of h...\n",
              "2567    7735  ...  7735<s>@@4940628<s>lk<s>The benevolent King is...\n",
              "...      ...  ...                                                ...\n",
              "34       773  ...  773<s>@@1759840<s>us<s>too dirty , too cold an...\n",
              "2082    7888  ...  7888<s>@@50041353<s>gb<s>by handing out gift b...\n",
              "908     1510  ...  1510<s>@@23162563<s>ie<s>Someone has to be the...\n",
              "2120    7095  ...  7095<s>@@1737715<s>us<s>Battling homelessness ...\n",
              "1375     441  ...  441<s>@@14491425<s>gh<s>It is often a painful ...\n",
              "\n",
              "[279 rows x 12 columns]"
            ]
          },
          "execution_count": 29,
          "metadata": {},
          "output_type": "execute_result"
        }
      ],
      "source": [
        "df_categories_valid"
      ]
    },
    {
      "cell_type": "code",
      "execution_count": null,
      "metadata": {
        "colab": {
          "base_uri": "https://localhost:8080/"
        },
        "id": "qONi-AmefOCH",
        "outputId": "bc06009e-01c3-4a83-897a-dd15c00ca737"
      },
      "outputs": [
        {
          "data": {
            "text/plain": [
              "(Dataset({\n",
              "     features: ['combined_features', 'labels', '__index_level_0__'],\n",
              "     num_rows: 2481\n",
              " }), Dataset({\n",
              "     features: ['combined_features', 'labels', '__index_level_0__'],\n",
              "     num_rows: 279\n",
              " }))"
            ]
          },
          "execution_count": 30,
          "metadata": {},
          "output_type": "execute_result"
        }
      ],
      "source": [
        "from datasets import Dataset\n",
        "raw_datasets_valid = Dataset.from_pandas(df_categories_valid[['combined_features','labels']])\n",
        "raw_datasets_train = Dataset.from_pandas(df_categories_train[['combined_features','labels']])\n",
        "raw_datasets_test  = Dataset.from_pandas(df_pcl_test[['combined_features']])\n",
        "raw_datasets_train, raw_datasets_valid"
      ]
    },
    {
      "cell_type": "markdown",
      "metadata": {
        "id": "MoX2kRDwY3Rg"
      },
      "source": [
        "Because the labels are imbalanced, we split the data set in a stratified fashion, using this as the class labels."
      ]
    },
    {
      "cell_type": "code",
      "execution_count": null,
      "metadata": {
        "colab": {
          "base_uri": "https://localhost:8080/",
          "height": 144,
          "referenced_widgets": [
            "9cf5cc5a0e2d41bfb6bb2b491b7d1750",
            "31a40010a7904637bc1de65637bd335a",
            "c62d7a014a6d4eea9391c03e4dd425cd",
            "e2d63c4c7d3d4357a34918e3d33373ca",
            "842cfe2285664d3ca90a1fa6432ff7b2",
            "d486af5af4374afc944d36c1f65dc8ca",
            "8fd278b3f8914b1590081a0c2a73a9e3",
            "83d086b8c77e4a6e8589b70f0ee2e6c1",
            "abe88dff18b543d6bb7c7b965385d32d",
            "51225df09401464c9c00a95f07516307",
            "985084b913a449bfa9deae2d48a86e85",
            "f602564b033b49228f84f0a133293e88",
            "4f0868f3409f451f9037619dcce15a62",
            "7ac93c67061b4df5b21e5d87ec6d2000",
            "6e10199da463440ab650960a5e8deb90",
            "a8921007c7d043179bfbe67cf417fdd8",
            "855d15afada74a27a7b5efe51e508692",
            "8efd642f524c48cbaca4bab6889f4258",
            "c63a438f1ef34801a02fe05c51060c43",
            "5ae9b45a6a934d34aedd20a366827a96",
            "fa1c6dc58bb140f9b3a9e6f0cc001cd3",
            "3392d1ae4927436aa72a1b237377bc3c",
            "13e1d5d5d506449c8bf3e8dc94dc30fa",
            "cdd062bba6bc4b6cbedeb33f0a409f7e",
            "458e3df33419400996439711075b99a5",
            "4a30cc1a81774f17bf10a2c02f8d750a",
            "f34a7f4782984dc9af86afcb3e51d82e",
            "e5097759b074410f9219a1d0756d3ca8",
            "5923b6ccf3ef45d2b67182877c5a848b",
            "e277ff0fb63048589743bb1fc1dfc58f",
            "815dd60359c24bee878c4ebe385dd59f",
            "96cfc0c688a442b993de82d7382240e8",
            "f7bd66dcce8842a095af49a62a6a3fcf",
            "e7a878a5ccf54962b17ba7f4da74f7ed",
            "20182d08053e4a53b2f3af079db69df8",
            "9d9f07ad647648faba0809419e0c521e",
            "3c32945ed78f4e7eaa3874b516da76d8",
            "514991b5f2584e3fad93bce32001c5c1",
            "fe9499248303437b90c2e4d35cbc08c4",
            "4020eb76773a46be9249176d5cff7dc9",
            "34a1fdda353a4f0c8413795b859718b1",
            "384797f154bc451ab3d54b0a175495e4",
            "f45f45ad828941d38e5b2d6a5f407540",
            "1d693e979e2c4110b06dfcde9aae59a8"
          ]
        },
        "id": "Y-OaoZ9CiJIh",
        "outputId": "4fe73e96-ce64-483c-c9a3-ca86e12282ff"
      },
      "outputs": [
        {
          "data": {
            "application/vnd.jupyter.widget-view+json": {
              "model_id": "9cf5cc5a0e2d41bfb6bb2b491b7d1750",
              "version_major": 2,
              "version_minor": 0
            },
            "text/plain": [
              "Downloading:   0%|          | 0.00/482 [00:00<?, ?B/s]"
            ]
          },
          "metadata": {},
          "output_type": "display_data"
        },
        {
          "data": {
            "application/vnd.jupyter.widget-view+json": {
              "model_id": "f602564b033b49228f84f0a133293e88",
              "version_major": 2,
              "version_minor": 0
            },
            "text/plain": [
              "Downloading:   0%|          | 0.00/878k [00:00<?, ?B/s]"
            ]
          },
          "metadata": {},
          "output_type": "display_data"
        },
        {
          "data": {
            "application/vnd.jupyter.widget-view+json": {
              "model_id": "13e1d5d5d506449c8bf3e8dc94dc30fa",
              "version_major": 2,
              "version_minor": 0
            },
            "text/plain": [
              "Downloading:   0%|          | 0.00/446k [00:00<?, ?B/s]"
            ]
          },
          "metadata": {},
          "output_type": "display_data"
        },
        {
          "data": {
            "application/vnd.jupyter.widget-view+json": {
              "model_id": "e7a878a5ccf54962b17ba7f4da74f7ed",
              "version_major": 2,
              "version_minor": 0
            },
            "text/plain": [
              "Downloading:   0%|          | 0.00/1.29M [00:00<?, ?B/s]"
            ]
          },
          "metadata": {},
          "output_type": "display_data"
        }
      ],
      "source": [
        "# FIXME: Ali - Idea: Try zero shot, few shot, fine-tuning with GPT-3\n",
        "from transformers import AutoTokenizer\n",
        "model_name = 'roberta-large'\n",
        "# model_name = 'bert-base-uncased'\n",
        "# model_name = 'roberta-large-openai-detector' #FIXME: Ali - Idea: Try other larger models\n",
        "tokenizer = AutoTokenizer.from_pretrained(model_name)"
      ]
    },
    {
      "cell_type": "code",
      "execution_count": null,
      "metadata": {
        "colab": {
          "base_uri": "https://localhost:8080/",
          "height": 154,
          "referenced_widgets": [
            "759effa5a5dc4b808460a5ccb7271562",
            "d4b1a8fc1b934698b7ea3f6c08cce274",
            "c1f4b6d1381c46479e67c2ef89ab4e2a",
            "decc78c65e97465f99d43c493a4c158f",
            "8b296708a7de4e4191705bf9c92b273c",
            "29035a16a7b94bbaac5af28a5a85a9bb",
            "9bf0eb4b5d7b4f8baa9a2e3e83921070",
            "547f9b4927094fe9ad3602de9ce33024",
            "eb361bccb61e44c390882d5abb6e6d55",
            "431c16d740664095a9f2e62846cb9348",
            "5587cb683a234972b9db9ced8d027cfa",
            "7a00073ac5664814ba6bbcfa6d6436d8",
            "6d0d77a2c25e407f9d01abc69207073c",
            "54c678969a474ff798020dec383dd499",
            "156207d803a9447ea7bdbf0952c805ba",
            "ebb3e11343fa4d3ea969d36643e31c08",
            "91fdf4a1e67647189252c58516690ac9",
            "1b5881da55e643bbba4b7aa3365840f6",
            "392be074265a4dcb8650c41bc0fe1c10",
            "9ede83a3b3504d379e303d1de6e5a8a7",
            "50040aead89342a48bd4d8e447427d31",
            "b5afd10ff2e3447a822376ab5e700781"
          ]
        },
        "id": "aWZDgiyfb_eA",
        "outputId": "7ef2b41f-6271-4e5a-de8a-38c33254aca4"
      },
      "outputs": [
        {
          "data": {
            "application/vnd.jupyter.widget-view+json": {
              "model_id": "759effa5a5dc4b808460a5ccb7271562",
              "version_major": 2,
              "version_minor": 0
            },
            "text/plain": [
              "  0%|          | 0/3 [00:00<?, ?ba/s]"
            ]
          },
          "metadata": {},
          "output_type": "display_data"
        },
        {
          "data": {
            "application/vnd.jupyter.widget-view+json": {
              "model_id": "7a00073ac5664814ba6bbcfa6d6436d8",
              "version_major": 2,
              "version_minor": 0
            },
            "text/plain": [
              "  0%|          | 0/1 [00:00<?, ?ba/s]"
            ]
          },
          "metadata": {},
          "output_type": "display_data"
        },
        {
          "data": {
            "text/plain": [
              "Dataset({\n",
              "    features: ['combined_features', 'labels', '__index_level_0__', 'input_ids', 'attention_mask'],\n",
              "    num_rows: 2481\n",
              "})"
            ]
          },
          "execution_count": 32,
          "metadata": {},
          "output_type": "execute_result"
        }
      ],
      "source": [
        "def tokenize_function(examples):\n",
        "    return tokenizer(examples[\"combined_features\"], padding=\"max_length\", truncation=True)\n",
        "\n",
        "tokenized_datasets_train = raw_datasets_train.map(tokenize_function, batched=True)\n",
        "tokenized_datasets_valid = raw_datasets_valid.map(tokenize_function, batched=True)\n",
        "\n",
        "tokenized_datasets_train"
      ]
    },
    {
      "cell_type": "code",
      "execution_count": null,
      "metadata": {
        "colab": {
          "base_uri": "https://localhost:8080/"
        },
        "id": "g7jLnnfrgfQI",
        "outputId": "54b7ff46-51ad-4ca3-b023-d8a0cdf9c97b"
      },
      "outputs": [
        {
          "data": {
            "text/plain": [
              "(Dataset({\n",
              "     features: ['labels', 'input_ids', 'attention_mask'],\n",
              "     num_rows: 2481\n",
              " }), Dataset({\n",
              "     features: ['labels', 'input_ids', 'attention_mask'],\n",
              "     num_rows: 279\n",
              " }))"
            ]
          },
          "execution_count": 33,
          "metadata": {},
          "output_type": "execute_result"
        }
      ],
      "source": [
        "#This two line is from Task 1 code\n",
        "tokenized_datasets_train = tokenized_datasets_train.remove_columns([\"__index_level_0__\", 'combined_features'])\n",
        "tokenized_datasets_valid = tokenized_datasets_valid.remove_columns([\"__index_level_0__\", 'combined_features'])\n",
        "tokenized_datasets_train, tokenized_datasets_valid"
      ]
    },
    {
      "cell_type": "code",
      "execution_count": null,
      "metadata": {
        "colab": {
          "base_uri": "https://localhost:8080/",
          "height": 123,
          "referenced_widgets": [
            "0d0647556aaf4046ba33ad44ae6e5538",
            "aafeb2948a114a72ace17187d686b0fd",
            "3543d7bb1ae1423baa29f2464cf66125",
            "de0afaddfc8348f191acd2bdd4f44406",
            "90df65503e0049e28045574a5c80acc9",
            "c7419aba18564995a7f4a54ed80d602f",
            "83f8485ce4c24f15bbc2204194c0adb6",
            "3e8dee7a81f54ea0880425de3a1b13b1",
            "2bd844b2950843e1ae19c022dbba1884",
            "505cace465c3477893753369ea112613",
            "712b6c8e6afa44c9bd2bf9c1d2a5cc34"
          ]
        },
        "id": "eC3XZpvibaPP",
        "outputId": "28b2f6a6-71b3-4ddd-ac46-2fd809f543dc"
      },
      "outputs": [
        {
          "data": {
            "application/vnd.jupyter.widget-view+json": {
              "model_id": "0d0647556aaf4046ba33ad44ae6e5538",
              "version_major": 2,
              "version_minor": 0
            },
            "text/plain": [
              "  0%|          | 0/4 [00:00<?, ?ba/s]"
            ]
          },
          "metadata": {},
          "output_type": "display_data"
        },
        {
          "data": {
            "text/plain": [
              "Dataset({\n",
              "    features: ['input_ids', 'attention_mask'],\n",
              "    num_rows: 3832\n",
              "})"
            ]
          },
          "execution_count": 34,
          "metadata": {},
          "output_type": "execute_result"
        }
      ],
      "source": [
        "tokenized_datasets_test = raw_datasets_test.map(tokenize_function, batched=True)\n",
        "tokenized_datasets_test = tokenized_datasets_test.remove_columns(['combined_features'])\n",
        "tokenized_datasets_test"
      ]
    },
    {
      "cell_type": "code",
      "execution_count": null,
      "metadata": {
        "id": "N-5kX57Zlua7"
      },
      "outputs": [],
      "source": [
        "# small_dataset_size = 10\n",
        "# small_train_dataset = tokenized_datasets_train.shuffle(seed=42).select(range(small_dataset_size))\n",
        "# small_eval_dataset = tokenized_datasets_valid.shuffle(seed=42).select(range(small_dataset_size))\n",
        "full_train_dataset = tokenized_datasets_train\n",
        "full_eval_dataset = tokenized_datasets_valid\n",
        "full_test_dataset = tokenized_datasets_test"
      ]
    },
    {
      "cell_type": "code",
      "execution_count": null,
      "metadata": {
        "id": "8zH-6AC9v7pd"
      },
      "outputs": [],
      "source": [
        "# model_bert = AutoModelForSequenceClassification.from_pretrained('bert-base-uncased', num_labels=2)\n",
        "# model_bert"
      ]
    },
    {
      "cell_type": "code",
      "execution_count": null,
      "metadata": {
        "id": "i02LUhaDws0B"
      },
      "outputs": [],
      "source": [
        "# model_bert()"
      ]
    },
    {
      "cell_type": "code",
      "execution_count": null,
      "metadata": {
        "colab": {
          "base_uri": "https://localhost:8080/",
          "height": 161,
          "referenced_widgets": [
            "c21b21b7016e4bf19c6ee8bfbb7f0688",
            "bf34a6d3daad483b839533f399a16b01",
            "e1c08584d27d42f8a5bf67b40fc87cba",
            "931fdbb0aa104e7f805652282758fc23",
            "b8b3b1af78f64fdc8a9ec852a57b35fe",
            "b04579f0e847480ca94de2df4f363078",
            "d08f19166b414bdb8be16f011db26eab",
            "83b1aa9f462945a0a3a39b09cb053345",
            "bd10e1a84a704854b75631c38862270f",
            "5aac26c16e8f499d9b4cfb4c9495f9d5",
            "d10826e7cd704c8e9022814ab179b2d6"
          ]
        },
        "id": "lMungeHyhZLe",
        "outputId": "ccbe1e9f-531c-45c9-f411-eec6e12b8d57"
      },
      "outputs": [
        {
          "data": {
            "application/vnd.jupyter.widget-view+json": {
              "model_id": "c21b21b7016e4bf19c6ee8bfbb7f0688",
              "version_major": 2,
              "version_minor": 0
            },
            "text/plain": [
              "Downloading:   0%|          | 0.00/1.33G [00:00<?, ?B/s]"
            ]
          },
          "metadata": {},
          "output_type": "display_data"
        },
        {
          "name": "stderr",
          "output_type": "stream",
          "text": [
            "Some weights of the model checkpoint at roberta-large were not used when initializing RobertaForSequenceClassification: ['lm_head.decoder.weight', 'lm_head.bias', 'lm_head.layer_norm.weight', 'roberta.pooler.dense.bias', 'lm_head.layer_norm.bias', 'lm_head.dense.weight', 'roberta.pooler.dense.weight', 'lm_head.dense.bias']\n",
            "- This IS expected if you are initializing RobertaForSequenceClassification from the checkpoint of a model trained on another task or with another architecture (e.g. initializing a BertForSequenceClassification model from a BertForPreTraining model).\n",
            "- This IS NOT expected if you are initializing RobertaForSequenceClassification from the checkpoint of a model that you expect to be exactly identical (initializing a BertForSequenceClassification model from a BertForSequenceClassification model).\n",
            "Some weights of RobertaForSequenceClassification were not initialized from the model checkpoint at roberta-large and are newly initialized: ['classifier.dense.weight', 'classifier.dense.bias', 'classifier.out_proj.weight', 'classifier.out_proj.bias']\n",
            "You should probably TRAIN this model on a down-stream task to be able to use it for predictions and inference.\n"
          ]
        }
      ],
      "source": [
        "from transformers import AutoModelForSequenceClassification\n",
        "\n",
        "model = AutoModelForSequenceClassification.from_pretrained(model_name, num_labels=7)"
      ]
    },
    {
      "cell_type": "code",
      "execution_count": null,
      "metadata": {
        "id": "k5EdPkupplPB"
      },
      "outputs": [],
      "source": [
        "from datasets import load_metric, list_metrics\n",
        "# list_metrics()"
      ]
    },
    {
      "cell_type": "code",
      "execution_count": null,
      "metadata": {
        "id": "cdptGp4Dm8bR"
      },
      "outputs": [],
      "source": [
        "from transformers import TrainingArguments\n",
        "run_name = 'roberta_large_lr1e-5'\n",
        "# https://huggingface.co/transformers/main_classes/trainer.html#transformers.TrainingArguments\n",
        "training_args = TrainingArguments(run_name,\n",
        "                                  num_train_epochs=4,\n",
        "                                  save_total_limit = 2,\n",
        "                                  #report_to=['tensorboard','wandb'],\n",
        "                                  learning_rate=1e-5,\n",
        "                                  evaluation_strategy= \"epoch\",\n",
        "                                  per_device_train_batch_size=2,\n",
        "                                  gradient_accumulation_steps=1,\n",
        "                                  warmup_steps=1000,\n",
        "                                  lr_scheduler_type='linear') \n",
        "# , resume_from_checkpoint='full_roberta_lr5e-5' , per_device_train_batch_size=4\n",
        "# FIXME: Ali - Idea: use schedulers with different learning_rate (higher or lower) \n",
        "# TODO: Ali - add Gdrive to save checkpoints in gdrive\n",
        "# TODO: Ali - use `resume_from_checkpoint` to load model from last checkpoint"
      ]
    },
    {
      "cell_type": "code",
      "execution_count": null,
      "metadata": {
        "colab": {
          "base_uri": "https://localhost:8080/",
          "height": 48,
          "referenced_widgets": [
            "03a406f4a92a4e70a8ec6346ecac8888",
            "a0840c25fc9048c6b3a0ed29cca1057b",
            "2097c11640434f2599d9d67a72ef8e24",
            "570be75ea3a54879a2445cd64f923111",
            "b476597aafde4b66b52c12564ea9a018",
            "1140646c59e741f3bb49e12733a4ebf6",
            "108daca171344b8a812a25e312a8dbd3",
            "b0e2afdb0494459d9fdd11e93e23abfb",
            "f228a3140d824c30b0432bb53ecf3907",
            "9ce1a2f426a04f20b4ca379053b833b4",
            "61272612980a4335af5faf3f923a744b"
          ]
        },
        "id": "LXbibJnDnZnG",
        "outputId": "bd51532e-d16f-4147-f8f6-b88ca4eaa98d"
      },
      "outputs": [
        {
          "data": {
            "application/vnd.jupyter.widget-view+json": {
              "model_id": "03a406f4a92a4e70a8ec6346ecac8888",
              "version_major": 2,
              "version_minor": 0
            },
            "text/plain": [
              "Downloading:   0%|          | 0.00/2.07k [00:00<?, ?B/s]"
            ]
          },
          "metadata": {},
          "output_type": "display_data"
        }
      ],
      "source": [
        " from transformers import Trainer\n",
        "import numpy as np\n",
        "from datasets import load_metric\n",
        "\n",
        "f1_metric = load_metric('f1')\n",
        "\n",
        "# accuracy_metric = load_metric(\"accuracy\")"
      ]
    },
    {
      "cell_type": "code",
      "execution_count": null,
      "metadata": {
        "id": "mwoN9LSZuttE"
      },
      "outputs": [],
      "source": [
        "# model.roberta.encoder"
      ]
    },
    {
      "cell_type": "code",
      "execution_count": null,
      "metadata": {
        "id": "HDZQN_NB1Oz3"
      },
      "outputs": [],
      "source": [
        "# df_pcl_valid['labels'].values[:10]"
      ]
    },
    {
      "cell_type": "code",
      "execution_count": null,
      "metadata": {
        "id": "4V7bi6Sz0D0O"
      },
      "outputs": [],
      "source": [
        "# f1_metric.compute(predictions=y_pred.predictions.argmax(axis=1), references=df_pcl_valid['labels'].values[10:20])"
      ]
    },
    {
      "cell_type": "code",
      "execution_count": null,
      "metadata": {
        "id": "mIVITSRYq9O9"
      },
      "outputs": [],
      "source": [
        "from sklearn.metrics import f1_score\n",
        "def compute_metrics(eval_pred):\n",
        "    logits, labels = eval_pred\n",
        "    predictions = logits.argmax(axis=-1)\n",
        "    return {'f1': f1_score(labels, predictions, average='macro')}\n",
        "    # return f1_metric.compute(predictions=predictions, references=labels)\n",
        "\n",
        "trainer = Trainer(\n",
        "    model=model, args=training_args,\n",
        "    train_dataset=full_train_dataset,\n",
        "    eval_dataset=full_eval_dataset,\n",
        "    compute_metrics=compute_metrics,\n",
        ")"
      ]
    },
    {
      "cell_type": "code",
      "execution_count": null,
      "metadata": {
        "colab": {
          "base_uri": "https://localhost:8080/"
        },
        "id": "axhmHpAF6qSA",
        "outputId": "3b62611d-ba90-472e-a46f-323d69b9e609"
      },
      "outputs": [
        {
          "name": "stdout",
          "output_type": "stream",
          "text": [
            "Mon Jan 24 19:15:54 2022       \n",
            "+-----------------------------------------------------------------------------+\n",
            "| NVIDIA-SMI 495.46       Driver Version: 460.32.03    CUDA Version: 11.2     |\n",
            "|-------------------------------+----------------------+----------------------+\n",
            "| GPU  Name        Persistence-M| Bus-Id        Disp.A | Volatile Uncorr. ECC |\n",
            "| Fan  Temp  Perf  Pwr:Usage/Cap|         Memory-Usage | GPU-Util  Compute M. |\n",
            "|                               |                      |               MIG M. |\n",
            "|===============================+======================+======================|\n",
            "|   0  Tesla T4            Off  | 00000000:00:04.0 Off |                    0 |\n",
            "| N/A   35C    P0    25W /  70W |   2848MiB / 15109MiB |      2%      Default |\n",
            "|                               |                      |                  N/A |\n",
            "+-------------------------------+----------------------+----------------------+\n",
            "                                                                               \n",
            "+-----------------------------------------------------------------------------+\n",
            "| Processes:                                                                  |\n",
            "|  GPU   GI   CI        PID   Type   Process name                  GPU Memory |\n",
            "|        ID   ID                                                   Usage      |\n",
            "|=============================================================================|\n",
            "|  No running processes found                                                 |\n",
            "+-----------------------------------------------------------------------------+\n"
          ]
        }
      ],
      "source": [
        "!nvidia-smi"
      ]
    },
    {
      "cell_type": "code",
      "execution_count": null,
      "metadata": {
        "id": "XvAi8aPGlSgG"
      },
      "outputs": [],
      "source": [
        "# from google.colab import drive\n",
        "# drive.mount('/content/drive')"
      ]
    },
    {
      "cell_type": "code",
      "execution_count": null,
      "metadata": {
        "id": "QnzZb9Q548zR"
      },
      "outputs": [],
      "source": [
        "# Wandb accces code: 6eac997ed11cad663510778e5e1c33388cdac6c5\n",
        "# swswswswsw"
      ]
    },
    {
      "cell_type": "code",
      "execution_count": null,
      "metadata": {
        "id": "qOawyaSMWuan"
      },
      "outputs": [],
      "source": [
        "# import gc\n",
        "# gc.collect()\n",
        "# torch.cuda.empty_cache() sssssssssss"
      ]
    },
    {
      "cell_type": "code",
      "execution_count": null,
      "metadata": {
        "colab": {
          "background_save": true,
          "base_uri": "https://localhost:8080/",
          "height": 1000
        },
        "id": "U9pCqU9MeWh1",
        "outputId": "31ef6663-0753-44ec-bec9-1628c025d7dc"
      },
      "outputs": [
        {
          "name": "stderr",
          "output_type": "stream",
          "text": [
            "***** Running training *****\n",
            "  Num examples = 2481\n",
            "  Num Epochs = 4\n",
            "  Instantaneous batch size per device = 2\n",
            "  Total train batch size (w. parallel, distributed & accumulation) = 2\n",
            "  Gradient Accumulation steps = 1\n",
            "  Total optimization steps = 4964\n"
          ]
        },
        {
          "data": {
            "text/html": [
              "\n",
              "    <div>\n",
              "      \n",
              "      <progress value='4964' max='4964' style='width:300px; height:20px; vertical-align: middle;'></progress>\n",
              "      [4964/4964 1:07:51, Epoch 4/4]\n",
              "    </div>\n",
              "    <table border=\"1\" class=\"dataframe\">\n",
              "  <thead>\n",
              "    <tr style=\"text-align: left;\">\n",
              "      <th>Epoch</th>\n",
              "      <th>Training Loss</th>\n",
              "      <th>Validation Loss</th>\n",
              "      <th>F1</th>\n",
              "    </tr>\n",
              "  </thead>\n",
              "  <tbody>\n",
              "    <tr>\n",
              "      <td>1</td>\n",
              "      <td>1.493800</td>\n",
              "      <td>1.278342</td>\n",
              "      <td>0.288951</td>\n",
              "    </tr>\n",
              "    <tr>\n",
              "      <td>2</td>\n",
              "      <td>1.305400</td>\n",
              "      <td>1.160692</td>\n",
              "      <td>0.513771</td>\n",
              "    </tr>\n",
              "    <tr>\n",
              "      <td>3</td>\n",
              "      <td>1.029100</td>\n",
              "      <td>1.500535</td>\n",
              "      <td>0.561328</td>\n",
              "    </tr>\n",
              "    <tr>\n",
              "      <td>4</td>\n",
              "      <td>0.840400</td>\n",
              "      <td>1.840352</td>\n",
              "      <td>0.509927</td>\n",
              "    </tr>\n",
              "  </tbody>\n",
              "</table><p>"
            ],
            "text/plain": [
              "<IPython.core.display.HTML object>"
            ]
          },
          "metadata": {},
          "output_type": "display_data"
        },
        {
          "name": "stderr",
          "output_type": "stream",
          "text": [
            "Saving model checkpoint to roberta_large_lr1e-5/checkpoint-500\n",
            "Configuration saved in roberta_large_lr1e-5/checkpoint-500/config.json\n",
            "Model weights saved in roberta_large_lr1e-5/checkpoint-500/pytorch_model.bin\n",
            "Saving model checkpoint to roberta_large_lr1e-5/checkpoint-1000\n",
            "Configuration saved in roberta_large_lr1e-5/checkpoint-1000/config.json\n",
            "Model weights saved in roberta_large_lr1e-5/checkpoint-1000/pytorch_model.bin\n",
            "***** Running Evaluation *****\n",
            "  Num examples = 279\n",
            "  Batch size = 8\n",
            "Saving model checkpoint to roberta_large_lr1e-5/checkpoint-1500\n",
            "Configuration saved in roberta_large_lr1e-5/checkpoint-1500/config.json\n",
            "Model weights saved in roberta_large_lr1e-5/checkpoint-1500/pytorch_model.bin\n",
            "Deleting older checkpoint [roberta_large_lr1e-5/checkpoint-500] due to args.save_total_limit\n",
            "Saving model checkpoint to roberta_large_lr1e-5/checkpoint-2000\n",
            "Configuration saved in roberta_large_lr1e-5/checkpoint-2000/config.json\n",
            "Model weights saved in roberta_large_lr1e-5/checkpoint-2000/pytorch_model.bin\n",
            "Deleting older checkpoint [roberta_large_lr1e-5/checkpoint-1000] due to args.save_total_limit\n",
            "***** Running Evaluation *****\n",
            "  Num examples = 279\n",
            "  Batch size = 8\n",
            "Saving model checkpoint to roberta_large_lr1e-5/checkpoint-2500\n",
            "Configuration saved in roberta_large_lr1e-5/checkpoint-2500/config.json\n",
            "Model weights saved in roberta_large_lr1e-5/checkpoint-2500/pytorch_model.bin\n",
            "Deleting older checkpoint [roberta_large_lr1e-5/checkpoint-1500] due to args.save_total_limit\n",
            "Saving model checkpoint to roberta_large_lr1e-5/checkpoint-3000\n",
            "Configuration saved in roberta_large_lr1e-5/checkpoint-3000/config.json\n",
            "Model weights saved in roberta_large_lr1e-5/checkpoint-3000/pytorch_model.bin\n",
            "Deleting older checkpoint [roberta_large_lr1e-5/checkpoint-2000] due to args.save_total_limit\n",
            "Saving model checkpoint to roberta_large_lr1e-5/checkpoint-3500\n",
            "Configuration saved in roberta_large_lr1e-5/checkpoint-3500/config.json\n",
            "Model weights saved in roberta_large_lr1e-5/checkpoint-3500/pytorch_model.bin\n",
            "Deleting older checkpoint [roberta_large_lr1e-5/checkpoint-2500] due to args.save_total_limit\n",
            "***** Running Evaluation *****\n",
            "  Num examples = 279\n",
            "  Batch size = 8\n",
            "Saving model checkpoint to roberta_large_lr1e-5/checkpoint-4000\n",
            "Configuration saved in roberta_large_lr1e-5/checkpoint-4000/config.json\n",
            "Model weights saved in roberta_large_lr1e-5/checkpoint-4000/pytorch_model.bin\n",
            "Deleting older checkpoint [roberta_large_lr1e-5/checkpoint-3000] due to args.save_total_limit\n",
            "Saving model checkpoint to roberta_large_lr1e-5/checkpoint-4500\n",
            "Configuration saved in roberta_large_lr1e-5/checkpoint-4500/config.json\n",
            "Model weights saved in roberta_large_lr1e-5/checkpoint-4500/pytorch_model.bin\n",
            "Deleting older checkpoint [roberta_large_lr1e-5/checkpoint-3500] due to args.save_total_limit\n",
            "***** Running Evaluation *****\n",
            "  Num examples = 279\n",
            "  Batch size = 8\n",
            "\n",
            "\n",
            "Training completed. Do not forget to share your model on huggingface.co/models =)\n",
            "\n",
            "\n"
          ]
        },
        {
          "data": {
            "text/plain": [
              "TrainOutput(global_step=4964, training_loss=1.2131551946967385, metrics={'train_runtime': 4072.1394, 'train_samples_per_second': 2.437, 'train_steps_per_second': 1.219, 'total_flos': 9248643093123072.0, 'train_loss': 1.2131551946967385, 'epoch': 4.0})"
            ]
          },
          "execution_count": null,
          "metadata": {},
          "output_type": "execute_result"
        }
      ],
      "source": [
        "trainer.train()"
      ]
    },
    {
      "cell_type": "code",
      "execution_count": null,
      "metadata": {
        "colab": {
          "background_save": true
        },
        "id": "F9OhvDG-dXt4",
        "outputId": "2fbeac60-368e-4a41-aa8a-7563ce295f7b"
      },
      "outputs": [
        {
          "name": "stderr",
          "output_type": "stream",
          "text": [
            "***** Running Evaluation *****\n",
            "  Num examples = 279\n",
            "  Batch size = 8\n"
          ]
        },
        {
          "data": {
            "text/html": [
              "\n",
              "    <div>\n",
              "      \n",
              "      <progress value='35' max='35' style='width:300px; height:20px; vertical-align: middle;'></progress>\n",
              "      [35/35 00:26]\n",
              "    </div>\n",
              "    "
            ],
            "text/plain": [
              "<IPython.core.display.HTML object>"
            ]
          },
          "metadata": {},
          "output_type": "display_data"
        },
        {
          "data": {
            "text/plain": [
              "{'epoch': 4.0,\n",
              " 'eval_f1': 0.5099265413775199,\n",
              " 'eval_loss': 1.8403524160385132,\n",
              " 'eval_runtime': 27.4848,\n",
              " 'eval_samples_per_second': 10.151,\n",
              " 'eval_steps_per_second': 1.273}"
            ]
          },
          "execution_count": null,
          "metadata": {},
          "output_type": "execute_result"
        }
      ],
      "source": [
        "trainer.evaluate()"
      ]
    },
    {
      "cell_type": "code",
      "execution_count": null,
      "metadata": {
        "colab": {
          "background_save": true
        },
        "id": "xNEkOvPqdXt5",
        "outputId": "1c74b12c-ac74-4889-bda5-e06054e9e962"
      },
      "outputs": [
        {
          "name": "stderr",
          "output_type": "stream",
          "text": [
            "***** Running Prediction *****\n",
            "  Num examples = 3832\n",
            "  Batch size = 8\n"
          ]
        },
        {
          "data": {
            "text/html": [
              "\n",
              "    <div>\n",
              "      \n",
              "      <progress value='514' max='35' style='width:300px; height:20px; vertical-align: middle;'></progress>\n",
              "      [35/35 06:45]\n",
              "    </div>\n",
              "    "
            ],
            "text/plain": [
              "<IPython.core.display.HTML object>"
            ]
          },
          "metadata": {},
          "output_type": "display_data"
        }
      ],
      "source": [
        "y_pred = trainer.predict(full_test_dataset)"
      ]
    },
    {
      "cell_type": "code",
      "execution_count": null,
      "metadata": {
        "id": "jLPtPaT8dXt5"
      },
      "outputs": [],
      "source": [
        "y_pred.predictions.argmax(axis=1)"
      ]
    },
    {
      "cell_type": "code",
      "execution_count": null,
      "metadata": {
        "colab": {
          "background_save": true
        },
        "id": "9jGV5Bi4dXt5",
        "outputId": "ab6bb648-a9ab-4500-9323-f56b91884486"
      },
      "outputs": [
        {
          "data": {
            "text/html": [
              "\n",
              "  <div id=\"df-0c46e18d-df6f-42d2-b007-b258a6c50e71\">\n",
              "    <div class=\"colab-df-container\">\n",
              "      <div>\n",
              "<style scoped>\n",
              "    .dataframe tbody tr th:only-of-type {\n",
              "        vertical-align: middle;\n",
              "    }\n",
              "\n",
              "    .dataframe tbody tr th {\n",
              "        vertical-align: top;\n",
              "    }\n",
              "\n",
              "    .dataframe thead th {\n",
              "        text-align: right;\n",
              "    }\n",
              "</style>\n",
              "<table border=\"1\" class=\"dataframe\">\n",
              "  <thead>\n",
              "    <tr style=\"text-align: right;\">\n",
              "      <th></th>\n",
              "    </tr>\n",
              "  </thead>\n",
              "  <tbody>\n",
              "  </tbody>\n",
              "</table>\n",
              "</div>\n",
              "      <button class=\"colab-df-convert\" onclick=\"convertToInteractive('df-0c46e18d-df6f-42d2-b007-b258a6c50e71')\"\n",
              "              title=\"Convert this dataframe to an interactive table.\"\n",
              "              style=\"display:none;\">\n",
              "        \n",
              "  <svg xmlns=\"http://www.w3.org/2000/svg\" height=\"24px\"viewBox=\"0 0 24 24\"\n",
              "       width=\"24px\">\n",
              "    <path d=\"M0 0h24v24H0V0z\" fill=\"none\"/>\n",
              "    <path d=\"M18.56 5.44l.94 2.06.94-2.06 2.06-.94-2.06-.94-.94-2.06-.94 2.06-2.06.94zm-11 1L8.5 8.5l.94-2.06 2.06-.94-2.06-.94L8.5 2.5l-.94 2.06-2.06.94zm10 10l.94 2.06.94-2.06 2.06-.94-2.06-.94-.94-2.06-.94 2.06-2.06.94z\"/><path d=\"M17.41 7.96l-1.37-1.37c-.4-.4-.92-.59-1.43-.59-.52 0-1.04.2-1.43.59L10.3 9.45l-7.72 7.72c-.78.78-.78 2.05 0 2.83L4 21.41c.39.39.9.59 1.41.59.51 0 1.02-.2 1.41-.59l7.78-7.78 2.81-2.81c.8-.78.8-2.07 0-2.86zM5.41 20L4 18.59l7.72-7.72 1.47 1.35L5.41 20z\"/>\n",
              "  </svg>\n",
              "      </button>\n",
              "      \n",
              "  <style>\n",
              "    .colab-df-container {\n",
              "      display:flex;\n",
              "      flex-wrap:wrap;\n",
              "      gap: 12px;\n",
              "    }\n",
              "\n",
              "    .colab-df-convert {\n",
              "      background-color: #E8F0FE;\n",
              "      border: none;\n",
              "      border-radius: 50%;\n",
              "      cursor: pointer;\n",
              "      display: none;\n",
              "      fill: #1967D2;\n",
              "      height: 32px;\n",
              "      padding: 0 0 0 0;\n",
              "      width: 32px;\n",
              "    }\n",
              "\n",
              "    .colab-df-convert:hover {\n",
              "      background-color: #E2EBFA;\n",
              "      box-shadow: 0px 1px 2px rgba(60, 64, 67, 0.3), 0px 1px 3px 1px rgba(60, 64, 67, 0.15);\n",
              "      fill: #174EA6;\n",
              "    }\n",
              "\n",
              "    [theme=dark] .colab-df-convert {\n",
              "      background-color: #3B4455;\n",
              "      fill: #D2E3FC;\n",
              "    }\n",
              "\n",
              "    [theme=dark] .colab-df-convert:hover {\n",
              "      background-color: #434B5C;\n",
              "      box-shadow: 0px 1px 3px 1px rgba(0, 0, 0, 0.15);\n",
              "      filter: drop-shadow(0px 1px 2px rgba(0, 0, 0, 0.3));\n",
              "      fill: #FFFFFF;\n",
              "    }\n",
              "  </style>\n",
              "\n",
              "      <script>\n",
              "        const buttonEl =\n",
              "          document.querySelector('#df-0c46e18d-df6f-42d2-b007-b258a6c50e71 button.colab-df-convert');\n",
              "        buttonEl.style.display =\n",
              "          google.colab.kernel.accessAllowed ? 'block' : 'none';\n",
              "\n",
              "        async function convertToInteractive(key) {\n",
              "          const element = document.querySelector('#df-0c46e18d-df6f-42d2-b007-b258a6c50e71');\n",
              "          const dataTable =\n",
              "            await google.colab.kernel.invokeFunction('convertToInteractive',\n",
              "                                                     [key], {});\n",
              "          if (!dataTable) return;\n",
              "\n",
              "          const docLinkHtml = 'Like what you see? Visit the ' +\n",
              "            '<a target=\"_blank\" href=https://colab.research.google.com/notebooks/data_table.ipynb>data table notebook</a>'\n",
              "            + ' to learn more about interactive tables.';\n",
              "          element.innerHTML = '';\n",
              "          dataTable['output_type'] = 'display_data';\n",
              "          await google.colab.output.renderOutput(dataTable, element);\n",
              "          const docLink = document.createElement('div');\n",
              "          docLink.innerHTML = docLinkHtml;\n",
              "          element.appendChild(docLink);\n",
              "        }\n",
              "      </script>\n",
              "    </div>\n",
              "  </div>\n",
              "  "
            ],
            "text/plain": [
              "Empty DataFrame\n",
              "Columns: []\n",
              "Index: []"
            ]
          },
          "execution_count": null,
          "metadata": {},
          "output_type": "execute_result"
        }
      ],
      "source": [
        "df_preds=pd.DataFrame(y_pred.label_ids)\n",
        "df_preds"
      ]
    },
    {
      "cell_type": "code",
      "execution_count": null,
      "metadata": {
        "id": "tgT-Jcq9cVso"
      },
      "outputs": [],
      "source": [
        "y = y_pred.predictions.argmax(axis=1)\n",
        "y, len(y)"
      ]
    },
    {
      "cell_type": "code",
      "execution_count": null,
      "metadata": {
        "id": "64LFuA5GcWRj"
      },
      "outputs": [],
      "source": [
        "np.savetxt('y_pred.csv', y, fmt='%s')"
      ]
    },
    {
      "cell_type": "code",
      "execution_count": null,
      "metadata": {
        "id": "d7fmgDOLcbuD"
      },
      "outputs": [],
      "source": [
        "df_preds=pd.DataFrame(y)\n",
        "df_preds.columns = ['label']\n",
        "df_preds.sum(), df_preds"
      ]
    },
    {
      "cell_type": "code",
      "execution_count": null,
      "metadata": {
        "id": "sFC--1eNccRK"
      },
      "outputs": [],
      "source": [
        "from google.colab import files\n",
        "files.download('y_pred.csv') "
      ]
    },
    {
      "cell_type": "code",
      "execution_count": null,
      "metadata": {
        "id": "i5cxvpATcfB6"
      },
      "outputs": [],
      "source": [
        "# helper function to save predictions to an output file\n",
        "def labels2file(p, outf_path):\n",
        "\twith open(outf_path,'w') as outf:\n",
        "\t\tfor pi in p:\n",
        "\t\t\toutf.write(','.join([str(k) for k in pi])+'\\n')"
      ]
    },
    {
      "cell_type": "code",
      "execution_count": null,
      "metadata": {
        "id": "F4Uz57IIcib2"
      },
      "outputs": [],
      "source": [
        "labels2file([[k] for k in list(df_preds['label'])], 'task2.txt')"
      ]
    },
    {
      "cell_type": "code",
      "execution_count": null,
      "metadata": {
        "id": "c7iOF0tWcte3"
      },
      "outputs": [],
      "source": [
        "files.download('task2.txt') "
      ]
    },
    {
      "cell_type": "code",
      "execution_count": null,
      "metadata": {
        "id": "GEvcIOQjct0b"
      },
      "outputs": [],
      "source": [
        "#Zip submission File\n",
        "!zip submission.zip task1.txt"
      ]
    },
    {
      "cell_type": "code",
      "execution_count": null,
      "metadata": {
        "id": "RM8mSb68cz2S"
      },
      "outputs": [],
      "source": [
        "files.download('submission.zip') "
      ]
    },
    {
      "cell_type": "code",
      "execution_count": null,
      "metadata": {
        "id": "gThFPWFP0fDx"
      },
      "outputs": [],
      "source": [
        "# del trainer\n",
        "# import gc\n",
        "# gc.collect()\n",
        "# torch.cuda.empty_cache()"
      ]
    },
    {
      "cell_type": "code",
      "execution_count": null,
      "metadata": {
        "id": "VaUVbJ3H3eTb"
      },
      "outputs": [],
      "source": [
        "# # For WandB results checkout https://wandb.ai/alipanahi/pcl-binary \n",
        "# %tensorboard --logdir \"roberta_large_lr5e-5\""
      ]
    },
    {
      "cell_type": "code",
      "execution_count": null,
      "metadata": {
        "id": "Qk8FYg2Ul1kp"
      },
      "outputs": [],
      "source": [
        "# mkdir -p /content/drive/MyDrive/full_roberta_lr5e-5/checkpoint-5500/"
      ]
    },
    {
      "cell_type": "code",
      "execution_count": null,
      "metadata": {
        "id": "ErcqwvyZlg57"
      },
      "outputs": [],
      "source": [
        "# cp -r /content/full_roberta_lr5e-5/checkpoint-5500/ /content/drive/MyDrive/full_roberta_lr5e-5/checkpoint-5500/"
      ]
    },
    {
      "cell_type": "code",
      "execution_count": null,
      "metadata": {
        "id": "yH0t1XpclzRz"
      },
      "outputs": [],
      "source": [
        "# import wandb\n",
        "# wandb.init(project='pcl-binary')"
      ]
    },
    {
      "cell_type": "code",
      "execution_count": null,
      "metadata": {
        "id": "6_IPGsb_mbhK"
      },
      "outputs": [],
      "source": [
        "# from sklearn.metrics import classification_report\n",
        "# print(classification_report(df_pcl_valid['labels'].values, df_preds.values, target_names=['0','1']))"
      ]
    },
    {
      "cell_type": "code",
      "execution_count": null,
      "metadata": {
        "id": "rxmxSyzExbFZ"
      },
      "outputs": [],
      "source": [
        "# from sklearn.metrics import f1_score\n",
        "# f1_score(df_pcl_valid['labels'].values, df_preds.values, average='macro')"
      ]
    },
    {
      "cell_type": "code",
      "execution_count": null,
      "metadata": {
        "id": "iW5k_pJLx50S"
      },
      "outputs": [],
      "source": [
        "# df_pcl_valid['labels'].values[:10]"
      ]
    }
  ],
  "metadata": {
    "accelerator": "GPU",
    "colab": {
      "collapsed_sections": [],
      "machine_shape": "hm",
      "name": "Task2-PCL-ROBERTA-LARGE-Multi-class-predict value 0n [0..6].ipynb",
      "provenance": []
    },
    "kernelspec": {
      "display_name": "Python 3",
      "name": "python3"
    },
    "language_info": {
      "name": "python"
    },
    "widgets": {
      "application/vnd.jupyter.widget-state+json": {
        "03a406f4a92a4e70a8ec6346ecac8888": {
          "model_module": "@jupyter-widgets/controls",
          "model_module_version": "1.5.0",
          "model_name": "HBoxModel",
          "state": {
            "_dom_classes": [],
            "_model_module": "@jupyter-widgets/controls",
            "_model_module_version": "1.5.0",
            "_model_name": "HBoxModel",
            "_view_count": null,
            "_view_module": "@jupyter-widgets/controls",
            "_view_module_version": "1.5.0",
            "_view_name": "HBoxView",
            "box_style": "",
            "children": [
              "IPY_MODEL_a0840c25fc9048c6b3a0ed29cca1057b",
              "IPY_MODEL_2097c11640434f2599d9d67a72ef8e24",
              "IPY_MODEL_570be75ea3a54879a2445cd64f923111"
            ],
            "layout": "IPY_MODEL_b476597aafde4b66b52c12564ea9a018"
          }
        },
        "0d0647556aaf4046ba33ad44ae6e5538": {
          "model_module": "@jupyter-widgets/controls",
          "model_module_version": "1.5.0",
          "model_name": "HBoxModel",
          "state": {
            "_dom_classes": [],
            "_model_module": "@jupyter-widgets/controls",
            "_model_module_version": "1.5.0",
            "_model_name": "HBoxModel",
            "_view_count": null,
            "_view_module": "@jupyter-widgets/controls",
            "_view_module_version": "1.5.0",
            "_view_name": "HBoxView",
            "box_style": "",
            "children": [
              "IPY_MODEL_aafeb2948a114a72ace17187d686b0fd",
              "IPY_MODEL_3543d7bb1ae1423baa29f2464cf66125",
              "IPY_MODEL_de0afaddfc8348f191acd2bdd4f44406"
            ],
            "layout": "IPY_MODEL_90df65503e0049e28045574a5c80acc9"
          }
        },
        "108daca171344b8a812a25e312a8dbd3": {
          "model_module": "@jupyter-widgets/controls",
          "model_module_version": "1.5.0",
          "model_name": "DescriptionStyleModel",
          "state": {
            "_model_module": "@jupyter-widgets/controls",
            "_model_module_version": "1.5.0",
            "_model_name": "DescriptionStyleModel",
            "_view_count": null,
            "_view_module": "@jupyter-widgets/base",
            "_view_module_version": "1.2.0",
            "_view_name": "StyleView",
            "description_width": ""
          }
        },
        "1140646c59e741f3bb49e12733a4ebf6": {
          "model_module": "@jupyter-widgets/base",
          "model_module_version": "1.2.0",
          "model_name": "LayoutModel",
          "state": {
            "_model_module": "@jupyter-widgets/base",
            "_model_module_version": "1.2.0",
            "_model_name": "LayoutModel",
            "_view_count": null,
            "_view_module": "@jupyter-widgets/base",
            "_view_module_version": "1.2.0",
            "_view_name": "LayoutView",
            "align_content": null,
            "align_items": null,
            "align_self": null,
            "border": null,
            "bottom": null,
            "display": null,
            "flex": null,
            "flex_flow": null,
            "grid_area": null,
            "grid_auto_columns": null,
            "grid_auto_flow": null,
            "grid_auto_rows": null,
            "grid_column": null,
            "grid_gap": null,
            "grid_row": null,
            "grid_template_areas": null,
            "grid_template_columns": null,
            "grid_template_rows": null,
            "height": null,
            "justify_content": null,
            "justify_items": null,
            "left": null,
            "margin": null,
            "max_height": null,
            "max_width": null,
            "min_height": null,
            "min_width": null,
            "object_fit": null,
            "object_position": null,
            "order": null,
            "overflow": null,
            "overflow_x": null,
            "overflow_y": null,
            "padding": null,
            "right": null,
            "top": null,
            "visibility": null,
            "width": null
          }
        },
        "13e1d5d5d506449c8bf3e8dc94dc30fa": {
          "model_module": "@jupyter-widgets/controls",
          "model_module_version": "1.5.0",
          "model_name": "HBoxModel",
          "state": {
            "_dom_classes": [],
            "_model_module": "@jupyter-widgets/controls",
            "_model_module_version": "1.5.0",
            "_model_name": "HBoxModel",
            "_view_count": null,
            "_view_module": "@jupyter-widgets/controls",
            "_view_module_version": "1.5.0",
            "_view_name": "HBoxView",
            "box_style": "",
            "children": [
              "IPY_MODEL_cdd062bba6bc4b6cbedeb33f0a409f7e",
              "IPY_MODEL_458e3df33419400996439711075b99a5",
              "IPY_MODEL_4a30cc1a81774f17bf10a2c02f8d750a"
            ],
            "layout": "IPY_MODEL_f34a7f4782984dc9af86afcb3e51d82e"
          }
        },
        "156207d803a9447ea7bdbf0952c805ba": {
          "model_module": "@jupyter-widgets/controls",
          "model_module_version": "1.5.0",
          "model_name": "HTMLModel",
          "state": {
            "_dom_classes": [],
            "_model_module": "@jupyter-widgets/controls",
            "_model_module_version": "1.5.0",
            "_model_name": "HTMLModel",
            "_view_count": null,
            "_view_module": "@jupyter-widgets/controls",
            "_view_module_version": "1.5.0",
            "_view_name": "HTMLView",
            "description": "",
            "description_tooltip": null,
            "layout": "IPY_MODEL_50040aead89342a48bd4d8e447427d31",
            "placeholder": "​",
            "style": "IPY_MODEL_b5afd10ff2e3447a822376ab5e700781",
            "value": " 1/1 [00:00&lt;00:00, 12.49ba/s]"
          }
        },
        "1b5881da55e643bbba4b7aa3365840f6": {
          "model_module": "@jupyter-widgets/controls",
          "model_module_version": "1.5.0",
          "model_name": "DescriptionStyleModel",
          "state": {
            "_model_module": "@jupyter-widgets/controls",
            "_model_module_version": "1.5.0",
            "_model_name": "DescriptionStyleModel",
            "_view_count": null,
            "_view_module": "@jupyter-widgets/base",
            "_view_module_version": "1.2.0",
            "_view_name": "StyleView",
            "description_width": ""
          }
        },
        "1d693e979e2c4110b06dfcde9aae59a8": {
          "model_module": "@jupyter-widgets/controls",
          "model_module_version": "1.5.0",
          "model_name": "DescriptionStyleModel",
          "state": {
            "_model_module": "@jupyter-widgets/controls",
            "_model_module_version": "1.5.0",
            "_model_name": "DescriptionStyleModel",
            "_view_count": null,
            "_view_module": "@jupyter-widgets/base",
            "_view_module_version": "1.2.0",
            "_view_name": "StyleView",
            "description_width": ""
          }
        },
        "20182d08053e4a53b2f3af079db69df8": {
          "model_module": "@jupyter-widgets/controls",
          "model_module_version": "1.5.0",
          "model_name": "HTMLModel",
          "state": {
            "_dom_classes": [],
            "_model_module": "@jupyter-widgets/controls",
            "_model_module_version": "1.5.0",
            "_model_name": "HTMLModel",
            "_view_count": null,
            "_view_module": "@jupyter-widgets/controls",
            "_view_module_version": "1.5.0",
            "_view_name": "HTMLView",
            "description": "",
            "description_tooltip": null,
            "layout": "IPY_MODEL_fe9499248303437b90c2e4d35cbc08c4",
            "placeholder": "​",
            "style": "IPY_MODEL_4020eb76773a46be9249176d5cff7dc9",
            "value": "Downloading: 100%"
          }
        },
        "2097c11640434f2599d9d67a72ef8e24": {
          "model_module": "@jupyter-widgets/controls",
          "model_module_version": "1.5.0",
          "model_name": "FloatProgressModel",
          "state": {
            "_dom_classes": [],
            "_model_module": "@jupyter-widgets/controls",
            "_model_module_version": "1.5.0",
            "_model_name": "FloatProgressModel",
            "_view_count": null,
            "_view_module": "@jupyter-widgets/controls",
            "_view_module_version": "1.5.0",
            "_view_name": "ProgressView",
            "bar_style": "success",
            "description": "",
            "description_tooltip": null,
            "layout": "IPY_MODEL_b0e2afdb0494459d9fdd11e93e23abfb",
            "max": 2069,
            "min": 0,
            "orientation": "horizontal",
            "style": "IPY_MODEL_f228a3140d824c30b0432bb53ecf3907",
            "value": 2069
          }
        },
        "29035a16a7b94bbaac5af28a5a85a9bb": {
          "model_module": "@jupyter-widgets/base",
          "model_module_version": "1.2.0",
          "model_name": "LayoutModel",
          "state": {
            "_model_module": "@jupyter-widgets/base",
            "_model_module_version": "1.2.0",
            "_model_name": "LayoutModel",
            "_view_count": null,
            "_view_module": "@jupyter-widgets/base",
            "_view_module_version": "1.2.0",
            "_view_name": "LayoutView",
            "align_content": null,
            "align_items": null,
            "align_self": null,
            "border": null,
            "bottom": null,
            "display": null,
            "flex": null,
            "flex_flow": null,
            "grid_area": null,
            "grid_auto_columns": null,
            "grid_auto_flow": null,
            "grid_auto_rows": null,
            "grid_column": null,
            "grid_gap": null,
            "grid_row": null,
            "grid_template_areas": null,
            "grid_template_columns": null,
            "grid_template_rows": null,
            "height": null,
            "justify_content": null,
            "justify_items": null,
            "left": null,
            "margin": null,
            "max_height": null,
            "max_width": null,
            "min_height": null,
            "min_width": null,
            "object_fit": null,
            "object_position": null,
            "order": null,
            "overflow": null,
            "overflow_x": null,
            "overflow_y": null,
            "padding": null,
            "right": null,
            "top": null,
            "visibility": null,
            "width": null
          }
        },
        "2bd844b2950843e1ae19c022dbba1884": {
          "model_module": "@jupyter-widgets/controls",
          "model_module_version": "1.5.0",
          "model_name": "ProgressStyleModel",
          "state": {
            "_model_module": "@jupyter-widgets/controls",
            "_model_module_version": "1.5.0",
            "_model_name": "ProgressStyleModel",
            "_view_count": null,
            "_view_module": "@jupyter-widgets/base",
            "_view_module_version": "1.2.0",
            "_view_name": "StyleView",
            "bar_color": null,
            "description_width": ""
          }
        },
        "31a40010a7904637bc1de65637bd335a": {
          "model_module": "@jupyter-widgets/controls",
          "model_module_version": "1.5.0",
          "model_name": "HTMLModel",
          "state": {
            "_dom_classes": [],
            "_model_module": "@jupyter-widgets/controls",
            "_model_module_version": "1.5.0",
            "_model_name": "HTMLModel",
            "_view_count": null,
            "_view_module": "@jupyter-widgets/controls",
            "_view_module_version": "1.5.0",
            "_view_name": "HTMLView",
            "description": "",
            "description_tooltip": null,
            "layout": "IPY_MODEL_d486af5af4374afc944d36c1f65dc8ca",
            "placeholder": "​",
            "style": "IPY_MODEL_8fd278b3f8914b1590081a0c2a73a9e3",
            "value": "Downloading: 100%"
          }
        },
        "3392d1ae4927436aa72a1b237377bc3c": {
          "model_module": "@jupyter-widgets/controls",
          "model_module_version": "1.5.0",
          "model_name": "DescriptionStyleModel",
          "state": {
            "_model_module": "@jupyter-widgets/controls",
            "_model_module_version": "1.5.0",
            "_model_name": "DescriptionStyleModel",
            "_view_count": null,
            "_view_module": "@jupyter-widgets/base",
            "_view_module_version": "1.2.0",
            "_view_name": "StyleView",
            "description_width": ""
          }
        },
        "34a1fdda353a4f0c8413795b859718b1": {
          "model_module": "@jupyter-widgets/base",
          "model_module_version": "1.2.0",
          "model_name": "LayoutModel",
          "state": {
            "_model_module": "@jupyter-widgets/base",
            "_model_module_version": "1.2.0",
            "_model_name": "LayoutModel",
            "_view_count": null,
            "_view_module": "@jupyter-widgets/base",
            "_view_module_version": "1.2.0",
            "_view_name": "LayoutView",
            "align_content": null,
            "align_items": null,
            "align_self": null,
            "border": null,
            "bottom": null,
            "display": null,
            "flex": null,
            "flex_flow": null,
            "grid_area": null,
            "grid_auto_columns": null,
            "grid_auto_flow": null,
            "grid_auto_rows": null,
            "grid_column": null,
            "grid_gap": null,
            "grid_row": null,
            "grid_template_areas": null,
            "grid_template_columns": null,
            "grid_template_rows": null,
            "height": null,
            "justify_content": null,
            "justify_items": null,
            "left": null,
            "margin": null,
            "max_height": null,
            "max_width": null,
            "min_height": null,
            "min_width": null,
            "object_fit": null,
            "object_position": null,
            "order": null,
            "overflow": null,
            "overflow_x": null,
            "overflow_y": null,
            "padding": null,
            "right": null,
            "top": null,
            "visibility": null,
            "width": null
          }
        },
        "3543d7bb1ae1423baa29f2464cf66125": {
          "model_module": "@jupyter-widgets/controls",
          "model_module_version": "1.5.0",
          "model_name": "FloatProgressModel",
          "state": {
            "_dom_classes": [],
            "_model_module": "@jupyter-widgets/controls",
            "_model_module_version": "1.5.0",
            "_model_name": "FloatProgressModel",
            "_view_count": null,
            "_view_module": "@jupyter-widgets/controls",
            "_view_module_version": "1.5.0",
            "_view_name": "ProgressView",
            "bar_style": "success",
            "description": "",
            "description_tooltip": null,
            "layout": "IPY_MODEL_3e8dee7a81f54ea0880425de3a1b13b1",
            "max": 4,
            "min": 0,
            "orientation": "horizontal",
            "style": "IPY_MODEL_2bd844b2950843e1ae19c022dbba1884",
            "value": 4
          }
        },
        "384797f154bc451ab3d54b0a175495e4": {
          "model_module": "@jupyter-widgets/controls",
          "model_module_version": "1.5.0",
          "model_name": "ProgressStyleModel",
          "state": {
            "_model_module": "@jupyter-widgets/controls",
            "_model_module_version": "1.5.0",
            "_model_name": "ProgressStyleModel",
            "_view_count": null,
            "_view_module": "@jupyter-widgets/base",
            "_view_module_version": "1.2.0",
            "_view_name": "StyleView",
            "bar_color": null,
            "description_width": ""
          }
        },
        "392be074265a4dcb8650c41bc0fe1c10": {
          "model_module": "@jupyter-widgets/base",
          "model_module_version": "1.2.0",
          "model_name": "LayoutModel",
          "state": {
            "_model_module": "@jupyter-widgets/base",
            "_model_module_version": "1.2.0",
            "_model_name": "LayoutModel",
            "_view_count": null,
            "_view_module": "@jupyter-widgets/base",
            "_view_module_version": "1.2.0",
            "_view_name": "LayoutView",
            "align_content": null,
            "align_items": null,
            "align_self": null,
            "border": null,
            "bottom": null,
            "display": null,
            "flex": null,
            "flex_flow": null,
            "grid_area": null,
            "grid_auto_columns": null,
            "grid_auto_flow": null,
            "grid_auto_rows": null,
            "grid_column": null,
            "grid_gap": null,
            "grid_row": null,
            "grid_template_areas": null,
            "grid_template_columns": null,
            "grid_template_rows": null,
            "height": null,
            "justify_content": null,
            "justify_items": null,
            "left": null,
            "margin": null,
            "max_height": null,
            "max_width": null,
            "min_height": null,
            "min_width": null,
            "object_fit": null,
            "object_position": null,
            "order": null,
            "overflow": null,
            "overflow_x": null,
            "overflow_y": null,
            "padding": null,
            "right": null,
            "top": null,
            "visibility": null,
            "width": null
          }
        },
        "3c32945ed78f4e7eaa3874b516da76d8": {
          "model_module": "@jupyter-widgets/controls",
          "model_module_version": "1.5.0",
          "model_name": "HTMLModel",
          "state": {
            "_dom_classes": [],
            "_model_module": "@jupyter-widgets/controls",
            "_model_module_version": "1.5.0",
            "_model_name": "HTMLModel",
            "_view_count": null,
            "_view_module": "@jupyter-widgets/controls",
            "_view_module_version": "1.5.0",
            "_view_name": "HTMLView",
            "description": "",
            "description_tooltip": null,
            "layout": "IPY_MODEL_f45f45ad828941d38e5b2d6a5f407540",
            "placeholder": "​",
            "style": "IPY_MODEL_1d693e979e2c4110b06dfcde9aae59a8",
            "value": " 1.29M/1.29M [00:01&lt;00:00, 1.22MB/s]"
          }
        },
        "3e8dee7a81f54ea0880425de3a1b13b1": {
          "model_module": "@jupyter-widgets/base",
          "model_module_version": "1.2.0",
          "model_name": "LayoutModel",
          "state": {
            "_model_module": "@jupyter-widgets/base",
            "_model_module_version": "1.2.0",
            "_model_name": "LayoutModel",
            "_view_count": null,
            "_view_module": "@jupyter-widgets/base",
            "_view_module_version": "1.2.0",
            "_view_name": "LayoutView",
            "align_content": null,
            "align_items": null,
            "align_self": null,
            "border": null,
            "bottom": null,
            "display": null,
            "flex": null,
            "flex_flow": null,
            "grid_area": null,
            "grid_auto_columns": null,
            "grid_auto_flow": null,
            "grid_auto_rows": null,
            "grid_column": null,
            "grid_gap": null,
            "grid_row": null,
            "grid_template_areas": null,
            "grid_template_columns": null,
            "grid_template_rows": null,
            "height": null,
            "justify_content": null,
            "justify_items": null,
            "left": null,
            "margin": null,
            "max_height": null,
            "max_width": null,
            "min_height": null,
            "min_width": null,
            "object_fit": null,
            "object_position": null,
            "order": null,
            "overflow": null,
            "overflow_x": null,
            "overflow_y": null,
            "padding": null,
            "right": null,
            "top": null,
            "visibility": null,
            "width": null
          }
        },
        "4020eb76773a46be9249176d5cff7dc9": {
          "model_module": "@jupyter-widgets/controls",
          "model_module_version": "1.5.0",
          "model_name": "DescriptionStyleModel",
          "state": {
            "_model_module": "@jupyter-widgets/controls",
            "_model_module_version": "1.5.0",
            "_model_name": "DescriptionStyleModel",
            "_view_count": null,
            "_view_module": "@jupyter-widgets/base",
            "_view_module_version": "1.2.0",
            "_view_name": "StyleView",
            "description_width": ""
          }
        },
        "431c16d740664095a9f2e62846cb9348": {
          "model_module": "@jupyter-widgets/base",
          "model_module_version": "1.2.0",
          "model_name": "LayoutModel",
          "state": {
            "_model_module": "@jupyter-widgets/base",
            "_model_module_version": "1.2.0",
            "_model_name": "LayoutModel",
            "_view_count": null,
            "_view_module": "@jupyter-widgets/base",
            "_view_module_version": "1.2.0",
            "_view_name": "LayoutView",
            "align_content": null,
            "align_items": null,
            "align_self": null,
            "border": null,
            "bottom": null,
            "display": null,
            "flex": null,
            "flex_flow": null,
            "grid_area": null,
            "grid_auto_columns": null,
            "grid_auto_flow": null,
            "grid_auto_rows": null,
            "grid_column": null,
            "grid_gap": null,
            "grid_row": null,
            "grid_template_areas": null,
            "grid_template_columns": null,
            "grid_template_rows": null,
            "height": null,
            "justify_content": null,
            "justify_items": null,
            "left": null,
            "margin": null,
            "max_height": null,
            "max_width": null,
            "min_height": null,
            "min_width": null,
            "object_fit": null,
            "object_position": null,
            "order": null,
            "overflow": null,
            "overflow_x": null,
            "overflow_y": null,
            "padding": null,
            "right": null,
            "top": null,
            "visibility": null,
            "width": null
          }
        },
        "458e3df33419400996439711075b99a5": {
          "model_module": "@jupyter-widgets/controls",
          "model_module_version": "1.5.0",
          "model_name": "FloatProgressModel",
          "state": {
            "_dom_classes": [],
            "_model_module": "@jupyter-widgets/controls",
            "_model_module_version": "1.5.0",
            "_model_name": "FloatProgressModel",
            "_view_count": null,
            "_view_module": "@jupyter-widgets/controls",
            "_view_module_version": "1.5.0",
            "_view_name": "ProgressView",
            "bar_style": "success",
            "description": "",
            "description_tooltip": null,
            "layout": "IPY_MODEL_e277ff0fb63048589743bb1fc1dfc58f",
            "max": 456318,
            "min": 0,
            "orientation": "horizontal",
            "style": "IPY_MODEL_815dd60359c24bee878c4ebe385dd59f",
            "value": 456318
          }
        },
        "4a30cc1a81774f17bf10a2c02f8d750a": {
          "model_module": "@jupyter-widgets/controls",
          "model_module_version": "1.5.0",
          "model_name": "HTMLModel",
          "state": {
            "_dom_classes": [],
            "_model_module": "@jupyter-widgets/controls",
            "_model_module_version": "1.5.0",
            "_model_name": "HTMLModel",
            "_view_count": null,
            "_view_module": "@jupyter-widgets/controls",
            "_view_module_version": "1.5.0",
            "_view_name": "HTMLView",
            "description": "",
            "description_tooltip": null,
            "layout": "IPY_MODEL_96cfc0c688a442b993de82d7382240e8",
            "placeholder": "​",
            "style": "IPY_MODEL_f7bd66dcce8842a095af49a62a6a3fcf",
            "value": " 446k/446k [00:00&lt;00:00, 602kB/s]"
          }
        },
        "4f0868f3409f451f9037619dcce15a62": {
          "model_module": "@jupyter-widgets/controls",
          "model_module_version": "1.5.0",
          "model_name": "HTMLModel",
          "state": {
            "_dom_classes": [],
            "_model_module": "@jupyter-widgets/controls",
            "_model_module_version": "1.5.0",
            "_model_name": "HTMLModel",
            "_view_count": null,
            "_view_module": "@jupyter-widgets/controls",
            "_view_module_version": "1.5.0",
            "_view_name": "HTMLView",
            "description": "",
            "description_tooltip": null,
            "layout": "IPY_MODEL_855d15afada74a27a7b5efe51e508692",
            "placeholder": "​",
            "style": "IPY_MODEL_8efd642f524c48cbaca4bab6889f4258",
            "value": "Downloading: 100%"
          }
        },
        "50040aead89342a48bd4d8e447427d31": {
          "model_module": "@jupyter-widgets/base",
          "model_module_version": "1.2.0",
          "model_name": "LayoutModel",
          "state": {
            "_model_module": "@jupyter-widgets/base",
            "_model_module_version": "1.2.0",
            "_model_name": "LayoutModel",
            "_view_count": null,
            "_view_module": "@jupyter-widgets/base",
            "_view_module_version": "1.2.0",
            "_view_name": "LayoutView",
            "align_content": null,
            "align_items": null,
            "align_self": null,
            "border": null,
            "bottom": null,
            "display": null,
            "flex": null,
            "flex_flow": null,
            "grid_area": null,
            "grid_auto_columns": null,
            "grid_auto_flow": null,
            "grid_auto_rows": null,
            "grid_column": null,
            "grid_gap": null,
            "grid_row": null,
            "grid_template_areas": null,
            "grid_template_columns": null,
            "grid_template_rows": null,
            "height": null,
            "justify_content": null,
            "justify_items": null,
            "left": null,
            "margin": null,
            "max_height": null,
            "max_width": null,
            "min_height": null,
            "min_width": null,
            "object_fit": null,
            "object_position": null,
            "order": null,
            "overflow": null,
            "overflow_x": null,
            "overflow_y": null,
            "padding": null,
            "right": null,
            "top": null,
            "visibility": null,
            "width": null
          }
        },
        "505cace465c3477893753369ea112613": {
          "model_module": "@jupyter-widgets/base",
          "model_module_version": "1.2.0",
          "model_name": "LayoutModel",
          "state": {
            "_model_module": "@jupyter-widgets/base",
            "_model_module_version": "1.2.0",
            "_model_name": "LayoutModel",
            "_view_count": null,
            "_view_module": "@jupyter-widgets/base",
            "_view_module_version": "1.2.0",
            "_view_name": "LayoutView",
            "align_content": null,
            "align_items": null,
            "align_self": null,
            "border": null,
            "bottom": null,
            "display": null,
            "flex": null,
            "flex_flow": null,
            "grid_area": null,
            "grid_auto_columns": null,
            "grid_auto_flow": null,
            "grid_auto_rows": null,
            "grid_column": null,
            "grid_gap": null,
            "grid_row": null,
            "grid_template_areas": null,
            "grid_template_columns": null,
            "grid_template_rows": null,
            "height": null,
            "justify_content": null,
            "justify_items": null,
            "left": null,
            "margin": null,
            "max_height": null,
            "max_width": null,
            "min_height": null,
            "min_width": null,
            "object_fit": null,
            "object_position": null,
            "order": null,
            "overflow": null,
            "overflow_x": null,
            "overflow_y": null,
            "padding": null,
            "right": null,
            "top": null,
            "visibility": null,
            "width": null
          }
        },
        "51225df09401464c9c00a95f07516307": {
          "model_module": "@jupyter-widgets/base",
          "model_module_version": "1.2.0",
          "model_name": "LayoutModel",
          "state": {
            "_model_module": "@jupyter-widgets/base",
            "_model_module_version": "1.2.0",
            "_model_name": "LayoutModel",
            "_view_count": null,
            "_view_module": "@jupyter-widgets/base",
            "_view_module_version": "1.2.0",
            "_view_name": "LayoutView",
            "align_content": null,
            "align_items": null,
            "align_self": null,
            "border": null,
            "bottom": null,
            "display": null,
            "flex": null,
            "flex_flow": null,
            "grid_area": null,
            "grid_auto_columns": null,
            "grid_auto_flow": null,
            "grid_auto_rows": null,
            "grid_column": null,
            "grid_gap": null,
            "grid_row": null,
            "grid_template_areas": null,
            "grid_template_columns": null,
            "grid_template_rows": null,
            "height": null,
            "justify_content": null,
            "justify_items": null,
            "left": null,
            "margin": null,
            "max_height": null,
            "max_width": null,
            "min_height": null,
            "min_width": null,
            "object_fit": null,
            "object_position": null,
            "order": null,
            "overflow": null,
            "overflow_x": null,
            "overflow_y": null,
            "padding": null,
            "right": null,
            "top": null,
            "visibility": null,
            "width": null
          }
        },
        "514991b5f2584e3fad93bce32001c5c1": {
          "model_module": "@jupyter-widgets/base",
          "model_module_version": "1.2.0",
          "model_name": "LayoutModel",
          "state": {
            "_model_module": "@jupyter-widgets/base",
            "_model_module_version": "1.2.0",
            "_model_name": "LayoutModel",
            "_view_count": null,
            "_view_module": "@jupyter-widgets/base",
            "_view_module_version": "1.2.0",
            "_view_name": "LayoutView",
            "align_content": null,
            "align_items": null,
            "align_self": null,
            "border": null,
            "bottom": null,
            "display": null,
            "flex": null,
            "flex_flow": null,
            "grid_area": null,
            "grid_auto_columns": null,
            "grid_auto_flow": null,
            "grid_auto_rows": null,
            "grid_column": null,
            "grid_gap": null,
            "grid_row": null,
            "grid_template_areas": null,
            "grid_template_columns": null,
            "grid_template_rows": null,
            "height": null,
            "justify_content": null,
            "justify_items": null,
            "left": null,
            "margin": null,
            "max_height": null,
            "max_width": null,
            "min_height": null,
            "min_width": null,
            "object_fit": null,
            "object_position": null,
            "order": null,
            "overflow": null,
            "overflow_x": null,
            "overflow_y": null,
            "padding": null,
            "right": null,
            "top": null,
            "visibility": null,
            "width": null
          }
        },
        "547f9b4927094fe9ad3602de9ce33024": {
          "model_module": "@jupyter-widgets/base",
          "model_module_version": "1.2.0",
          "model_name": "LayoutModel",
          "state": {
            "_model_module": "@jupyter-widgets/base",
            "_model_module_version": "1.2.0",
            "_model_name": "LayoutModel",
            "_view_count": null,
            "_view_module": "@jupyter-widgets/base",
            "_view_module_version": "1.2.0",
            "_view_name": "LayoutView",
            "align_content": null,
            "align_items": null,
            "align_self": null,
            "border": null,
            "bottom": null,
            "display": null,
            "flex": null,
            "flex_flow": null,
            "grid_area": null,
            "grid_auto_columns": null,
            "grid_auto_flow": null,
            "grid_auto_rows": null,
            "grid_column": null,
            "grid_gap": null,
            "grid_row": null,
            "grid_template_areas": null,
            "grid_template_columns": null,
            "grid_template_rows": null,
            "height": null,
            "justify_content": null,
            "justify_items": null,
            "left": null,
            "margin": null,
            "max_height": null,
            "max_width": null,
            "min_height": null,
            "min_width": null,
            "object_fit": null,
            "object_position": null,
            "order": null,
            "overflow": null,
            "overflow_x": null,
            "overflow_y": null,
            "padding": null,
            "right": null,
            "top": null,
            "visibility": null,
            "width": null
          }
        },
        "54c678969a474ff798020dec383dd499": {
          "model_module": "@jupyter-widgets/controls",
          "model_module_version": "1.5.0",
          "model_name": "FloatProgressModel",
          "state": {
            "_dom_classes": [],
            "_model_module": "@jupyter-widgets/controls",
            "_model_module_version": "1.5.0",
            "_model_name": "FloatProgressModel",
            "_view_count": null,
            "_view_module": "@jupyter-widgets/controls",
            "_view_module_version": "1.5.0",
            "_view_name": "ProgressView",
            "bar_style": "success",
            "description": "",
            "description_tooltip": null,
            "layout": "IPY_MODEL_392be074265a4dcb8650c41bc0fe1c10",
            "max": 1,
            "min": 0,
            "orientation": "horizontal",
            "style": "IPY_MODEL_9ede83a3b3504d379e303d1de6e5a8a7",
            "value": 1
          }
        },
        "5587cb683a234972b9db9ced8d027cfa": {
          "model_module": "@jupyter-widgets/controls",
          "model_module_version": "1.5.0",
          "model_name": "DescriptionStyleModel",
          "state": {
            "_model_module": "@jupyter-widgets/controls",
            "_model_module_version": "1.5.0",
            "_model_name": "DescriptionStyleModel",
            "_view_count": null,
            "_view_module": "@jupyter-widgets/base",
            "_view_module_version": "1.2.0",
            "_view_name": "StyleView",
            "description_width": ""
          }
        },
        "570be75ea3a54879a2445cd64f923111": {
          "model_module": "@jupyter-widgets/controls",
          "model_module_version": "1.5.0",
          "model_name": "HTMLModel",
          "state": {
            "_dom_classes": [],
            "_model_module": "@jupyter-widgets/controls",
            "_model_module_version": "1.5.0",
            "_model_name": "HTMLModel",
            "_view_count": null,
            "_view_module": "@jupyter-widgets/controls",
            "_view_module_version": "1.5.0",
            "_view_name": "HTMLView",
            "description": "",
            "description_tooltip": null,
            "layout": "IPY_MODEL_9ce1a2f426a04f20b4ca379053b833b4",
            "placeholder": "​",
            "style": "IPY_MODEL_61272612980a4335af5faf3f923a744b",
            "value": " 5.29k/? [00:00&lt;00:00, 201kB/s]"
          }
        },
        "5923b6ccf3ef45d2b67182877c5a848b": {
          "model_module": "@jupyter-widgets/controls",
          "model_module_version": "1.5.0",
          "model_name": "DescriptionStyleModel",
          "state": {
            "_model_module": "@jupyter-widgets/controls",
            "_model_module_version": "1.5.0",
            "_model_name": "DescriptionStyleModel",
            "_view_count": null,
            "_view_module": "@jupyter-widgets/base",
            "_view_module_version": "1.2.0",
            "_view_name": "StyleView",
            "description_width": ""
          }
        },
        "5aac26c16e8f499d9b4cfb4c9495f9d5": {
          "model_module": "@jupyter-widgets/base",
          "model_module_version": "1.2.0",
          "model_name": "LayoutModel",
          "state": {
            "_model_module": "@jupyter-widgets/base",
            "_model_module_version": "1.2.0",
            "_model_name": "LayoutModel",
            "_view_count": null,
            "_view_module": "@jupyter-widgets/base",
            "_view_module_version": "1.2.0",
            "_view_name": "LayoutView",
            "align_content": null,
            "align_items": null,
            "align_self": null,
            "border": null,
            "bottom": null,
            "display": null,
            "flex": null,
            "flex_flow": null,
            "grid_area": null,
            "grid_auto_columns": null,
            "grid_auto_flow": null,
            "grid_auto_rows": null,
            "grid_column": null,
            "grid_gap": null,
            "grid_row": null,
            "grid_template_areas": null,
            "grid_template_columns": null,
            "grid_template_rows": null,
            "height": null,
            "justify_content": null,
            "justify_items": null,
            "left": null,
            "margin": null,
            "max_height": null,
            "max_width": null,
            "min_height": null,
            "min_width": null,
            "object_fit": null,
            "object_position": null,
            "order": null,
            "overflow": null,
            "overflow_x": null,
            "overflow_y": null,
            "padding": null,
            "right": null,
            "top": null,
            "visibility": null,
            "width": null
          }
        },
        "5ae9b45a6a934d34aedd20a366827a96": {
          "model_module": "@jupyter-widgets/controls",
          "model_module_version": "1.5.0",
          "model_name": "ProgressStyleModel",
          "state": {
            "_model_module": "@jupyter-widgets/controls",
            "_model_module_version": "1.5.0",
            "_model_name": "ProgressStyleModel",
            "_view_count": null,
            "_view_module": "@jupyter-widgets/base",
            "_view_module_version": "1.2.0",
            "_view_name": "StyleView",
            "bar_color": null,
            "description_width": ""
          }
        },
        "61272612980a4335af5faf3f923a744b": {
          "model_module": "@jupyter-widgets/controls",
          "model_module_version": "1.5.0",
          "model_name": "DescriptionStyleModel",
          "state": {
            "_model_module": "@jupyter-widgets/controls",
            "_model_module_version": "1.5.0",
            "_model_name": "DescriptionStyleModel",
            "_view_count": null,
            "_view_module": "@jupyter-widgets/base",
            "_view_module_version": "1.2.0",
            "_view_name": "StyleView",
            "description_width": ""
          }
        },
        "6d0d77a2c25e407f9d01abc69207073c": {
          "model_module": "@jupyter-widgets/controls",
          "model_module_version": "1.5.0",
          "model_name": "HTMLModel",
          "state": {
            "_dom_classes": [],
            "_model_module": "@jupyter-widgets/controls",
            "_model_module_version": "1.5.0",
            "_model_name": "HTMLModel",
            "_view_count": null,
            "_view_module": "@jupyter-widgets/controls",
            "_view_module_version": "1.5.0",
            "_view_name": "HTMLView",
            "description": "",
            "description_tooltip": null,
            "layout": "IPY_MODEL_91fdf4a1e67647189252c58516690ac9",
            "placeholder": "​",
            "style": "IPY_MODEL_1b5881da55e643bbba4b7aa3365840f6",
            "value": "100%"
          }
        },
        "6e10199da463440ab650960a5e8deb90": {
          "model_module": "@jupyter-widgets/controls",
          "model_module_version": "1.5.0",
          "model_name": "HTMLModel",
          "state": {
            "_dom_classes": [],
            "_model_module": "@jupyter-widgets/controls",
            "_model_module_version": "1.5.0",
            "_model_name": "HTMLModel",
            "_view_count": null,
            "_view_module": "@jupyter-widgets/controls",
            "_view_module_version": "1.5.0",
            "_view_name": "HTMLView",
            "description": "",
            "description_tooltip": null,
            "layout": "IPY_MODEL_fa1c6dc58bb140f9b3a9e6f0cc001cd3",
            "placeholder": "​",
            "style": "IPY_MODEL_3392d1ae4927436aa72a1b237377bc3c",
            "value": " 878k/878k [00:00&lt;00:00, 710kB/s]"
          }
        },
        "712b6c8e6afa44c9bd2bf9c1d2a5cc34": {
          "model_module": "@jupyter-widgets/controls",
          "model_module_version": "1.5.0",
          "model_name": "DescriptionStyleModel",
          "state": {
            "_model_module": "@jupyter-widgets/controls",
            "_model_module_version": "1.5.0",
            "_model_name": "DescriptionStyleModel",
            "_view_count": null,
            "_view_module": "@jupyter-widgets/base",
            "_view_module_version": "1.2.0",
            "_view_name": "StyleView",
            "description_width": ""
          }
        },
        "759effa5a5dc4b808460a5ccb7271562": {
          "model_module": "@jupyter-widgets/controls",
          "model_module_version": "1.5.0",
          "model_name": "HBoxModel",
          "state": {
            "_dom_classes": [],
            "_model_module": "@jupyter-widgets/controls",
            "_model_module_version": "1.5.0",
            "_model_name": "HBoxModel",
            "_view_count": null,
            "_view_module": "@jupyter-widgets/controls",
            "_view_module_version": "1.5.0",
            "_view_name": "HBoxView",
            "box_style": "",
            "children": [
              "IPY_MODEL_d4b1a8fc1b934698b7ea3f6c08cce274",
              "IPY_MODEL_c1f4b6d1381c46479e67c2ef89ab4e2a",
              "IPY_MODEL_decc78c65e97465f99d43c493a4c158f"
            ],
            "layout": "IPY_MODEL_8b296708a7de4e4191705bf9c92b273c"
          }
        },
        "7a00073ac5664814ba6bbcfa6d6436d8": {
          "model_module": "@jupyter-widgets/controls",
          "model_module_version": "1.5.0",
          "model_name": "HBoxModel",
          "state": {
            "_dom_classes": [],
            "_model_module": "@jupyter-widgets/controls",
            "_model_module_version": "1.5.0",
            "_model_name": "HBoxModel",
            "_view_count": null,
            "_view_module": "@jupyter-widgets/controls",
            "_view_module_version": "1.5.0",
            "_view_name": "HBoxView",
            "box_style": "",
            "children": [
              "IPY_MODEL_6d0d77a2c25e407f9d01abc69207073c",
              "IPY_MODEL_54c678969a474ff798020dec383dd499",
              "IPY_MODEL_156207d803a9447ea7bdbf0952c805ba"
            ],
            "layout": "IPY_MODEL_ebb3e11343fa4d3ea969d36643e31c08"
          }
        },
        "7ac93c67061b4df5b21e5d87ec6d2000": {
          "model_module": "@jupyter-widgets/controls",
          "model_module_version": "1.5.0",
          "model_name": "FloatProgressModel",
          "state": {
            "_dom_classes": [],
            "_model_module": "@jupyter-widgets/controls",
            "_model_module_version": "1.5.0",
            "_model_name": "FloatProgressModel",
            "_view_count": null,
            "_view_module": "@jupyter-widgets/controls",
            "_view_module_version": "1.5.0",
            "_view_name": "ProgressView",
            "bar_style": "success",
            "description": "",
            "description_tooltip": null,
            "layout": "IPY_MODEL_c63a438f1ef34801a02fe05c51060c43",
            "max": 898823,
            "min": 0,
            "orientation": "horizontal",
            "style": "IPY_MODEL_5ae9b45a6a934d34aedd20a366827a96",
            "value": 898823
          }
        },
        "815dd60359c24bee878c4ebe385dd59f": {
          "model_module": "@jupyter-widgets/controls",
          "model_module_version": "1.5.0",
          "model_name": "ProgressStyleModel",
          "state": {
            "_model_module": "@jupyter-widgets/controls",
            "_model_module_version": "1.5.0",
            "_model_name": "ProgressStyleModel",
            "_view_count": null,
            "_view_module": "@jupyter-widgets/base",
            "_view_module_version": "1.2.0",
            "_view_name": "StyleView",
            "bar_color": null,
            "description_width": ""
          }
        },
        "83b1aa9f462945a0a3a39b09cb053345": {
          "model_module": "@jupyter-widgets/base",
          "model_module_version": "1.2.0",
          "model_name": "LayoutModel",
          "state": {
            "_model_module": "@jupyter-widgets/base",
            "_model_module_version": "1.2.0",
            "_model_name": "LayoutModel",
            "_view_count": null,
            "_view_module": "@jupyter-widgets/base",
            "_view_module_version": "1.2.0",
            "_view_name": "LayoutView",
            "align_content": null,
            "align_items": null,
            "align_self": null,
            "border": null,
            "bottom": null,
            "display": null,
            "flex": null,
            "flex_flow": null,
            "grid_area": null,
            "grid_auto_columns": null,
            "grid_auto_flow": null,
            "grid_auto_rows": null,
            "grid_column": null,
            "grid_gap": null,
            "grid_row": null,
            "grid_template_areas": null,
            "grid_template_columns": null,
            "grid_template_rows": null,
            "height": null,
            "justify_content": null,
            "justify_items": null,
            "left": null,
            "margin": null,
            "max_height": null,
            "max_width": null,
            "min_height": null,
            "min_width": null,
            "object_fit": null,
            "object_position": null,
            "order": null,
            "overflow": null,
            "overflow_x": null,
            "overflow_y": null,
            "padding": null,
            "right": null,
            "top": null,
            "visibility": null,
            "width": null
          }
        },
        "83d086b8c77e4a6e8589b70f0ee2e6c1": {
          "model_module": "@jupyter-widgets/base",
          "model_module_version": "1.2.0",
          "model_name": "LayoutModel",
          "state": {
            "_model_module": "@jupyter-widgets/base",
            "_model_module_version": "1.2.0",
            "_model_name": "LayoutModel",
            "_view_count": null,
            "_view_module": "@jupyter-widgets/base",
            "_view_module_version": "1.2.0",
            "_view_name": "LayoutView",
            "align_content": null,
            "align_items": null,
            "align_self": null,
            "border": null,
            "bottom": null,
            "display": null,
            "flex": null,
            "flex_flow": null,
            "grid_area": null,
            "grid_auto_columns": null,
            "grid_auto_flow": null,
            "grid_auto_rows": null,
            "grid_column": null,
            "grid_gap": null,
            "grid_row": null,
            "grid_template_areas": null,
            "grid_template_columns": null,
            "grid_template_rows": null,
            "height": null,
            "justify_content": null,
            "justify_items": null,
            "left": null,
            "margin": null,
            "max_height": null,
            "max_width": null,
            "min_height": null,
            "min_width": null,
            "object_fit": null,
            "object_position": null,
            "order": null,
            "overflow": null,
            "overflow_x": null,
            "overflow_y": null,
            "padding": null,
            "right": null,
            "top": null,
            "visibility": null,
            "width": null
          }
        },
        "83f8485ce4c24f15bbc2204194c0adb6": {
          "model_module": "@jupyter-widgets/controls",
          "model_module_version": "1.5.0",
          "model_name": "DescriptionStyleModel",
          "state": {
            "_model_module": "@jupyter-widgets/controls",
            "_model_module_version": "1.5.0",
            "_model_name": "DescriptionStyleModel",
            "_view_count": null,
            "_view_module": "@jupyter-widgets/base",
            "_view_module_version": "1.2.0",
            "_view_name": "StyleView",
            "description_width": ""
          }
        },
        "842cfe2285664d3ca90a1fa6432ff7b2": {
          "model_module": "@jupyter-widgets/base",
          "model_module_version": "1.2.0",
          "model_name": "LayoutModel",
          "state": {
            "_model_module": "@jupyter-widgets/base",
            "_model_module_version": "1.2.0",
            "_model_name": "LayoutModel",
            "_view_count": null,
            "_view_module": "@jupyter-widgets/base",
            "_view_module_version": "1.2.0",
            "_view_name": "LayoutView",
            "align_content": null,
            "align_items": null,
            "align_self": null,
            "border": null,
            "bottom": null,
            "display": null,
            "flex": null,
            "flex_flow": null,
            "grid_area": null,
            "grid_auto_columns": null,
            "grid_auto_flow": null,
            "grid_auto_rows": null,
            "grid_column": null,
            "grid_gap": null,
            "grid_row": null,
            "grid_template_areas": null,
            "grid_template_columns": null,
            "grid_template_rows": null,
            "height": null,
            "justify_content": null,
            "justify_items": null,
            "left": null,
            "margin": null,
            "max_height": null,
            "max_width": null,
            "min_height": null,
            "min_width": null,
            "object_fit": null,
            "object_position": null,
            "order": null,
            "overflow": null,
            "overflow_x": null,
            "overflow_y": null,
            "padding": null,
            "right": null,
            "top": null,
            "visibility": null,
            "width": null
          }
        },
        "855d15afada74a27a7b5efe51e508692": {
          "model_module": "@jupyter-widgets/base",
          "model_module_version": "1.2.0",
          "model_name": "LayoutModel",
          "state": {
            "_model_module": "@jupyter-widgets/base",
            "_model_module_version": "1.2.0",
            "_model_name": "LayoutModel",
            "_view_count": null,
            "_view_module": "@jupyter-widgets/base",
            "_view_module_version": "1.2.0",
            "_view_name": "LayoutView",
            "align_content": null,
            "align_items": null,
            "align_self": null,
            "border": null,
            "bottom": null,
            "display": null,
            "flex": null,
            "flex_flow": null,
            "grid_area": null,
            "grid_auto_columns": null,
            "grid_auto_flow": null,
            "grid_auto_rows": null,
            "grid_column": null,
            "grid_gap": null,
            "grid_row": null,
            "grid_template_areas": null,
            "grid_template_columns": null,
            "grid_template_rows": null,
            "height": null,
            "justify_content": null,
            "justify_items": null,
            "left": null,
            "margin": null,
            "max_height": null,
            "max_width": null,
            "min_height": null,
            "min_width": null,
            "object_fit": null,
            "object_position": null,
            "order": null,
            "overflow": null,
            "overflow_x": null,
            "overflow_y": null,
            "padding": null,
            "right": null,
            "top": null,
            "visibility": null,
            "width": null
          }
        },
        "8b296708a7de4e4191705bf9c92b273c": {
          "model_module": "@jupyter-widgets/base",
          "model_module_version": "1.2.0",
          "model_name": "LayoutModel",
          "state": {
            "_model_module": "@jupyter-widgets/base",
            "_model_module_version": "1.2.0",
            "_model_name": "LayoutModel",
            "_view_count": null,
            "_view_module": "@jupyter-widgets/base",
            "_view_module_version": "1.2.0",
            "_view_name": "LayoutView",
            "align_content": null,
            "align_items": null,
            "align_self": null,
            "border": null,
            "bottom": null,
            "display": null,
            "flex": null,
            "flex_flow": null,
            "grid_area": null,
            "grid_auto_columns": null,
            "grid_auto_flow": null,
            "grid_auto_rows": null,
            "grid_column": null,
            "grid_gap": null,
            "grid_row": null,
            "grid_template_areas": null,
            "grid_template_columns": null,
            "grid_template_rows": null,
            "height": null,
            "justify_content": null,
            "justify_items": null,
            "left": null,
            "margin": null,
            "max_height": null,
            "max_width": null,
            "min_height": null,
            "min_width": null,
            "object_fit": null,
            "object_position": null,
            "order": null,
            "overflow": null,
            "overflow_x": null,
            "overflow_y": null,
            "padding": null,
            "right": null,
            "top": null,
            "visibility": null,
            "width": null
          }
        },
        "8efd642f524c48cbaca4bab6889f4258": {
          "model_module": "@jupyter-widgets/controls",
          "model_module_version": "1.5.0",
          "model_name": "DescriptionStyleModel",
          "state": {
            "_model_module": "@jupyter-widgets/controls",
            "_model_module_version": "1.5.0",
            "_model_name": "DescriptionStyleModel",
            "_view_count": null,
            "_view_module": "@jupyter-widgets/base",
            "_view_module_version": "1.2.0",
            "_view_name": "StyleView",
            "description_width": ""
          }
        },
        "8fd278b3f8914b1590081a0c2a73a9e3": {
          "model_module": "@jupyter-widgets/controls",
          "model_module_version": "1.5.0",
          "model_name": "DescriptionStyleModel",
          "state": {
            "_model_module": "@jupyter-widgets/controls",
            "_model_module_version": "1.5.0",
            "_model_name": "DescriptionStyleModel",
            "_view_count": null,
            "_view_module": "@jupyter-widgets/base",
            "_view_module_version": "1.2.0",
            "_view_name": "StyleView",
            "description_width": ""
          }
        },
        "90df65503e0049e28045574a5c80acc9": {
          "model_module": "@jupyter-widgets/base",
          "model_module_version": "1.2.0",
          "model_name": "LayoutModel",
          "state": {
            "_model_module": "@jupyter-widgets/base",
            "_model_module_version": "1.2.0",
            "_model_name": "LayoutModel",
            "_view_count": null,
            "_view_module": "@jupyter-widgets/base",
            "_view_module_version": "1.2.0",
            "_view_name": "LayoutView",
            "align_content": null,
            "align_items": null,
            "align_self": null,
            "border": null,
            "bottom": null,
            "display": null,
            "flex": null,
            "flex_flow": null,
            "grid_area": null,
            "grid_auto_columns": null,
            "grid_auto_flow": null,
            "grid_auto_rows": null,
            "grid_column": null,
            "grid_gap": null,
            "grid_row": null,
            "grid_template_areas": null,
            "grid_template_columns": null,
            "grid_template_rows": null,
            "height": null,
            "justify_content": null,
            "justify_items": null,
            "left": null,
            "margin": null,
            "max_height": null,
            "max_width": null,
            "min_height": null,
            "min_width": null,
            "object_fit": null,
            "object_position": null,
            "order": null,
            "overflow": null,
            "overflow_x": null,
            "overflow_y": null,
            "padding": null,
            "right": null,
            "top": null,
            "visibility": null,
            "width": null
          }
        },
        "91fdf4a1e67647189252c58516690ac9": {
          "model_module": "@jupyter-widgets/base",
          "model_module_version": "1.2.0",
          "model_name": "LayoutModel",
          "state": {
            "_model_module": "@jupyter-widgets/base",
            "_model_module_version": "1.2.0",
            "_model_name": "LayoutModel",
            "_view_count": null,
            "_view_module": "@jupyter-widgets/base",
            "_view_module_version": "1.2.0",
            "_view_name": "LayoutView",
            "align_content": null,
            "align_items": null,
            "align_self": null,
            "border": null,
            "bottom": null,
            "display": null,
            "flex": null,
            "flex_flow": null,
            "grid_area": null,
            "grid_auto_columns": null,
            "grid_auto_flow": null,
            "grid_auto_rows": null,
            "grid_column": null,
            "grid_gap": null,
            "grid_row": null,
            "grid_template_areas": null,
            "grid_template_columns": null,
            "grid_template_rows": null,
            "height": null,
            "justify_content": null,
            "justify_items": null,
            "left": null,
            "margin": null,
            "max_height": null,
            "max_width": null,
            "min_height": null,
            "min_width": null,
            "object_fit": null,
            "object_position": null,
            "order": null,
            "overflow": null,
            "overflow_x": null,
            "overflow_y": null,
            "padding": null,
            "right": null,
            "top": null,
            "visibility": null,
            "width": null
          }
        },
        "931fdbb0aa104e7f805652282758fc23": {
          "model_module": "@jupyter-widgets/controls",
          "model_module_version": "1.5.0",
          "model_name": "HTMLModel",
          "state": {
            "_dom_classes": [],
            "_model_module": "@jupyter-widgets/controls",
            "_model_module_version": "1.5.0",
            "_model_name": "HTMLModel",
            "_view_count": null,
            "_view_module": "@jupyter-widgets/controls",
            "_view_module_version": "1.5.0",
            "_view_name": "HTMLView",
            "description": "",
            "description_tooltip": null,
            "layout": "IPY_MODEL_5aac26c16e8f499d9b4cfb4c9495f9d5",
            "placeholder": "​",
            "style": "IPY_MODEL_d10826e7cd704c8e9022814ab179b2d6",
            "value": " 1.33G/1.33G [00:51&lt;00:00, 28.1MB/s]"
          }
        },
        "96cfc0c688a442b993de82d7382240e8": {
          "model_module": "@jupyter-widgets/base",
          "model_module_version": "1.2.0",
          "model_name": "LayoutModel",
          "state": {
            "_model_module": "@jupyter-widgets/base",
            "_model_module_version": "1.2.0",
            "_model_name": "LayoutModel",
            "_view_count": null,
            "_view_module": "@jupyter-widgets/base",
            "_view_module_version": "1.2.0",
            "_view_name": "LayoutView",
            "align_content": null,
            "align_items": null,
            "align_self": null,
            "border": null,
            "bottom": null,
            "display": null,
            "flex": null,
            "flex_flow": null,
            "grid_area": null,
            "grid_auto_columns": null,
            "grid_auto_flow": null,
            "grid_auto_rows": null,
            "grid_column": null,
            "grid_gap": null,
            "grid_row": null,
            "grid_template_areas": null,
            "grid_template_columns": null,
            "grid_template_rows": null,
            "height": null,
            "justify_content": null,
            "justify_items": null,
            "left": null,
            "margin": null,
            "max_height": null,
            "max_width": null,
            "min_height": null,
            "min_width": null,
            "object_fit": null,
            "object_position": null,
            "order": null,
            "overflow": null,
            "overflow_x": null,
            "overflow_y": null,
            "padding": null,
            "right": null,
            "top": null,
            "visibility": null,
            "width": null
          }
        },
        "985084b913a449bfa9deae2d48a86e85": {
          "model_module": "@jupyter-widgets/controls",
          "model_module_version": "1.5.0",
          "model_name": "DescriptionStyleModel",
          "state": {
            "_model_module": "@jupyter-widgets/controls",
            "_model_module_version": "1.5.0",
            "_model_name": "DescriptionStyleModel",
            "_view_count": null,
            "_view_module": "@jupyter-widgets/base",
            "_view_module_version": "1.2.0",
            "_view_name": "StyleView",
            "description_width": ""
          }
        },
        "9bf0eb4b5d7b4f8baa9a2e3e83921070": {
          "model_module": "@jupyter-widgets/controls",
          "model_module_version": "1.5.0",
          "model_name": "DescriptionStyleModel",
          "state": {
            "_model_module": "@jupyter-widgets/controls",
            "_model_module_version": "1.5.0",
            "_model_name": "DescriptionStyleModel",
            "_view_count": null,
            "_view_module": "@jupyter-widgets/base",
            "_view_module_version": "1.2.0",
            "_view_name": "StyleView",
            "description_width": ""
          }
        },
        "9ce1a2f426a04f20b4ca379053b833b4": {
          "model_module": "@jupyter-widgets/base",
          "model_module_version": "1.2.0",
          "model_name": "LayoutModel",
          "state": {
            "_model_module": "@jupyter-widgets/base",
            "_model_module_version": "1.2.0",
            "_model_name": "LayoutModel",
            "_view_count": null,
            "_view_module": "@jupyter-widgets/base",
            "_view_module_version": "1.2.0",
            "_view_name": "LayoutView",
            "align_content": null,
            "align_items": null,
            "align_self": null,
            "border": null,
            "bottom": null,
            "display": null,
            "flex": null,
            "flex_flow": null,
            "grid_area": null,
            "grid_auto_columns": null,
            "grid_auto_flow": null,
            "grid_auto_rows": null,
            "grid_column": null,
            "grid_gap": null,
            "grid_row": null,
            "grid_template_areas": null,
            "grid_template_columns": null,
            "grid_template_rows": null,
            "height": null,
            "justify_content": null,
            "justify_items": null,
            "left": null,
            "margin": null,
            "max_height": null,
            "max_width": null,
            "min_height": null,
            "min_width": null,
            "object_fit": null,
            "object_position": null,
            "order": null,
            "overflow": null,
            "overflow_x": null,
            "overflow_y": null,
            "padding": null,
            "right": null,
            "top": null,
            "visibility": null,
            "width": null
          }
        },
        "9cf5cc5a0e2d41bfb6bb2b491b7d1750": {
          "model_module": "@jupyter-widgets/controls",
          "model_module_version": "1.5.0",
          "model_name": "HBoxModel",
          "state": {
            "_dom_classes": [],
            "_model_module": "@jupyter-widgets/controls",
            "_model_module_version": "1.5.0",
            "_model_name": "HBoxModel",
            "_view_count": null,
            "_view_module": "@jupyter-widgets/controls",
            "_view_module_version": "1.5.0",
            "_view_name": "HBoxView",
            "box_style": "",
            "children": [
              "IPY_MODEL_31a40010a7904637bc1de65637bd335a",
              "IPY_MODEL_c62d7a014a6d4eea9391c03e4dd425cd",
              "IPY_MODEL_e2d63c4c7d3d4357a34918e3d33373ca"
            ],
            "layout": "IPY_MODEL_842cfe2285664d3ca90a1fa6432ff7b2"
          }
        },
        "9d9f07ad647648faba0809419e0c521e": {
          "model_module": "@jupyter-widgets/controls",
          "model_module_version": "1.5.0",
          "model_name": "FloatProgressModel",
          "state": {
            "_dom_classes": [],
            "_model_module": "@jupyter-widgets/controls",
            "_model_module_version": "1.5.0",
            "_model_name": "FloatProgressModel",
            "_view_count": null,
            "_view_module": "@jupyter-widgets/controls",
            "_view_module_version": "1.5.0",
            "_view_name": "ProgressView",
            "bar_style": "success",
            "description": "",
            "description_tooltip": null,
            "layout": "IPY_MODEL_34a1fdda353a4f0c8413795b859718b1",
            "max": 1355863,
            "min": 0,
            "orientation": "horizontal",
            "style": "IPY_MODEL_384797f154bc451ab3d54b0a175495e4",
            "value": 1355863
          }
        },
        "9ede83a3b3504d379e303d1de6e5a8a7": {
          "model_module": "@jupyter-widgets/controls",
          "model_module_version": "1.5.0",
          "model_name": "ProgressStyleModel",
          "state": {
            "_model_module": "@jupyter-widgets/controls",
            "_model_module_version": "1.5.0",
            "_model_name": "ProgressStyleModel",
            "_view_count": null,
            "_view_module": "@jupyter-widgets/base",
            "_view_module_version": "1.2.0",
            "_view_name": "StyleView",
            "bar_color": null,
            "description_width": ""
          }
        },
        "a0840c25fc9048c6b3a0ed29cca1057b": {
          "model_module": "@jupyter-widgets/controls",
          "model_module_version": "1.5.0",
          "model_name": "HTMLModel",
          "state": {
            "_dom_classes": [],
            "_model_module": "@jupyter-widgets/controls",
            "_model_module_version": "1.5.0",
            "_model_name": "HTMLModel",
            "_view_count": null,
            "_view_module": "@jupyter-widgets/controls",
            "_view_module_version": "1.5.0",
            "_view_name": "HTMLView",
            "description": "",
            "description_tooltip": null,
            "layout": "IPY_MODEL_1140646c59e741f3bb49e12733a4ebf6",
            "placeholder": "​",
            "style": "IPY_MODEL_108daca171344b8a812a25e312a8dbd3",
            "value": "Downloading: "
          }
        },
        "a8921007c7d043179bfbe67cf417fdd8": {
          "model_module": "@jupyter-widgets/base",
          "model_module_version": "1.2.0",
          "model_name": "LayoutModel",
          "state": {
            "_model_module": "@jupyter-widgets/base",
            "_model_module_version": "1.2.0",
            "_model_name": "LayoutModel",
            "_view_count": null,
            "_view_module": "@jupyter-widgets/base",
            "_view_module_version": "1.2.0",
            "_view_name": "LayoutView",
            "align_content": null,
            "align_items": null,
            "align_self": null,
            "border": null,
            "bottom": null,
            "display": null,
            "flex": null,
            "flex_flow": null,
            "grid_area": null,
            "grid_auto_columns": null,
            "grid_auto_flow": null,
            "grid_auto_rows": null,
            "grid_column": null,
            "grid_gap": null,
            "grid_row": null,
            "grid_template_areas": null,
            "grid_template_columns": null,
            "grid_template_rows": null,
            "height": null,
            "justify_content": null,
            "justify_items": null,
            "left": null,
            "margin": null,
            "max_height": null,
            "max_width": null,
            "min_height": null,
            "min_width": null,
            "object_fit": null,
            "object_position": null,
            "order": null,
            "overflow": null,
            "overflow_x": null,
            "overflow_y": null,
            "padding": null,
            "right": null,
            "top": null,
            "visibility": null,
            "width": null
          }
        },
        "aafeb2948a114a72ace17187d686b0fd": {
          "model_module": "@jupyter-widgets/controls",
          "model_module_version": "1.5.0",
          "model_name": "HTMLModel",
          "state": {
            "_dom_classes": [],
            "_model_module": "@jupyter-widgets/controls",
            "_model_module_version": "1.5.0",
            "_model_name": "HTMLModel",
            "_view_count": null,
            "_view_module": "@jupyter-widgets/controls",
            "_view_module_version": "1.5.0",
            "_view_name": "HTMLView",
            "description": "",
            "description_tooltip": null,
            "layout": "IPY_MODEL_c7419aba18564995a7f4a54ed80d602f",
            "placeholder": "​",
            "style": "IPY_MODEL_83f8485ce4c24f15bbc2204194c0adb6",
            "value": "100%"
          }
        },
        "abe88dff18b543d6bb7c7b965385d32d": {
          "model_module": "@jupyter-widgets/controls",
          "model_module_version": "1.5.0",
          "model_name": "ProgressStyleModel",
          "state": {
            "_model_module": "@jupyter-widgets/controls",
            "_model_module_version": "1.5.0",
            "_model_name": "ProgressStyleModel",
            "_view_count": null,
            "_view_module": "@jupyter-widgets/base",
            "_view_module_version": "1.2.0",
            "_view_name": "StyleView",
            "bar_color": null,
            "description_width": ""
          }
        },
        "b04579f0e847480ca94de2df4f363078": {
          "model_module": "@jupyter-widgets/base",
          "model_module_version": "1.2.0",
          "model_name": "LayoutModel",
          "state": {
            "_model_module": "@jupyter-widgets/base",
            "_model_module_version": "1.2.0",
            "_model_name": "LayoutModel",
            "_view_count": null,
            "_view_module": "@jupyter-widgets/base",
            "_view_module_version": "1.2.0",
            "_view_name": "LayoutView",
            "align_content": null,
            "align_items": null,
            "align_self": null,
            "border": null,
            "bottom": null,
            "display": null,
            "flex": null,
            "flex_flow": null,
            "grid_area": null,
            "grid_auto_columns": null,
            "grid_auto_flow": null,
            "grid_auto_rows": null,
            "grid_column": null,
            "grid_gap": null,
            "grid_row": null,
            "grid_template_areas": null,
            "grid_template_columns": null,
            "grid_template_rows": null,
            "height": null,
            "justify_content": null,
            "justify_items": null,
            "left": null,
            "margin": null,
            "max_height": null,
            "max_width": null,
            "min_height": null,
            "min_width": null,
            "object_fit": null,
            "object_position": null,
            "order": null,
            "overflow": null,
            "overflow_x": null,
            "overflow_y": null,
            "padding": null,
            "right": null,
            "top": null,
            "visibility": null,
            "width": null
          }
        },
        "b0e2afdb0494459d9fdd11e93e23abfb": {
          "model_module": "@jupyter-widgets/base",
          "model_module_version": "1.2.0",
          "model_name": "LayoutModel",
          "state": {
            "_model_module": "@jupyter-widgets/base",
            "_model_module_version": "1.2.0",
            "_model_name": "LayoutModel",
            "_view_count": null,
            "_view_module": "@jupyter-widgets/base",
            "_view_module_version": "1.2.0",
            "_view_name": "LayoutView",
            "align_content": null,
            "align_items": null,
            "align_self": null,
            "border": null,
            "bottom": null,
            "display": null,
            "flex": null,
            "flex_flow": null,
            "grid_area": null,
            "grid_auto_columns": null,
            "grid_auto_flow": null,
            "grid_auto_rows": null,
            "grid_column": null,
            "grid_gap": null,
            "grid_row": null,
            "grid_template_areas": null,
            "grid_template_columns": null,
            "grid_template_rows": null,
            "height": null,
            "justify_content": null,
            "justify_items": null,
            "left": null,
            "margin": null,
            "max_height": null,
            "max_width": null,
            "min_height": null,
            "min_width": null,
            "object_fit": null,
            "object_position": null,
            "order": null,
            "overflow": null,
            "overflow_x": null,
            "overflow_y": null,
            "padding": null,
            "right": null,
            "top": null,
            "visibility": null,
            "width": null
          }
        },
        "b476597aafde4b66b52c12564ea9a018": {
          "model_module": "@jupyter-widgets/base",
          "model_module_version": "1.2.0",
          "model_name": "LayoutModel",
          "state": {
            "_model_module": "@jupyter-widgets/base",
            "_model_module_version": "1.2.0",
            "_model_name": "LayoutModel",
            "_view_count": null,
            "_view_module": "@jupyter-widgets/base",
            "_view_module_version": "1.2.0",
            "_view_name": "LayoutView",
            "align_content": null,
            "align_items": null,
            "align_self": null,
            "border": null,
            "bottom": null,
            "display": null,
            "flex": null,
            "flex_flow": null,
            "grid_area": null,
            "grid_auto_columns": null,
            "grid_auto_flow": null,
            "grid_auto_rows": null,
            "grid_column": null,
            "grid_gap": null,
            "grid_row": null,
            "grid_template_areas": null,
            "grid_template_columns": null,
            "grid_template_rows": null,
            "height": null,
            "justify_content": null,
            "justify_items": null,
            "left": null,
            "margin": null,
            "max_height": null,
            "max_width": null,
            "min_height": null,
            "min_width": null,
            "object_fit": null,
            "object_position": null,
            "order": null,
            "overflow": null,
            "overflow_x": null,
            "overflow_y": null,
            "padding": null,
            "right": null,
            "top": null,
            "visibility": null,
            "width": null
          }
        },
        "b5afd10ff2e3447a822376ab5e700781": {
          "model_module": "@jupyter-widgets/controls",
          "model_module_version": "1.5.0",
          "model_name": "DescriptionStyleModel",
          "state": {
            "_model_module": "@jupyter-widgets/controls",
            "_model_module_version": "1.5.0",
            "_model_name": "DescriptionStyleModel",
            "_view_count": null,
            "_view_module": "@jupyter-widgets/base",
            "_view_module_version": "1.2.0",
            "_view_name": "StyleView",
            "description_width": ""
          }
        },
        "b8b3b1af78f64fdc8a9ec852a57b35fe": {
          "model_module": "@jupyter-widgets/base",
          "model_module_version": "1.2.0",
          "model_name": "LayoutModel",
          "state": {
            "_model_module": "@jupyter-widgets/base",
            "_model_module_version": "1.2.0",
            "_model_name": "LayoutModel",
            "_view_count": null,
            "_view_module": "@jupyter-widgets/base",
            "_view_module_version": "1.2.0",
            "_view_name": "LayoutView",
            "align_content": null,
            "align_items": null,
            "align_self": null,
            "border": null,
            "bottom": null,
            "display": null,
            "flex": null,
            "flex_flow": null,
            "grid_area": null,
            "grid_auto_columns": null,
            "grid_auto_flow": null,
            "grid_auto_rows": null,
            "grid_column": null,
            "grid_gap": null,
            "grid_row": null,
            "grid_template_areas": null,
            "grid_template_columns": null,
            "grid_template_rows": null,
            "height": null,
            "justify_content": null,
            "justify_items": null,
            "left": null,
            "margin": null,
            "max_height": null,
            "max_width": null,
            "min_height": null,
            "min_width": null,
            "object_fit": null,
            "object_position": null,
            "order": null,
            "overflow": null,
            "overflow_x": null,
            "overflow_y": null,
            "padding": null,
            "right": null,
            "top": null,
            "visibility": null,
            "width": null
          }
        },
        "bd10e1a84a704854b75631c38862270f": {
          "model_module": "@jupyter-widgets/controls",
          "model_module_version": "1.5.0",
          "model_name": "ProgressStyleModel",
          "state": {
            "_model_module": "@jupyter-widgets/controls",
            "_model_module_version": "1.5.0",
            "_model_name": "ProgressStyleModel",
            "_view_count": null,
            "_view_module": "@jupyter-widgets/base",
            "_view_module_version": "1.2.0",
            "_view_name": "StyleView",
            "bar_color": null,
            "description_width": ""
          }
        },
        "bf34a6d3daad483b839533f399a16b01": {
          "model_module": "@jupyter-widgets/controls",
          "model_module_version": "1.5.0",
          "model_name": "HTMLModel",
          "state": {
            "_dom_classes": [],
            "_model_module": "@jupyter-widgets/controls",
            "_model_module_version": "1.5.0",
            "_model_name": "HTMLModel",
            "_view_count": null,
            "_view_module": "@jupyter-widgets/controls",
            "_view_module_version": "1.5.0",
            "_view_name": "HTMLView",
            "description": "",
            "description_tooltip": null,
            "layout": "IPY_MODEL_b04579f0e847480ca94de2df4f363078",
            "placeholder": "​",
            "style": "IPY_MODEL_d08f19166b414bdb8be16f011db26eab",
            "value": "Downloading: 100%"
          }
        },
        "c1f4b6d1381c46479e67c2ef89ab4e2a": {
          "model_module": "@jupyter-widgets/controls",
          "model_module_version": "1.5.0",
          "model_name": "FloatProgressModel",
          "state": {
            "_dom_classes": [],
            "_model_module": "@jupyter-widgets/controls",
            "_model_module_version": "1.5.0",
            "_model_name": "FloatProgressModel",
            "_view_count": null,
            "_view_module": "@jupyter-widgets/controls",
            "_view_module_version": "1.5.0",
            "_view_name": "ProgressView",
            "bar_style": "success",
            "description": "",
            "description_tooltip": null,
            "layout": "IPY_MODEL_547f9b4927094fe9ad3602de9ce33024",
            "max": 3,
            "min": 0,
            "orientation": "horizontal",
            "style": "IPY_MODEL_eb361bccb61e44c390882d5abb6e6d55",
            "value": 3
          }
        },
        "c21b21b7016e4bf19c6ee8bfbb7f0688": {
          "model_module": "@jupyter-widgets/controls",
          "model_module_version": "1.5.0",
          "model_name": "HBoxModel",
          "state": {
            "_dom_classes": [],
            "_model_module": "@jupyter-widgets/controls",
            "_model_module_version": "1.5.0",
            "_model_name": "HBoxModel",
            "_view_count": null,
            "_view_module": "@jupyter-widgets/controls",
            "_view_module_version": "1.5.0",
            "_view_name": "HBoxView",
            "box_style": "",
            "children": [
              "IPY_MODEL_bf34a6d3daad483b839533f399a16b01",
              "IPY_MODEL_e1c08584d27d42f8a5bf67b40fc87cba",
              "IPY_MODEL_931fdbb0aa104e7f805652282758fc23"
            ],
            "layout": "IPY_MODEL_b8b3b1af78f64fdc8a9ec852a57b35fe"
          }
        },
        "c62d7a014a6d4eea9391c03e4dd425cd": {
          "model_module": "@jupyter-widgets/controls",
          "model_module_version": "1.5.0",
          "model_name": "FloatProgressModel",
          "state": {
            "_dom_classes": [],
            "_model_module": "@jupyter-widgets/controls",
            "_model_module_version": "1.5.0",
            "_model_name": "FloatProgressModel",
            "_view_count": null,
            "_view_module": "@jupyter-widgets/controls",
            "_view_module_version": "1.5.0",
            "_view_name": "ProgressView",
            "bar_style": "success",
            "description": "",
            "description_tooltip": null,
            "layout": "IPY_MODEL_83d086b8c77e4a6e8589b70f0ee2e6c1",
            "max": 482,
            "min": 0,
            "orientation": "horizontal",
            "style": "IPY_MODEL_abe88dff18b543d6bb7c7b965385d32d",
            "value": 482
          }
        },
        "c63a438f1ef34801a02fe05c51060c43": {
          "model_module": "@jupyter-widgets/base",
          "model_module_version": "1.2.0",
          "model_name": "LayoutModel",
          "state": {
            "_model_module": "@jupyter-widgets/base",
            "_model_module_version": "1.2.0",
            "_model_name": "LayoutModel",
            "_view_count": null,
            "_view_module": "@jupyter-widgets/base",
            "_view_module_version": "1.2.0",
            "_view_name": "LayoutView",
            "align_content": null,
            "align_items": null,
            "align_self": null,
            "border": null,
            "bottom": null,
            "display": null,
            "flex": null,
            "flex_flow": null,
            "grid_area": null,
            "grid_auto_columns": null,
            "grid_auto_flow": null,
            "grid_auto_rows": null,
            "grid_column": null,
            "grid_gap": null,
            "grid_row": null,
            "grid_template_areas": null,
            "grid_template_columns": null,
            "grid_template_rows": null,
            "height": null,
            "justify_content": null,
            "justify_items": null,
            "left": null,
            "margin": null,
            "max_height": null,
            "max_width": null,
            "min_height": null,
            "min_width": null,
            "object_fit": null,
            "object_position": null,
            "order": null,
            "overflow": null,
            "overflow_x": null,
            "overflow_y": null,
            "padding": null,
            "right": null,
            "top": null,
            "visibility": null,
            "width": null
          }
        },
        "c7419aba18564995a7f4a54ed80d602f": {
          "model_module": "@jupyter-widgets/base",
          "model_module_version": "1.2.0",
          "model_name": "LayoutModel",
          "state": {
            "_model_module": "@jupyter-widgets/base",
            "_model_module_version": "1.2.0",
            "_model_name": "LayoutModel",
            "_view_count": null,
            "_view_module": "@jupyter-widgets/base",
            "_view_module_version": "1.2.0",
            "_view_name": "LayoutView",
            "align_content": null,
            "align_items": null,
            "align_self": null,
            "border": null,
            "bottom": null,
            "display": null,
            "flex": null,
            "flex_flow": null,
            "grid_area": null,
            "grid_auto_columns": null,
            "grid_auto_flow": null,
            "grid_auto_rows": null,
            "grid_column": null,
            "grid_gap": null,
            "grid_row": null,
            "grid_template_areas": null,
            "grid_template_columns": null,
            "grid_template_rows": null,
            "height": null,
            "justify_content": null,
            "justify_items": null,
            "left": null,
            "margin": null,
            "max_height": null,
            "max_width": null,
            "min_height": null,
            "min_width": null,
            "object_fit": null,
            "object_position": null,
            "order": null,
            "overflow": null,
            "overflow_x": null,
            "overflow_y": null,
            "padding": null,
            "right": null,
            "top": null,
            "visibility": null,
            "width": null
          }
        },
        "cdd062bba6bc4b6cbedeb33f0a409f7e": {
          "model_module": "@jupyter-widgets/controls",
          "model_module_version": "1.5.0",
          "model_name": "HTMLModel",
          "state": {
            "_dom_classes": [],
            "_model_module": "@jupyter-widgets/controls",
            "_model_module_version": "1.5.0",
            "_model_name": "HTMLModel",
            "_view_count": null,
            "_view_module": "@jupyter-widgets/controls",
            "_view_module_version": "1.5.0",
            "_view_name": "HTMLView",
            "description": "",
            "description_tooltip": null,
            "layout": "IPY_MODEL_e5097759b074410f9219a1d0756d3ca8",
            "placeholder": "​",
            "style": "IPY_MODEL_5923b6ccf3ef45d2b67182877c5a848b",
            "value": "Downloading: 100%"
          }
        },
        "d08f19166b414bdb8be16f011db26eab": {
          "model_module": "@jupyter-widgets/controls",
          "model_module_version": "1.5.0",
          "model_name": "DescriptionStyleModel",
          "state": {
            "_model_module": "@jupyter-widgets/controls",
            "_model_module_version": "1.5.0",
            "_model_name": "DescriptionStyleModel",
            "_view_count": null,
            "_view_module": "@jupyter-widgets/base",
            "_view_module_version": "1.2.0",
            "_view_name": "StyleView",
            "description_width": ""
          }
        },
        "d10826e7cd704c8e9022814ab179b2d6": {
          "model_module": "@jupyter-widgets/controls",
          "model_module_version": "1.5.0",
          "model_name": "DescriptionStyleModel",
          "state": {
            "_model_module": "@jupyter-widgets/controls",
            "_model_module_version": "1.5.0",
            "_model_name": "DescriptionStyleModel",
            "_view_count": null,
            "_view_module": "@jupyter-widgets/base",
            "_view_module_version": "1.2.0",
            "_view_name": "StyleView",
            "description_width": ""
          }
        },
        "d486af5af4374afc944d36c1f65dc8ca": {
          "model_module": "@jupyter-widgets/base",
          "model_module_version": "1.2.0",
          "model_name": "LayoutModel",
          "state": {
            "_model_module": "@jupyter-widgets/base",
            "_model_module_version": "1.2.0",
            "_model_name": "LayoutModel",
            "_view_count": null,
            "_view_module": "@jupyter-widgets/base",
            "_view_module_version": "1.2.0",
            "_view_name": "LayoutView",
            "align_content": null,
            "align_items": null,
            "align_self": null,
            "border": null,
            "bottom": null,
            "display": null,
            "flex": null,
            "flex_flow": null,
            "grid_area": null,
            "grid_auto_columns": null,
            "grid_auto_flow": null,
            "grid_auto_rows": null,
            "grid_column": null,
            "grid_gap": null,
            "grid_row": null,
            "grid_template_areas": null,
            "grid_template_columns": null,
            "grid_template_rows": null,
            "height": null,
            "justify_content": null,
            "justify_items": null,
            "left": null,
            "margin": null,
            "max_height": null,
            "max_width": null,
            "min_height": null,
            "min_width": null,
            "object_fit": null,
            "object_position": null,
            "order": null,
            "overflow": null,
            "overflow_x": null,
            "overflow_y": null,
            "padding": null,
            "right": null,
            "top": null,
            "visibility": null,
            "width": null
          }
        },
        "d4b1a8fc1b934698b7ea3f6c08cce274": {
          "model_module": "@jupyter-widgets/controls",
          "model_module_version": "1.5.0",
          "model_name": "HTMLModel",
          "state": {
            "_dom_classes": [],
            "_model_module": "@jupyter-widgets/controls",
            "_model_module_version": "1.5.0",
            "_model_name": "HTMLModel",
            "_view_count": null,
            "_view_module": "@jupyter-widgets/controls",
            "_view_module_version": "1.5.0",
            "_view_name": "HTMLView",
            "description": "",
            "description_tooltip": null,
            "layout": "IPY_MODEL_29035a16a7b94bbaac5af28a5a85a9bb",
            "placeholder": "​",
            "style": "IPY_MODEL_9bf0eb4b5d7b4f8baa9a2e3e83921070",
            "value": "100%"
          }
        },
        "de0afaddfc8348f191acd2bdd4f44406": {
          "model_module": "@jupyter-widgets/controls",
          "model_module_version": "1.5.0",
          "model_name": "HTMLModel",
          "state": {
            "_dom_classes": [],
            "_model_module": "@jupyter-widgets/controls",
            "_model_module_version": "1.5.0",
            "_model_name": "HTMLModel",
            "_view_count": null,
            "_view_module": "@jupyter-widgets/controls",
            "_view_module_version": "1.5.0",
            "_view_name": "HTMLView",
            "description": "",
            "description_tooltip": null,
            "layout": "IPY_MODEL_505cace465c3477893753369ea112613",
            "placeholder": "​",
            "style": "IPY_MODEL_712b6c8e6afa44c9bd2bf9c1d2a5cc34",
            "value": " 4/4 [00:00&lt;00:00,  4.99ba/s]"
          }
        },
        "decc78c65e97465f99d43c493a4c158f": {
          "model_module": "@jupyter-widgets/controls",
          "model_module_version": "1.5.0",
          "model_name": "HTMLModel",
          "state": {
            "_dom_classes": [],
            "_model_module": "@jupyter-widgets/controls",
            "_model_module_version": "1.5.0",
            "_model_name": "HTMLModel",
            "_view_count": null,
            "_view_module": "@jupyter-widgets/controls",
            "_view_module_version": "1.5.0",
            "_view_name": "HTMLView",
            "description": "",
            "description_tooltip": null,
            "layout": "IPY_MODEL_431c16d740664095a9f2e62846cb9348",
            "placeholder": "​",
            "style": "IPY_MODEL_5587cb683a234972b9db9ced8d027cfa",
            "value": " 3/3 [00:00&lt;00:00,  5.10ba/s]"
          }
        },
        "e1c08584d27d42f8a5bf67b40fc87cba": {
          "model_module": "@jupyter-widgets/controls",
          "model_module_version": "1.5.0",
          "model_name": "FloatProgressModel",
          "state": {
            "_dom_classes": [],
            "_model_module": "@jupyter-widgets/controls",
            "_model_module_version": "1.5.0",
            "_model_name": "FloatProgressModel",
            "_view_count": null,
            "_view_module": "@jupyter-widgets/controls",
            "_view_module_version": "1.5.0",
            "_view_name": "ProgressView",
            "bar_style": "success",
            "description": "",
            "description_tooltip": null,
            "layout": "IPY_MODEL_83b1aa9f462945a0a3a39b09cb053345",
            "max": 1425941629,
            "min": 0,
            "orientation": "horizontal",
            "style": "IPY_MODEL_bd10e1a84a704854b75631c38862270f",
            "value": 1425941629
          }
        },
        "e277ff0fb63048589743bb1fc1dfc58f": {
          "model_module": "@jupyter-widgets/base",
          "model_module_version": "1.2.0",
          "model_name": "LayoutModel",
          "state": {
            "_model_module": "@jupyter-widgets/base",
            "_model_module_version": "1.2.0",
            "_model_name": "LayoutModel",
            "_view_count": null,
            "_view_module": "@jupyter-widgets/base",
            "_view_module_version": "1.2.0",
            "_view_name": "LayoutView",
            "align_content": null,
            "align_items": null,
            "align_self": null,
            "border": null,
            "bottom": null,
            "display": null,
            "flex": null,
            "flex_flow": null,
            "grid_area": null,
            "grid_auto_columns": null,
            "grid_auto_flow": null,
            "grid_auto_rows": null,
            "grid_column": null,
            "grid_gap": null,
            "grid_row": null,
            "grid_template_areas": null,
            "grid_template_columns": null,
            "grid_template_rows": null,
            "height": null,
            "justify_content": null,
            "justify_items": null,
            "left": null,
            "margin": null,
            "max_height": null,
            "max_width": null,
            "min_height": null,
            "min_width": null,
            "object_fit": null,
            "object_position": null,
            "order": null,
            "overflow": null,
            "overflow_x": null,
            "overflow_y": null,
            "padding": null,
            "right": null,
            "top": null,
            "visibility": null,
            "width": null
          }
        },
        "e2d63c4c7d3d4357a34918e3d33373ca": {
          "model_module": "@jupyter-widgets/controls",
          "model_module_version": "1.5.0",
          "model_name": "HTMLModel",
          "state": {
            "_dom_classes": [],
            "_model_module": "@jupyter-widgets/controls",
            "_model_module_version": "1.5.0",
            "_model_name": "HTMLModel",
            "_view_count": null,
            "_view_module": "@jupyter-widgets/controls",
            "_view_module_version": "1.5.0",
            "_view_name": "HTMLView",
            "description": "",
            "description_tooltip": null,
            "layout": "IPY_MODEL_51225df09401464c9c00a95f07516307",
            "placeholder": "​",
            "style": "IPY_MODEL_985084b913a449bfa9deae2d48a86e85",
            "value": " 482/482 [00:00&lt;00:00, 18.0kB/s]"
          }
        },
        "e5097759b074410f9219a1d0756d3ca8": {
          "model_module": "@jupyter-widgets/base",
          "model_module_version": "1.2.0",
          "model_name": "LayoutModel",
          "state": {
            "_model_module": "@jupyter-widgets/base",
            "_model_module_version": "1.2.0",
            "_model_name": "LayoutModel",
            "_view_count": null,
            "_view_module": "@jupyter-widgets/base",
            "_view_module_version": "1.2.0",
            "_view_name": "LayoutView",
            "align_content": null,
            "align_items": null,
            "align_self": null,
            "border": null,
            "bottom": null,
            "display": null,
            "flex": null,
            "flex_flow": null,
            "grid_area": null,
            "grid_auto_columns": null,
            "grid_auto_flow": null,
            "grid_auto_rows": null,
            "grid_column": null,
            "grid_gap": null,
            "grid_row": null,
            "grid_template_areas": null,
            "grid_template_columns": null,
            "grid_template_rows": null,
            "height": null,
            "justify_content": null,
            "justify_items": null,
            "left": null,
            "margin": null,
            "max_height": null,
            "max_width": null,
            "min_height": null,
            "min_width": null,
            "object_fit": null,
            "object_position": null,
            "order": null,
            "overflow": null,
            "overflow_x": null,
            "overflow_y": null,
            "padding": null,
            "right": null,
            "top": null,
            "visibility": null,
            "width": null
          }
        },
        "e7a878a5ccf54962b17ba7f4da74f7ed": {
          "model_module": "@jupyter-widgets/controls",
          "model_module_version": "1.5.0",
          "model_name": "HBoxModel",
          "state": {
            "_dom_classes": [],
            "_model_module": "@jupyter-widgets/controls",
            "_model_module_version": "1.5.0",
            "_model_name": "HBoxModel",
            "_view_count": null,
            "_view_module": "@jupyter-widgets/controls",
            "_view_module_version": "1.5.0",
            "_view_name": "HBoxView",
            "box_style": "",
            "children": [
              "IPY_MODEL_20182d08053e4a53b2f3af079db69df8",
              "IPY_MODEL_9d9f07ad647648faba0809419e0c521e",
              "IPY_MODEL_3c32945ed78f4e7eaa3874b516da76d8"
            ],
            "layout": "IPY_MODEL_514991b5f2584e3fad93bce32001c5c1"
          }
        },
        "eb361bccb61e44c390882d5abb6e6d55": {
          "model_module": "@jupyter-widgets/controls",
          "model_module_version": "1.5.0",
          "model_name": "ProgressStyleModel",
          "state": {
            "_model_module": "@jupyter-widgets/controls",
            "_model_module_version": "1.5.0",
            "_model_name": "ProgressStyleModel",
            "_view_count": null,
            "_view_module": "@jupyter-widgets/base",
            "_view_module_version": "1.2.0",
            "_view_name": "StyleView",
            "bar_color": null,
            "description_width": ""
          }
        },
        "ebb3e11343fa4d3ea969d36643e31c08": {
          "model_module": "@jupyter-widgets/base",
          "model_module_version": "1.2.0",
          "model_name": "LayoutModel",
          "state": {
            "_model_module": "@jupyter-widgets/base",
            "_model_module_version": "1.2.0",
            "_model_name": "LayoutModel",
            "_view_count": null,
            "_view_module": "@jupyter-widgets/base",
            "_view_module_version": "1.2.0",
            "_view_name": "LayoutView",
            "align_content": null,
            "align_items": null,
            "align_self": null,
            "border": null,
            "bottom": null,
            "display": null,
            "flex": null,
            "flex_flow": null,
            "grid_area": null,
            "grid_auto_columns": null,
            "grid_auto_flow": null,
            "grid_auto_rows": null,
            "grid_column": null,
            "grid_gap": null,
            "grid_row": null,
            "grid_template_areas": null,
            "grid_template_columns": null,
            "grid_template_rows": null,
            "height": null,
            "justify_content": null,
            "justify_items": null,
            "left": null,
            "margin": null,
            "max_height": null,
            "max_width": null,
            "min_height": null,
            "min_width": null,
            "object_fit": null,
            "object_position": null,
            "order": null,
            "overflow": null,
            "overflow_x": null,
            "overflow_y": null,
            "padding": null,
            "right": null,
            "top": null,
            "visibility": null,
            "width": null
          }
        },
        "f228a3140d824c30b0432bb53ecf3907": {
          "model_module": "@jupyter-widgets/controls",
          "model_module_version": "1.5.0",
          "model_name": "ProgressStyleModel",
          "state": {
            "_model_module": "@jupyter-widgets/controls",
            "_model_module_version": "1.5.0",
            "_model_name": "ProgressStyleModel",
            "_view_count": null,
            "_view_module": "@jupyter-widgets/base",
            "_view_module_version": "1.2.0",
            "_view_name": "StyleView",
            "bar_color": null,
            "description_width": ""
          }
        },
        "f34a7f4782984dc9af86afcb3e51d82e": {
          "model_module": "@jupyter-widgets/base",
          "model_module_version": "1.2.0",
          "model_name": "LayoutModel",
          "state": {
            "_model_module": "@jupyter-widgets/base",
            "_model_module_version": "1.2.0",
            "_model_name": "LayoutModel",
            "_view_count": null,
            "_view_module": "@jupyter-widgets/base",
            "_view_module_version": "1.2.0",
            "_view_name": "LayoutView",
            "align_content": null,
            "align_items": null,
            "align_self": null,
            "border": null,
            "bottom": null,
            "display": null,
            "flex": null,
            "flex_flow": null,
            "grid_area": null,
            "grid_auto_columns": null,
            "grid_auto_flow": null,
            "grid_auto_rows": null,
            "grid_column": null,
            "grid_gap": null,
            "grid_row": null,
            "grid_template_areas": null,
            "grid_template_columns": null,
            "grid_template_rows": null,
            "height": null,
            "justify_content": null,
            "justify_items": null,
            "left": null,
            "margin": null,
            "max_height": null,
            "max_width": null,
            "min_height": null,
            "min_width": null,
            "object_fit": null,
            "object_position": null,
            "order": null,
            "overflow": null,
            "overflow_x": null,
            "overflow_y": null,
            "padding": null,
            "right": null,
            "top": null,
            "visibility": null,
            "width": null
          }
        },
        "f45f45ad828941d38e5b2d6a5f407540": {
          "model_module": "@jupyter-widgets/base",
          "model_module_version": "1.2.0",
          "model_name": "LayoutModel",
          "state": {
            "_model_module": "@jupyter-widgets/base",
            "_model_module_version": "1.2.0",
            "_model_name": "LayoutModel",
            "_view_count": null,
            "_view_module": "@jupyter-widgets/base",
            "_view_module_version": "1.2.0",
            "_view_name": "LayoutView",
            "align_content": null,
            "align_items": null,
            "align_self": null,
            "border": null,
            "bottom": null,
            "display": null,
            "flex": null,
            "flex_flow": null,
            "grid_area": null,
            "grid_auto_columns": null,
            "grid_auto_flow": null,
            "grid_auto_rows": null,
            "grid_column": null,
            "grid_gap": null,
            "grid_row": null,
            "grid_template_areas": null,
            "grid_template_columns": null,
            "grid_template_rows": null,
            "height": null,
            "justify_content": null,
            "justify_items": null,
            "left": null,
            "margin": null,
            "max_height": null,
            "max_width": null,
            "min_height": null,
            "min_width": null,
            "object_fit": null,
            "object_position": null,
            "order": null,
            "overflow": null,
            "overflow_x": null,
            "overflow_y": null,
            "padding": null,
            "right": null,
            "top": null,
            "visibility": null,
            "width": null
          }
        },
        "f602564b033b49228f84f0a133293e88": {
          "model_module": "@jupyter-widgets/controls",
          "model_module_version": "1.5.0",
          "model_name": "HBoxModel",
          "state": {
            "_dom_classes": [],
            "_model_module": "@jupyter-widgets/controls",
            "_model_module_version": "1.5.0",
            "_model_name": "HBoxModel",
            "_view_count": null,
            "_view_module": "@jupyter-widgets/controls",
            "_view_module_version": "1.5.0",
            "_view_name": "HBoxView",
            "box_style": "",
            "children": [
              "IPY_MODEL_4f0868f3409f451f9037619dcce15a62",
              "IPY_MODEL_7ac93c67061b4df5b21e5d87ec6d2000",
              "IPY_MODEL_6e10199da463440ab650960a5e8deb90"
            ],
            "layout": "IPY_MODEL_a8921007c7d043179bfbe67cf417fdd8"
          }
        },
        "f7bd66dcce8842a095af49a62a6a3fcf": {
          "model_module": "@jupyter-widgets/controls",
          "model_module_version": "1.5.0",
          "model_name": "DescriptionStyleModel",
          "state": {
            "_model_module": "@jupyter-widgets/controls",
            "_model_module_version": "1.5.0",
            "_model_name": "DescriptionStyleModel",
            "_view_count": null,
            "_view_module": "@jupyter-widgets/base",
            "_view_module_version": "1.2.0",
            "_view_name": "StyleView",
            "description_width": ""
          }
        },
        "fa1c6dc58bb140f9b3a9e6f0cc001cd3": {
          "model_module": "@jupyter-widgets/base",
          "model_module_version": "1.2.0",
          "model_name": "LayoutModel",
          "state": {
            "_model_module": "@jupyter-widgets/base",
            "_model_module_version": "1.2.0",
            "_model_name": "LayoutModel",
            "_view_count": null,
            "_view_module": "@jupyter-widgets/base",
            "_view_module_version": "1.2.0",
            "_view_name": "LayoutView",
            "align_content": null,
            "align_items": null,
            "align_self": null,
            "border": null,
            "bottom": null,
            "display": null,
            "flex": null,
            "flex_flow": null,
            "grid_area": null,
            "grid_auto_columns": null,
            "grid_auto_flow": null,
            "grid_auto_rows": null,
            "grid_column": null,
            "grid_gap": null,
            "grid_row": null,
            "grid_template_areas": null,
            "grid_template_columns": null,
            "grid_template_rows": null,
            "height": null,
            "justify_content": null,
            "justify_items": null,
            "left": null,
            "margin": null,
            "max_height": null,
            "max_width": null,
            "min_height": null,
            "min_width": null,
            "object_fit": null,
            "object_position": null,
            "order": null,
            "overflow": null,
            "overflow_x": null,
            "overflow_y": null,
            "padding": null,
            "right": null,
            "top": null,
            "visibility": null,
            "width": null
          }
        },
        "fe9499248303437b90c2e4d35cbc08c4": {
          "model_module": "@jupyter-widgets/base",
          "model_module_version": "1.2.0",
          "model_name": "LayoutModel",
          "state": {
            "_model_module": "@jupyter-widgets/base",
            "_model_module_version": "1.2.0",
            "_model_name": "LayoutModel",
            "_view_count": null,
            "_view_module": "@jupyter-widgets/base",
            "_view_module_version": "1.2.0",
            "_view_name": "LayoutView",
            "align_content": null,
            "align_items": null,
            "align_self": null,
            "border": null,
            "bottom": null,
            "display": null,
            "flex": null,
            "flex_flow": null,
            "grid_area": null,
            "grid_auto_columns": null,
            "grid_auto_flow": null,
            "grid_auto_rows": null,
            "grid_column": null,
            "grid_gap": null,
            "grid_row": null,
            "grid_template_areas": null,
            "grid_template_columns": null,
            "grid_template_rows": null,
            "height": null,
            "justify_content": null,
            "justify_items": null,
            "left": null,
            "margin": null,
            "max_height": null,
            "max_width": null,
            "min_height": null,
            "min_width": null,
            "object_fit": null,
            "object_position": null,
            "order": null,
            "overflow": null,
            "overflow_x": null,
            "overflow_y": null,
            "padding": null,
            "right": null,
            "top": null,
            "visibility": null,
            "width": null
          }
        }
      }
    }
  },
  "nbformat": 4,
  "nbformat_minor": 0
}