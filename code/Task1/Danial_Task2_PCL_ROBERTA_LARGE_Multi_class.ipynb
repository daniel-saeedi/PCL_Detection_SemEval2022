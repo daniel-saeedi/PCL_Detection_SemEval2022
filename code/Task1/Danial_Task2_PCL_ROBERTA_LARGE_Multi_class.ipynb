{
  "nbformat": 4,
  "nbformat_minor": 0,
  "metadata": {
    "accelerator": "GPU",
    "colab": {
      "name": "Danial-Task2-PCL-ROBERTA-LARGE-Multi-class.ipynb",
      "provenance": [],
      "collapsed_sections": []
    },
    "kernelspec": {
      "display_name": "Python 3",
      "name": "python3"
    },
    "language_info": {
      "name": "python"
    },
    "widgets": {
      "application/vnd.jupyter.widget-state+json": {
        "1083ce751824406786227baf24ba6960": {
          "model_module": "@jupyter-widgets/controls",
          "model_name": "HBoxModel",
          "model_module_version": "1.5.0",
          "state": {
            "_view_name": "HBoxView",
            "_dom_classes": [],
            "_model_name": "HBoxModel",
            "_view_module": "@jupyter-widgets/controls",
            "_model_module_version": "1.5.0",
            "_view_count": null,
            "_view_module_version": "1.5.0",
            "box_style": "",
            "layout": "IPY_MODEL_93ed2170b77e468ba41c80e103f2a45f",
            "_model_module": "@jupyter-widgets/controls",
            "children": [
              "IPY_MODEL_d0459eac18ab44e7a89e9458510de70e",
              "IPY_MODEL_106bf563c966426d9cba0ab404ca2c84",
              "IPY_MODEL_513bcce789c54061aff95cb208e93772"
            ]
          }
        },
        "93ed2170b77e468ba41c80e103f2a45f": {
          "model_module": "@jupyter-widgets/base",
          "model_name": "LayoutModel",
          "model_module_version": "1.2.0",
          "state": {
            "_view_name": "LayoutView",
            "grid_template_rows": null,
            "right": null,
            "justify_content": null,
            "_view_module": "@jupyter-widgets/base",
            "overflow": null,
            "_model_module_version": "1.2.0",
            "_view_count": null,
            "flex_flow": null,
            "width": null,
            "min_width": null,
            "border": null,
            "align_items": null,
            "bottom": null,
            "_model_module": "@jupyter-widgets/base",
            "top": null,
            "grid_column": null,
            "overflow_y": null,
            "overflow_x": null,
            "grid_auto_flow": null,
            "grid_area": null,
            "grid_template_columns": null,
            "flex": null,
            "_model_name": "LayoutModel",
            "justify_items": null,
            "grid_row": null,
            "max_height": null,
            "align_content": null,
            "visibility": null,
            "align_self": null,
            "height": null,
            "min_height": null,
            "padding": null,
            "grid_auto_rows": null,
            "grid_gap": null,
            "max_width": null,
            "order": null,
            "_view_module_version": "1.2.0",
            "grid_template_areas": null,
            "object_position": null,
            "object_fit": null,
            "grid_auto_columns": null,
            "margin": null,
            "display": null,
            "left": null
          }
        },
        "d0459eac18ab44e7a89e9458510de70e": {
          "model_module": "@jupyter-widgets/controls",
          "model_name": "HTMLModel",
          "model_module_version": "1.5.0",
          "state": {
            "_view_name": "HTMLView",
            "style": "IPY_MODEL_3b5c1c41582643de9b008ada4f419d13",
            "_dom_classes": [],
            "description": "",
            "_model_name": "HTMLModel",
            "placeholder": "​",
            "_view_module": "@jupyter-widgets/controls",
            "_model_module_version": "1.5.0",
            "value": "Downloading: 100%",
            "_view_count": null,
            "_view_module_version": "1.5.0",
            "description_tooltip": null,
            "_model_module": "@jupyter-widgets/controls",
            "layout": "IPY_MODEL_e006f95c6ebb4a57b24709556f08c5f1"
          }
        },
        "106bf563c966426d9cba0ab404ca2c84": {
          "model_module": "@jupyter-widgets/controls",
          "model_name": "FloatProgressModel",
          "model_module_version": "1.5.0",
          "state": {
            "_view_name": "ProgressView",
            "style": "IPY_MODEL_39ed3844cd3a4a6c884fdb12626a6e70",
            "_dom_classes": [],
            "description": "",
            "_model_name": "FloatProgressModel",
            "bar_style": "success",
            "max": 482,
            "_view_module": "@jupyter-widgets/controls",
            "_model_module_version": "1.5.0",
            "value": 482,
            "_view_count": null,
            "_view_module_version": "1.5.0",
            "orientation": "horizontal",
            "min": 0,
            "description_tooltip": null,
            "_model_module": "@jupyter-widgets/controls",
            "layout": "IPY_MODEL_66b71a90381044a18115ddbad52d8096"
          }
        },
        "513bcce789c54061aff95cb208e93772": {
          "model_module": "@jupyter-widgets/controls",
          "model_name": "HTMLModel",
          "model_module_version": "1.5.0",
          "state": {
            "_view_name": "HTMLView",
            "style": "IPY_MODEL_318eea8ddbbb4edfb60f9950bf1b1a89",
            "_dom_classes": [],
            "description": "",
            "_model_name": "HTMLModel",
            "placeholder": "​",
            "_view_module": "@jupyter-widgets/controls",
            "_model_module_version": "1.5.0",
            "value": " 482/482 [00:00&lt;00:00, 10.4kB/s]",
            "_view_count": null,
            "_view_module_version": "1.5.0",
            "description_tooltip": null,
            "_model_module": "@jupyter-widgets/controls",
            "layout": "IPY_MODEL_855ef1807a1a4cb18f67c68d369dad98"
          }
        },
        "3b5c1c41582643de9b008ada4f419d13": {
          "model_module": "@jupyter-widgets/controls",
          "model_name": "DescriptionStyleModel",
          "model_module_version": "1.5.0",
          "state": {
            "_view_name": "StyleView",
            "_model_name": "DescriptionStyleModel",
            "description_width": "",
            "_view_module": "@jupyter-widgets/base",
            "_model_module_version": "1.5.0",
            "_view_count": null,
            "_view_module_version": "1.2.0",
            "_model_module": "@jupyter-widgets/controls"
          }
        },
        "e006f95c6ebb4a57b24709556f08c5f1": {
          "model_module": "@jupyter-widgets/base",
          "model_name": "LayoutModel",
          "model_module_version": "1.2.0",
          "state": {
            "_view_name": "LayoutView",
            "grid_template_rows": null,
            "right": null,
            "justify_content": null,
            "_view_module": "@jupyter-widgets/base",
            "overflow": null,
            "_model_module_version": "1.2.0",
            "_view_count": null,
            "flex_flow": null,
            "width": null,
            "min_width": null,
            "border": null,
            "align_items": null,
            "bottom": null,
            "_model_module": "@jupyter-widgets/base",
            "top": null,
            "grid_column": null,
            "overflow_y": null,
            "overflow_x": null,
            "grid_auto_flow": null,
            "grid_area": null,
            "grid_template_columns": null,
            "flex": null,
            "_model_name": "LayoutModel",
            "justify_items": null,
            "grid_row": null,
            "max_height": null,
            "align_content": null,
            "visibility": null,
            "align_self": null,
            "height": null,
            "min_height": null,
            "padding": null,
            "grid_auto_rows": null,
            "grid_gap": null,
            "max_width": null,
            "order": null,
            "_view_module_version": "1.2.0",
            "grid_template_areas": null,
            "object_position": null,
            "object_fit": null,
            "grid_auto_columns": null,
            "margin": null,
            "display": null,
            "left": null
          }
        },
        "39ed3844cd3a4a6c884fdb12626a6e70": {
          "model_module": "@jupyter-widgets/controls",
          "model_name": "ProgressStyleModel",
          "model_module_version": "1.5.0",
          "state": {
            "_view_name": "StyleView",
            "_model_name": "ProgressStyleModel",
            "description_width": "",
            "_view_module": "@jupyter-widgets/base",
            "_model_module_version": "1.5.0",
            "_view_count": null,
            "_view_module_version": "1.2.0",
            "bar_color": null,
            "_model_module": "@jupyter-widgets/controls"
          }
        },
        "66b71a90381044a18115ddbad52d8096": {
          "model_module": "@jupyter-widgets/base",
          "model_name": "LayoutModel",
          "model_module_version": "1.2.0",
          "state": {
            "_view_name": "LayoutView",
            "grid_template_rows": null,
            "right": null,
            "justify_content": null,
            "_view_module": "@jupyter-widgets/base",
            "overflow": null,
            "_model_module_version": "1.2.0",
            "_view_count": null,
            "flex_flow": null,
            "width": null,
            "min_width": null,
            "border": null,
            "align_items": null,
            "bottom": null,
            "_model_module": "@jupyter-widgets/base",
            "top": null,
            "grid_column": null,
            "overflow_y": null,
            "overflow_x": null,
            "grid_auto_flow": null,
            "grid_area": null,
            "grid_template_columns": null,
            "flex": null,
            "_model_name": "LayoutModel",
            "justify_items": null,
            "grid_row": null,
            "max_height": null,
            "align_content": null,
            "visibility": null,
            "align_self": null,
            "height": null,
            "min_height": null,
            "padding": null,
            "grid_auto_rows": null,
            "grid_gap": null,
            "max_width": null,
            "order": null,
            "_view_module_version": "1.2.0",
            "grid_template_areas": null,
            "object_position": null,
            "object_fit": null,
            "grid_auto_columns": null,
            "margin": null,
            "display": null,
            "left": null
          }
        },
        "318eea8ddbbb4edfb60f9950bf1b1a89": {
          "model_module": "@jupyter-widgets/controls",
          "model_name": "DescriptionStyleModel",
          "model_module_version": "1.5.0",
          "state": {
            "_view_name": "StyleView",
            "_model_name": "DescriptionStyleModel",
            "description_width": "",
            "_view_module": "@jupyter-widgets/base",
            "_model_module_version": "1.5.0",
            "_view_count": null,
            "_view_module_version": "1.2.0",
            "_model_module": "@jupyter-widgets/controls"
          }
        },
        "855ef1807a1a4cb18f67c68d369dad98": {
          "model_module": "@jupyter-widgets/base",
          "model_name": "LayoutModel",
          "model_module_version": "1.2.0",
          "state": {
            "_view_name": "LayoutView",
            "grid_template_rows": null,
            "right": null,
            "justify_content": null,
            "_view_module": "@jupyter-widgets/base",
            "overflow": null,
            "_model_module_version": "1.2.0",
            "_view_count": null,
            "flex_flow": null,
            "width": null,
            "min_width": null,
            "border": null,
            "align_items": null,
            "bottom": null,
            "_model_module": "@jupyter-widgets/base",
            "top": null,
            "grid_column": null,
            "overflow_y": null,
            "overflow_x": null,
            "grid_auto_flow": null,
            "grid_area": null,
            "grid_template_columns": null,
            "flex": null,
            "_model_name": "LayoutModel",
            "justify_items": null,
            "grid_row": null,
            "max_height": null,
            "align_content": null,
            "visibility": null,
            "align_self": null,
            "height": null,
            "min_height": null,
            "padding": null,
            "grid_auto_rows": null,
            "grid_gap": null,
            "max_width": null,
            "order": null,
            "_view_module_version": "1.2.0",
            "grid_template_areas": null,
            "object_position": null,
            "object_fit": null,
            "grid_auto_columns": null,
            "margin": null,
            "display": null,
            "left": null
          }
        },
        "2e67ebe5bad64771bba46f1c45dc395e": {
          "model_module": "@jupyter-widgets/controls",
          "model_name": "HBoxModel",
          "model_module_version": "1.5.0",
          "state": {
            "_view_name": "HBoxView",
            "_dom_classes": [],
            "_model_name": "HBoxModel",
            "_view_module": "@jupyter-widgets/controls",
            "_model_module_version": "1.5.0",
            "_view_count": null,
            "_view_module_version": "1.5.0",
            "box_style": "",
            "layout": "IPY_MODEL_9c963bc9c7a84c1ba54214908059a700",
            "_model_module": "@jupyter-widgets/controls",
            "children": [
              "IPY_MODEL_f0350c5c50ef4865aee70383aaa9a8d7",
              "IPY_MODEL_d1cb302f57644d33b6041a48b27f49f3",
              "IPY_MODEL_6ff1f660e3f8468b917f2e60e6c5e716"
            ]
          }
        },
        "9c963bc9c7a84c1ba54214908059a700": {
          "model_module": "@jupyter-widgets/base",
          "model_name": "LayoutModel",
          "model_module_version": "1.2.0",
          "state": {
            "_view_name": "LayoutView",
            "grid_template_rows": null,
            "right": null,
            "justify_content": null,
            "_view_module": "@jupyter-widgets/base",
            "overflow": null,
            "_model_module_version": "1.2.0",
            "_view_count": null,
            "flex_flow": null,
            "width": null,
            "min_width": null,
            "border": null,
            "align_items": null,
            "bottom": null,
            "_model_module": "@jupyter-widgets/base",
            "top": null,
            "grid_column": null,
            "overflow_y": null,
            "overflow_x": null,
            "grid_auto_flow": null,
            "grid_area": null,
            "grid_template_columns": null,
            "flex": null,
            "_model_name": "LayoutModel",
            "justify_items": null,
            "grid_row": null,
            "max_height": null,
            "align_content": null,
            "visibility": null,
            "align_self": null,
            "height": null,
            "min_height": null,
            "padding": null,
            "grid_auto_rows": null,
            "grid_gap": null,
            "max_width": null,
            "order": null,
            "_view_module_version": "1.2.0",
            "grid_template_areas": null,
            "object_position": null,
            "object_fit": null,
            "grid_auto_columns": null,
            "margin": null,
            "display": null,
            "left": null
          }
        },
        "f0350c5c50ef4865aee70383aaa9a8d7": {
          "model_module": "@jupyter-widgets/controls",
          "model_name": "HTMLModel",
          "model_module_version": "1.5.0",
          "state": {
            "_view_name": "HTMLView",
            "style": "IPY_MODEL_2d4a3b462981496c8442f6e565be641b",
            "_dom_classes": [],
            "description": "",
            "_model_name": "HTMLModel",
            "placeholder": "​",
            "_view_module": "@jupyter-widgets/controls",
            "_model_module_version": "1.5.0",
            "value": "Downloading: 100%",
            "_view_count": null,
            "_view_module_version": "1.5.0",
            "description_tooltip": null,
            "_model_module": "@jupyter-widgets/controls",
            "layout": "IPY_MODEL_e4d103988adb411693b69b6ff1187540"
          }
        },
        "d1cb302f57644d33b6041a48b27f49f3": {
          "model_module": "@jupyter-widgets/controls",
          "model_name": "FloatProgressModel",
          "model_module_version": "1.5.0",
          "state": {
            "_view_name": "ProgressView",
            "style": "IPY_MODEL_bb3f378a23be438cbb8e0422e28d0661",
            "_dom_classes": [],
            "description": "",
            "_model_name": "FloatProgressModel",
            "bar_style": "success",
            "max": 898823,
            "_view_module": "@jupyter-widgets/controls",
            "_model_module_version": "1.5.0",
            "value": 898823,
            "_view_count": null,
            "_view_module_version": "1.5.0",
            "orientation": "horizontal",
            "min": 0,
            "description_tooltip": null,
            "_model_module": "@jupyter-widgets/controls",
            "layout": "IPY_MODEL_97daa3c3ad4d4551b08644ff9fc8567b"
          }
        },
        "6ff1f660e3f8468b917f2e60e6c5e716": {
          "model_module": "@jupyter-widgets/controls",
          "model_name": "HTMLModel",
          "model_module_version": "1.5.0",
          "state": {
            "_view_name": "HTMLView",
            "style": "IPY_MODEL_ad2e9608f31e49e4bfc757911712cb7b",
            "_dom_classes": [],
            "description": "",
            "_model_name": "HTMLModel",
            "placeholder": "​",
            "_view_module": "@jupyter-widgets/controls",
            "_model_module_version": "1.5.0",
            "value": " 899k/899k [00:00&lt;00:00, 998kB/s]",
            "_view_count": null,
            "_view_module_version": "1.5.0",
            "description_tooltip": null,
            "_model_module": "@jupyter-widgets/controls",
            "layout": "IPY_MODEL_a56b7c4b8b2a4ef5b474e23b668f4c88"
          }
        },
        "2d4a3b462981496c8442f6e565be641b": {
          "model_module": "@jupyter-widgets/controls",
          "model_name": "DescriptionStyleModel",
          "model_module_version": "1.5.0",
          "state": {
            "_view_name": "StyleView",
            "_model_name": "DescriptionStyleModel",
            "description_width": "",
            "_view_module": "@jupyter-widgets/base",
            "_model_module_version": "1.5.0",
            "_view_count": null,
            "_view_module_version": "1.2.0",
            "_model_module": "@jupyter-widgets/controls"
          }
        },
        "e4d103988adb411693b69b6ff1187540": {
          "model_module": "@jupyter-widgets/base",
          "model_name": "LayoutModel",
          "model_module_version": "1.2.0",
          "state": {
            "_view_name": "LayoutView",
            "grid_template_rows": null,
            "right": null,
            "justify_content": null,
            "_view_module": "@jupyter-widgets/base",
            "overflow": null,
            "_model_module_version": "1.2.0",
            "_view_count": null,
            "flex_flow": null,
            "width": null,
            "min_width": null,
            "border": null,
            "align_items": null,
            "bottom": null,
            "_model_module": "@jupyter-widgets/base",
            "top": null,
            "grid_column": null,
            "overflow_y": null,
            "overflow_x": null,
            "grid_auto_flow": null,
            "grid_area": null,
            "grid_template_columns": null,
            "flex": null,
            "_model_name": "LayoutModel",
            "justify_items": null,
            "grid_row": null,
            "max_height": null,
            "align_content": null,
            "visibility": null,
            "align_self": null,
            "height": null,
            "min_height": null,
            "padding": null,
            "grid_auto_rows": null,
            "grid_gap": null,
            "max_width": null,
            "order": null,
            "_view_module_version": "1.2.0",
            "grid_template_areas": null,
            "object_position": null,
            "object_fit": null,
            "grid_auto_columns": null,
            "margin": null,
            "display": null,
            "left": null
          }
        },
        "bb3f378a23be438cbb8e0422e28d0661": {
          "model_module": "@jupyter-widgets/controls",
          "model_name": "ProgressStyleModel",
          "model_module_version": "1.5.0",
          "state": {
            "_view_name": "StyleView",
            "_model_name": "ProgressStyleModel",
            "description_width": "",
            "_view_module": "@jupyter-widgets/base",
            "_model_module_version": "1.5.0",
            "_view_count": null,
            "_view_module_version": "1.2.0",
            "bar_color": null,
            "_model_module": "@jupyter-widgets/controls"
          }
        },
        "97daa3c3ad4d4551b08644ff9fc8567b": {
          "model_module": "@jupyter-widgets/base",
          "model_name": "LayoutModel",
          "model_module_version": "1.2.0",
          "state": {
            "_view_name": "LayoutView",
            "grid_template_rows": null,
            "right": null,
            "justify_content": null,
            "_view_module": "@jupyter-widgets/base",
            "overflow": null,
            "_model_module_version": "1.2.0",
            "_view_count": null,
            "flex_flow": null,
            "width": null,
            "min_width": null,
            "border": null,
            "align_items": null,
            "bottom": null,
            "_model_module": "@jupyter-widgets/base",
            "top": null,
            "grid_column": null,
            "overflow_y": null,
            "overflow_x": null,
            "grid_auto_flow": null,
            "grid_area": null,
            "grid_template_columns": null,
            "flex": null,
            "_model_name": "LayoutModel",
            "justify_items": null,
            "grid_row": null,
            "max_height": null,
            "align_content": null,
            "visibility": null,
            "align_self": null,
            "height": null,
            "min_height": null,
            "padding": null,
            "grid_auto_rows": null,
            "grid_gap": null,
            "max_width": null,
            "order": null,
            "_view_module_version": "1.2.0",
            "grid_template_areas": null,
            "object_position": null,
            "object_fit": null,
            "grid_auto_columns": null,
            "margin": null,
            "display": null,
            "left": null
          }
        },
        "ad2e9608f31e49e4bfc757911712cb7b": {
          "model_module": "@jupyter-widgets/controls",
          "model_name": "DescriptionStyleModel",
          "model_module_version": "1.5.0",
          "state": {
            "_view_name": "StyleView",
            "_model_name": "DescriptionStyleModel",
            "description_width": "",
            "_view_module": "@jupyter-widgets/base",
            "_model_module_version": "1.5.0",
            "_view_count": null,
            "_view_module_version": "1.2.0",
            "_model_module": "@jupyter-widgets/controls"
          }
        },
        "a56b7c4b8b2a4ef5b474e23b668f4c88": {
          "model_module": "@jupyter-widgets/base",
          "model_name": "LayoutModel",
          "model_module_version": "1.2.0",
          "state": {
            "_view_name": "LayoutView",
            "grid_template_rows": null,
            "right": null,
            "justify_content": null,
            "_view_module": "@jupyter-widgets/base",
            "overflow": null,
            "_model_module_version": "1.2.0",
            "_view_count": null,
            "flex_flow": null,
            "width": null,
            "min_width": null,
            "border": null,
            "align_items": null,
            "bottom": null,
            "_model_module": "@jupyter-widgets/base",
            "top": null,
            "grid_column": null,
            "overflow_y": null,
            "overflow_x": null,
            "grid_auto_flow": null,
            "grid_area": null,
            "grid_template_columns": null,
            "flex": null,
            "_model_name": "LayoutModel",
            "justify_items": null,
            "grid_row": null,
            "max_height": null,
            "align_content": null,
            "visibility": null,
            "align_self": null,
            "height": null,
            "min_height": null,
            "padding": null,
            "grid_auto_rows": null,
            "grid_gap": null,
            "max_width": null,
            "order": null,
            "_view_module_version": "1.2.0",
            "grid_template_areas": null,
            "object_position": null,
            "object_fit": null,
            "grid_auto_columns": null,
            "margin": null,
            "display": null,
            "left": null
          }
        },
        "83f763bd775a479fad4990d2d32c0449": {
          "model_module": "@jupyter-widgets/controls",
          "model_name": "HBoxModel",
          "model_module_version": "1.5.0",
          "state": {
            "_view_name": "HBoxView",
            "_dom_classes": [],
            "_model_name": "HBoxModel",
            "_view_module": "@jupyter-widgets/controls",
            "_model_module_version": "1.5.0",
            "_view_count": null,
            "_view_module_version": "1.5.0",
            "box_style": "",
            "layout": "IPY_MODEL_7d93183b87dd4876ae66bdbd6840b7d1",
            "_model_module": "@jupyter-widgets/controls",
            "children": [
              "IPY_MODEL_7f35bd7d360b4e88a1515fd4d3fc7292",
              "IPY_MODEL_89669faf225a4e47a45bcbc3ac59954b",
              "IPY_MODEL_d4198583a87d4186abcb5dcd23e0a64c"
            ]
          }
        },
        "7d93183b87dd4876ae66bdbd6840b7d1": {
          "model_module": "@jupyter-widgets/base",
          "model_name": "LayoutModel",
          "model_module_version": "1.2.0",
          "state": {
            "_view_name": "LayoutView",
            "grid_template_rows": null,
            "right": null,
            "justify_content": null,
            "_view_module": "@jupyter-widgets/base",
            "overflow": null,
            "_model_module_version": "1.2.0",
            "_view_count": null,
            "flex_flow": null,
            "width": null,
            "min_width": null,
            "border": null,
            "align_items": null,
            "bottom": null,
            "_model_module": "@jupyter-widgets/base",
            "top": null,
            "grid_column": null,
            "overflow_y": null,
            "overflow_x": null,
            "grid_auto_flow": null,
            "grid_area": null,
            "grid_template_columns": null,
            "flex": null,
            "_model_name": "LayoutModel",
            "justify_items": null,
            "grid_row": null,
            "max_height": null,
            "align_content": null,
            "visibility": null,
            "align_self": null,
            "height": null,
            "min_height": null,
            "padding": null,
            "grid_auto_rows": null,
            "grid_gap": null,
            "max_width": null,
            "order": null,
            "_view_module_version": "1.2.0",
            "grid_template_areas": null,
            "object_position": null,
            "object_fit": null,
            "grid_auto_columns": null,
            "margin": null,
            "display": null,
            "left": null
          }
        },
        "7f35bd7d360b4e88a1515fd4d3fc7292": {
          "model_module": "@jupyter-widgets/controls",
          "model_name": "HTMLModel",
          "model_module_version": "1.5.0",
          "state": {
            "_view_name": "HTMLView",
            "style": "IPY_MODEL_1f9e526262c44fcdaa8a296032669a5a",
            "_dom_classes": [],
            "description": "",
            "_model_name": "HTMLModel",
            "placeholder": "​",
            "_view_module": "@jupyter-widgets/controls",
            "_model_module_version": "1.5.0",
            "value": "Downloading: 100%",
            "_view_count": null,
            "_view_module_version": "1.5.0",
            "description_tooltip": null,
            "_model_module": "@jupyter-widgets/controls",
            "layout": "IPY_MODEL_66cc782c37b74921847eb8e1436fc6aa"
          }
        },
        "89669faf225a4e47a45bcbc3ac59954b": {
          "model_module": "@jupyter-widgets/controls",
          "model_name": "FloatProgressModel",
          "model_module_version": "1.5.0",
          "state": {
            "_view_name": "ProgressView",
            "style": "IPY_MODEL_224fef9b8167488d9f40d6dbe13efe16",
            "_dom_classes": [],
            "description": "",
            "_model_name": "FloatProgressModel",
            "bar_style": "success",
            "max": 456318,
            "_view_module": "@jupyter-widgets/controls",
            "_model_module_version": "1.5.0",
            "value": 456318,
            "_view_count": null,
            "_view_module_version": "1.5.0",
            "orientation": "horizontal",
            "min": 0,
            "description_tooltip": null,
            "_model_module": "@jupyter-widgets/controls",
            "layout": "IPY_MODEL_4b618a11c8174efa966feb53e307b4b3"
          }
        },
        "d4198583a87d4186abcb5dcd23e0a64c": {
          "model_module": "@jupyter-widgets/controls",
          "model_name": "HTMLModel",
          "model_module_version": "1.5.0",
          "state": {
            "_view_name": "HTMLView",
            "style": "IPY_MODEL_1ad9ce2878e647d888f8fa28c140dad9",
            "_dom_classes": [],
            "description": "",
            "_model_name": "HTMLModel",
            "placeholder": "​",
            "_view_module": "@jupyter-widgets/controls",
            "_model_module_version": "1.5.0",
            "value": " 456k/456k [00:00&lt;00:00, 925kB/s]",
            "_view_count": null,
            "_view_module_version": "1.5.0",
            "description_tooltip": null,
            "_model_module": "@jupyter-widgets/controls",
            "layout": "IPY_MODEL_214f20f8c9314516817716e440f222d9"
          }
        },
        "1f9e526262c44fcdaa8a296032669a5a": {
          "model_module": "@jupyter-widgets/controls",
          "model_name": "DescriptionStyleModel",
          "model_module_version": "1.5.0",
          "state": {
            "_view_name": "StyleView",
            "_model_name": "DescriptionStyleModel",
            "description_width": "",
            "_view_module": "@jupyter-widgets/base",
            "_model_module_version": "1.5.0",
            "_view_count": null,
            "_view_module_version": "1.2.0",
            "_model_module": "@jupyter-widgets/controls"
          }
        },
        "66cc782c37b74921847eb8e1436fc6aa": {
          "model_module": "@jupyter-widgets/base",
          "model_name": "LayoutModel",
          "model_module_version": "1.2.0",
          "state": {
            "_view_name": "LayoutView",
            "grid_template_rows": null,
            "right": null,
            "justify_content": null,
            "_view_module": "@jupyter-widgets/base",
            "overflow": null,
            "_model_module_version": "1.2.0",
            "_view_count": null,
            "flex_flow": null,
            "width": null,
            "min_width": null,
            "border": null,
            "align_items": null,
            "bottom": null,
            "_model_module": "@jupyter-widgets/base",
            "top": null,
            "grid_column": null,
            "overflow_y": null,
            "overflow_x": null,
            "grid_auto_flow": null,
            "grid_area": null,
            "grid_template_columns": null,
            "flex": null,
            "_model_name": "LayoutModel",
            "justify_items": null,
            "grid_row": null,
            "max_height": null,
            "align_content": null,
            "visibility": null,
            "align_self": null,
            "height": null,
            "min_height": null,
            "padding": null,
            "grid_auto_rows": null,
            "grid_gap": null,
            "max_width": null,
            "order": null,
            "_view_module_version": "1.2.0",
            "grid_template_areas": null,
            "object_position": null,
            "object_fit": null,
            "grid_auto_columns": null,
            "margin": null,
            "display": null,
            "left": null
          }
        },
        "224fef9b8167488d9f40d6dbe13efe16": {
          "model_module": "@jupyter-widgets/controls",
          "model_name": "ProgressStyleModel",
          "model_module_version": "1.5.0",
          "state": {
            "_view_name": "StyleView",
            "_model_name": "ProgressStyleModel",
            "description_width": "",
            "_view_module": "@jupyter-widgets/base",
            "_model_module_version": "1.5.0",
            "_view_count": null,
            "_view_module_version": "1.2.0",
            "bar_color": null,
            "_model_module": "@jupyter-widgets/controls"
          }
        },
        "4b618a11c8174efa966feb53e307b4b3": {
          "model_module": "@jupyter-widgets/base",
          "model_name": "LayoutModel",
          "model_module_version": "1.2.0",
          "state": {
            "_view_name": "LayoutView",
            "grid_template_rows": null,
            "right": null,
            "justify_content": null,
            "_view_module": "@jupyter-widgets/base",
            "overflow": null,
            "_model_module_version": "1.2.0",
            "_view_count": null,
            "flex_flow": null,
            "width": null,
            "min_width": null,
            "border": null,
            "align_items": null,
            "bottom": null,
            "_model_module": "@jupyter-widgets/base",
            "top": null,
            "grid_column": null,
            "overflow_y": null,
            "overflow_x": null,
            "grid_auto_flow": null,
            "grid_area": null,
            "grid_template_columns": null,
            "flex": null,
            "_model_name": "LayoutModel",
            "justify_items": null,
            "grid_row": null,
            "max_height": null,
            "align_content": null,
            "visibility": null,
            "align_self": null,
            "height": null,
            "min_height": null,
            "padding": null,
            "grid_auto_rows": null,
            "grid_gap": null,
            "max_width": null,
            "order": null,
            "_view_module_version": "1.2.0",
            "grid_template_areas": null,
            "object_position": null,
            "object_fit": null,
            "grid_auto_columns": null,
            "margin": null,
            "display": null,
            "left": null
          }
        },
        "1ad9ce2878e647d888f8fa28c140dad9": {
          "model_module": "@jupyter-widgets/controls",
          "model_name": "DescriptionStyleModel",
          "model_module_version": "1.5.0",
          "state": {
            "_view_name": "StyleView",
            "_model_name": "DescriptionStyleModel",
            "description_width": "",
            "_view_module": "@jupyter-widgets/base",
            "_model_module_version": "1.5.0",
            "_view_count": null,
            "_view_module_version": "1.2.0",
            "_model_module": "@jupyter-widgets/controls"
          }
        },
        "214f20f8c9314516817716e440f222d9": {
          "model_module": "@jupyter-widgets/base",
          "model_name": "LayoutModel",
          "model_module_version": "1.2.0",
          "state": {
            "_view_name": "LayoutView",
            "grid_template_rows": null,
            "right": null,
            "justify_content": null,
            "_view_module": "@jupyter-widgets/base",
            "overflow": null,
            "_model_module_version": "1.2.0",
            "_view_count": null,
            "flex_flow": null,
            "width": null,
            "min_width": null,
            "border": null,
            "align_items": null,
            "bottom": null,
            "_model_module": "@jupyter-widgets/base",
            "top": null,
            "grid_column": null,
            "overflow_y": null,
            "overflow_x": null,
            "grid_auto_flow": null,
            "grid_area": null,
            "grid_template_columns": null,
            "flex": null,
            "_model_name": "LayoutModel",
            "justify_items": null,
            "grid_row": null,
            "max_height": null,
            "align_content": null,
            "visibility": null,
            "align_self": null,
            "height": null,
            "min_height": null,
            "padding": null,
            "grid_auto_rows": null,
            "grid_gap": null,
            "max_width": null,
            "order": null,
            "_view_module_version": "1.2.0",
            "grid_template_areas": null,
            "object_position": null,
            "object_fit": null,
            "grid_auto_columns": null,
            "margin": null,
            "display": null,
            "left": null
          }
        },
        "9be1cb5ffd6f4a4cb04593c76f4b2965": {
          "model_module": "@jupyter-widgets/controls",
          "model_name": "HBoxModel",
          "model_module_version": "1.5.0",
          "state": {
            "_view_name": "HBoxView",
            "_dom_classes": [],
            "_model_name": "HBoxModel",
            "_view_module": "@jupyter-widgets/controls",
            "_model_module_version": "1.5.0",
            "_view_count": null,
            "_view_module_version": "1.5.0",
            "box_style": "",
            "layout": "IPY_MODEL_82a1415334454e8283aeafeaa07485d7",
            "_model_module": "@jupyter-widgets/controls",
            "children": [
              "IPY_MODEL_364d2bc173824c608dba7f9d5e599b63",
              "IPY_MODEL_112617e4b42443eb9e4168639bb4f64d",
              "IPY_MODEL_4dea6d2b40ed4495b6489ca0fb87f151"
            ]
          }
        },
        "82a1415334454e8283aeafeaa07485d7": {
          "model_module": "@jupyter-widgets/base",
          "model_name": "LayoutModel",
          "model_module_version": "1.2.0",
          "state": {
            "_view_name": "LayoutView",
            "grid_template_rows": null,
            "right": null,
            "justify_content": null,
            "_view_module": "@jupyter-widgets/base",
            "overflow": null,
            "_model_module_version": "1.2.0",
            "_view_count": null,
            "flex_flow": null,
            "width": null,
            "min_width": null,
            "border": null,
            "align_items": null,
            "bottom": null,
            "_model_module": "@jupyter-widgets/base",
            "top": null,
            "grid_column": null,
            "overflow_y": null,
            "overflow_x": null,
            "grid_auto_flow": null,
            "grid_area": null,
            "grid_template_columns": null,
            "flex": null,
            "_model_name": "LayoutModel",
            "justify_items": null,
            "grid_row": null,
            "max_height": null,
            "align_content": null,
            "visibility": null,
            "align_self": null,
            "height": null,
            "min_height": null,
            "padding": null,
            "grid_auto_rows": null,
            "grid_gap": null,
            "max_width": null,
            "order": null,
            "_view_module_version": "1.2.0",
            "grid_template_areas": null,
            "object_position": null,
            "object_fit": null,
            "grid_auto_columns": null,
            "margin": null,
            "display": null,
            "left": null
          }
        },
        "364d2bc173824c608dba7f9d5e599b63": {
          "model_module": "@jupyter-widgets/controls",
          "model_name": "HTMLModel",
          "model_module_version": "1.5.0",
          "state": {
            "_view_name": "HTMLView",
            "style": "IPY_MODEL_5501cfdeeb7942278d97bc136431d0c5",
            "_dom_classes": [],
            "description": "",
            "_model_name": "HTMLModel",
            "placeholder": "​",
            "_view_module": "@jupyter-widgets/controls",
            "_model_module_version": "1.5.0",
            "value": "Downloading: 100%",
            "_view_count": null,
            "_view_module_version": "1.5.0",
            "description_tooltip": null,
            "_model_module": "@jupyter-widgets/controls",
            "layout": "IPY_MODEL_97576ed05a594c669692cb587def45b2"
          }
        },
        "112617e4b42443eb9e4168639bb4f64d": {
          "model_module": "@jupyter-widgets/controls",
          "model_name": "FloatProgressModel",
          "model_module_version": "1.5.0",
          "state": {
            "_view_name": "ProgressView",
            "style": "IPY_MODEL_596d5a6696864c35acbd7d1f258e9dbf",
            "_dom_classes": [],
            "description": "",
            "_model_name": "FloatProgressModel",
            "bar_style": "success",
            "max": 1355863,
            "_view_module": "@jupyter-widgets/controls",
            "_model_module_version": "1.5.0",
            "value": 1355863,
            "_view_count": null,
            "_view_module_version": "1.5.0",
            "orientation": "horizontal",
            "min": 0,
            "description_tooltip": null,
            "_model_module": "@jupyter-widgets/controls",
            "layout": "IPY_MODEL_2389a197c3f8423093d83b4787cff980"
          }
        },
        "4dea6d2b40ed4495b6489ca0fb87f151": {
          "model_module": "@jupyter-widgets/controls",
          "model_name": "HTMLModel",
          "model_module_version": "1.5.0",
          "state": {
            "_view_name": "HTMLView",
            "style": "IPY_MODEL_1d3171fb82ab4cc2ab0c818d1f7b6564",
            "_dom_classes": [],
            "description": "",
            "_model_name": "HTMLModel",
            "placeholder": "​",
            "_view_module": "@jupyter-widgets/controls",
            "_model_module_version": "1.5.0",
            "value": " 1.36M/1.36M [00:00&lt;00:00, 2.87MB/s]",
            "_view_count": null,
            "_view_module_version": "1.5.0",
            "description_tooltip": null,
            "_model_module": "@jupyter-widgets/controls",
            "layout": "IPY_MODEL_5d95f6fcd81c4e5cb00d655d86e22c12"
          }
        },
        "5501cfdeeb7942278d97bc136431d0c5": {
          "model_module": "@jupyter-widgets/controls",
          "model_name": "DescriptionStyleModel",
          "model_module_version": "1.5.0",
          "state": {
            "_view_name": "StyleView",
            "_model_name": "DescriptionStyleModel",
            "description_width": "",
            "_view_module": "@jupyter-widgets/base",
            "_model_module_version": "1.5.0",
            "_view_count": null,
            "_view_module_version": "1.2.0",
            "_model_module": "@jupyter-widgets/controls"
          }
        },
        "97576ed05a594c669692cb587def45b2": {
          "model_module": "@jupyter-widgets/base",
          "model_name": "LayoutModel",
          "model_module_version": "1.2.0",
          "state": {
            "_view_name": "LayoutView",
            "grid_template_rows": null,
            "right": null,
            "justify_content": null,
            "_view_module": "@jupyter-widgets/base",
            "overflow": null,
            "_model_module_version": "1.2.0",
            "_view_count": null,
            "flex_flow": null,
            "width": null,
            "min_width": null,
            "border": null,
            "align_items": null,
            "bottom": null,
            "_model_module": "@jupyter-widgets/base",
            "top": null,
            "grid_column": null,
            "overflow_y": null,
            "overflow_x": null,
            "grid_auto_flow": null,
            "grid_area": null,
            "grid_template_columns": null,
            "flex": null,
            "_model_name": "LayoutModel",
            "justify_items": null,
            "grid_row": null,
            "max_height": null,
            "align_content": null,
            "visibility": null,
            "align_self": null,
            "height": null,
            "min_height": null,
            "padding": null,
            "grid_auto_rows": null,
            "grid_gap": null,
            "max_width": null,
            "order": null,
            "_view_module_version": "1.2.0",
            "grid_template_areas": null,
            "object_position": null,
            "object_fit": null,
            "grid_auto_columns": null,
            "margin": null,
            "display": null,
            "left": null
          }
        },
        "596d5a6696864c35acbd7d1f258e9dbf": {
          "model_module": "@jupyter-widgets/controls",
          "model_name": "ProgressStyleModel",
          "model_module_version": "1.5.0",
          "state": {
            "_view_name": "StyleView",
            "_model_name": "ProgressStyleModel",
            "description_width": "",
            "_view_module": "@jupyter-widgets/base",
            "_model_module_version": "1.5.0",
            "_view_count": null,
            "_view_module_version": "1.2.0",
            "bar_color": null,
            "_model_module": "@jupyter-widgets/controls"
          }
        },
        "2389a197c3f8423093d83b4787cff980": {
          "model_module": "@jupyter-widgets/base",
          "model_name": "LayoutModel",
          "model_module_version": "1.2.0",
          "state": {
            "_view_name": "LayoutView",
            "grid_template_rows": null,
            "right": null,
            "justify_content": null,
            "_view_module": "@jupyter-widgets/base",
            "overflow": null,
            "_model_module_version": "1.2.0",
            "_view_count": null,
            "flex_flow": null,
            "width": null,
            "min_width": null,
            "border": null,
            "align_items": null,
            "bottom": null,
            "_model_module": "@jupyter-widgets/base",
            "top": null,
            "grid_column": null,
            "overflow_y": null,
            "overflow_x": null,
            "grid_auto_flow": null,
            "grid_area": null,
            "grid_template_columns": null,
            "flex": null,
            "_model_name": "LayoutModel",
            "justify_items": null,
            "grid_row": null,
            "max_height": null,
            "align_content": null,
            "visibility": null,
            "align_self": null,
            "height": null,
            "min_height": null,
            "padding": null,
            "grid_auto_rows": null,
            "grid_gap": null,
            "max_width": null,
            "order": null,
            "_view_module_version": "1.2.0",
            "grid_template_areas": null,
            "object_position": null,
            "object_fit": null,
            "grid_auto_columns": null,
            "margin": null,
            "display": null,
            "left": null
          }
        },
        "1d3171fb82ab4cc2ab0c818d1f7b6564": {
          "model_module": "@jupyter-widgets/controls",
          "model_name": "DescriptionStyleModel",
          "model_module_version": "1.5.0",
          "state": {
            "_view_name": "StyleView",
            "_model_name": "DescriptionStyleModel",
            "description_width": "",
            "_view_module": "@jupyter-widgets/base",
            "_model_module_version": "1.5.0",
            "_view_count": null,
            "_view_module_version": "1.2.0",
            "_model_module": "@jupyter-widgets/controls"
          }
        },
        "5d95f6fcd81c4e5cb00d655d86e22c12": {
          "model_module": "@jupyter-widgets/base",
          "model_name": "LayoutModel",
          "model_module_version": "1.2.0",
          "state": {
            "_view_name": "LayoutView",
            "grid_template_rows": null,
            "right": null,
            "justify_content": null,
            "_view_module": "@jupyter-widgets/base",
            "overflow": null,
            "_model_module_version": "1.2.0",
            "_view_count": null,
            "flex_flow": null,
            "width": null,
            "min_width": null,
            "border": null,
            "align_items": null,
            "bottom": null,
            "_model_module": "@jupyter-widgets/base",
            "top": null,
            "grid_column": null,
            "overflow_y": null,
            "overflow_x": null,
            "grid_auto_flow": null,
            "grid_area": null,
            "grid_template_columns": null,
            "flex": null,
            "_model_name": "LayoutModel",
            "justify_items": null,
            "grid_row": null,
            "max_height": null,
            "align_content": null,
            "visibility": null,
            "align_self": null,
            "height": null,
            "min_height": null,
            "padding": null,
            "grid_auto_rows": null,
            "grid_gap": null,
            "max_width": null,
            "order": null,
            "_view_module_version": "1.2.0",
            "grid_template_areas": null,
            "object_position": null,
            "object_fit": null,
            "grid_auto_columns": null,
            "margin": null,
            "display": null,
            "left": null
          }
        },
        "d734d64e5da3488dbd24baeb12172a2c": {
          "model_module": "@jupyter-widgets/controls",
          "model_name": "HBoxModel",
          "model_module_version": "1.5.0",
          "state": {
            "_view_name": "HBoxView",
            "_dom_classes": [],
            "_model_name": "HBoxModel",
            "_view_module": "@jupyter-widgets/controls",
            "_model_module_version": "1.5.0",
            "_view_count": null,
            "_view_module_version": "1.5.0",
            "box_style": "",
            "layout": "IPY_MODEL_fc9fb086df5443be851ee42daea070ed",
            "_model_module": "@jupyter-widgets/controls",
            "children": [
              "IPY_MODEL_a5753f7d21a3477c852bf13560d8fe0a",
              "IPY_MODEL_fc78e1e22531464680046912f3ca7f86",
              "IPY_MODEL_e60a99616d20437fab70db2e9537a451"
            ]
          }
        },
        "fc9fb086df5443be851ee42daea070ed": {
          "model_module": "@jupyter-widgets/base",
          "model_name": "LayoutModel",
          "model_module_version": "1.2.0",
          "state": {
            "_view_name": "LayoutView",
            "grid_template_rows": null,
            "right": null,
            "justify_content": null,
            "_view_module": "@jupyter-widgets/base",
            "overflow": null,
            "_model_module_version": "1.2.0",
            "_view_count": null,
            "flex_flow": null,
            "width": null,
            "min_width": null,
            "border": null,
            "align_items": null,
            "bottom": null,
            "_model_module": "@jupyter-widgets/base",
            "top": null,
            "grid_column": null,
            "overflow_y": null,
            "overflow_x": null,
            "grid_auto_flow": null,
            "grid_area": null,
            "grid_template_columns": null,
            "flex": null,
            "_model_name": "LayoutModel",
            "justify_items": null,
            "grid_row": null,
            "max_height": null,
            "align_content": null,
            "visibility": null,
            "align_self": null,
            "height": null,
            "min_height": null,
            "padding": null,
            "grid_auto_rows": null,
            "grid_gap": null,
            "max_width": null,
            "order": null,
            "_view_module_version": "1.2.0",
            "grid_template_areas": null,
            "object_position": null,
            "object_fit": null,
            "grid_auto_columns": null,
            "margin": null,
            "display": null,
            "left": null
          }
        },
        "a5753f7d21a3477c852bf13560d8fe0a": {
          "model_module": "@jupyter-widgets/controls",
          "model_name": "HTMLModel",
          "model_module_version": "1.5.0",
          "state": {
            "_view_name": "HTMLView",
            "style": "IPY_MODEL_3fd23aee30d34bce9d08d164487fb1d9",
            "_dom_classes": [],
            "description": "",
            "_model_name": "HTMLModel",
            "placeholder": "​",
            "_view_module": "@jupyter-widgets/controls",
            "_model_module_version": "1.5.0",
            "value": "100%",
            "_view_count": null,
            "_view_module_version": "1.5.0",
            "description_tooltip": null,
            "_model_module": "@jupyter-widgets/controls",
            "layout": "IPY_MODEL_4db1c34b8c9448c78578f6c83dfbd771"
          }
        },
        "fc78e1e22531464680046912f3ca7f86": {
          "model_module": "@jupyter-widgets/controls",
          "model_name": "FloatProgressModel",
          "model_module_version": "1.5.0",
          "state": {
            "_view_name": "ProgressView",
            "style": "IPY_MODEL_7397c8de32384cc882306d05d2f4260e",
            "_dom_classes": [],
            "description": "",
            "_model_name": "FloatProgressModel",
            "bar_style": "success",
            "max": 3,
            "_view_module": "@jupyter-widgets/controls",
            "_model_module_version": "1.5.0",
            "value": 3,
            "_view_count": null,
            "_view_module_version": "1.5.0",
            "orientation": "horizontal",
            "min": 0,
            "description_tooltip": null,
            "_model_module": "@jupyter-widgets/controls",
            "layout": "IPY_MODEL_bcfb09c77384407f99d52381ebe9d3e9"
          }
        },
        "e60a99616d20437fab70db2e9537a451": {
          "model_module": "@jupyter-widgets/controls",
          "model_name": "HTMLModel",
          "model_module_version": "1.5.0",
          "state": {
            "_view_name": "HTMLView",
            "style": "IPY_MODEL_2550c8cb939b40f288bb2ca8792d7ec0",
            "_dom_classes": [],
            "description": "",
            "_model_name": "HTMLModel",
            "placeholder": "​",
            "_view_module": "@jupyter-widgets/controls",
            "_model_module_version": "1.5.0",
            "value": " 3/3 [00:00&lt;00:00,  5.49ba/s]",
            "_view_count": null,
            "_view_module_version": "1.5.0",
            "description_tooltip": null,
            "_model_module": "@jupyter-widgets/controls",
            "layout": "IPY_MODEL_58ada782d4e3491d92a887b58ab00937"
          }
        },
        "3fd23aee30d34bce9d08d164487fb1d9": {
          "model_module": "@jupyter-widgets/controls",
          "model_name": "DescriptionStyleModel",
          "model_module_version": "1.5.0",
          "state": {
            "_view_name": "StyleView",
            "_model_name": "DescriptionStyleModel",
            "description_width": "",
            "_view_module": "@jupyter-widgets/base",
            "_model_module_version": "1.5.0",
            "_view_count": null,
            "_view_module_version": "1.2.0",
            "_model_module": "@jupyter-widgets/controls"
          }
        },
        "4db1c34b8c9448c78578f6c83dfbd771": {
          "model_module": "@jupyter-widgets/base",
          "model_name": "LayoutModel",
          "model_module_version": "1.2.0",
          "state": {
            "_view_name": "LayoutView",
            "grid_template_rows": null,
            "right": null,
            "justify_content": null,
            "_view_module": "@jupyter-widgets/base",
            "overflow": null,
            "_model_module_version": "1.2.0",
            "_view_count": null,
            "flex_flow": null,
            "width": null,
            "min_width": null,
            "border": null,
            "align_items": null,
            "bottom": null,
            "_model_module": "@jupyter-widgets/base",
            "top": null,
            "grid_column": null,
            "overflow_y": null,
            "overflow_x": null,
            "grid_auto_flow": null,
            "grid_area": null,
            "grid_template_columns": null,
            "flex": null,
            "_model_name": "LayoutModel",
            "justify_items": null,
            "grid_row": null,
            "max_height": null,
            "align_content": null,
            "visibility": null,
            "align_self": null,
            "height": null,
            "min_height": null,
            "padding": null,
            "grid_auto_rows": null,
            "grid_gap": null,
            "max_width": null,
            "order": null,
            "_view_module_version": "1.2.0",
            "grid_template_areas": null,
            "object_position": null,
            "object_fit": null,
            "grid_auto_columns": null,
            "margin": null,
            "display": null,
            "left": null
          }
        },
        "7397c8de32384cc882306d05d2f4260e": {
          "model_module": "@jupyter-widgets/controls",
          "model_name": "ProgressStyleModel",
          "model_module_version": "1.5.0",
          "state": {
            "_view_name": "StyleView",
            "_model_name": "ProgressStyleModel",
            "description_width": "",
            "_view_module": "@jupyter-widgets/base",
            "_model_module_version": "1.5.0",
            "_view_count": null,
            "_view_module_version": "1.2.0",
            "bar_color": null,
            "_model_module": "@jupyter-widgets/controls"
          }
        },
        "bcfb09c77384407f99d52381ebe9d3e9": {
          "model_module": "@jupyter-widgets/base",
          "model_name": "LayoutModel",
          "model_module_version": "1.2.0",
          "state": {
            "_view_name": "LayoutView",
            "grid_template_rows": null,
            "right": null,
            "justify_content": null,
            "_view_module": "@jupyter-widgets/base",
            "overflow": null,
            "_model_module_version": "1.2.0",
            "_view_count": null,
            "flex_flow": null,
            "width": null,
            "min_width": null,
            "border": null,
            "align_items": null,
            "bottom": null,
            "_model_module": "@jupyter-widgets/base",
            "top": null,
            "grid_column": null,
            "overflow_y": null,
            "overflow_x": null,
            "grid_auto_flow": null,
            "grid_area": null,
            "grid_template_columns": null,
            "flex": null,
            "_model_name": "LayoutModel",
            "justify_items": null,
            "grid_row": null,
            "max_height": null,
            "align_content": null,
            "visibility": null,
            "align_self": null,
            "height": null,
            "min_height": null,
            "padding": null,
            "grid_auto_rows": null,
            "grid_gap": null,
            "max_width": null,
            "order": null,
            "_view_module_version": "1.2.0",
            "grid_template_areas": null,
            "object_position": null,
            "object_fit": null,
            "grid_auto_columns": null,
            "margin": null,
            "display": null,
            "left": null
          }
        },
        "2550c8cb939b40f288bb2ca8792d7ec0": {
          "model_module": "@jupyter-widgets/controls",
          "model_name": "DescriptionStyleModel",
          "model_module_version": "1.5.0",
          "state": {
            "_view_name": "StyleView",
            "_model_name": "DescriptionStyleModel",
            "description_width": "",
            "_view_module": "@jupyter-widgets/base",
            "_model_module_version": "1.5.0",
            "_view_count": null,
            "_view_module_version": "1.2.0",
            "_model_module": "@jupyter-widgets/controls"
          }
        },
        "58ada782d4e3491d92a887b58ab00937": {
          "model_module": "@jupyter-widgets/base",
          "model_name": "LayoutModel",
          "model_module_version": "1.2.0",
          "state": {
            "_view_name": "LayoutView",
            "grid_template_rows": null,
            "right": null,
            "justify_content": null,
            "_view_module": "@jupyter-widgets/base",
            "overflow": null,
            "_model_module_version": "1.2.0",
            "_view_count": null,
            "flex_flow": null,
            "width": null,
            "min_width": null,
            "border": null,
            "align_items": null,
            "bottom": null,
            "_model_module": "@jupyter-widgets/base",
            "top": null,
            "grid_column": null,
            "overflow_y": null,
            "overflow_x": null,
            "grid_auto_flow": null,
            "grid_area": null,
            "grid_template_columns": null,
            "flex": null,
            "_model_name": "LayoutModel",
            "justify_items": null,
            "grid_row": null,
            "max_height": null,
            "align_content": null,
            "visibility": null,
            "align_self": null,
            "height": null,
            "min_height": null,
            "padding": null,
            "grid_auto_rows": null,
            "grid_gap": null,
            "max_width": null,
            "order": null,
            "_view_module_version": "1.2.0",
            "grid_template_areas": null,
            "object_position": null,
            "object_fit": null,
            "grid_auto_columns": null,
            "margin": null,
            "display": null,
            "left": null
          }
        },
        "165ae2f1bdbf4afd970cd15531e21d7c": {
          "model_module": "@jupyter-widgets/controls",
          "model_name": "HBoxModel",
          "model_module_version": "1.5.0",
          "state": {
            "_view_name": "HBoxView",
            "_dom_classes": [],
            "_model_name": "HBoxModel",
            "_view_module": "@jupyter-widgets/controls",
            "_model_module_version": "1.5.0",
            "_view_count": null,
            "_view_module_version": "1.5.0",
            "box_style": "",
            "layout": "IPY_MODEL_f231ba07be6a4ac0936b30f16111c653",
            "_model_module": "@jupyter-widgets/controls",
            "children": [
              "IPY_MODEL_02678cdad1054848a8cb467a2ef0f28d",
              "IPY_MODEL_c6d97e1492754724a7eae78f84a8c098",
              "IPY_MODEL_522f97f63ac543349be97fc5a56388a3"
            ]
          }
        },
        "f231ba07be6a4ac0936b30f16111c653": {
          "model_module": "@jupyter-widgets/base",
          "model_name": "LayoutModel",
          "model_module_version": "1.2.0",
          "state": {
            "_view_name": "LayoutView",
            "grid_template_rows": null,
            "right": null,
            "justify_content": null,
            "_view_module": "@jupyter-widgets/base",
            "overflow": null,
            "_model_module_version": "1.2.0",
            "_view_count": null,
            "flex_flow": null,
            "width": null,
            "min_width": null,
            "border": null,
            "align_items": null,
            "bottom": null,
            "_model_module": "@jupyter-widgets/base",
            "top": null,
            "grid_column": null,
            "overflow_y": null,
            "overflow_x": null,
            "grid_auto_flow": null,
            "grid_area": null,
            "grid_template_columns": null,
            "flex": null,
            "_model_name": "LayoutModel",
            "justify_items": null,
            "grid_row": null,
            "max_height": null,
            "align_content": null,
            "visibility": null,
            "align_self": null,
            "height": null,
            "min_height": null,
            "padding": null,
            "grid_auto_rows": null,
            "grid_gap": null,
            "max_width": null,
            "order": null,
            "_view_module_version": "1.2.0",
            "grid_template_areas": null,
            "object_position": null,
            "object_fit": null,
            "grid_auto_columns": null,
            "margin": null,
            "display": null,
            "left": null
          }
        },
        "02678cdad1054848a8cb467a2ef0f28d": {
          "model_module": "@jupyter-widgets/controls",
          "model_name": "HTMLModel",
          "model_module_version": "1.5.0",
          "state": {
            "_view_name": "HTMLView",
            "style": "IPY_MODEL_c927a0c5aa80422a87e26c069c0bf500",
            "_dom_classes": [],
            "description": "",
            "_model_name": "HTMLModel",
            "placeholder": "​",
            "_view_module": "@jupyter-widgets/controls",
            "_model_module_version": "1.5.0",
            "value": "100%",
            "_view_count": null,
            "_view_module_version": "1.5.0",
            "description_tooltip": null,
            "_model_module": "@jupyter-widgets/controls",
            "layout": "IPY_MODEL_8233308723944df083d7060468a76c51"
          }
        },
        "c6d97e1492754724a7eae78f84a8c098": {
          "model_module": "@jupyter-widgets/controls",
          "model_name": "FloatProgressModel",
          "model_module_version": "1.5.0",
          "state": {
            "_view_name": "ProgressView",
            "style": "IPY_MODEL_8b27fd3da63e4e3e8b9b1b881b8fd7e0",
            "_dom_classes": [],
            "description": "",
            "_model_name": "FloatProgressModel",
            "bar_style": "success",
            "max": 1,
            "_view_module": "@jupyter-widgets/controls",
            "_model_module_version": "1.5.0",
            "value": 1,
            "_view_count": null,
            "_view_module_version": "1.5.0",
            "orientation": "horizontal",
            "min": 0,
            "description_tooltip": null,
            "_model_module": "@jupyter-widgets/controls",
            "layout": "IPY_MODEL_fbb40b0fea094c73894811fcddb4514f"
          }
        },
        "522f97f63ac543349be97fc5a56388a3": {
          "model_module": "@jupyter-widgets/controls",
          "model_name": "HTMLModel",
          "model_module_version": "1.5.0",
          "state": {
            "_view_name": "HTMLView",
            "style": "IPY_MODEL_d6a38e6d69da495d8601353cb9030721",
            "_dom_classes": [],
            "description": "",
            "_model_name": "HTMLModel",
            "placeholder": "​",
            "_view_module": "@jupyter-widgets/controls",
            "_model_module_version": "1.5.0",
            "value": " 1/1 [00:00&lt;00:00, 11.69ba/s]",
            "_view_count": null,
            "_view_module_version": "1.5.0",
            "description_tooltip": null,
            "_model_module": "@jupyter-widgets/controls",
            "layout": "IPY_MODEL_e5d962fdde874b3e87fc67883bc388fd"
          }
        },
        "c927a0c5aa80422a87e26c069c0bf500": {
          "model_module": "@jupyter-widgets/controls",
          "model_name": "DescriptionStyleModel",
          "model_module_version": "1.5.0",
          "state": {
            "_view_name": "StyleView",
            "_model_name": "DescriptionStyleModel",
            "description_width": "",
            "_view_module": "@jupyter-widgets/base",
            "_model_module_version": "1.5.0",
            "_view_count": null,
            "_view_module_version": "1.2.0",
            "_model_module": "@jupyter-widgets/controls"
          }
        },
        "8233308723944df083d7060468a76c51": {
          "model_module": "@jupyter-widgets/base",
          "model_name": "LayoutModel",
          "model_module_version": "1.2.0",
          "state": {
            "_view_name": "LayoutView",
            "grid_template_rows": null,
            "right": null,
            "justify_content": null,
            "_view_module": "@jupyter-widgets/base",
            "overflow": null,
            "_model_module_version": "1.2.0",
            "_view_count": null,
            "flex_flow": null,
            "width": null,
            "min_width": null,
            "border": null,
            "align_items": null,
            "bottom": null,
            "_model_module": "@jupyter-widgets/base",
            "top": null,
            "grid_column": null,
            "overflow_y": null,
            "overflow_x": null,
            "grid_auto_flow": null,
            "grid_area": null,
            "grid_template_columns": null,
            "flex": null,
            "_model_name": "LayoutModel",
            "justify_items": null,
            "grid_row": null,
            "max_height": null,
            "align_content": null,
            "visibility": null,
            "align_self": null,
            "height": null,
            "min_height": null,
            "padding": null,
            "grid_auto_rows": null,
            "grid_gap": null,
            "max_width": null,
            "order": null,
            "_view_module_version": "1.2.0",
            "grid_template_areas": null,
            "object_position": null,
            "object_fit": null,
            "grid_auto_columns": null,
            "margin": null,
            "display": null,
            "left": null
          }
        },
        "8b27fd3da63e4e3e8b9b1b881b8fd7e0": {
          "model_module": "@jupyter-widgets/controls",
          "model_name": "ProgressStyleModel",
          "model_module_version": "1.5.0",
          "state": {
            "_view_name": "StyleView",
            "_model_name": "ProgressStyleModel",
            "description_width": "",
            "_view_module": "@jupyter-widgets/base",
            "_model_module_version": "1.5.0",
            "_view_count": null,
            "_view_module_version": "1.2.0",
            "bar_color": null,
            "_model_module": "@jupyter-widgets/controls"
          }
        },
        "fbb40b0fea094c73894811fcddb4514f": {
          "model_module": "@jupyter-widgets/base",
          "model_name": "LayoutModel",
          "model_module_version": "1.2.0",
          "state": {
            "_view_name": "LayoutView",
            "grid_template_rows": null,
            "right": null,
            "justify_content": null,
            "_view_module": "@jupyter-widgets/base",
            "overflow": null,
            "_model_module_version": "1.2.0",
            "_view_count": null,
            "flex_flow": null,
            "width": null,
            "min_width": null,
            "border": null,
            "align_items": null,
            "bottom": null,
            "_model_module": "@jupyter-widgets/base",
            "top": null,
            "grid_column": null,
            "overflow_y": null,
            "overflow_x": null,
            "grid_auto_flow": null,
            "grid_area": null,
            "grid_template_columns": null,
            "flex": null,
            "_model_name": "LayoutModel",
            "justify_items": null,
            "grid_row": null,
            "max_height": null,
            "align_content": null,
            "visibility": null,
            "align_self": null,
            "height": null,
            "min_height": null,
            "padding": null,
            "grid_auto_rows": null,
            "grid_gap": null,
            "max_width": null,
            "order": null,
            "_view_module_version": "1.2.0",
            "grid_template_areas": null,
            "object_position": null,
            "object_fit": null,
            "grid_auto_columns": null,
            "margin": null,
            "display": null,
            "left": null
          }
        },
        "d6a38e6d69da495d8601353cb9030721": {
          "model_module": "@jupyter-widgets/controls",
          "model_name": "DescriptionStyleModel",
          "model_module_version": "1.5.0",
          "state": {
            "_view_name": "StyleView",
            "_model_name": "DescriptionStyleModel",
            "description_width": "",
            "_view_module": "@jupyter-widgets/base",
            "_model_module_version": "1.5.0",
            "_view_count": null,
            "_view_module_version": "1.2.0",
            "_model_module": "@jupyter-widgets/controls"
          }
        },
        "e5d962fdde874b3e87fc67883bc388fd": {
          "model_module": "@jupyter-widgets/base",
          "model_name": "LayoutModel",
          "model_module_version": "1.2.0",
          "state": {
            "_view_name": "LayoutView",
            "grid_template_rows": null,
            "right": null,
            "justify_content": null,
            "_view_module": "@jupyter-widgets/base",
            "overflow": null,
            "_model_module_version": "1.2.0",
            "_view_count": null,
            "flex_flow": null,
            "width": null,
            "min_width": null,
            "border": null,
            "align_items": null,
            "bottom": null,
            "_model_module": "@jupyter-widgets/base",
            "top": null,
            "grid_column": null,
            "overflow_y": null,
            "overflow_x": null,
            "grid_auto_flow": null,
            "grid_area": null,
            "grid_template_columns": null,
            "flex": null,
            "_model_name": "LayoutModel",
            "justify_items": null,
            "grid_row": null,
            "max_height": null,
            "align_content": null,
            "visibility": null,
            "align_self": null,
            "height": null,
            "min_height": null,
            "padding": null,
            "grid_auto_rows": null,
            "grid_gap": null,
            "max_width": null,
            "order": null,
            "_view_module_version": "1.2.0",
            "grid_template_areas": null,
            "object_position": null,
            "object_fit": null,
            "grid_auto_columns": null,
            "margin": null,
            "display": null,
            "left": null
          }
        },
        "39facec4ec3b4b309b484dc02f6699aa": {
          "model_module": "@jupyter-widgets/controls",
          "model_name": "HBoxModel",
          "model_module_version": "1.5.0",
          "state": {
            "_view_name": "HBoxView",
            "_dom_classes": [],
            "_model_name": "HBoxModel",
            "_view_module": "@jupyter-widgets/controls",
            "_model_module_version": "1.5.0",
            "_view_count": null,
            "_view_module_version": "1.5.0",
            "box_style": "",
            "layout": "IPY_MODEL_187135b57e89431493d7ba491dcd5907",
            "_model_module": "@jupyter-widgets/controls",
            "children": [
              "IPY_MODEL_994a38d771754501b7457415148a1d9f",
              "IPY_MODEL_c95a1906c41b4b619901714d8f1459ca",
              "IPY_MODEL_7602889204764a86a28b47fff757c283"
            ]
          }
        },
        "187135b57e89431493d7ba491dcd5907": {
          "model_module": "@jupyter-widgets/base",
          "model_name": "LayoutModel",
          "model_module_version": "1.2.0",
          "state": {
            "_view_name": "LayoutView",
            "grid_template_rows": null,
            "right": null,
            "justify_content": null,
            "_view_module": "@jupyter-widgets/base",
            "overflow": null,
            "_model_module_version": "1.2.0",
            "_view_count": null,
            "flex_flow": null,
            "width": null,
            "min_width": null,
            "border": null,
            "align_items": null,
            "bottom": null,
            "_model_module": "@jupyter-widgets/base",
            "top": null,
            "grid_column": null,
            "overflow_y": null,
            "overflow_x": null,
            "grid_auto_flow": null,
            "grid_area": null,
            "grid_template_columns": null,
            "flex": null,
            "_model_name": "LayoutModel",
            "justify_items": null,
            "grid_row": null,
            "max_height": null,
            "align_content": null,
            "visibility": null,
            "align_self": null,
            "height": null,
            "min_height": null,
            "padding": null,
            "grid_auto_rows": null,
            "grid_gap": null,
            "max_width": null,
            "order": null,
            "_view_module_version": "1.2.0",
            "grid_template_areas": null,
            "object_position": null,
            "object_fit": null,
            "grid_auto_columns": null,
            "margin": null,
            "display": null,
            "left": null
          }
        },
        "994a38d771754501b7457415148a1d9f": {
          "model_module": "@jupyter-widgets/controls",
          "model_name": "HTMLModel",
          "model_module_version": "1.5.0",
          "state": {
            "_view_name": "HTMLView",
            "style": "IPY_MODEL_0a61c8b3ed854705b6bdd42d250067bc",
            "_dom_classes": [],
            "description": "",
            "_model_name": "HTMLModel",
            "placeholder": "​",
            "_view_module": "@jupyter-widgets/controls",
            "_model_module_version": "1.5.0",
            "value": "Downloading: 100%",
            "_view_count": null,
            "_view_module_version": "1.5.0",
            "description_tooltip": null,
            "_model_module": "@jupyter-widgets/controls",
            "layout": "IPY_MODEL_89fc8db37bf04ef8a886e9adf12fbbdf"
          }
        },
        "c95a1906c41b4b619901714d8f1459ca": {
          "model_module": "@jupyter-widgets/controls",
          "model_name": "FloatProgressModel",
          "model_module_version": "1.5.0",
          "state": {
            "_view_name": "ProgressView",
            "style": "IPY_MODEL_1408e1c628b749ff91fbd219372650f3",
            "_dom_classes": [],
            "description": "",
            "_model_name": "FloatProgressModel",
            "bar_style": "success",
            "max": 1425941629,
            "_view_module": "@jupyter-widgets/controls",
            "_model_module_version": "1.5.0",
            "value": 1425941629,
            "_view_count": null,
            "_view_module_version": "1.5.0",
            "orientation": "horizontal",
            "min": 0,
            "description_tooltip": null,
            "_model_module": "@jupyter-widgets/controls",
            "layout": "IPY_MODEL_6fe92680711f45ffb5bd59ac7abe4039"
          }
        },
        "7602889204764a86a28b47fff757c283": {
          "model_module": "@jupyter-widgets/controls",
          "model_name": "HTMLModel",
          "model_module_version": "1.5.0",
          "state": {
            "_view_name": "HTMLView",
            "style": "IPY_MODEL_4e480683603d4b108f43cdeef9942b5d",
            "_dom_classes": [],
            "description": "",
            "_model_name": "HTMLModel",
            "placeholder": "​",
            "_view_module": "@jupyter-widgets/controls",
            "_model_module_version": "1.5.0",
            "value": " 1.43G/1.43G [00:27&lt;00:00, 54.3MB/s]",
            "_view_count": null,
            "_view_module_version": "1.5.0",
            "description_tooltip": null,
            "_model_module": "@jupyter-widgets/controls",
            "layout": "IPY_MODEL_95dadfa9f41f4334965961df259fa746"
          }
        },
        "0a61c8b3ed854705b6bdd42d250067bc": {
          "model_module": "@jupyter-widgets/controls",
          "model_name": "DescriptionStyleModel",
          "model_module_version": "1.5.0",
          "state": {
            "_view_name": "StyleView",
            "_model_name": "DescriptionStyleModel",
            "description_width": "",
            "_view_module": "@jupyter-widgets/base",
            "_model_module_version": "1.5.0",
            "_view_count": null,
            "_view_module_version": "1.2.0",
            "_model_module": "@jupyter-widgets/controls"
          }
        },
        "89fc8db37bf04ef8a886e9adf12fbbdf": {
          "model_module": "@jupyter-widgets/base",
          "model_name": "LayoutModel",
          "model_module_version": "1.2.0",
          "state": {
            "_view_name": "LayoutView",
            "grid_template_rows": null,
            "right": null,
            "justify_content": null,
            "_view_module": "@jupyter-widgets/base",
            "overflow": null,
            "_model_module_version": "1.2.0",
            "_view_count": null,
            "flex_flow": null,
            "width": null,
            "min_width": null,
            "border": null,
            "align_items": null,
            "bottom": null,
            "_model_module": "@jupyter-widgets/base",
            "top": null,
            "grid_column": null,
            "overflow_y": null,
            "overflow_x": null,
            "grid_auto_flow": null,
            "grid_area": null,
            "grid_template_columns": null,
            "flex": null,
            "_model_name": "LayoutModel",
            "justify_items": null,
            "grid_row": null,
            "max_height": null,
            "align_content": null,
            "visibility": null,
            "align_self": null,
            "height": null,
            "min_height": null,
            "padding": null,
            "grid_auto_rows": null,
            "grid_gap": null,
            "max_width": null,
            "order": null,
            "_view_module_version": "1.2.0",
            "grid_template_areas": null,
            "object_position": null,
            "object_fit": null,
            "grid_auto_columns": null,
            "margin": null,
            "display": null,
            "left": null
          }
        },
        "1408e1c628b749ff91fbd219372650f3": {
          "model_module": "@jupyter-widgets/controls",
          "model_name": "ProgressStyleModel",
          "model_module_version": "1.5.0",
          "state": {
            "_view_name": "StyleView",
            "_model_name": "ProgressStyleModel",
            "description_width": "",
            "_view_module": "@jupyter-widgets/base",
            "_model_module_version": "1.5.0",
            "_view_count": null,
            "_view_module_version": "1.2.0",
            "bar_color": null,
            "_model_module": "@jupyter-widgets/controls"
          }
        },
        "6fe92680711f45ffb5bd59ac7abe4039": {
          "model_module": "@jupyter-widgets/base",
          "model_name": "LayoutModel",
          "model_module_version": "1.2.0",
          "state": {
            "_view_name": "LayoutView",
            "grid_template_rows": null,
            "right": null,
            "justify_content": null,
            "_view_module": "@jupyter-widgets/base",
            "overflow": null,
            "_model_module_version": "1.2.0",
            "_view_count": null,
            "flex_flow": null,
            "width": null,
            "min_width": null,
            "border": null,
            "align_items": null,
            "bottom": null,
            "_model_module": "@jupyter-widgets/base",
            "top": null,
            "grid_column": null,
            "overflow_y": null,
            "overflow_x": null,
            "grid_auto_flow": null,
            "grid_area": null,
            "grid_template_columns": null,
            "flex": null,
            "_model_name": "LayoutModel",
            "justify_items": null,
            "grid_row": null,
            "max_height": null,
            "align_content": null,
            "visibility": null,
            "align_self": null,
            "height": null,
            "min_height": null,
            "padding": null,
            "grid_auto_rows": null,
            "grid_gap": null,
            "max_width": null,
            "order": null,
            "_view_module_version": "1.2.0",
            "grid_template_areas": null,
            "object_position": null,
            "object_fit": null,
            "grid_auto_columns": null,
            "margin": null,
            "display": null,
            "left": null
          }
        },
        "4e480683603d4b108f43cdeef9942b5d": {
          "model_module": "@jupyter-widgets/controls",
          "model_name": "DescriptionStyleModel",
          "model_module_version": "1.5.0",
          "state": {
            "_view_name": "StyleView",
            "_model_name": "DescriptionStyleModel",
            "description_width": "",
            "_view_module": "@jupyter-widgets/base",
            "_model_module_version": "1.5.0",
            "_view_count": null,
            "_view_module_version": "1.2.0",
            "_model_module": "@jupyter-widgets/controls"
          }
        },
        "95dadfa9f41f4334965961df259fa746": {
          "model_module": "@jupyter-widgets/base",
          "model_name": "LayoutModel",
          "model_module_version": "1.2.0",
          "state": {
            "_view_name": "LayoutView",
            "grid_template_rows": null,
            "right": null,
            "justify_content": null,
            "_view_module": "@jupyter-widgets/base",
            "overflow": null,
            "_model_module_version": "1.2.0",
            "_view_count": null,
            "flex_flow": null,
            "width": null,
            "min_width": null,
            "border": null,
            "align_items": null,
            "bottom": null,
            "_model_module": "@jupyter-widgets/base",
            "top": null,
            "grid_column": null,
            "overflow_y": null,
            "overflow_x": null,
            "grid_auto_flow": null,
            "grid_area": null,
            "grid_template_columns": null,
            "flex": null,
            "_model_name": "LayoutModel",
            "justify_items": null,
            "grid_row": null,
            "max_height": null,
            "align_content": null,
            "visibility": null,
            "align_self": null,
            "height": null,
            "min_height": null,
            "padding": null,
            "grid_auto_rows": null,
            "grid_gap": null,
            "max_width": null,
            "order": null,
            "_view_module_version": "1.2.0",
            "grid_template_areas": null,
            "object_position": null,
            "object_fit": null,
            "grid_auto_columns": null,
            "margin": null,
            "display": null,
            "left": null
          }
        },
        "ae6b9843b0fa405d81a0241450931eed": {
          "model_module": "@jupyter-widgets/controls",
          "model_name": "HBoxModel",
          "model_module_version": "1.5.0",
          "state": {
            "_view_name": "HBoxView",
            "_dom_classes": [],
            "_model_name": "HBoxModel",
            "_view_module": "@jupyter-widgets/controls",
            "_model_module_version": "1.5.0",
            "_view_count": null,
            "_view_module_version": "1.5.0",
            "box_style": "",
            "layout": "IPY_MODEL_cc42cad2b0ee4bc78d1ba86775f3b7c0",
            "_model_module": "@jupyter-widgets/controls",
            "children": [
              "IPY_MODEL_6e1f6f0e142449d4994c9ba63e5a78e4",
              "IPY_MODEL_860c57f0605841019279003ae2d7af5d",
              "IPY_MODEL_c1babf0f7c2e47c496212912d892f6fa"
            ]
          }
        },
        "cc42cad2b0ee4bc78d1ba86775f3b7c0": {
          "model_module": "@jupyter-widgets/base",
          "model_name": "LayoutModel",
          "model_module_version": "1.2.0",
          "state": {
            "_view_name": "LayoutView",
            "grid_template_rows": null,
            "right": null,
            "justify_content": null,
            "_view_module": "@jupyter-widgets/base",
            "overflow": null,
            "_model_module_version": "1.2.0",
            "_view_count": null,
            "flex_flow": null,
            "width": null,
            "min_width": null,
            "border": null,
            "align_items": null,
            "bottom": null,
            "_model_module": "@jupyter-widgets/base",
            "top": null,
            "grid_column": null,
            "overflow_y": null,
            "overflow_x": null,
            "grid_auto_flow": null,
            "grid_area": null,
            "grid_template_columns": null,
            "flex": null,
            "_model_name": "LayoutModel",
            "justify_items": null,
            "grid_row": null,
            "max_height": null,
            "align_content": null,
            "visibility": null,
            "align_self": null,
            "height": null,
            "min_height": null,
            "padding": null,
            "grid_auto_rows": null,
            "grid_gap": null,
            "max_width": null,
            "order": null,
            "_view_module_version": "1.2.0",
            "grid_template_areas": null,
            "object_position": null,
            "object_fit": null,
            "grid_auto_columns": null,
            "margin": null,
            "display": null,
            "left": null
          }
        },
        "6e1f6f0e142449d4994c9ba63e5a78e4": {
          "model_module": "@jupyter-widgets/controls",
          "model_name": "HTMLModel",
          "model_module_version": "1.5.0",
          "state": {
            "_view_name": "HTMLView",
            "style": "IPY_MODEL_8681a45e20be45fab43de482bf41c755",
            "_dom_classes": [],
            "description": "",
            "_model_name": "HTMLModel",
            "placeholder": "​",
            "_view_module": "@jupyter-widgets/controls",
            "_model_module_version": "1.5.0",
            "value": "Downloading: ",
            "_view_count": null,
            "_view_module_version": "1.5.0",
            "description_tooltip": null,
            "_model_module": "@jupyter-widgets/controls",
            "layout": "IPY_MODEL_772b8c3840ca424891dc5ba40dc83a39"
          }
        },
        "860c57f0605841019279003ae2d7af5d": {
          "model_module": "@jupyter-widgets/controls",
          "model_name": "FloatProgressModel",
          "model_module_version": "1.5.0",
          "state": {
            "_view_name": "ProgressView",
            "style": "IPY_MODEL_934e7056908445a4a0da01d7771db8a3",
            "_dom_classes": [],
            "description": "",
            "_model_name": "FloatProgressModel",
            "bar_style": "success",
            "max": 1957,
            "_view_module": "@jupyter-widgets/controls",
            "_model_module_version": "1.5.0",
            "value": 1957,
            "_view_count": null,
            "_view_module_version": "1.5.0",
            "orientation": "horizontal",
            "min": 0,
            "description_tooltip": null,
            "_model_module": "@jupyter-widgets/controls",
            "layout": "IPY_MODEL_485420f9c2a4437ea75fa5b7999a71bc"
          }
        },
        "c1babf0f7c2e47c496212912d892f6fa": {
          "model_module": "@jupyter-widgets/controls",
          "model_name": "HTMLModel",
          "model_module_version": "1.5.0",
          "state": {
            "_view_name": "HTMLView",
            "style": "IPY_MODEL_62f67891d257436c91d536a3fc1fe5fc",
            "_dom_classes": [],
            "description": "",
            "_model_name": "HTMLModel",
            "placeholder": "​",
            "_view_module": "@jupyter-widgets/controls",
            "_model_module_version": "1.5.0",
            "value": " 4.64k/? [00:00&lt;00:00, 123kB/s]",
            "_view_count": null,
            "_view_module_version": "1.5.0",
            "description_tooltip": null,
            "_model_module": "@jupyter-widgets/controls",
            "layout": "IPY_MODEL_bcdc0ed9aadd400f85abf6e4da333206"
          }
        },
        "8681a45e20be45fab43de482bf41c755": {
          "model_module": "@jupyter-widgets/controls",
          "model_name": "DescriptionStyleModel",
          "model_module_version": "1.5.0",
          "state": {
            "_view_name": "StyleView",
            "_model_name": "DescriptionStyleModel",
            "description_width": "",
            "_view_module": "@jupyter-widgets/base",
            "_model_module_version": "1.5.0",
            "_view_count": null,
            "_view_module_version": "1.2.0",
            "_model_module": "@jupyter-widgets/controls"
          }
        },
        "772b8c3840ca424891dc5ba40dc83a39": {
          "model_module": "@jupyter-widgets/base",
          "model_name": "LayoutModel",
          "model_module_version": "1.2.0",
          "state": {
            "_view_name": "LayoutView",
            "grid_template_rows": null,
            "right": null,
            "justify_content": null,
            "_view_module": "@jupyter-widgets/base",
            "overflow": null,
            "_model_module_version": "1.2.0",
            "_view_count": null,
            "flex_flow": null,
            "width": null,
            "min_width": null,
            "border": null,
            "align_items": null,
            "bottom": null,
            "_model_module": "@jupyter-widgets/base",
            "top": null,
            "grid_column": null,
            "overflow_y": null,
            "overflow_x": null,
            "grid_auto_flow": null,
            "grid_area": null,
            "grid_template_columns": null,
            "flex": null,
            "_model_name": "LayoutModel",
            "justify_items": null,
            "grid_row": null,
            "max_height": null,
            "align_content": null,
            "visibility": null,
            "align_self": null,
            "height": null,
            "min_height": null,
            "padding": null,
            "grid_auto_rows": null,
            "grid_gap": null,
            "max_width": null,
            "order": null,
            "_view_module_version": "1.2.0",
            "grid_template_areas": null,
            "object_position": null,
            "object_fit": null,
            "grid_auto_columns": null,
            "margin": null,
            "display": null,
            "left": null
          }
        },
        "934e7056908445a4a0da01d7771db8a3": {
          "model_module": "@jupyter-widgets/controls",
          "model_name": "ProgressStyleModel",
          "model_module_version": "1.5.0",
          "state": {
            "_view_name": "StyleView",
            "_model_name": "ProgressStyleModel",
            "description_width": "",
            "_view_module": "@jupyter-widgets/base",
            "_model_module_version": "1.5.0",
            "_view_count": null,
            "_view_module_version": "1.2.0",
            "bar_color": null,
            "_model_module": "@jupyter-widgets/controls"
          }
        },
        "485420f9c2a4437ea75fa5b7999a71bc": {
          "model_module": "@jupyter-widgets/base",
          "model_name": "LayoutModel",
          "model_module_version": "1.2.0",
          "state": {
            "_view_name": "LayoutView",
            "grid_template_rows": null,
            "right": null,
            "justify_content": null,
            "_view_module": "@jupyter-widgets/base",
            "overflow": null,
            "_model_module_version": "1.2.0",
            "_view_count": null,
            "flex_flow": null,
            "width": null,
            "min_width": null,
            "border": null,
            "align_items": null,
            "bottom": null,
            "_model_module": "@jupyter-widgets/base",
            "top": null,
            "grid_column": null,
            "overflow_y": null,
            "overflow_x": null,
            "grid_auto_flow": null,
            "grid_area": null,
            "grid_template_columns": null,
            "flex": null,
            "_model_name": "LayoutModel",
            "justify_items": null,
            "grid_row": null,
            "max_height": null,
            "align_content": null,
            "visibility": null,
            "align_self": null,
            "height": null,
            "min_height": null,
            "padding": null,
            "grid_auto_rows": null,
            "grid_gap": null,
            "max_width": null,
            "order": null,
            "_view_module_version": "1.2.0",
            "grid_template_areas": null,
            "object_position": null,
            "object_fit": null,
            "grid_auto_columns": null,
            "margin": null,
            "display": null,
            "left": null
          }
        },
        "62f67891d257436c91d536a3fc1fe5fc": {
          "model_module": "@jupyter-widgets/controls",
          "model_name": "DescriptionStyleModel",
          "model_module_version": "1.5.0",
          "state": {
            "_view_name": "StyleView",
            "_model_name": "DescriptionStyleModel",
            "description_width": "",
            "_view_module": "@jupyter-widgets/base",
            "_model_module_version": "1.5.0",
            "_view_count": null,
            "_view_module_version": "1.2.0",
            "_model_module": "@jupyter-widgets/controls"
          }
        },
        "bcdc0ed9aadd400f85abf6e4da333206": {
          "model_module": "@jupyter-widgets/base",
          "model_name": "LayoutModel",
          "model_module_version": "1.2.0",
          "state": {
            "_view_name": "LayoutView",
            "grid_template_rows": null,
            "right": null,
            "justify_content": null,
            "_view_module": "@jupyter-widgets/base",
            "overflow": null,
            "_model_module_version": "1.2.0",
            "_view_count": null,
            "flex_flow": null,
            "width": null,
            "min_width": null,
            "border": null,
            "align_items": null,
            "bottom": null,
            "_model_module": "@jupyter-widgets/base",
            "top": null,
            "grid_column": null,
            "overflow_y": null,
            "overflow_x": null,
            "grid_auto_flow": null,
            "grid_area": null,
            "grid_template_columns": null,
            "flex": null,
            "_model_name": "LayoutModel",
            "justify_items": null,
            "grid_row": null,
            "max_height": null,
            "align_content": null,
            "visibility": null,
            "align_self": null,
            "height": null,
            "min_height": null,
            "padding": null,
            "grid_auto_rows": null,
            "grid_gap": null,
            "max_width": null,
            "order": null,
            "_view_module_version": "1.2.0",
            "grid_template_areas": null,
            "object_position": null,
            "object_fit": null,
            "grid_auto_columns": null,
            "margin": null,
            "display": null,
            "left": null
          }
        }
      }
    }
  },
  "cells": [
    {
      "cell_type": "code",
      "metadata": {
        "id": "Kml5KHaDqkD0"
      },
      "source": [
        "pip -q install transformers datasets wandb"
      ],
      "execution_count": null,
      "outputs": []
    },
    {
      "cell_type": "code",
      "metadata": {
        "colab": {
          "base_uri": "https://localhost:8080/"
        },
        "id": "8MmGPa5BAiKi",
        "outputId": "253de958-6e11-437f-c5b1-57189b5c3140"
      },
      "source": [
        "!nvidia-smi"
      ],
      "execution_count": null,
      "outputs": [
        {
          "output_type": "stream",
          "name": "stdout",
          "text": [
            "Mon Sep 20 15:28:10 2021       \n",
            "+-----------------------------------------------------------------------------+\n",
            "| NVIDIA-SMI 470.63.01    Driver Version: 460.32.03    CUDA Version: 11.2     |\n",
            "|-------------------------------+----------------------+----------------------+\n",
            "| GPU  Name        Persistence-M| Bus-Id        Disp.A | Volatile Uncorr. ECC |\n",
            "| Fan  Temp  Perf  Pwr:Usage/Cap|         Memory-Usage | GPU-Util  Compute M. |\n",
            "|                               |                      |               MIG M. |\n",
            "|===============================+======================+======================|\n",
            "|   0  Tesla T4            Off  | 00000000:00:04.0 Off |                    0 |\n",
            "| N/A   36C    P8     9W /  70W |      0MiB / 15109MiB |      0%      Default |\n",
            "|                               |                      |                  N/A |\n",
            "+-------------------------------+----------------------+----------------------+\n",
            "                                                                               \n",
            "+-----------------------------------------------------------------------------+\n",
            "| Processes:                                                                  |\n",
            "|  GPU   GI   CI        PID   Type   Process name                  GPU Memory |\n",
            "|        ID   ID                                                   Usage      |\n",
            "|=============================================================================|\n",
            "|  No running processes found                                                 |\n",
            "+-----------------------------------------------------------------------------+\n"
          ]
        }
      ]
    },
    {
      "cell_type": "code",
      "metadata": {
        "id": "ErjttzAQ3gth"
      },
      "source": [
        "# load tensorboard extension\n",
        "%load_ext tensorboard"
      ],
      "execution_count": null,
      "outputs": []
    },
    {
      "cell_type": "markdown",
      "metadata": {
        "id": "rIKme_eZez-k"
      },
      "source": [
        "# Patronizing and Condescending Language Detection\n",
        "\n",
        "We all are patronizing and condescending sometimes. And of course, we all are susceptible to be condescended and patronized by others. But some groups are, unfortunately, more used to be referred to with this undervaluing treatment. The so-called vulnerable communities seem to be the perfect target for charity and pity-driven texts, condescension and patronization in news stories.\n",
        "\n",
        "PCL is often unvoluntary and unconscious and the authors using such language are usually trying to help the communities in need, by raising awareness, moving the audience to action or standing for the rights of the under-represented. But PCL can potentially be very harmful, as it feeds tereotypes, routinizes discrimination and drives to greater exclusion.\n",
        "\n",
        "Resource:\n",
        "- https://arxiv.org/pdf/2011.08320.pdf\n",
        "- https://competitions.codalab.org/competitions/34344\n",
        "- https://sites.google.com/view/pcl-detection-semeval2022/\n"
      ]
    },
    {
      "cell_type": "markdown",
      "metadata": {
        "id": "ctVgp-AIga5D"
      },
      "source": [
        "# The Task\n",
        "The Patronizing and Condescending Language Detection Task is based on the paper Don't Patronize Me! An annotated Dataset with Patronizing and Condescending Language Towards Vulnerable Communities (Perez-Almendros et al., 2020).\n",
        "\n",
        "The aim of this task is to identify PCL, and to categorize the linguistic techniques used to express it, specifically when referring to communities identified as being vulnerable to unfair treatment in the media.\n",
        "\n",
        "Participants are provided with sentences in context (paragraphs), extracted from news articles, in which one or several predefined vulnerable communities are mentioned. The challenge is divided into two subtasks. \n",
        "\n",
        "<ul>\n",
        "  <li>\n",
        "  <b>Subtask 1:</b> Binary classification. Given a paragraph, a system must predict whether or not it contains any form of PCL. \n",
        "  </li>\n",
        "  <li>\n",
        "  <b>Subtask 2:</b> Multi-label classification. Given a paragraph, a system must identify which PCL categories express the condescension*. \n",
        "  </li>\n",
        "</ul>"
      ]
    },
    {
      "cell_type": "markdown",
      "metadata": {
        "id": "_yQrU4p8RRKm"
      },
      "source": [
        "Baselines from [the paper](https://arxiv.org/pdf/2011.08320.pdf):"
      ]
    },
    {
      "cell_type": "markdown",
      "metadata": {
        "id": "Q_q_pTxtQ0yJ"
      },
      "source": [
        "\n",
        "![Screen Shot 2021-09-11 at 12.09.56 PM.png](data:image/png;base64,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)\n"
      ]
    },
    {
      "cell_type": "code",
      "metadata": {
        "id": "4dgBpmccXKPi"
      },
      "source": [
        ""
      ],
      "execution_count": null,
      "outputs": []
    },
    {
      "cell_type": "markdown",
      "metadata": {
        "id": "MJ9FngSb-RzF"
      },
      "source": [
        "## Prepare Dataset"
      ]
    },
    {
      "cell_type": "code",
      "metadata": {
        "id": "yF3nOctNeqfn"
      },
      "source": [
        "import pandas as pd\n",
        "import numpy as np"
      ],
      "execution_count": null,
      "outputs": []
    },
    {
      "cell_type": "code",
      "metadata": {
        "colab": {
          "base_uri": "https://localhost:8080/"
        },
        "id": "jrIThV48iENP",
        "outputId": "c00f2372-9815-4fd3-9de1-4d4151921107"
      },
      "source": [
        "df_categories = pd.read_csv('dontpatronizeme_categories.tsv', sep='\\t')\n",
        "df_categories['number_of_annotators_agreeing_in_that_label']"
      ],
      "execution_count": null,
      "outputs": [
        {
          "output_type": "execute_result",
          "data": {
            "text/plain": [
              "0       2.0\n",
              "1       2.0\n",
              "2       2.0\n",
              "3       2.0\n",
              "4       2.0\n",
              "       ... \n",
              "2681    1.0\n",
              "2682    1.0\n",
              "2683    1.0\n",
              "2684    1.0\n",
              "2685    1.0\n",
              "Name: number_of_annotators_agreeing_in_that_label, Length: 2686, dtype: float64"
            ]
          },
          "metadata": {},
          "execution_count": 5
        }
      ]
    },
    {
      "cell_type": "code",
      "metadata": {
        "colab": {
          "base_uri": "https://localhost:8080/"
        },
        "id": "Rbl1cSPDXNVR",
        "outputId": "e8af8bbc-a0c3-47d9-e860-fdd3a0b4488f"
      },
      "source": [
        "print(f\"category_label NaN values : {df_categories['category_label'].isnull().sum()}\")\n",
        "print(f\"span_tetx NaN values : {df_categories['span_text'].isnull().sum()}\")"
      ],
      "execution_count": null,
      "outputs": [
        {
          "output_type": "stream",
          "name": "stdout",
          "text": [
            "category_label NaN values : 1\n",
            "span_tetx NaN values : 1\n"
          ]
        }
      ]
    },
    {
      "cell_type": "code",
      "metadata": {
        "id": "pkxYWXKkYB7P"
      },
      "source": [
        "df_categories = df_categories[df_categories['category_label'].notna()]\n",
        "df_categories = df_categories[df_categories['span_text'].notna()]"
      ],
      "execution_count": null,
      "outputs": []
    },
    {
      "cell_type": "code",
      "metadata": {
        "colab": {
          "base_uri": "https://localhost:8080/"
        },
        "id": "Rz-ETaT8YfNd",
        "outputId": "05e62c6d-0180-43bb-e07e-e87adca84f98"
      },
      "source": [
        "print(f\"category_label NaN values : {df_categories['category_label'].isnull().sum()}\")\n",
        "print(f\"span_tetx NaN values : {df_categories['span_text'].isnull().sum()}\")"
      ],
      "execution_count": null,
      "outputs": [
        {
          "output_type": "stream",
          "name": "stdout",
          "text": [
            "category_label NaN values : 0\n",
            "span_tetx NaN values : 0\n"
          ]
        }
      ]
    },
    {
      "cell_type": "code",
      "metadata": {
        "id": "aXXcHD5YT4aF"
      },
      "source": [
        "a = df_categories['category_label'].astype('category')\n",
        "df_categories['labels'] = a.cat.codes"
      ],
      "execution_count": null,
      "outputs": []
    },
    {
      "cell_type": "code",
      "metadata": {
        "colab": {
          "base_uri": "https://localhost:8080/"
        },
        "id": "JO48_ynNXuGW",
        "outputId": "7371be5f-b2a6-4608-c927-52b6e3bb496f"
      },
      "source": [
        "df_categories['labels'].unique()"
      ],
      "execution_count": null,
      "outputs": [
        {
          "output_type": "execute_result",
          "data": {
            "text/plain": [
              "array([6, 0, 4, 3, 1, 2, 5], dtype=int8)"
            ]
          },
          "metadata": {},
          "execution_count": 10
        }
      ]
    },
    {
      "cell_type": "code",
      "metadata": {
        "colab": {
          "base_uri": "https://localhost:8080/"
        },
        "id": "UIeslhtb6T6j",
        "outputId": "cd94ed38-79c3-4759-a9b4-a44a5e650b7c"
      },
      "source": [
        "len(df_categories)"
      ],
      "execution_count": null,
      "outputs": [
        {
          "output_type": "execute_result",
          "data": {
            "text/plain": [
              "2685"
            ]
          },
          "metadata": {},
          "execution_count": 11
        }
      ]
    },
    {
      "cell_type": "markdown",
      "metadata": {
        "id": "lVJmmpoOWs0G"
      },
      "source": [
        "## Multi-class Classification\n"
      ]
    },
    {
      "cell_type": "code",
      "metadata": {
        "id": "9jzP03pn5KFj"
      },
      "source": [
        "import os\n",
        "os.environ['WANDB_PROJECT'] = 'pcl-binary'"
      ],
      "execution_count": null,
      "outputs": []
    },
    {
      "cell_type": "code",
      "metadata": {
        "id": "nLkhyhQnSs3O"
      },
      "source": [
        "import torch\n",
        "from tqdm.notebook import tqdm\n",
        "\n",
        "from transformers import RobertaTokenizer, BertTokenizer\n",
        "from torch.utils.data import TensorDataset\n",
        "\n",
        "from transformers import RobertaForSequenceClassification, BertForSequenceClassification\n",
        "\n",
        "import seaborn as sns"
      ],
      "execution_count": null,
      "outputs": []
    },
    {
      "cell_type": "code",
      "metadata": {
        "colab": {
          "base_uri": "https://localhost:8080/"
        },
        "id": "qFgjI0pmSgdd",
        "outputId": "58931d64-bb38-408d-c731-b3b36a2c8c30"
      },
      "source": [
        "len(df_categories)"
      ],
      "execution_count": null,
      "outputs": [
        {
          "output_type": "execute_result",
          "data": {
            "text/plain": [
              "2685"
            ]
          },
          "metadata": {},
          "execution_count": 14
        }
      ]
    },
    {
      "cell_type": "code",
      "metadata": {
        "colab": {
          "base_uri": "https://localhost:8080/"
        },
        "id": "0woMPr4_TZUV",
        "outputId": "b60a4522-559b-4317-c80d-c24dc7041516"
      },
      "source": [
        "df_categories.isnull().sum()"
      ],
      "execution_count": null,
      "outputs": [
        {
          "output_type": "execute_result",
          "data": {
            "text/plain": [
              "paragraph_id                                   0\n",
              "paragraph                                      0\n",
              "keyword                                        0\n",
              "country_code                                   0\n",
              "span_start                                     0\n",
              "span_end                                       0\n",
              "span_text                                      0\n",
              "category_label                                 0\n",
              "number_of_annotators_agreeing_in_that_label    0\n",
              "labels                                         0\n",
              "dtype: int64"
            ]
          },
          "metadata": {},
          "execution_count": 15
        }
      ]
    },
    {
      "cell_type": "code",
      "metadata": {
        "colab": {
          "base_uri": "https://localhost:8080/",
          "height": 333
        },
        "id": "apBdtyYYYioo",
        "outputId": "4e165f25-c7bc-4474-9bae-1d30c6f8e8e2"
      },
      "source": [
        "sns.countplot(df_categories['labels']);"
      ],
      "execution_count": null,
      "outputs": [
        {
          "output_type": "stream",
          "name": "stderr",
          "text": [
            "/usr/local/lib/python3.7/dist-packages/seaborn/_decorators.py:43: FutureWarning: Pass the following variable as a keyword arg: x. From version 0.12, the only valid positional argument will be `data`, and passing other arguments without an explicit keyword will result in an error or misinterpretation.\n",
            "  FutureWarning\n"
          ]
        },
        {
          "output_type": "display_data",
          "data": {
            "image/png": "[encoded data removed]",
            "text/plain": [
              "<Figure size 432x288 with 1 Axes>"
            ]
          },
          "metadata": {
            "needs_background": "light"
          }
        }
      ]
    },
    {
      "cell_type": "markdown",
      "metadata": {
        "id": "4803fNK5YywX"
      },
      "source": [
        "## Training using Huggingface API"
      ]
    },
    {
      "cell_type": "code",
      "metadata": {
        "id": "lDc6dqwFh_iD"
      },
      "source": [
        "df_categories_selected = df_categories\n",
        "def combine_features(row) :\n",
        "  return '<s>'.join(row.drop(['paragraph','keyword','span_start','span_end','category_label','labels'],axis=0).apply(str).values)\n",
        "df_categories_selected['combined_features'] = df_categories_selected.apply(combine_features, axis = 1)"
      ],
      "execution_count": null,
      "outputs": []
    },
    {
      "cell_type": "code",
      "metadata": {
        "colab": {
          "base_uri": "https://localhost:8080/",
          "height": 1000
        },
        "id": "sTezyA1dn0Xv",
        "outputId": "9c6551e9-155e-4d2b-dd0e-5a89b8f17530"
      },
      "source": [
        "valid_size = 279\n",
        "duplicate = df_categories_selected[df_categories['span_text'].duplicated()]\n",
        "none_duplicate = df_categories_selected.drop(duplicate.index, axis=0)\n",
        "df_categories_valid = none_duplicate.sample(valid_size, random_state = 42)\n",
        "df_categories_train = df_categories_selected.drop(df_categories_valid.index, axis=0)\n",
        "df_categories_train"
      ],
      "execution_count": null,
      "outputs": [
        {
          "output_type": "execute_result",
          "data": {
            "text/html": [
              "<div>\n",
              "<style scoped>\n",
              "    .dataframe tbody tr th:only-of-type {\n",
              "        vertical-align: middle;\n",
              "    }\n",
              "\n",
              "    .dataframe tbody tr th {\n",
              "        vertical-align: top;\n",
              "    }\n",
              "\n",
              "    .dataframe thead th {\n",
              "        text-align: right;\n",
              "    }\n",
              "</style>\n",
              "<table border=\"1\" class=\"dataframe\">\n",
              "  <thead>\n",
              "    <tr style=\"text-align: right;\">\n",
              "      <th></th>\n",
              "      <th>paragraph_id</th>\n",
              "      <th>paragraph</th>\n",
              "      <th>keyword</th>\n",
              "      <th>country_code</th>\n",
              "      <th>span_start</th>\n",
              "      <th>span_end</th>\n",
              "      <th>span_text</th>\n",
              "      <th>category_label</th>\n",
              "      <th>number_of_annotators_agreeing_in_that_label</th>\n",
              "      <th>labels</th>\n",
              "      <th>combined_features</th>\n",
              "    </tr>\n",
              "  </thead>\n",
              "  <tbody>\n",
              "    <tr>\n",
              "      <th>0</th>\n",
              "      <td>@@14767805</td>\n",
              "      <td>We also know that they can benefit by receivin...</td>\n",
              "      <td>hopeless</td>\n",
              "      <td>us</td>\n",
              "      <td>64.0</td>\n",
              "      <td>101.0</td>\n",
              "      <td>someone who can help them understand</td>\n",
              "      <td>Unbalanced_power_relations</td>\n",
              "      <td>2.0</td>\n",
              "      <td>6</td>\n",
              "      <td>@@14767805&lt;s&gt;us&lt;s&gt;someone who can help them un...</td>\n",
              "    </tr>\n",
              "    <tr>\n",
              "      <th>1</th>\n",
              "      <td>@@14767805</td>\n",
              "      <td>We also know that they can benefit by receivin...</td>\n",
              "      <td>hopeless</td>\n",
              "      <td>us</td>\n",
              "      <td>358.0</td>\n",
              "      <td>434.0</td>\n",
              "      <td>someone who can help them plan for their needs...</td>\n",
              "      <td>Unbalanced_power_relations</td>\n",
              "      <td>2.0</td>\n",
              "      <td>6</td>\n",
              "      <td>@@14767805&lt;s&gt;us&lt;s&gt;someone who can help them pl...</td>\n",
              "    </tr>\n",
              "    <tr>\n",
              "      <th>2</th>\n",
              "      <td>@@14767805</td>\n",
              "      <td>We also know that they can benefit by receivin...</td>\n",
              "      <td>hopeless</td>\n",
              "      <td>us</td>\n",
              "      <td>0.0</td>\n",
              "      <td>35.0</td>\n",
              "      <td>We also know that they can benefit</td>\n",
              "      <td>Authority_voice</td>\n",
              "      <td>2.0</td>\n",
              "      <td>0</td>\n",
              "      <td>@@14767805&lt;s&gt;us&lt;s&gt;We also know that they can b...</td>\n",
              "    </tr>\n",
              "    <tr>\n",
              "      <th>3</th>\n",
              "      <td>@@14767805</td>\n",
              "      <td>We also know that they can benefit by receivin...</td>\n",
              "      <td>hopeless</td>\n",
              "      <td>us</td>\n",
              "      <td>175.0</td>\n",
              "      <td>236.0</td>\n",
              "      <td>someone who can help them put their situation ...</td>\n",
              "      <td>Unbalanced_power_relations</td>\n",
              "      <td>2.0</td>\n",
              "      <td>6</td>\n",
              "      <td>@@14767805&lt;s&gt;us&lt;s&gt;someone who can help them pu...</td>\n",
              "    </tr>\n",
              "    <tr>\n",
              "      <th>4</th>\n",
              "      <td>@@14767805</td>\n",
              "      <td>We also know that they can benefit by receivin...</td>\n",
              "      <td>hopeless</td>\n",
              "      <td>us</td>\n",
              "      <td>201.0</td>\n",
              "      <td>236.0</td>\n",
              "      <td>put their situation in perspective</td>\n",
              "      <td>Authority_voice</td>\n",
              "      <td>2.0</td>\n",
              "      <td>0</td>\n",
              "      <td>@@14767805&lt;s&gt;us&lt;s&gt;put their situation in persp...</td>\n",
              "    </tr>\n",
              "    <tr>\n",
              "      <th>...</th>\n",
              "      <td>...</td>\n",
              "      <td>...</td>\n",
              "      <td>...</td>\n",
              "      <td>...</td>\n",
              "      <td>...</td>\n",
              "      <td>...</td>\n",
              "      <td>...</td>\n",
              "      <td>...</td>\n",
              "      <td>...</td>\n",
              "      <td>...</td>\n",
              "      <td>...</td>\n",
              "    </tr>\n",
              "    <tr>\n",
              "      <th>2681</th>\n",
              "      <td>@@2559173</td>\n",
              "      <td>Touched much by their plight , Commanding Offi...</td>\n",
              "      <td>homeless</td>\n",
              "      <td>lk</td>\n",
              "      <td>0.0</td>\n",
              "      <td>29.0</td>\n",
              "      <td>Touched much by their plight</td>\n",
              "      <td>Compassion</td>\n",
              "      <td>1.0</td>\n",
              "      <td>1</td>\n",
              "      <td>@@2559173&lt;s&gt;lk&lt;s&gt;Touched much by their plight&lt;...</td>\n",
              "    </tr>\n",
              "    <tr>\n",
              "      <th>2682</th>\n",
              "      <td>@@2559173</td>\n",
              "      <td>Touched much by their plight , Commanding Offi...</td>\n",
              "      <td>homeless</td>\n",
              "      <td>lk</td>\n",
              "      <td>31.0</td>\n",
              "      <td>315.0</td>\n",
              "      <td>Commanding Officer and all ranks of the 7 Sri ...</td>\n",
              "      <td>Unbalanced_power_relations</td>\n",
              "      <td>1.0</td>\n",
              "      <td>6</td>\n",
              "      <td>@@2559173&lt;s&gt;lk&lt;s&gt;Commanding Officer and all ra...</td>\n",
              "    </tr>\n",
              "    <tr>\n",
              "      <th>2683</th>\n",
              "      <td>@@1947926</td>\n",
              "      <td>She reiterated her ministry 's commitment to p...</td>\n",
              "      <td>women</td>\n",
              "      <td>gh</td>\n",
              "      <td>153.0</td>\n",
              "      <td>205.0</td>\n",
              "      <td>gave a strong indication of hope for Ghanaian ...</td>\n",
              "      <td>Unbalanced_power_relations</td>\n",
              "      <td>1.0</td>\n",
              "      <td>6</td>\n",
              "      <td>@@1947926&lt;s&gt;gh&lt;s&gt;gave a strong indication of h...</td>\n",
              "    </tr>\n",
              "    <tr>\n",
              "      <th>2684</th>\n",
              "      <td>@@14806326</td>\n",
              "      <td>The NDC has always led the way in championing...</td>\n",
              "      <td>disabled</td>\n",
              "      <td>gh</td>\n",
              "      <td>2.0</td>\n",
              "      <td>74.0</td>\n",
              "      <td>The NDC has always led the way in championing ...</td>\n",
              "      <td>Unbalanced_power_relations</td>\n",
              "      <td>1.0</td>\n",
              "      <td>6</td>\n",
              "      <td>@@14806326&lt;s&gt;gh&lt;s&gt;The NDC has always led the w...</td>\n",
              "    </tr>\n",
              "    <tr>\n",
              "      <th>2685</th>\n",
              "      <td>@@1789214</td>\n",
              "      <td>Preaching the sermon , the Dean of the St. Pet...</td>\n",
              "      <td>vulnerable</td>\n",
              "      <td>gh</td>\n",
              "      <td>23.0</td>\n",
              "      <td>317.0</td>\n",
              "      <td>the Dean of the St. Peter 's Cathedral , Very ...</td>\n",
              "      <td>Authority_voice</td>\n",
              "      <td>1.0</td>\n",
              "      <td>0</td>\n",
              "      <td>@@1789214&lt;s&gt;gh&lt;s&gt;the Dean of the St. Peter 's ...</td>\n",
              "    </tr>\n",
              "  </tbody>\n",
              "</table>\n",
              "<p>2406 rows × 11 columns</p>\n",
              "</div>"
            ],
            "text/plain": [
              "     paragraph_id  ...                                  combined_features\n",
              "0      @@14767805  ...  @@14767805<s>us<s>someone who can help them un...\n",
              "1      @@14767805  ...  @@14767805<s>us<s>someone who can help them pl...\n",
              "2      @@14767805  ...  @@14767805<s>us<s>We also know that they can b...\n",
              "3      @@14767805  ...  @@14767805<s>us<s>someone who can help them pu...\n",
              "4      @@14767805  ...  @@14767805<s>us<s>put their situation in persp...\n",
              "...           ...  ...                                                ...\n",
              "2681    @@2559173  ...  @@2559173<s>lk<s>Touched much by their plight<...\n",
              "2682    @@2559173  ...  @@2559173<s>lk<s>Commanding Officer and all ra...\n",
              "2683    @@1947926  ...  @@1947926<s>gh<s>gave a strong indication of h...\n",
              "2684   @@14806326  ...  @@14806326<s>gh<s>The NDC has always led the w...\n",
              "2685    @@1789214  ...  @@1789214<s>gh<s>the Dean of the St. Peter 's ...\n",
              "\n",
              "[2406 rows x 11 columns]"
            ]
          },
          "metadata": {},
          "execution_count": 18
        }
      ]
    },
    {
      "cell_type": "code",
      "metadata": {
        "colab": {
          "base_uri": "https://localhost:8080/"
        },
        "id": "qONi-AmefOCH",
        "outputId": "0de74d44-b569-4968-c634-01980dfe12ba"
      },
      "source": [
        "from datasets import Dataset\n",
        "raw_datasets_valid = Dataset.from_pandas(df_categories_valid[['combined_features','labels']])\n",
        "raw_datasets_train = Dataset.from_pandas(df_categories_train[['combined_features','labels']])\n",
        "raw_datasets_train"
      ],
      "execution_count": null,
      "outputs": [
        {
          "output_type": "execute_result",
          "data": {
            "text/plain": [
              "Dataset({\n",
              "    features: ['combined_features', 'labels', '__index_level_0__'],\n",
              "    num_rows: 2406\n",
              "})"
            ]
          },
          "metadata": {},
          "execution_count": 20
        }
      ]
    },
    {
      "cell_type": "markdown",
      "metadata": {
        "id": "MoX2kRDwY3Rg"
      },
      "source": [
        "Because the labels are imbalanced, we split the data set in a stratified fashion, using this as the class labels."
      ]
    },
    {
      "cell_type": "code",
      "metadata": {
        "colab": {
          "base_uri": "https://localhost:8080/",
          "height": 145,
          "referenced_widgets": [
            "1083ce751824406786227baf24ba6960",
            "93ed2170b77e468ba41c80e103f2a45f",
            "d0459eac18ab44e7a89e9458510de70e",
            "106bf563c966426d9cba0ab404ca2c84",
            "513bcce789c54061aff95cb208e93772",
            "3b5c1c41582643de9b008ada4f419d13",
            "e006f95c6ebb4a57b24709556f08c5f1",
            "39ed3844cd3a4a6c884fdb12626a6e70",
            "66b71a90381044a18115ddbad52d8096",
            "318eea8ddbbb4edfb60f9950bf1b1a89",
            "855ef1807a1a4cb18f67c68d369dad98",
            "2e67ebe5bad64771bba46f1c45dc395e",
            "9c963bc9c7a84c1ba54214908059a700",
            "f0350c5c50ef4865aee70383aaa9a8d7",
            "d1cb302f57644d33b6041a48b27f49f3",
            "6ff1f660e3f8468b917f2e60e6c5e716",
            "2d4a3b462981496c8442f6e565be641b",
            "e4d103988adb411693b69b6ff1187540",
            "bb3f378a23be438cbb8e0422e28d0661",
            "97daa3c3ad4d4551b08644ff9fc8567b",
            "ad2e9608f31e49e4bfc757911712cb7b",
            "a56b7c4b8b2a4ef5b474e23b668f4c88",
            "83f763bd775a479fad4990d2d32c0449",
            "7d93183b87dd4876ae66bdbd6840b7d1",
            "7f35bd7d360b4e88a1515fd4d3fc7292",
            "89669faf225a4e47a45bcbc3ac59954b",
            "d4198583a87d4186abcb5dcd23e0a64c",
            "1f9e526262c44fcdaa8a296032669a5a",
            "66cc782c37b74921847eb8e1436fc6aa",
            "224fef9b8167488d9f40d6dbe13efe16",
            "4b618a11c8174efa966feb53e307b4b3",
            "1ad9ce2878e647d888f8fa28c140dad9",
            "214f20f8c9314516817716e440f222d9",
            "9be1cb5ffd6f4a4cb04593c76f4b2965",
            "82a1415334454e8283aeafeaa07485d7",
            "364d2bc173824c608dba7f9d5e599b63",
            "112617e4b42443eb9e4168639bb4f64d",
            "4dea6d2b40ed4495b6489ca0fb87f151",
            "5501cfdeeb7942278d97bc136431d0c5",
            "97576ed05a594c669692cb587def45b2",
            "596d5a6696864c35acbd7d1f258e9dbf",
            "2389a197c3f8423093d83b4787cff980",
            "1d3171fb82ab4cc2ab0c818d1f7b6564",
            "5d95f6fcd81c4e5cb00d655d86e22c12"
          ]
        },
        "id": "Y-OaoZ9CiJIh",
        "outputId": "21d31106-379e-43e3-b39c-277b20b0dd68"
      },
      "source": [
        "# FIXME: Ali - Idea: Try zero shot, few shot, fine-tuning with GPT-3\n",
        "from transformers import AutoTokenizer\n",
        "model_name = 'roberta-large'\n",
        "# model_name = 'bert-base-uncased'\n",
        "# model_name = 'roberta-large-openai-detector' #FIXME: Ali - Idea: Try other larger models\n",
        "tokenizer = AutoTokenizer.from_pretrained(model_name)"
      ],
      "execution_count": null,
      "outputs": [
        {
          "output_type": "display_data",
          "data": {
            "application/vnd.jupyter.widget-view+json": {
              "model_id": "1083ce751824406786227baf24ba6960",
              "version_minor": 0,
              "version_major": 2
            },
            "text/plain": [
              "Downloading:   0%|          | 0.00/482 [00:00<?, ?B/s]"
            ]
          },
          "metadata": {}
        },
        {
          "output_type": "display_data",
          "data": {
            "application/vnd.jupyter.widget-view+json": {
              "model_id": "2e67ebe5bad64771bba46f1c45dc395e",
              "version_minor": 0,
              "version_major": 2
            },
            "text/plain": [
              "Downloading:   0%|          | 0.00/899k [00:00<?, ?B/s]"
            ]
          },
          "metadata": {}
        },
        {
          "output_type": "display_data",
          "data": {
            "application/vnd.jupyter.widget-view+json": {
              "model_id": "83f763bd775a479fad4990d2d32c0449",
              "version_minor": 0,
              "version_major": 2
            },
            "text/plain": [
              "Downloading:   0%|          | 0.00/456k [00:00<?, ?B/s]"
            ]
          },
          "metadata": {}
        },
        {
          "output_type": "display_data",
          "data": {
            "application/vnd.jupyter.widget-view+json": {
              "model_id": "9be1cb5ffd6f4a4cb04593c76f4b2965",
              "version_minor": 0,
              "version_major": 2
            },
            "text/plain": [
              "Downloading:   0%|          | 0.00/1.36M [00:00<?, ?B/s]"
            ]
          },
          "metadata": {}
        }
      ]
    },
    {
      "cell_type": "code",
      "metadata": {
        "colab": {
          "base_uri": "https://localhost:8080/",
          "height": 149,
          "referenced_widgets": [
            "d734d64e5da3488dbd24baeb12172a2c",
            "fc9fb086df5443be851ee42daea070ed",
            "a5753f7d21a3477c852bf13560d8fe0a",
            "fc78e1e22531464680046912f3ca7f86",
            "e60a99616d20437fab70db2e9537a451",
            "3fd23aee30d34bce9d08d164487fb1d9",
            "4db1c34b8c9448c78578f6c83dfbd771",
            "7397c8de32384cc882306d05d2f4260e",
            "bcfb09c77384407f99d52381ebe9d3e9",
            "2550c8cb939b40f288bb2ca8792d7ec0",
            "58ada782d4e3491d92a887b58ab00937",
            "165ae2f1bdbf4afd970cd15531e21d7c",
            "f231ba07be6a4ac0936b30f16111c653",
            "02678cdad1054848a8cb467a2ef0f28d",
            "c6d97e1492754724a7eae78f84a8c098",
            "522f97f63ac543349be97fc5a56388a3",
            "c927a0c5aa80422a87e26c069c0bf500",
            "8233308723944df083d7060468a76c51",
            "8b27fd3da63e4e3e8b9b1b881b8fd7e0",
            "fbb40b0fea094c73894811fcddb4514f",
            "d6a38e6d69da495d8601353cb9030721",
            "e5d962fdde874b3e87fc67883bc388fd"
          ]
        },
        "id": "aWZDgiyfb_eA",
        "outputId": "c6f1f9fb-1e59-454a-877b-25f205fd5663"
      },
      "source": [
        "def tokenize_function(examples):\n",
        "    return tokenizer(examples[\"combined_features\"], padding=\"max_length\", truncation=True)\n",
        "\n",
        "tokenized_datasets_train = raw_datasets_train.map(tokenize_function, batched=True)\n",
        "tokenized_datasets_valid = raw_datasets_valid.map(tokenize_function, batched=True)\n",
        "tokenized_datasets_train"
      ],
      "execution_count": null,
      "outputs": [
        {
          "output_type": "display_data",
          "data": {
            "application/vnd.jupyter.widget-view+json": {
              "model_id": "d734d64e5da3488dbd24baeb12172a2c",
              "version_minor": 0,
              "version_major": 2
            },
            "text/plain": [
              "  0%|          | 0/3 [00:00<?, ?ba/s]"
            ]
          },
          "metadata": {}
        },
        {
          "output_type": "display_data",
          "data": {
            "application/vnd.jupyter.widget-view+json": {
              "model_id": "165ae2f1bdbf4afd970cd15531e21d7c",
              "version_minor": 0,
              "version_major": 2
            },
            "text/plain": [
              "  0%|          | 0/1 [00:00<?, ?ba/s]"
            ]
          },
          "metadata": {}
        },
        {
          "output_type": "execute_result",
          "data": {
            "text/plain": [
              "Dataset({\n",
              "    features: ['__index_level_0__', 'attention_mask', 'combined_features', 'input_ids', 'labels'],\n",
              "    num_rows: 2406\n",
              "})"
            ]
          },
          "metadata": {},
          "execution_count": 22
        }
      ]
    },
    {
      "cell_type": "code",
      "metadata": {
        "id": "N-5kX57Zlua7"
      },
      "source": [
        "small_dataset_size = 10\n",
        "small_train_dataset = tokenized_datasets_train.shuffle(seed=42).select(range(small_dataset_size))\n",
        "small_eval_dataset = tokenized_datasets_valid.shuffle(seed=42).select(range(small_dataset_size))\n",
        "full_train_dataset = tokenized_datasets_train\n",
        "full_eval_dataset = tokenized_datasets_valid"
      ],
      "execution_count": null,
      "outputs": []
    },
    {
      "cell_type": "code",
      "metadata": {
        "id": "8zH-6AC9v7pd"
      },
      "source": [
        "# model_bert = AutoModelForSequenceClassification.from_pretrained('bert-base-uncased', num_labels=2)\n",
        "# model_bert"
      ],
      "execution_count": null,
      "outputs": []
    },
    {
      "cell_type": "code",
      "metadata": {
        "id": "i02LUhaDws0B"
      },
      "source": [
        "# model_bert()"
      ],
      "execution_count": null,
      "outputs": []
    },
    {
      "cell_type": "code",
      "metadata": {
        "colab": {
          "base_uri": "https://localhost:8080/",
          "height": 154,
          "referenced_widgets": [
            "39facec4ec3b4b309b484dc02f6699aa",
            "187135b57e89431493d7ba491dcd5907",
            "994a38d771754501b7457415148a1d9f",
            "c95a1906c41b4b619901714d8f1459ca",
            "7602889204764a86a28b47fff757c283",
            "0a61c8b3ed854705b6bdd42d250067bc",
            "89fc8db37bf04ef8a886e9adf12fbbdf",
            "1408e1c628b749ff91fbd219372650f3",
            "6fe92680711f45ffb5bd59ac7abe4039",
            "4e480683603d4b108f43cdeef9942b5d",
            "95dadfa9f41f4334965961df259fa746"
          ]
        },
        "id": "lMungeHyhZLe",
        "outputId": "a7570cd0-2616-49c3-eb2d-f08a4acd55fc"
      },
      "source": [
        "from transformers import AutoModelForSequenceClassification\n",
        "\n",
        "model = AutoModelForSequenceClassification.from_pretrained(model_name, num_labels=7)"
      ],
      "execution_count": null,
      "outputs": [
        {
          "output_type": "display_data",
          "data": {
            "application/vnd.jupyter.widget-view+json": {
              "model_id": "39facec4ec3b4b309b484dc02f6699aa",
              "version_minor": 0,
              "version_major": 2
            },
            "text/plain": [
              "Downloading:   0%|          | 0.00/1.43G [00:00<?, ?B/s]"
            ]
          },
          "metadata": {}
        },
        {
          "output_type": "stream",
          "name": "stderr",
          "text": [
            "Some weights of the model checkpoint at roberta-large were not used when initializing RobertaForSequenceClassification: ['lm_head.dense.weight', 'lm_head.layer_norm.bias', 'lm_head.decoder.weight', 'lm_head.dense.bias', 'roberta.pooler.dense.weight', 'lm_head.bias', 'lm_head.layer_norm.weight', 'roberta.pooler.dense.bias']\n",
            "- This IS expected if you are initializing RobertaForSequenceClassification from the checkpoint of a model trained on another task or with another architecture (e.g. initializing a BertForSequenceClassification model from a BertForPreTraining model).\n",
            "- This IS NOT expected if you are initializing RobertaForSequenceClassification from the checkpoint of a model that you expect to be exactly identical (initializing a BertForSequenceClassification model from a BertForSequenceClassification model).\n",
            "Some weights of RobertaForSequenceClassification were not initialized from the model checkpoint at roberta-large and are newly initialized: ['classifier.dense.weight', 'classifier.out_proj.bias', 'classifier.dense.bias', 'classifier.out_proj.weight']\n",
            "You should probably TRAIN this model on a down-stream task to be able to use it for predictions and inference.\n"
          ]
        }
      ]
    },
    {
      "cell_type": "code",
      "metadata": {
        "id": "k5EdPkupplPB"
      },
      "source": [
        "from datasets import load_metric, list_metrics\n",
        "# list_metrics()"
      ],
      "execution_count": null,
      "outputs": []
    },
    {
      "cell_type": "code",
      "metadata": {
        "id": "cdptGp4Dm8bR"
      },
      "source": [
        "from transformers import TrainingArguments\n",
        "run_name = 'roberta_large_lr1e-5'\n",
        "# https://huggingface.co/transformers/main_classes/trainer.html#transformers.TrainingArguments\n",
        "training_args = TrainingArguments(run_name, num_train_epochs=8,save_total_limit = 2, report_to=['tensorboard','wandb'], learning_rate=1e-5,\n",
        "                                  evaluation_strategy= \"epoch\", per_device_train_batch_size=4, gradient_accumulation_steps=1, warmup_steps=1000, lr_scheduler_type='linear') \n",
        "# , resume_from_checkpoint='full_roberta_lr5e-5' , per_device_train_batch_size=4\n",
        "# FIXME: Ali - Idea: use schedulers with different learning_rate (higher or lower) \n",
        "# TODO: Ali - add Gdrive to save checkpoints in gdrive\n",
        "# TODO: Ali - use `resume_from_checkpoint` to load model from last checkpoint"
      ],
      "execution_count": null,
      "outputs": []
    },
    {
      "cell_type": "code",
      "metadata": {
        "colab": {
          "base_uri": "https://localhost:8080/",
          "height": 49,
          "referenced_widgets": [
            "ae6b9843b0fa405d81a0241450931eed",
            "cc42cad2b0ee4bc78d1ba86775f3b7c0",
            "6e1f6f0e142449d4994c9ba63e5a78e4",
            "860c57f0605841019279003ae2d7af5d",
            "c1babf0f7c2e47c496212912d892f6fa",
            "8681a45e20be45fab43de482bf41c755",
            "772b8c3840ca424891dc5ba40dc83a39",
            "934e7056908445a4a0da01d7771db8a3",
            "485420f9c2a4437ea75fa5b7999a71bc",
            "62f67891d257436c91d536a3fc1fe5fc",
            "bcdc0ed9aadd400f85abf6e4da333206"
          ]
        },
        "id": "LXbibJnDnZnG",
        "outputId": "5f717e39-2c78-4756-901a-ea15b9d6f2b6"
      },
      "source": [
        " from transformers import Trainer\n",
        "import numpy as np\n",
        "from datasets import load_metric\n",
        "\n",
        "f1_metric = load_metric('f1')\n",
        "\n",
        "# accuracy_metric = load_metric(\"accuracy\")"
      ],
      "execution_count": null,
      "outputs": [
        {
          "output_type": "display_data",
          "data": {
            "application/vnd.jupyter.widget-view+json": {
              "model_id": "ae6b9843b0fa405d81a0241450931eed",
              "version_minor": 0,
              "version_major": 2
            },
            "text/plain": [
              "Downloading:   0%|          | 0.00/1.96k [00:00<?, ?B/s]"
            ]
          },
          "metadata": {}
        }
      ]
    },
    {
      "cell_type": "code",
      "metadata": {
        "id": "mwoN9LSZuttE"
      },
      "source": [
        "# model.roberta.encoder"
      ],
      "execution_count": null,
      "outputs": []
    },
    {
      "cell_type": "code",
      "metadata": {
        "id": "HDZQN_NB1Oz3"
      },
      "source": [
        "# df_pcl_valid['labels'].values[:10]"
      ],
      "execution_count": null,
      "outputs": []
    },
    {
      "cell_type": "code",
      "metadata": {
        "id": "4V7bi6Sz0D0O"
      },
      "source": [
        "# f1_metric.compute(predictions=y_pred.predictions.argmax(axis=1), references=df_pcl_valid['labels'].values[10:20])"
      ],
      "execution_count": null,
      "outputs": []
    },
    {
      "cell_type": "code",
      "metadata": {
        "id": "mIVITSRYq9O9"
      },
      "source": [
        "from sklearn.metrics import f1_score\n",
        "def compute_metrics(eval_pred):\n",
        "    logits, labels = eval_pred\n",
        "    predictions = logits.argmax(axis=-1)\n",
        "    return {'f1': f1_score(labels, predictions, average='macro')}\n",
        "    # return f1_metric.compute(predictions=predictions, references=labels)\n",
        "\n",
        "trainer = Trainer(\n",
        "    model=model, args=training_args,\n",
        "    train_dataset=full_train_dataset,\n",
        "    eval_dataset=full_eval_dataset,\n",
        "    compute_metrics=compute_metrics,\n",
        ")"
      ],
      "execution_count": null,
      "outputs": []
    },
    {
      "cell_type": "code",
      "metadata": {
        "colab": {
          "base_uri": "https://localhost:8080/"
        },
        "id": "axhmHpAF6qSA",
        "outputId": "2e2a63f0-603f-47ba-cfcf-51c61a1898ac"
      },
      "source": [
        "!nvidia-smi"
      ],
      "execution_count": null,
      "outputs": [
        {
          "output_type": "stream",
          "name": "stdout",
          "text": [
            "Mon Sep 20 15:36:10 2021       \n",
            "+-----------------------------------------------------------------------------+\n",
            "| NVIDIA-SMI 470.63.01    Driver Version: 460.32.03    CUDA Version: 11.2     |\n",
            "|-------------------------------+----------------------+----------------------+\n",
            "| GPU  Name        Persistence-M| Bus-Id        Disp.A | Volatile Uncorr. ECC |\n",
            "| Fan  Temp  Perf  Pwr:Usage/Cap|         Memory-Usage | GPU-Util  Compute M. |\n",
            "|                               |                      |               MIG M. |\n",
            "|===============================+======================+======================|\n",
            "|   0  Tesla T4            Off  | 00000000:00:04.0 Off |                    0 |\n",
            "| N/A   38C    P0    26W /  70W |   2434MiB / 15109MiB |      0%      Default |\n",
            "|                               |                      |                  N/A |\n",
            "+-------------------------------+----------------------+----------------------+\n",
            "                                                                               \n",
            "+-----------------------------------------------------------------------------+\n",
            "| Processes:                                                                  |\n",
            "|  GPU   GI   CI        PID   Type   Process name                  GPU Memory |\n",
            "|        ID   ID                                                   Usage      |\n",
            "|=============================================================================|\n",
            "|  No running processes found                                                 |\n",
            "+-----------------------------------------------------------------------------+\n"
          ]
        }
      ]
    },
    {
      "cell_type": "code",
      "metadata": {
        "colab": {
          "base_uri": "https://localhost:8080/"
        },
        "id": "XvAi8aPGlSgG",
        "outputId": "8a022bf4-6d1c-4519-a475-f2a44b4f6d96"
      },
      "source": [
        "from google.colab import drive\n",
        "drive.mount('/content/drive')"
      ],
      "execution_count": null,
      "outputs": [
        {
          "output_type": "stream",
          "name": "stdout",
          "text": [
            "Mounted at /content/drive\n"
          ]
        }
      ]
    },
    {
      "cell_type": "code",
      "metadata": {
        "id": "QnzZb9Q548zR"
      },
      "source": [
        "# Wandb accces code: 6eac997ed11cad663510778e5e1c33388cdac6c5\n",
        "# swswswswsw"
      ],
      "execution_count": null,
      "outputs": []
    },
    {
      "cell_type": "code",
      "metadata": {
        "id": "qOawyaSMWuan"
      },
      "source": [
        "# import gc\n",
        "# gc.collect()\n",
        "# torch.cuda.empty_cache() sssssssssss"
      ],
      "execution_count": null,
      "outputs": []
    },
    {
      "cell_type": "code",
      "metadata": {
        "colab": {
          "base_uri": "https://localhost:8080/",
          "height": 1000
        },
        "id": "U9pCqU9MeWh1",
        "outputId": "e56d70c9-aad7-409a-a608-dfdb3c22983f"
      },
      "source": [
        "trainer.train()"
      ],
      "execution_count": null,
      "outputs": [
        {
          "output_type": "stream",
          "name": "stderr",
          "text": [
            "The following columns in the training set  don't have a corresponding argument in `RobertaForSequenceClassification.forward` and have been ignored: __index_level_0__, combined_features.\n",
            "***** Running training *****\n",
            "  Num examples = 2406\n",
            "  Num Epochs = 8\n",
            "  Instantaneous batch size per device = 4\n",
            "  Total train batch size (w. parallel, distributed & accumulation) = 4\n",
            "  Gradient Accumulation steps = 1\n",
            "  Total optimization steps = 4816\n",
            "Automatic Weights & Biases logging enabled, to disable set os.environ[\"WANDB_DISABLED\"] = \"true\"\n"
          ]
        },
        {
          "output_type": "display_data",
          "data": {
            "application/javascript": [
              "\n",
              "        window._wandbApiKey = new Promise((resolve, reject) => {\n",
              "            function loadScript(url) {\n",
              "            return new Promise(function(resolve, reject) {\n",
              "                let newScript = document.createElement(\"script\");\n",
              "                newScript.onerror = reject;\n",
              "                newScript.onload = resolve;\n",
              "                document.body.appendChild(newScript);\n",
              "                newScript.src = url;\n",
              "            });\n",
              "            }\n",
              "            loadScript(\"https://cdn.jsdelivr.net/npm/postmate/build/postmate.min.js\").then(() => {\n",
              "            const iframe = document.createElement('iframe')\n",
              "            iframe.style.cssText = \"width:0;height:0;border:none\"\n",
              "            document.body.appendChild(iframe)\n",
              "            const handshake = new Postmate({\n",
              "                container: iframe,\n",
              "                url: 'https://wandb.ai/authorize'\n",
              "            });\n",
              "            const timeout = setTimeout(() => reject(\"Couldn't auto authenticate\"), 5000)\n",
              "            handshake.then(function(child) {\n",
              "                child.on('authorize', data => {\n",
              "                    clearTimeout(timeout)\n",
              "                    resolve(data)\n",
              "                });\n",
              "            });\n",
              "            })\n",
              "        });\n",
              "    "
            ],
            "text/plain": [
              "<IPython.core.display.Javascript object>"
            ]
          },
          "metadata": {}
        },
        {
          "output_type": "stream",
          "name": "stderr",
          "text": [
            "\u001b[34m\u001b[1mwandb\u001b[0m: Appending key for api.wandb.ai to your netrc file: /root/.netrc\n"
          ]
        },
        {
          "output_type": "display_data",
          "data": {
            "text/html": [
              "\n",
              "                Tracking run with wandb version 0.12.2<br/>\n",
              "                Syncing run <strong style=\"color:#cdcd00\">roberta_large_lr1e-5</strong> to <a href=\"https://wandb.ai\" target=\"_blank\">Weights & Biases</a> <a href=\"https://docs.wandb.com/integrations/jupyter.html\" target=\"_blank\">(Documentation)</a>.<br/>\n",
              "                Project page: <a href=\"https://wandb.ai/danielsaeedi/pcl-binary\" target=\"_blank\">https://wandb.ai/danielsaeedi/pcl-binary</a><br/>\n",
              "                Run page: <a href=\"https://wandb.ai/danielsaeedi/pcl-binary/runs/3mzzyye8\" target=\"_blank\">https://wandb.ai/danielsaeedi/pcl-binary/runs/3mzzyye8</a><br/>\n",
              "                Run data is saved locally in <code>/content/wandb/run-20210920_153626-3mzzyye8</code><br/><br/>\n",
              "            "
            ],
            "text/plain": [
              "<IPython.core.display.HTML object>"
            ]
          },
          "metadata": {}
        },
        {
          "output_type": "display_data",
          "data": {
            "text/html": [
              "\n",
              "    <div>\n",
              "      \n",
              "      <progress value='4816' max='4816' style='width:300px; height:20px; vertical-align: middle;'></progress>\n",
              "      [4816/4816 1:58:20, Epoch 8/8]\n",
              "    </div>\n",
              "    <table border=\"1\" class=\"dataframe\">\n",
              "  <thead>\n",
              "    <tr style=\"text-align: left;\">\n",
              "      <th>Epoch</th>\n",
              "      <th>Training Loss</th>\n",
              "      <th>Validation Loss</th>\n",
              "      <th>F1</th>\n",
              "    </tr>\n",
              "  </thead>\n",
              "  <tbody>\n",
              "    <tr>\n",
              "      <td>1</td>\n",
              "      <td>1.764500</td>\n",
              "      <td>1.318383</td>\n",
              "      <td>0.202014</td>\n",
              "    </tr>\n",
              "    <tr>\n",
              "      <td>2</td>\n",
              "      <td>1.261400</td>\n",
              "      <td>1.041829</td>\n",
              "      <td>0.409190</td>\n",
              "    </tr>\n",
              "    <tr>\n",
              "      <td>3</td>\n",
              "      <td>1.049900</td>\n",
              "      <td>0.989338</td>\n",
              "      <td>0.530982</td>\n",
              "    </tr>\n",
              "    <tr>\n",
              "      <td>4</td>\n",
              "      <td>0.883700</td>\n",
              "      <td>1.075929</td>\n",
              "      <td>0.564085</td>\n",
              "    </tr>\n",
              "    <tr>\n",
              "      <td>5</td>\n",
              "      <td>0.611800</td>\n",
              "      <td>1.306504</td>\n",
              "      <td>0.574855</td>\n",
              "    </tr>\n",
              "    <tr>\n",
              "      <td>6</td>\n",
              "      <td>0.498300</td>\n",
              "      <td>1.597257</td>\n",
              "      <td>0.566843</td>\n",
              "    </tr>\n",
              "    <tr>\n",
              "      <td>7</td>\n",
              "      <td>0.417900</td>\n",
              "      <td>1.849689</td>\n",
              "      <td>0.577691</td>\n",
              "    </tr>\n",
              "    <tr>\n",
              "      <td>8</td>\n",
              "      <td>0.359700</td>\n",
              "      <td>1.970165</td>\n",
              "      <td>0.572890</td>\n",
              "    </tr>\n",
              "  </tbody>\n",
              "</table><p>"
            ],
            "text/plain": [
              "<IPython.core.display.HTML object>"
            ]
          },
          "metadata": {}
        },
        {
          "output_type": "stream",
          "name": "stderr",
          "text": [
            "Saving model checkpoint to roberta_large_lr1e-5/checkpoint-500\n",
            "Configuration saved in roberta_large_lr1e-5/checkpoint-500/config.json\n",
            "Model weights saved in roberta_large_lr1e-5/checkpoint-500/pytorch_model.bin\n",
            "The following columns in the evaluation set  don't have a corresponding argument in `RobertaForSequenceClassification.forward` and have been ignored: __index_level_0__, combined_features.\n",
            "***** Running Evaluation *****\n",
            "  Num examples = 279\n",
            "  Batch size = 8\n",
            "Saving model checkpoint to roberta_large_lr1e-5/checkpoint-1000\n",
            "Configuration saved in roberta_large_lr1e-5/checkpoint-1000/config.json\n",
            "Model weights saved in roberta_large_lr1e-5/checkpoint-1000/pytorch_model.bin\n",
            "The following columns in the evaluation set  don't have a corresponding argument in `RobertaForSequenceClassification.forward` and have been ignored: __index_level_0__, combined_features.\n",
            "***** Running Evaluation *****\n",
            "  Num examples = 279\n",
            "  Batch size = 8\n",
            "Saving model checkpoint to roberta_large_lr1e-5/checkpoint-1500\n",
            "Configuration saved in roberta_large_lr1e-5/checkpoint-1500/config.json\n",
            "Model weights saved in roberta_large_lr1e-5/checkpoint-1500/pytorch_model.bin\n",
            "Deleting older checkpoint [roberta_large_lr1e-5/checkpoint-500] due to args.save_total_limit\n",
            "The following columns in the evaluation set  don't have a corresponding argument in `RobertaForSequenceClassification.forward` and have been ignored: __index_level_0__, combined_features.\n",
            "***** Running Evaluation *****\n",
            "  Num examples = 279\n",
            "  Batch size = 8\n",
            "Saving model checkpoint to roberta_large_lr1e-5/checkpoint-2000\n",
            "Configuration saved in roberta_large_lr1e-5/checkpoint-2000/config.json\n",
            "Model weights saved in roberta_large_lr1e-5/checkpoint-2000/pytorch_model.bin\n",
            "Deleting older checkpoint [roberta_large_lr1e-5/checkpoint-1000] due to args.save_total_limit\n",
            "The following columns in the evaluation set  don't have a corresponding argument in `RobertaForSequenceClassification.forward` and have been ignored: __index_level_0__, combined_features.\n",
            "***** Running Evaluation *****\n",
            "  Num examples = 279\n",
            "  Batch size = 8\n",
            "Saving model checkpoint to roberta_large_lr1e-5/checkpoint-2500\n",
            "Configuration saved in roberta_large_lr1e-5/checkpoint-2500/config.json\n",
            "Model weights saved in roberta_large_lr1e-5/checkpoint-2500/pytorch_model.bin\n",
            "Deleting older checkpoint [roberta_large_lr1e-5/checkpoint-1500] due to args.save_total_limit\n",
            "Saving model checkpoint to roberta_large_lr1e-5/checkpoint-3000\n",
            "Configuration saved in roberta_large_lr1e-5/checkpoint-3000/config.json\n",
            "Model weights saved in roberta_large_lr1e-5/checkpoint-3000/pytorch_model.bin\n",
            "Deleting older checkpoint [roberta_large_lr1e-5/checkpoint-2000] due to args.save_total_limit\n",
            "The following columns in the evaluation set  don't have a corresponding argument in `RobertaForSequenceClassification.forward` and have been ignored: __index_level_0__, combined_features.\n",
            "***** Running Evaluation *****\n",
            "  Num examples = 279\n",
            "  Batch size = 8\n",
            "Saving model checkpoint to roberta_large_lr1e-5/checkpoint-3500\n",
            "Configuration saved in roberta_large_lr1e-5/checkpoint-3500/config.json\n",
            "Model weights saved in roberta_large_lr1e-5/checkpoint-3500/pytorch_model.bin\n",
            "Deleting older checkpoint [roberta_large_lr1e-5/checkpoint-2500] due to args.save_total_limit\n",
            "The following columns in the evaluation set  don't have a corresponding argument in `RobertaForSequenceClassification.forward` and have been ignored: __index_level_0__, combined_features.\n",
            "***** Running Evaluation *****\n",
            "  Num examples = 279\n",
            "  Batch size = 8\n",
            "Saving model checkpoint to roberta_large_lr1e-5/checkpoint-4000\n",
            "Configuration saved in roberta_large_lr1e-5/checkpoint-4000/config.json\n",
            "Model weights saved in roberta_large_lr1e-5/checkpoint-4000/pytorch_model.bin\n",
            "Deleting older checkpoint [roberta_large_lr1e-5/checkpoint-3000] due to args.save_total_limit\n",
            "The following columns in the evaluation set  don't have a corresponding argument in `RobertaForSequenceClassification.forward` and have been ignored: __index_level_0__, combined_features.\n",
            "***** Running Evaluation *****\n",
            "  Num examples = 279\n",
            "  Batch size = 8\n",
            "Saving model checkpoint to roberta_large_lr1e-5/checkpoint-4500\n",
            "Configuration saved in roberta_large_lr1e-5/checkpoint-4500/config.json\n",
            "Model weights saved in roberta_large_lr1e-5/checkpoint-4500/pytorch_model.bin\n",
            "Deleting older checkpoint [roberta_large_lr1e-5/checkpoint-3500] due to args.save_total_limit\n",
            "The following columns in the evaluation set  don't have a corresponding argument in `RobertaForSequenceClassification.forward` and have been ignored: __index_level_0__, combined_features.\n",
            "***** Running Evaluation *****\n",
            "  Num examples = 279\n",
            "  Batch size = 8\n",
            "\n",
            "\n",
            "Training completed. Do not forget to share your model on huggingface.co/models =)\n",
            "\n",
            "\n"
          ]
        },
        {
          "output_type": "execute_result",
          "data": {
            "text/plain": [
              "TrainOutput(global_step=4816, training_loss=0.8059706909711971, metrics={'train_runtime': 7114.871, 'train_samples_per_second': 2.705, 'train_steps_per_second': 0.677, 'total_flos': 1.7938117921849344e+16, 'train_loss': 0.8059706909711971, 'epoch': 8.0})"
            ]
          },
          "metadata": {},
          "execution_count": 31
        }
      ]
    },
    {
      "cell_type": "code",
      "metadata": {
        "id": "geRQoZtqsEXi"
      },
      "source": [
        "trainer.evaluate()"
      ],
      "execution_count": null,
      "outputs": []
    },
    {
      "cell_type": "code",
      "metadata": {
        "id": "7lSURhg6pn4t"
      },
      "source": [
        "y_pred = trainer.predict(small_eval_dataset)"
      ],
      "execution_count": null,
      "outputs": []
    },
    {
      "cell_type": "code",
      "metadata": {
        "id": "zaBv_4Ozyd5G"
      },
      "source": [
        "y_pred.predictions.argmax(axis=1)"
      ],
      "execution_count": null,
      "outputs": []
    },
    {
      "cell_type": "code",
      "metadata": {
        "id": "3JVVJKV_qyG7"
      },
      "source": [
        "df_preds=pd.DataFrame(y_pred.label_ids)\n",
        "df_preds"
      ],
      "execution_count": null,
      "outputs": []
    },
    {
      "cell_type": "code",
      "metadata": {
        "id": "HPN-YunqqyLV"
      },
      "source": [
        ""
      ],
      "execution_count": null,
      "outputs": []
    },
    {
      "cell_type": "code",
      "metadata": {
        "id": "gThFPWFP0fDx"
      },
      "source": [
        "# del trainer\n",
        "# import gc\n",
        "# gc.collect()\n",
        "# torch.cuda.empty_cache()"
      ],
      "execution_count": null,
      "outputs": []
    },
    {
      "cell_type": "code",
      "metadata": {
        "id": "VaUVbJ3H3eTb"
      },
      "source": [
        "# For WandB results checkout https://wandb.ai/alipanahi/pcl-binary \n",
        "%tensorboard --logdir \"roberta_large_lr5e-5\""
      ],
      "execution_count": null,
      "outputs": []
    },
    {
      "cell_type": "code",
      "metadata": {
        "id": "mOiQT7EaTzx4"
      },
      "source": [
        ""
      ],
      "execution_count": null,
      "outputs": []
    },
    {
      "cell_type": "code",
      "metadata": {
        "id": "Qk8FYg2Ul1kp"
      },
      "source": [
        "# mkdir -p /content/drive/MyDrive/full_roberta_lr5e-5/checkpoint-5500/"
      ],
      "execution_count": null,
      "outputs": []
    },
    {
      "cell_type": "code",
      "metadata": {
        "id": "ErcqwvyZlg57"
      },
      "source": [
        "# cp -r /content/full_roberta_lr5e-5/checkpoint-5500/ /content/drive/MyDrive/full_roberta_lr5e-5/checkpoint-5500/"
      ],
      "execution_count": null,
      "outputs": []
    },
    {
      "cell_type": "code",
      "metadata": {
        "id": "yH0t1XpclzRz"
      },
      "source": [
        "# import wandb\n",
        "# wandb.init(project='pcl-binary')"
      ],
      "execution_count": null,
      "outputs": []
    },
    {
      "cell_type": "code",
      "metadata": {
        "id": "6_IPGsb_mbhK"
      },
      "source": [
        "from sklearn.metrics import classification_report\n",
        "print(classification_report(df_pcl_valid['labels'].values, df_preds.values, target_names=['0','1']))"
      ],
      "execution_count": null,
      "outputs": []
    },
    {
      "cell_type": "code",
      "metadata": {
        "id": "rxmxSyzExbFZ"
      },
      "source": [
        "from sklearn.metrics import f1_score\n",
        "f1_score(df_pcl_valid['labels'].values, df_preds.values, average='macro')"
      ],
      "execution_count": null,
      "outputs": []
    },
    {
      "cell_type": "code",
      "metadata": {
        "id": "iW5k_pJLx50S"
      },
      "source": [
        "df_pcl_valid['labels'].values[:10]"
      ],
      "execution_count": null,
      "outputs": []
    }
  ]
}