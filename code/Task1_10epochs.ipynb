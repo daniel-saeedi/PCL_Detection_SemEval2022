{
  "nbformat": 4,
  "nbformat_minor": 0,
  "metadata": {
    "accelerator": "GPU",
    "colab": {
      "name": "Task1_Diagram_10epochs.ipynb",
      "provenance": [],
      "collapsed_sections": [],
      "machine_shape": "hm"
    },
    "kernelspec": {
      "display_name": "Python 3",
      "name": "python3"
    },
    "language_info": {
      "name": "python"
    },
    "widgets": {
      "application/vnd.jupyter.widget-state+json": {
        "199cd1ca9f134b7a88a0ac288deee50a": {
          "model_module": "@jupyter-widgets/controls",
          "model_name": "HBoxModel",
          "model_module_version": "1.5.0",
          "state": {
            "_view_name": "HBoxView",
            "_dom_classes": [],
            "_model_name": "HBoxModel",
            "_view_module": "@jupyter-widgets/controls",
            "_model_module_version": "1.5.0",
            "_view_count": null,
            "_view_module_version": "1.5.0",
            "box_style": "",
            "layout": "IPY_MODEL_0f40728deda0401199ee0b2c34dce1e2",
            "_model_module": "@jupyter-widgets/controls",
            "children": [
              "IPY_MODEL_34502ecc76b04208ae8a3272e91acb41",
              "IPY_MODEL_ba26d4d0ffad42b980a363e39c10b91f",
              "IPY_MODEL_6e467caf7daa49eb8b75745f8448d111"
            ]
          }
        },
        "0f40728deda0401199ee0b2c34dce1e2": {
          "model_module": "@jupyter-widgets/base",
          "model_name": "LayoutModel",
          "model_module_version": "1.2.0",
          "state": {
            "_view_name": "LayoutView",
            "grid_template_rows": null,
            "right": null,
            "justify_content": null,
            "_view_module": "@jupyter-widgets/base",
            "overflow": null,
            "_model_module_version": "1.2.0",
            "_view_count": null,
            "flex_flow": null,
            "width": null,
            "min_width": null,
            "border": null,
            "align_items": null,
            "bottom": null,
            "_model_module": "@jupyter-widgets/base",
            "top": null,
            "grid_column": null,
            "overflow_y": null,
            "overflow_x": null,
            "grid_auto_flow": null,
            "grid_area": null,
            "grid_template_columns": null,
            "flex": null,
            "_model_name": "LayoutModel",
            "justify_items": null,
            "grid_row": null,
            "max_height": null,
            "align_content": null,
            "visibility": null,
            "align_self": null,
            "height": null,
            "min_height": null,
            "padding": null,
            "grid_auto_rows": null,
            "grid_gap": null,
            "max_width": null,
            "order": null,
            "_view_module_version": "1.2.0",
            "grid_template_areas": null,
            "object_position": null,
            "object_fit": null,
            "grid_auto_columns": null,
            "margin": null,
            "display": null,
            "left": null
          }
        },
        "34502ecc76b04208ae8a3272e91acb41": {
          "model_module": "@jupyter-widgets/controls",
          "model_name": "HTMLModel",
          "model_module_version": "1.5.0",
          "state": {
            "_view_name": "HTMLView",
            "style": "IPY_MODEL_077bfc43b70e4cd988b6b3c44948d9ad",
            "_dom_classes": [],
            "description": "",
            "_model_name": "HTMLModel",
            "placeholder": "​",
            "_view_module": "@jupyter-widgets/controls",
            "_model_module_version": "1.5.0",
            "value": "Downloading: 100%",
            "_view_count": null,
            "_view_module_version": "1.5.0",
            "description_tooltip": null,
            "_model_module": "@jupyter-widgets/controls",
            "layout": "IPY_MODEL_37fc15f60d5a48c1b8214d2edb7f4b8a"
          }
        },
        "ba26d4d0ffad42b980a363e39c10b91f": {
          "model_module": "@jupyter-widgets/controls",
          "model_name": "FloatProgressModel",
          "model_module_version": "1.5.0",
          "state": {
            "_view_name": "ProgressView",
            "style": "IPY_MODEL_e62715eec17b471b916b7e65af8d8c6f",
            "_dom_classes": [],
            "description": "",
            "_model_name": "FloatProgressModel",
            "bar_style": "success",
            "max": 482,
            "_view_module": "@jupyter-widgets/controls",
            "_model_module_version": "1.5.0",
            "value": 482,
            "_view_count": null,
            "_view_module_version": "1.5.0",
            "orientation": "horizontal",
            "min": 0,
            "description_tooltip": null,
            "_model_module": "@jupyter-widgets/controls",
            "layout": "IPY_MODEL_489d544e04aa4089ba872c70b9404249"
          }
        },
        "6e467caf7daa49eb8b75745f8448d111": {
          "model_module": "@jupyter-widgets/controls",
          "model_name": "HTMLModel",
          "model_module_version": "1.5.0",
          "state": {
            "_view_name": "HTMLView",
            "style": "IPY_MODEL_f786754512214c35842041a6e9cf7bf7",
            "_dom_classes": [],
            "description": "",
            "_model_name": "HTMLModel",
            "placeholder": "​",
            "_view_module": "@jupyter-widgets/controls",
            "_model_module_version": "1.5.0",
            "value": " 482/482 [00:00&lt;00:00, 17.3kB/s]",
            "_view_count": null,
            "_view_module_version": "1.5.0",
            "description_tooltip": null,
            "_model_module": "@jupyter-widgets/controls",
            "layout": "IPY_MODEL_857858c02b9e41a38137dc8782ab4bcf"
          }
        },
        "077bfc43b70e4cd988b6b3c44948d9ad": {
          "model_module": "@jupyter-widgets/controls",
          "model_name": "DescriptionStyleModel",
          "model_module_version": "1.5.0",
          "state": {
            "_view_name": "StyleView",
            "_model_name": "DescriptionStyleModel",
            "description_width": "",
            "_view_module": "@jupyter-widgets/base",
            "_model_module_version": "1.5.0",
            "_view_count": null,
            "_view_module_version": "1.2.0",
            "_model_module": "@jupyter-widgets/controls"
          }
        },
        "37fc15f60d5a48c1b8214d2edb7f4b8a": {
          "model_module": "@jupyter-widgets/base",
          "model_name": "LayoutModel",
          "model_module_version": "1.2.0",
          "state": {
            "_view_name": "LayoutView",
            "grid_template_rows": null,
            "right": null,
            "justify_content": null,
            "_view_module": "@jupyter-widgets/base",
            "overflow": null,
            "_model_module_version": "1.2.0",
            "_view_count": null,
            "flex_flow": null,
            "width": null,
            "min_width": null,
            "border": null,
            "align_items": null,
            "bottom": null,
            "_model_module": "@jupyter-widgets/base",
            "top": null,
            "grid_column": null,
            "overflow_y": null,
            "overflow_x": null,
            "grid_auto_flow": null,
            "grid_area": null,
            "grid_template_columns": null,
            "flex": null,
            "_model_name": "LayoutModel",
            "justify_items": null,
            "grid_row": null,
            "max_height": null,
            "align_content": null,
            "visibility": null,
            "align_self": null,
            "height": null,
            "min_height": null,
            "padding": null,
            "grid_auto_rows": null,
            "grid_gap": null,
            "max_width": null,
            "order": null,
            "_view_module_version": "1.2.0",
            "grid_template_areas": null,
            "object_position": null,
            "object_fit": null,
            "grid_auto_columns": null,
            "margin": null,
            "display": null,
            "left": null
          }
        },
        "e62715eec17b471b916b7e65af8d8c6f": {
          "model_module": "@jupyter-widgets/controls",
          "model_name": "ProgressStyleModel",
          "model_module_version": "1.5.0",
          "state": {
            "_view_name": "StyleView",
            "_model_name": "ProgressStyleModel",
            "description_width": "",
            "_view_module": "@jupyter-widgets/base",
            "_model_module_version": "1.5.0",
            "_view_count": null,
            "_view_module_version": "1.2.0",
            "bar_color": null,
            "_model_module": "@jupyter-widgets/controls"
          }
        },
        "489d544e04aa4089ba872c70b9404249": {
          "model_module": "@jupyter-widgets/base",
          "model_name": "LayoutModel",
          "model_module_version": "1.2.0",
          "state": {
            "_view_name": "LayoutView",
            "grid_template_rows": null,
            "right": null,
            "justify_content": null,
            "_view_module": "@jupyter-widgets/base",
            "overflow": null,
            "_model_module_version": "1.2.0",
            "_view_count": null,
            "flex_flow": null,
            "width": null,
            "min_width": null,
            "border": null,
            "align_items": null,
            "bottom": null,
            "_model_module": "@jupyter-widgets/base",
            "top": null,
            "grid_column": null,
            "overflow_y": null,
            "overflow_x": null,
            "grid_auto_flow": null,
            "grid_area": null,
            "grid_template_columns": null,
            "flex": null,
            "_model_name": "LayoutModel",
            "justify_items": null,
            "grid_row": null,
            "max_height": null,
            "align_content": null,
            "visibility": null,
            "align_self": null,
            "height": null,
            "min_height": null,
            "padding": null,
            "grid_auto_rows": null,
            "grid_gap": null,
            "max_width": null,
            "order": null,
            "_view_module_version": "1.2.0",
            "grid_template_areas": null,
            "object_position": null,
            "object_fit": null,
            "grid_auto_columns": null,
            "margin": null,
            "display": null,
            "left": null
          }
        },
        "f786754512214c35842041a6e9cf7bf7": {
          "model_module": "@jupyter-widgets/controls",
          "model_name": "DescriptionStyleModel",
          "model_module_version": "1.5.0",
          "state": {
            "_view_name": "StyleView",
            "_model_name": "DescriptionStyleModel",
            "description_width": "",
            "_view_module": "@jupyter-widgets/base",
            "_model_module_version": "1.5.0",
            "_view_count": null,
            "_view_module_version": "1.2.0",
            "_model_module": "@jupyter-widgets/controls"
          }
        },
        "857858c02b9e41a38137dc8782ab4bcf": {
          "model_module": "@jupyter-widgets/base",
          "model_name": "LayoutModel",
          "model_module_version": "1.2.0",
          "state": {
            "_view_name": "LayoutView",
            "grid_template_rows": null,
            "right": null,
            "justify_content": null,
            "_view_module": "@jupyter-widgets/base",
            "overflow": null,
            "_model_module_version": "1.2.0",
            "_view_count": null,
            "flex_flow": null,
            "width": null,
            "min_width": null,
            "border": null,
            "align_items": null,
            "bottom": null,
            "_model_module": "@jupyter-widgets/base",
            "top": null,
            "grid_column": null,
            "overflow_y": null,
            "overflow_x": null,
            "grid_auto_flow": null,
            "grid_area": null,
            "grid_template_columns": null,
            "flex": null,
            "_model_name": "LayoutModel",
            "justify_items": null,
            "grid_row": null,
            "max_height": null,
            "align_content": null,
            "visibility": null,
            "align_self": null,
            "height": null,
            "min_height": null,
            "padding": null,
            "grid_auto_rows": null,
            "grid_gap": null,
            "max_width": null,
            "order": null,
            "_view_module_version": "1.2.0",
            "grid_template_areas": null,
            "object_position": null,
            "object_fit": null,
            "grid_auto_columns": null,
            "margin": null,
            "display": null,
            "left": null
          }
        },
        "3926ca0e4d6743bb95c85c8bc81b5531": {
          "model_module": "@jupyter-widgets/controls",
          "model_name": "HBoxModel",
          "model_module_version": "1.5.0",
          "state": {
            "_view_name": "HBoxView",
            "_dom_classes": [],
            "_model_name": "HBoxModel",
            "_view_module": "@jupyter-widgets/controls",
            "_model_module_version": "1.5.0",
            "_view_count": null,
            "_view_module_version": "1.5.0",
            "box_style": "",
            "layout": "IPY_MODEL_0efccbac625f4d359729535827075c70",
            "_model_module": "@jupyter-widgets/controls",
            "children": [
              "IPY_MODEL_178735db1b1844cf8038f8dbab3c739d",
              "IPY_MODEL_0010896583674fe4ba0a2bfc4c0cc107",
              "IPY_MODEL_c3fdd819949e4489aea1463e7569e31c"
            ]
          }
        },
        "0efccbac625f4d359729535827075c70": {
          "model_module": "@jupyter-widgets/base",
          "model_name": "LayoutModel",
          "model_module_version": "1.2.0",
          "state": {
            "_view_name": "LayoutView",
            "grid_template_rows": null,
            "right": null,
            "justify_content": null,
            "_view_module": "@jupyter-widgets/base",
            "overflow": null,
            "_model_module_version": "1.2.0",
            "_view_count": null,
            "flex_flow": null,
            "width": null,
            "min_width": null,
            "border": null,
            "align_items": null,
            "bottom": null,
            "_model_module": "@jupyter-widgets/base",
            "top": null,
            "grid_column": null,
            "overflow_y": null,
            "overflow_x": null,
            "grid_auto_flow": null,
            "grid_area": null,
            "grid_template_columns": null,
            "flex": null,
            "_model_name": "LayoutModel",
            "justify_items": null,
            "grid_row": null,
            "max_height": null,
            "align_content": null,
            "visibility": null,
            "align_self": null,
            "height": null,
            "min_height": null,
            "padding": null,
            "grid_auto_rows": null,
            "grid_gap": null,
            "max_width": null,
            "order": null,
            "_view_module_version": "1.2.0",
            "grid_template_areas": null,
            "object_position": null,
            "object_fit": null,
            "grid_auto_columns": null,
            "margin": null,
            "display": null,
            "left": null
          }
        },
        "178735db1b1844cf8038f8dbab3c739d": {
          "model_module": "@jupyter-widgets/controls",
          "model_name": "HTMLModel",
          "model_module_version": "1.5.0",
          "state": {
            "_view_name": "HTMLView",
            "style": "IPY_MODEL_b128a4f54d12485c89d1047f5117c816",
            "_dom_classes": [],
            "description": "",
            "_model_name": "HTMLModel",
            "placeholder": "​",
            "_view_module": "@jupyter-widgets/controls",
            "_model_module_version": "1.5.0",
            "value": "Downloading: 100%",
            "_view_count": null,
            "_view_module_version": "1.5.0",
            "description_tooltip": null,
            "_model_module": "@jupyter-widgets/controls",
            "layout": "IPY_MODEL_eb79a15949d04093b5d20551d5a6af12"
          }
        },
        "0010896583674fe4ba0a2bfc4c0cc107": {
          "model_module": "@jupyter-widgets/controls",
          "model_name": "FloatProgressModel",
          "model_module_version": "1.5.0",
          "state": {
            "_view_name": "ProgressView",
            "style": "IPY_MODEL_ba515066859448e1965ebdd6e7e6ac5a",
            "_dom_classes": [],
            "description": "",
            "_model_name": "FloatProgressModel",
            "bar_style": "success",
            "max": 898823,
            "_view_module": "@jupyter-widgets/controls",
            "_model_module_version": "1.5.0",
            "value": 898823,
            "_view_count": null,
            "_view_module_version": "1.5.0",
            "orientation": "horizontal",
            "min": 0,
            "description_tooltip": null,
            "_model_module": "@jupyter-widgets/controls",
            "layout": "IPY_MODEL_8943b2495bd94839b96e486461319c40"
          }
        },
        "c3fdd819949e4489aea1463e7569e31c": {
          "model_module": "@jupyter-widgets/controls",
          "model_name": "HTMLModel",
          "model_module_version": "1.5.0",
          "state": {
            "_view_name": "HTMLView",
            "style": "IPY_MODEL_e562a3e9ba3f4e8684d9e496bf097367",
            "_dom_classes": [],
            "description": "",
            "_model_name": "HTMLModel",
            "placeholder": "​",
            "_view_module": "@jupyter-widgets/controls",
            "_model_module_version": "1.5.0",
            "value": " 878k/878k [00:00&lt;00:00, 2.00MB/s]",
            "_view_count": null,
            "_view_module_version": "1.5.0",
            "description_tooltip": null,
            "_model_module": "@jupyter-widgets/controls",
            "layout": "IPY_MODEL_db63e4cdc22248358a6e1624d9afaed4"
          }
        },
        "b128a4f54d12485c89d1047f5117c816": {
          "model_module": "@jupyter-widgets/controls",
          "model_name": "DescriptionStyleModel",
          "model_module_version": "1.5.0",
          "state": {
            "_view_name": "StyleView",
            "_model_name": "DescriptionStyleModel",
            "description_width": "",
            "_view_module": "@jupyter-widgets/base",
            "_model_module_version": "1.5.0",
            "_view_count": null,
            "_view_module_version": "1.2.0",
            "_model_module": "@jupyter-widgets/controls"
          }
        },
        "eb79a15949d04093b5d20551d5a6af12": {
          "model_module": "@jupyter-widgets/base",
          "model_name": "LayoutModel",
          "model_module_version": "1.2.0",
          "state": {
            "_view_name": "LayoutView",
            "grid_template_rows": null,
            "right": null,
            "justify_content": null,
            "_view_module": "@jupyter-widgets/base",
            "overflow": null,
            "_model_module_version": "1.2.0",
            "_view_count": null,
            "flex_flow": null,
            "width": null,
            "min_width": null,
            "border": null,
            "align_items": null,
            "bottom": null,
            "_model_module": "@jupyter-widgets/base",
            "top": null,
            "grid_column": null,
            "overflow_y": null,
            "overflow_x": null,
            "grid_auto_flow": null,
            "grid_area": null,
            "grid_template_columns": null,
            "flex": null,
            "_model_name": "LayoutModel",
            "justify_items": null,
            "grid_row": null,
            "max_height": null,
            "align_content": null,
            "visibility": null,
            "align_self": null,
            "height": null,
            "min_height": null,
            "padding": null,
            "grid_auto_rows": null,
            "grid_gap": null,
            "max_width": null,
            "order": null,
            "_view_module_version": "1.2.0",
            "grid_template_areas": null,
            "object_position": null,
            "object_fit": null,
            "grid_auto_columns": null,
            "margin": null,
            "display": null,
            "left": null
          }
        },
        "ba515066859448e1965ebdd6e7e6ac5a": {
          "model_module": "@jupyter-widgets/controls",
          "model_name": "ProgressStyleModel",
          "model_module_version": "1.5.0",
          "state": {
            "_view_name": "StyleView",
            "_model_name": "ProgressStyleModel",
            "description_width": "",
            "_view_module": "@jupyter-widgets/base",
            "_model_module_version": "1.5.0",
            "_view_count": null,
            "_view_module_version": "1.2.0",
            "bar_color": null,
            "_model_module": "@jupyter-widgets/controls"
          }
        },
        "8943b2495bd94839b96e486461319c40": {
          "model_module": "@jupyter-widgets/base",
          "model_name": "LayoutModel",
          "model_module_version": "1.2.0",
          "state": {
            "_view_name": "LayoutView",
            "grid_template_rows": null,
            "right": null,
            "justify_content": null,
            "_view_module": "@jupyter-widgets/base",
            "overflow": null,
            "_model_module_version": "1.2.0",
            "_view_count": null,
            "flex_flow": null,
            "width": null,
            "min_width": null,
            "border": null,
            "align_items": null,
            "bottom": null,
            "_model_module": "@jupyter-widgets/base",
            "top": null,
            "grid_column": null,
            "overflow_y": null,
            "overflow_x": null,
            "grid_auto_flow": null,
            "grid_area": null,
            "grid_template_columns": null,
            "flex": null,
            "_model_name": "LayoutModel",
            "justify_items": null,
            "grid_row": null,
            "max_height": null,
            "align_content": null,
            "visibility": null,
            "align_self": null,
            "height": null,
            "min_height": null,
            "padding": null,
            "grid_auto_rows": null,
            "grid_gap": null,
            "max_width": null,
            "order": null,
            "_view_module_version": "1.2.0",
            "grid_template_areas": null,
            "object_position": null,
            "object_fit": null,
            "grid_auto_columns": null,
            "margin": null,
            "display": null,
            "left": null
          }
        },
        "e562a3e9ba3f4e8684d9e496bf097367": {
          "model_module": "@jupyter-widgets/controls",
          "model_name": "DescriptionStyleModel",
          "model_module_version": "1.5.0",
          "state": {
            "_view_name": "StyleView",
            "_model_name": "DescriptionStyleModel",
            "description_width": "",
            "_view_module": "@jupyter-widgets/base",
            "_model_module_version": "1.5.0",
            "_view_count": null,
            "_view_module_version": "1.2.0",
            "_model_module": "@jupyter-widgets/controls"
          }
        },
        "db63e4cdc22248358a6e1624d9afaed4": {
          "model_module": "@jupyter-widgets/base",
          "model_name": "LayoutModel",
          "model_module_version": "1.2.0",
          "state": {
            "_view_name": "LayoutView",
            "grid_template_rows": null,
            "right": null,
            "justify_content": null,
            "_view_module": "@jupyter-widgets/base",
            "overflow": null,
            "_model_module_version": "1.2.0",
            "_view_count": null,
            "flex_flow": null,
            "width": null,
            "min_width": null,
            "border": null,
            "align_items": null,
            "bottom": null,
            "_model_module": "@jupyter-widgets/base",
            "top": null,
            "grid_column": null,
            "overflow_y": null,
            "overflow_x": null,
            "grid_auto_flow": null,
            "grid_area": null,
            "grid_template_columns": null,
            "flex": null,
            "_model_name": "LayoutModel",
            "justify_items": null,
            "grid_row": null,
            "max_height": null,
            "align_content": null,
            "visibility": null,
            "align_self": null,
            "height": null,
            "min_height": null,
            "padding": null,
            "grid_auto_rows": null,
            "grid_gap": null,
            "max_width": null,
            "order": null,
            "_view_module_version": "1.2.0",
            "grid_template_areas": null,
            "object_position": null,
            "object_fit": null,
            "grid_auto_columns": null,
            "margin": null,
            "display": null,
            "left": null
          }
        },
        "e89ad92318fd46e99a55a0e72533f138": {
          "model_module": "@jupyter-widgets/controls",
          "model_name": "HBoxModel",
          "model_module_version": "1.5.0",
          "state": {
            "_view_name": "HBoxView",
            "_dom_classes": [],
            "_model_name": "HBoxModel",
            "_view_module": "@jupyter-widgets/controls",
            "_model_module_version": "1.5.0",
            "_view_count": null,
            "_view_module_version": "1.5.0",
            "box_style": "",
            "layout": "IPY_MODEL_3026b4fc3dd14e0d98b7286bc87ab880",
            "_model_module": "@jupyter-widgets/controls",
            "children": [
              "IPY_MODEL_2c9234d12ba244cc877e92cd879a3a1f",
              "IPY_MODEL_277b10bd853944468d4dd0fd7a72edd3",
              "IPY_MODEL_e931ff6ce51f4dc0b29898bff57826ec"
            ]
          }
        },
        "3026b4fc3dd14e0d98b7286bc87ab880": {
          "model_module": "@jupyter-widgets/base",
          "model_name": "LayoutModel",
          "model_module_version": "1.2.0",
          "state": {
            "_view_name": "LayoutView",
            "grid_template_rows": null,
            "right": null,
            "justify_content": null,
            "_view_module": "@jupyter-widgets/base",
            "overflow": null,
            "_model_module_version": "1.2.0",
            "_view_count": null,
            "flex_flow": null,
            "width": null,
            "min_width": null,
            "border": null,
            "align_items": null,
            "bottom": null,
            "_model_module": "@jupyter-widgets/base",
            "top": null,
            "grid_column": null,
            "overflow_y": null,
            "overflow_x": null,
            "grid_auto_flow": null,
            "grid_area": null,
            "grid_template_columns": null,
            "flex": null,
            "_model_name": "LayoutModel",
            "justify_items": null,
            "grid_row": null,
            "max_height": null,
            "align_content": null,
            "visibility": null,
            "align_self": null,
            "height": null,
            "min_height": null,
            "padding": null,
            "grid_auto_rows": null,
            "grid_gap": null,
            "max_width": null,
            "order": null,
            "_view_module_version": "1.2.0",
            "grid_template_areas": null,
            "object_position": null,
            "object_fit": null,
            "grid_auto_columns": null,
            "margin": null,
            "display": null,
            "left": null
          }
        },
        "2c9234d12ba244cc877e92cd879a3a1f": {
          "model_module": "@jupyter-widgets/controls",
          "model_name": "HTMLModel",
          "model_module_version": "1.5.0",
          "state": {
            "_view_name": "HTMLView",
            "style": "IPY_MODEL_01e8b3be41e34c27923f02bd056ac48a",
            "_dom_classes": [],
            "description": "",
            "_model_name": "HTMLModel",
            "placeholder": "​",
            "_view_module": "@jupyter-widgets/controls",
            "_model_module_version": "1.5.0",
            "value": "Downloading: 100%",
            "_view_count": null,
            "_view_module_version": "1.5.0",
            "description_tooltip": null,
            "_model_module": "@jupyter-widgets/controls",
            "layout": "IPY_MODEL_ee077f9fa1924eb58e5ebaf1b2ab1453"
          }
        },
        "277b10bd853944468d4dd0fd7a72edd3": {
          "model_module": "@jupyter-widgets/controls",
          "model_name": "FloatProgressModel",
          "model_module_version": "1.5.0",
          "state": {
            "_view_name": "ProgressView",
            "style": "IPY_MODEL_bfc75d8d670644bf8f10d13a4c8a7a01",
            "_dom_classes": [],
            "description": "",
            "_model_name": "FloatProgressModel",
            "bar_style": "success",
            "max": 456318,
            "_view_module": "@jupyter-widgets/controls",
            "_model_module_version": "1.5.0",
            "value": 456318,
            "_view_count": null,
            "_view_module_version": "1.5.0",
            "orientation": "horizontal",
            "min": 0,
            "description_tooltip": null,
            "_model_module": "@jupyter-widgets/controls",
            "layout": "IPY_MODEL_bef11b75c39a44289f9bcd7181b5fc88"
          }
        },
        "e931ff6ce51f4dc0b29898bff57826ec": {
          "model_module": "@jupyter-widgets/controls",
          "model_name": "HTMLModel",
          "model_module_version": "1.5.0",
          "state": {
            "_view_name": "HTMLView",
            "style": "IPY_MODEL_1a5930f437fd449799b9a956559e71a4",
            "_dom_classes": [],
            "description": "",
            "_model_name": "HTMLModel",
            "placeholder": "​",
            "_view_module": "@jupyter-widgets/controls",
            "_model_module_version": "1.5.0",
            "value": " 446k/446k [00:00&lt;00:00, 578kB/s]",
            "_view_count": null,
            "_view_module_version": "1.5.0",
            "description_tooltip": null,
            "_model_module": "@jupyter-widgets/controls",
            "layout": "IPY_MODEL_30babb5785c54131ae75827e8a457cc5"
          }
        },
        "01e8b3be41e34c27923f02bd056ac48a": {
          "model_module": "@jupyter-widgets/controls",
          "model_name": "DescriptionStyleModel",
          "model_module_version": "1.5.0",
          "state": {
            "_view_name": "StyleView",
            "_model_name": "DescriptionStyleModel",
            "description_width": "",
            "_view_module": "@jupyter-widgets/base",
            "_model_module_version": "1.5.0",
            "_view_count": null,
            "_view_module_version": "1.2.0",
            "_model_module": "@jupyter-widgets/controls"
          }
        },
        "ee077f9fa1924eb58e5ebaf1b2ab1453": {
          "model_module": "@jupyter-widgets/base",
          "model_name": "LayoutModel",
          "model_module_version": "1.2.0",
          "state": {
            "_view_name": "LayoutView",
            "grid_template_rows": null,
            "right": null,
            "justify_content": null,
            "_view_module": "@jupyter-widgets/base",
            "overflow": null,
            "_model_module_version": "1.2.0",
            "_view_count": null,
            "flex_flow": null,
            "width": null,
            "min_width": null,
            "border": null,
            "align_items": null,
            "bottom": null,
            "_model_module": "@jupyter-widgets/base",
            "top": null,
            "grid_column": null,
            "overflow_y": null,
            "overflow_x": null,
            "grid_auto_flow": null,
            "grid_area": null,
            "grid_template_columns": null,
            "flex": null,
            "_model_name": "LayoutModel",
            "justify_items": null,
            "grid_row": null,
            "max_height": null,
            "align_content": null,
            "visibility": null,
            "align_self": null,
            "height": null,
            "min_height": null,
            "padding": null,
            "grid_auto_rows": null,
            "grid_gap": null,
            "max_width": null,
            "order": null,
            "_view_module_version": "1.2.0",
            "grid_template_areas": null,
            "object_position": null,
            "object_fit": null,
            "grid_auto_columns": null,
            "margin": null,
            "display": null,
            "left": null
          }
        },
        "bfc75d8d670644bf8f10d13a4c8a7a01": {
          "model_module": "@jupyter-widgets/controls",
          "model_name": "ProgressStyleModel",
          "model_module_version": "1.5.0",
          "state": {
            "_view_name": "StyleView",
            "_model_name": "ProgressStyleModel",
            "description_width": "",
            "_view_module": "@jupyter-widgets/base",
            "_model_module_version": "1.5.0",
            "_view_count": null,
            "_view_module_version": "1.2.0",
            "bar_color": null,
            "_model_module": "@jupyter-widgets/controls"
          }
        },
        "bef11b75c39a44289f9bcd7181b5fc88": {
          "model_module": "@jupyter-widgets/base",
          "model_name": "LayoutModel",
          "model_module_version": "1.2.0",
          "state": {
            "_view_name": "LayoutView",
            "grid_template_rows": null,
            "right": null,
            "justify_content": null,
            "_view_module": "@jupyter-widgets/base",
            "overflow": null,
            "_model_module_version": "1.2.0",
            "_view_count": null,
            "flex_flow": null,
            "width": null,
            "min_width": null,
            "border": null,
            "align_items": null,
            "bottom": null,
            "_model_module": "@jupyter-widgets/base",
            "top": null,
            "grid_column": null,
            "overflow_y": null,
            "overflow_x": null,
            "grid_auto_flow": null,
            "grid_area": null,
            "grid_template_columns": null,
            "flex": null,
            "_model_name": "LayoutModel",
            "justify_items": null,
            "grid_row": null,
            "max_height": null,
            "align_content": null,
            "visibility": null,
            "align_self": null,
            "height": null,
            "min_height": null,
            "padding": null,
            "grid_auto_rows": null,
            "grid_gap": null,
            "max_width": null,
            "order": null,
            "_view_module_version": "1.2.0",
            "grid_template_areas": null,
            "object_position": null,
            "object_fit": null,
            "grid_auto_columns": null,
            "margin": null,
            "display": null,
            "left": null
          }
        },
        "1a5930f437fd449799b9a956559e71a4": {
          "model_module": "@jupyter-widgets/controls",
          "model_name": "DescriptionStyleModel",
          "model_module_version": "1.5.0",
          "state": {
            "_view_name": "StyleView",
            "_model_name": "DescriptionStyleModel",
            "description_width": "",
            "_view_module": "@jupyter-widgets/base",
            "_model_module_version": "1.5.0",
            "_view_count": null,
            "_view_module_version": "1.2.0",
            "_model_module": "@jupyter-widgets/controls"
          }
        },
        "30babb5785c54131ae75827e8a457cc5": {
          "model_module": "@jupyter-widgets/base",
          "model_name": "LayoutModel",
          "model_module_version": "1.2.0",
          "state": {
            "_view_name": "LayoutView",
            "grid_template_rows": null,
            "right": null,
            "justify_content": null,
            "_view_module": "@jupyter-widgets/base",
            "overflow": null,
            "_model_module_version": "1.2.0",
            "_view_count": null,
            "flex_flow": null,
            "width": null,
            "min_width": null,
            "border": null,
            "align_items": null,
            "bottom": null,
            "_model_module": "@jupyter-widgets/base",
            "top": null,
            "grid_column": null,
            "overflow_y": null,
            "overflow_x": null,
            "grid_auto_flow": null,
            "grid_area": null,
            "grid_template_columns": null,
            "flex": null,
            "_model_name": "LayoutModel",
            "justify_items": null,
            "grid_row": null,
            "max_height": null,
            "align_content": null,
            "visibility": null,
            "align_self": null,
            "height": null,
            "min_height": null,
            "padding": null,
            "grid_auto_rows": null,
            "grid_gap": null,
            "max_width": null,
            "order": null,
            "_view_module_version": "1.2.0",
            "grid_template_areas": null,
            "object_position": null,
            "object_fit": null,
            "grid_auto_columns": null,
            "margin": null,
            "display": null,
            "left": null
          }
        },
        "5734c69b3f2144af856b0c80ed047873": {
          "model_module": "@jupyter-widgets/controls",
          "model_name": "HBoxModel",
          "model_module_version": "1.5.0",
          "state": {
            "_view_name": "HBoxView",
            "_dom_classes": [],
            "_model_name": "HBoxModel",
            "_view_module": "@jupyter-widgets/controls",
            "_model_module_version": "1.5.0",
            "_view_count": null,
            "_view_module_version": "1.5.0",
            "box_style": "",
            "layout": "IPY_MODEL_facfd6339ebf4e3f88f1e1fe6224737e",
            "_model_module": "@jupyter-widgets/controls",
            "children": [
              "IPY_MODEL_bfdbdb59099f41709bb4f86d775a69c2",
              "IPY_MODEL_093916c423b2454f9ecfd10f18094640",
              "IPY_MODEL_df9ae158441245edb1db0324e8c23f23"
            ]
          }
        },
        "facfd6339ebf4e3f88f1e1fe6224737e": {
          "model_module": "@jupyter-widgets/base",
          "model_name": "LayoutModel",
          "model_module_version": "1.2.0",
          "state": {
            "_view_name": "LayoutView",
            "grid_template_rows": null,
            "right": null,
            "justify_content": null,
            "_view_module": "@jupyter-widgets/base",
            "overflow": null,
            "_model_module_version": "1.2.0",
            "_view_count": null,
            "flex_flow": null,
            "width": null,
            "min_width": null,
            "border": null,
            "align_items": null,
            "bottom": null,
            "_model_module": "@jupyter-widgets/base",
            "top": null,
            "grid_column": null,
            "overflow_y": null,
            "overflow_x": null,
            "grid_auto_flow": null,
            "grid_area": null,
            "grid_template_columns": null,
            "flex": null,
            "_model_name": "LayoutModel",
            "justify_items": null,
            "grid_row": null,
            "max_height": null,
            "align_content": null,
            "visibility": null,
            "align_self": null,
            "height": null,
            "min_height": null,
            "padding": null,
            "grid_auto_rows": null,
            "grid_gap": null,
            "max_width": null,
            "order": null,
            "_view_module_version": "1.2.0",
            "grid_template_areas": null,
            "object_position": null,
            "object_fit": null,
            "grid_auto_columns": null,
            "margin": null,
            "display": null,
            "left": null
          }
        },
        "bfdbdb59099f41709bb4f86d775a69c2": {
          "model_module": "@jupyter-widgets/controls",
          "model_name": "HTMLModel",
          "model_module_version": "1.5.0",
          "state": {
            "_view_name": "HTMLView",
            "style": "IPY_MODEL_92691b9c45cd49f7bf1f689367fd8518",
            "_dom_classes": [],
            "description": "",
            "_model_name": "HTMLModel",
            "placeholder": "​",
            "_view_module": "@jupyter-widgets/controls",
            "_model_module_version": "1.5.0",
            "value": "Downloading: 100%",
            "_view_count": null,
            "_view_module_version": "1.5.0",
            "description_tooltip": null,
            "_model_module": "@jupyter-widgets/controls",
            "layout": "IPY_MODEL_972813e4f313449b9e328c38d1cc6b51"
          }
        },
        "093916c423b2454f9ecfd10f18094640": {
          "model_module": "@jupyter-widgets/controls",
          "model_name": "FloatProgressModel",
          "model_module_version": "1.5.0",
          "state": {
            "_view_name": "ProgressView",
            "style": "IPY_MODEL_1c8e04adba94477f9b38134f36ad4815",
            "_dom_classes": [],
            "description": "",
            "_model_name": "FloatProgressModel",
            "bar_style": "success",
            "max": 1355863,
            "_view_module": "@jupyter-widgets/controls",
            "_model_module_version": "1.5.0",
            "value": 1355863,
            "_view_count": null,
            "_view_module_version": "1.5.0",
            "orientation": "horizontal",
            "min": 0,
            "description_tooltip": null,
            "_model_module": "@jupyter-widgets/controls",
            "layout": "IPY_MODEL_318205a942cf44a2b54a5a0630a3e40d"
          }
        },
        "df9ae158441245edb1db0324e8c23f23": {
          "model_module": "@jupyter-widgets/controls",
          "model_name": "HTMLModel",
          "model_module_version": "1.5.0",
          "state": {
            "_view_name": "HTMLView",
            "style": "IPY_MODEL_655e5493ab6e45a1b6d02a3e8bea9b21",
            "_dom_classes": [],
            "description": "",
            "_model_name": "HTMLModel",
            "placeholder": "​",
            "_view_module": "@jupyter-widgets/controls",
            "_model_module_version": "1.5.0",
            "value": " 1.29M/1.29M [00:00&lt;00:00, 2.23MB/s]",
            "_view_count": null,
            "_view_module_version": "1.5.0",
            "description_tooltip": null,
            "_model_module": "@jupyter-widgets/controls",
            "layout": "IPY_MODEL_6e40c95ad8554957be61bd31de35c2d3"
          }
        },
        "92691b9c45cd49f7bf1f689367fd8518": {
          "model_module": "@jupyter-widgets/controls",
          "model_name": "DescriptionStyleModel",
          "model_module_version": "1.5.0",
          "state": {
            "_view_name": "StyleView",
            "_model_name": "DescriptionStyleModel",
            "description_width": "",
            "_view_module": "@jupyter-widgets/base",
            "_model_module_version": "1.5.0",
            "_view_count": null,
            "_view_module_version": "1.2.0",
            "_model_module": "@jupyter-widgets/controls"
          }
        },
        "972813e4f313449b9e328c38d1cc6b51": {
          "model_module": "@jupyter-widgets/base",
          "model_name": "LayoutModel",
          "model_module_version": "1.2.0",
          "state": {
            "_view_name": "LayoutView",
            "grid_template_rows": null,
            "right": null,
            "justify_content": null,
            "_view_module": "@jupyter-widgets/base",
            "overflow": null,
            "_model_module_version": "1.2.0",
            "_view_count": null,
            "flex_flow": null,
            "width": null,
            "min_width": null,
            "border": null,
            "align_items": null,
            "bottom": null,
            "_model_module": "@jupyter-widgets/base",
            "top": null,
            "grid_column": null,
            "overflow_y": null,
            "overflow_x": null,
            "grid_auto_flow": null,
            "grid_area": null,
            "grid_template_columns": null,
            "flex": null,
            "_model_name": "LayoutModel",
            "justify_items": null,
            "grid_row": null,
            "max_height": null,
            "align_content": null,
            "visibility": null,
            "align_self": null,
            "height": null,
            "min_height": null,
            "padding": null,
            "grid_auto_rows": null,
            "grid_gap": null,
            "max_width": null,
            "order": null,
            "_view_module_version": "1.2.0",
            "grid_template_areas": null,
            "object_position": null,
            "object_fit": null,
            "grid_auto_columns": null,
            "margin": null,
            "display": null,
            "left": null
          }
        },
        "1c8e04adba94477f9b38134f36ad4815": {
          "model_module": "@jupyter-widgets/controls",
          "model_name": "ProgressStyleModel",
          "model_module_version": "1.5.0",
          "state": {
            "_view_name": "StyleView",
            "_model_name": "ProgressStyleModel",
            "description_width": "",
            "_view_module": "@jupyter-widgets/base",
            "_model_module_version": "1.5.0",
            "_view_count": null,
            "_view_module_version": "1.2.0",
            "bar_color": null,
            "_model_module": "@jupyter-widgets/controls"
          }
        },
        "318205a942cf44a2b54a5a0630a3e40d": {
          "model_module": "@jupyter-widgets/base",
          "model_name": "LayoutModel",
          "model_module_version": "1.2.0",
          "state": {
            "_view_name": "LayoutView",
            "grid_template_rows": null,
            "right": null,
            "justify_content": null,
            "_view_module": "@jupyter-widgets/base",
            "overflow": null,
            "_model_module_version": "1.2.0",
            "_view_count": null,
            "flex_flow": null,
            "width": null,
            "min_width": null,
            "border": null,
            "align_items": null,
            "bottom": null,
            "_model_module": "@jupyter-widgets/base",
            "top": null,
            "grid_column": null,
            "overflow_y": null,
            "overflow_x": null,
            "grid_auto_flow": null,
            "grid_area": null,
            "grid_template_columns": null,
            "flex": null,
            "_model_name": "LayoutModel",
            "justify_items": null,
            "grid_row": null,
            "max_height": null,
            "align_content": null,
            "visibility": null,
            "align_self": null,
            "height": null,
            "min_height": null,
            "padding": null,
            "grid_auto_rows": null,
            "grid_gap": null,
            "max_width": null,
            "order": null,
            "_view_module_version": "1.2.0",
            "grid_template_areas": null,
            "object_position": null,
            "object_fit": null,
            "grid_auto_columns": null,
            "margin": null,
            "display": null,
            "left": null
          }
        },
        "655e5493ab6e45a1b6d02a3e8bea9b21": {
          "model_module": "@jupyter-widgets/controls",
          "model_name": "DescriptionStyleModel",
          "model_module_version": "1.5.0",
          "state": {
            "_view_name": "StyleView",
            "_model_name": "DescriptionStyleModel",
            "description_width": "",
            "_view_module": "@jupyter-widgets/base",
            "_model_module_version": "1.5.0",
            "_view_count": null,
            "_view_module_version": "1.2.0",
            "_model_module": "@jupyter-widgets/controls"
          }
        },
        "6e40c95ad8554957be61bd31de35c2d3": {
          "model_module": "@jupyter-widgets/base",
          "model_name": "LayoutModel",
          "model_module_version": "1.2.0",
          "state": {
            "_view_name": "LayoutView",
            "grid_template_rows": null,
            "right": null,
            "justify_content": null,
            "_view_module": "@jupyter-widgets/base",
            "overflow": null,
            "_model_module_version": "1.2.0",
            "_view_count": null,
            "flex_flow": null,
            "width": null,
            "min_width": null,
            "border": null,
            "align_items": null,
            "bottom": null,
            "_model_module": "@jupyter-widgets/base",
            "top": null,
            "grid_column": null,
            "overflow_y": null,
            "overflow_x": null,
            "grid_auto_flow": null,
            "grid_area": null,
            "grid_template_columns": null,
            "flex": null,
            "_model_name": "LayoutModel",
            "justify_items": null,
            "grid_row": null,
            "max_height": null,
            "align_content": null,
            "visibility": null,
            "align_self": null,
            "height": null,
            "min_height": null,
            "padding": null,
            "grid_auto_rows": null,
            "grid_gap": null,
            "max_width": null,
            "order": null,
            "_view_module_version": "1.2.0",
            "grid_template_areas": null,
            "object_position": null,
            "object_fit": null,
            "grid_auto_columns": null,
            "margin": null,
            "display": null,
            "left": null
          }
        },
        "2c61e674e72541c48c514631e820d84d": {
          "model_module": "@jupyter-widgets/controls",
          "model_name": "HBoxModel",
          "model_module_version": "1.5.0",
          "state": {
            "_view_name": "HBoxView",
            "_dom_classes": [],
            "_model_name": "HBoxModel",
            "_view_module": "@jupyter-widgets/controls",
            "_model_module_version": "1.5.0",
            "_view_count": null,
            "_view_module_version": "1.5.0",
            "box_style": "",
            "layout": "IPY_MODEL_9185a887bfb54b6da18bc4f493cd1b3f",
            "_model_module": "@jupyter-widgets/controls",
            "children": [
              "IPY_MODEL_5628507aca0e4c708f7921769aed50ec",
              "IPY_MODEL_014d6c9ef16145ec94ec4e523e90d9c2",
              "IPY_MODEL_2fe5d347f31c45f3a497b1187b7a25be"
            ]
          }
        },
        "9185a887bfb54b6da18bc4f493cd1b3f": {
          "model_module": "@jupyter-widgets/base",
          "model_name": "LayoutModel",
          "model_module_version": "1.2.0",
          "state": {
            "_view_name": "LayoutView",
            "grid_template_rows": null,
            "right": null,
            "justify_content": null,
            "_view_module": "@jupyter-widgets/base",
            "overflow": null,
            "_model_module_version": "1.2.0",
            "_view_count": null,
            "flex_flow": null,
            "width": null,
            "min_width": null,
            "border": null,
            "align_items": null,
            "bottom": null,
            "_model_module": "@jupyter-widgets/base",
            "top": null,
            "grid_column": null,
            "overflow_y": null,
            "overflow_x": null,
            "grid_auto_flow": null,
            "grid_area": null,
            "grid_template_columns": null,
            "flex": null,
            "_model_name": "LayoutModel",
            "justify_items": null,
            "grid_row": null,
            "max_height": null,
            "align_content": null,
            "visibility": null,
            "align_self": null,
            "height": null,
            "min_height": null,
            "padding": null,
            "grid_auto_rows": null,
            "grid_gap": null,
            "max_width": null,
            "order": null,
            "_view_module_version": "1.2.0",
            "grid_template_areas": null,
            "object_position": null,
            "object_fit": null,
            "grid_auto_columns": null,
            "margin": null,
            "display": null,
            "left": null
          }
        },
        "5628507aca0e4c708f7921769aed50ec": {
          "model_module": "@jupyter-widgets/controls",
          "model_name": "HTMLModel",
          "model_module_version": "1.5.0",
          "state": {
            "_view_name": "HTMLView",
            "style": "IPY_MODEL_c98aa3713f554a4fa9d754124205f277",
            "_dom_classes": [],
            "description": "",
            "_model_name": "HTMLModel",
            "placeholder": "​",
            "_view_module": "@jupyter-widgets/controls",
            "_model_module_version": "1.5.0",
            "value": "100%",
            "_view_count": null,
            "_view_module_version": "1.5.0",
            "description_tooltip": null,
            "_model_module": "@jupyter-widgets/controls",
            "layout": "IPY_MODEL_34c4efd6692e40269bb13a4901dd8ddb"
          }
        },
        "014d6c9ef16145ec94ec4e523e90d9c2": {
          "model_module": "@jupyter-widgets/controls",
          "model_name": "FloatProgressModel",
          "model_module_version": "1.5.0",
          "state": {
            "_view_name": "ProgressView",
            "style": "IPY_MODEL_6b68f1a3351249c39e9b7cfcc9aa0474",
            "_dom_classes": [],
            "description": "",
            "_model_name": "FloatProgressModel",
            "bar_style": "success",
            "max": 17,
            "_view_module": "@jupyter-widgets/controls",
            "_model_module_version": "1.5.0",
            "value": 17,
            "_view_count": null,
            "_view_module_version": "1.5.0",
            "orientation": "horizontal",
            "min": 0,
            "description_tooltip": null,
            "_model_module": "@jupyter-widgets/controls",
            "layout": "IPY_MODEL_3d797675853f4c8c9388364af937be94"
          }
        },
        "2fe5d347f31c45f3a497b1187b7a25be": {
          "model_module": "@jupyter-widgets/controls",
          "model_name": "HTMLModel",
          "model_module_version": "1.5.0",
          "state": {
            "_view_name": "HTMLView",
            "style": "IPY_MODEL_592e7253ffe141f6bffcb0835ec658cd",
            "_dom_classes": [],
            "description": "",
            "_model_name": "HTMLModel",
            "placeholder": "​",
            "_view_module": "@jupyter-widgets/controls",
            "_model_module_version": "1.5.0",
            "value": " 17/17 [00:03&lt;00:00,  5.90ba/s]",
            "_view_count": null,
            "_view_module_version": "1.5.0",
            "description_tooltip": null,
            "_model_module": "@jupyter-widgets/controls",
            "layout": "IPY_MODEL_f57d6a4a39124f4d8bee275f04532c10"
          }
        },
        "c98aa3713f554a4fa9d754124205f277": {
          "model_module": "@jupyter-widgets/controls",
          "model_name": "DescriptionStyleModel",
          "model_module_version": "1.5.0",
          "state": {
            "_view_name": "StyleView",
            "_model_name": "DescriptionStyleModel",
            "description_width": "",
            "_view_module": "@jupyter-widgets/base",
            "_model_module_version": "1.5.0",
            "_view_count": null,
            "_view_module_version": "1.2.0",
            "_model_module": "@jupyter-widgets/controls"
          }
        },
        "34c4efd6692e40269bb13a4901dd8ddb": {
          "model_module": "@jupyter-widgets/base",
          "model_name": "LayoutModel",
          "model_module_version": "1.2.0",
          "state": {
            "_view_name": "LayoutView",
            "grid_template_rows": null,
            "right": null,
            "justify_content": null,
            "_view_module": "@jupyter-widgets/base",
            "overflow": null,
            "_model_module_version": "1.2.0",
            "_view_count": null,
            "flex_flow": null,
            "width": null,
            "min_width": null,
            "border": null,
            "align_items": null,
            "bottom": null,
            "_model_module": "@jupyter-widgets/base",
            "top": null,
            "grid_column": null,
            "overflow_y": null,
            "overflow_x": null,
            "grid_auto_flow": null,
            "grid_area": null,
            "grid_template_columns": null,
            "flex": null,
            "_model_name": "LayoutModel",
            "justify_items": null,
            "grid_row": null,
            "max_height": null,
            "align_content": null,
            "visibility": null,
            "align_self": null,
            "height": null,
            "min_height": null,
            "padding": null,
            "grid_auto_rows": null,
            "grid_gap": null,
            "max_width": null,
            "order": null,
            "_view_module_version": "1.2.0",
            "grid_template_areas": null,
            "object_position": null,
            "object_fit": null,
            "grid_auto_columns": null,
            "margin": null,
            "display": null,
            "left": null
          }
        },
        "6b68f1a3351249c39e9b7cfcc9aa0474": {
          "model_module": "@jupyter-widgets/controls",
          "model_name": "ProgressStyleModel",
          "model_module_version": "1.5.0",
          "state": {
            "_view_name": "StyleView",
            "_model_name": "ProgressStyleModel",
            "description_width": "",
            "_view_module": "@jupyter-widgets/base",
            "_model_module_version": "1.5.0",
            "_view_count": null,
            "_view_module_version": "1.2.0",
            "bar_color": null,
            "_model_module": "@jupyter-widgets/controls"
          }
        },
        "3d797675853f4c8c9388364af937be94": {
          "model_module": "@jupyter-widgets/base",
          "model_name": "LayoutModel",
          "model_module_version": "1.2.0",
          "state": {
            "_view_name": "LayoutView",
            "grid_template_rows": null,
            "right": null,
            "justify_content": null,
            "_view_module": "@jupyter-widgets/base",
            "overflow": null,
            "_model_module_version": "1.2.0",
            "_view_count": null,
            "flex_flow": null,
            "width": null,
            "min_width": null,
            "border": null,
            "align_items": null,
            "bottom": null,
            "_model_module": "@jupyter-widgets/base",
            "top": null,
            "grid_column": null,
            "overflow_y": null,
            "overflow_x": null,
            "grid_auto_flow": null,
            "grid_area": null,
            "grid_template_columns": null,
            "flex": null,
            "_model_name": "LayoutModel",
            "justify_items": null,
            "grid_row": null,
            "max_height": null,
            "align_content": null,
            "visibility": null,
            "align_self": null,
            "height": null,
            "min_height": null,
            "padding": null,
            "grid_auto_rows": null,
            "grid_gap": null,
            "max_width": null,
            "order": null,
            "_view_module_version": "1.2.0",
            "grid_template_areas": null,
            "object_position": null,
            "object_fit": null,
            "grid_auto_columns": null,
            "margin": null,
            "display": null,
            "left": null
          }
        },
        "592e7253ffe141f6bffcb0835ec658cd": {
          "model_module": "@jupyter-widgets/controls",
          "model_name": "DescriptionStyleModel",
          "model_module_version": "1.5.0",
          "state": {
            "_view_name": "StyleView",
            "_model_name": "DescriptionStyleModel",
            "description_width": "",
            "_view_module": "@jupyter-widgets/base",
            "_model_module_version": "1.5.0",
            "_view_count": null,
            "_view_module_version": "1.2.0",
            "_model_module": "@jupyter-widgets/controls"
          }
        },
        "f57d6a4a39124f4d8bee275f04532c10": {
          "model_module": "@jupyter-widgets/base",
          "model_name": "LayoutModel",
          "model_module_version": "1.2.0",
          "state": {
            "_view_name": "LayoutView",
            "grid_template_rows": null,
            "right": null,
            "justify_content": null,
            "_view_module": "@jupyter-widgets/base",
            "overflow": null,
            "_model_module_version": "1.2.0",
            "_view_count": null,
            "flex_flow": null,
            "width": null,
            "min_width": null,
            "border": null,
            "align_items": null,
            "bottom": null,
            "_model_module": "@jupyter-widgets/base",
            "top": null,
            "grid_column": null,
            "overflow_y": null,
            "overflow_x": null,
            "grid_auto_flow": null,
            "grid_area": null,
            "grid_template_columns": null,
            "flex": null,
            "_model_name": "LayoutModel",
            "justify_items": null,
            "grid_row": null,
            "max_height": null,
            "align_content": null,
            "visibility": null,
            "align_self": null,
            "height": null,
            "min_height": null,
            "padding": null,
            "grid_auto_rows": null,
            "grid_gap": null,
            "max_width": null,
            "order": null,
            "_view_module_version": "1.2.0",
            "grid_template_areas": null,
            "object_position": null,
            "object_fit": null,
            "grid_auto_columns": null,
            "margin": null,
            "display": null,
            "left": null
          }
        },
        "7f9c256af81e4f8b895251c12ef2a279": {
          "model_module": "@jupyter-widgets/controls",
          "model_name": "HBoxModel",
          "model_module_version": "1.5.0",
          "state": {
            "_view_name": "HBoxView",
            "_dom_classes": [],
            "_model_name": "HBoxModel",
            "_view_module": "@jupyter-widgets/controls",
            "_model_module_version": "1.5.0",
            "_view_count": null,
            "_view_module_version": "1.5.0",
            "box_style": "",
            "layout": "IPY_MODEL_797a31287bae416b8b34a55a8c9583dd",
            "_model_module": "@jupyter-widgets/controls",
            "children": [
              "IPY_MODEL_c541c4765b864ad3a5a586d57eff18c1",
              "IPY_MODEL_a2d81b7191ff4af8bf907cd126819b6d",
              "IPY_MODEL_6636a42d1c5f40a7bf2be3dc34d96414"
            ]
          }
        },
        "797a31287bae416b8b34a55a8c9583dd": {
          "model_module": "@jupyter-widgets/base",
          "model_name": "LayoutModel",
          "model_module_version": "1.2.0",
          "state": {
            "_view_name": "LayoutView",
            "grid_template_rows": null,
            "right": null,
            "justify_content": null,
            "_view_module": "@jupyter-widgets/base",
            "overflow": null,
            "_model_module_version": "1.2.0",
            "_view_count": null,
            "flex_flow": null,
            "width": null,
            "min_width": null,
            "border": null,
            "align_items": null,
            "bottom": null,
            "_model_module": "@jupyter-widgets/base",
            "top": null,
            "grid_column": null,
            "overflow_y": null,
            "overflow_x": null,
            "grid_auto_flow": null,
            "grid_area": null,
            "grid_template_columns": null,
            "flex": null,
            "_model_name": "LayoutModel",
            "justify_items": null,
            "grid_row": null,
            "max_height": null,
            "align_content": null,
            "visibility": null,
            "align_self": null,
            "height": null,
            "min_height": null,
            "padding": null,
            "grid_auto_rows": null,
            "grid_gap": null,
            "max_width": null,
            "order": null,
            "_view_module_version": "1.2.0",
            "grid_template_areas": null,
            "object_position": null,
            "object_fit": null,
            "grid_auto_columns": null,
            "margin": null,
            "display": null,
            "left": null
          }
        },
        "c541c4765b864ad3a5a586d57eff18c1": {
          "model_module": "@jupyter-widgets/controls",
          "model_name": "HTMLModel",
          "model_module_version": "1.5.0",
          "state": {
            "_view_name": "HTMLView",
            "style": "IPY_MODEL_57a55871c8734554b85358dac349b61b",
            "_dom_classes": [],
            "description": "",
            "_model_name": "HTMLModel",
            "placeholder": "​",
            "_view_module": "@jupyter-widgets/controls",
            "_model_module_version": "1.5.0",
            "value": "100%",
            "_view_count": null,
            "_view_module_version": "1.5.0",
            "description_tooltip": null,
            "_model_module": "@jupyter-widgets/controls",
            "layout": "IPY_MODEL_47a668e05995497ea2a05a87a51287fe"
          }
        },
        "a2d81b7191ff4af8bf907cd126819b6d": {
          "model_module": "@jupyter-widgets/controls",
          "model_name": "FloatProgressModel",
          "model_module_version": "1.5.0",
          "state": {
            "_view_name": "ProgressView",
            "style": "IPY_MODEL_09de96e112ea4344910bb364f926dd3e",
            "_dom_classes": [],
            "description": "",
            "_model_name": "FloatProgressModel",
            "bar_style": "success",
            "max": 1,
            "_view_module": "@jupyter-widgets/controls",
            "_model_module_version": "1.5.0",
            "value": 1,
            "_view_count": null,
            "_view_module_version": "1.5.0",
            "orientation": "horizontal",
            "min": 0,
            "description_tooltip": null,
            "_model_module": "@jupyter-widgets/controls",
            "layout": "IPY_MODEL_76588a2422aa4c76a498f2cd36e94154"
          }
        },
        "6636a42d1c5f40a7bf2be3dc34d96414": {
          "model_module": "@jupyter-widgets/controls",
          "model_name": "HTMLModel",
          "model_module_version": "1.5.0",
          "state": {
            "_view_name": "HTMLView",
            "style": "IPY_MODEL_f0cb3c75026641fb9e6ed2e321aac069",
            "_dom_classes": [],
            "description": "",
            "_model_name": "HTMLModel",
            "placeholder": "​",
            "_view_module": "@jupyter-widgets/controls",
            "_model_module_version": "1.5.0",
            "value": " 1/1 [00:00&lt;00:00,  4.75ba/s]",
            "_view_count": null,
            "_view_module_version": "1.5.0",
            "description_tooltip": null,
            "_model_module": "@jupyter-widgets/controls",
            "layout": "IPY_MODEL_3f02abe82c8c4854a83ae07d1cf1bb26"
          }
        },
        "57a55871c8734554b85358dac349b61b": {
          "model_module": "@jupyter-widgets/controls",
          "model_name": "DescriptionStyleModel",
          "model_module_version": "1.5.0",
          "state": {
            "_view_name": "StyleView",
            "_model_name": "DescriptionStyleModel",
            "description_width": "",
            "_view_module": "@jupyter-widgets/base",
            "_model_module_version": "1.5.0",
            "_view_count": null,
            "_view_module_version": "1.2.0",
            "_model_module": "@jupyter-widgets/controls"
          }
        },
        "47a668e05995497ea2a05a87a51287fe": {
          "model_module": "@jupyter-widgets/base",
          "model_name": "LayoutModel",
          "model_module_version": "1.2.0",
          "state": {
            "_view_name": "LayoutView",
            "grid_template_rows": null,
            "right": null,
            "justify_content": null,
            "_view_module": "@jupyter-widgets/base",
            "overflow": null,
            "_model_module_version": "1.2.0",
            "_view_count": null,
            "flex_flow": null,
            "width": null,
            "min_width": null,
            "border": null,
            "align_items": null,
            "bottom": null,
            "_model_module": "@jupyter-widgets/base",
            "top": null,
            "grid_column": null,
            "overflow_y": null,
            "overflow_x": null,
            "grid_auto_flow": null,
            "grid_area": null,
            "grid_template_columns": null,
            "flex": null,
            "_model_name": "LayoutModel",
            "justify_items": null,
            "grid_row": null,
            "max_height": null,
            "align_content": null,
            "visibility": null,
            "align_self": null,
            "height": null,
            "min_height": null,
            "padding": null,
            "grid_auto_rows": null,
            "grid_gap": null,
            "max_width": null,
            "order": null,
            "_view_module_version": "1.2.0",
            "grid_template_areas": null,
            "object_position": null,
            "object_fit": null,
            "grid_auto_columns": null,
            "margin": null,
            "display": null,
            "left": null
          }
        },
        "09de96e112ea4344910bb364f926dd3e": {
          "model_module": "@jupyter-widgets/controls",
          "model_name": "ProgressStyleModel",
          "model_module_version": "1.5.0",
          "state": {
            "_view_name": "StyleView",
            "_model_name": "ProgressStyleModel",
            "description_width": "",
            "_view_module": "@jupyter-widgets/base",
            "_model_module_version": "1.5.0",
            "_view_count": null,
            "_view_module_version": "1.2.0",
            "bar_color": null,
            "_model_module": "@jupyter-widgets/controls"
          }
        },
        "76588a2422aa4c76a498f2cd36e94154": {
          "model_module": "@jupyter-widgets/base",
          "model_name": "LayoutModel",
          "model_module_version": "1.2.0",
          "state": {
            "_view_name": "LayoutView",
            "grid_template_rows": null,
            "right": null,
            "justify_content": null,
            "_view_module": "@jupyter-widgets/base",
            "overflow": null,
            "_model_module_version": "1.2.0",
            "_view_count": null,
            "flex_flow": null,
            "width": null,
            "min_width": null,
            "border": null,
            "align_items": null,
            "bottom": null,
            "_model_module": "@jupyter-widgets/base",
            "top": null,
            "grid_column": null,
            "overflow_y": null,
            "overflow_x": null,
            "grid_auto_flow": null,
            "grid_area": null,
            "grid_template_columns": null,
            "flex": null,
            "_model_name": "LayoutModel",
            "justify_items": null,
            "grid_row": null,
            "max_height": null,
            "align_content": null,
            "visibility": null,
            "align_self": null,
            "height": null,
            "min_height": null,
            "padding": null,
            "grid_auto_rows": null,
            "grid_gap": null,
            "max_width": null,
            "order": null,
            "_view_module_version": "1.2.0",
            "grid_template_areas": null,
            "object_position": null,
            "object_fit": null,
            "grid_auto_columns": null,
            "margin": null,
            "display": null,
            "left": null
          }
        },
        "f0cb3c75026641fb9e6ed2e321aac069": {
          "model_module": "@jupyter-widgets/controls",
          "model_name": "DescriptionStyleModel",
          "model_module_version": "1.5.0",
          "state": {
            "_view_name": "StyleView",
            "_model_name": "DescriptionStyleModel",
            "description_width": "",
            "_view_module": "@jupyter-widgets/base",
            "_model_module_version": "1.5.0",
            "_view_count": null,
            "_view_module_version": "1.2.0",
            "_model_module": "@jupyter-widgets/controls"
          }
        },
        "3f02abe82c8c4854a83ae07d1cf1bb26": {
          "model_module": "@jupyter-widgets/base",
          "model_name": "LayoutModel",
          "model_module_version": "1.2.0",
          "state": {
            "_view_name": "LayoutView",
            "grid_template_rows": null,
            "right": null,
            "justify_content": null,
            "_view_module": "@jupyter-widgets/base",
            "overflow": null,
            "_model_module_version": "1.2.0",
            "_view_count": null,
            "flex_flow": null,
            "width": null,
            "min_width": null,
            "border": null,
            "align_items": null,
            "bottom": null,
            "_model_module": "@jupyter-widgets/base",
            "top": null,
            "grid_column": null,
            "overflow_y": null,
            "overflow_x": null,
            "grid_auto_flow": null,
            "grid_area": null,
            "grid_template_columns": null,
            "flex": null,
            "_model_name": "LayoutModel",
            "justify_items": null,
            "grid_row": null,
            "max_height": null,
            "align_content": null,
            "visibility": null,
            "align_self": null,
            "height": null,
            "min_height": null,
            "padding": null,
            "grid_auto_rows": null,
            "grid_gap": null,
            "max_width": null,
            "order": null,
            "_view_module_version": "1.2.0",
            "grid_template_areas": null,
            "object_position": null,
            "object_fit": null,
            "grid_auto_columns": null,
            "margin": null,
            "display": null,
            "left": null
          }
        },
        "b47acce7549b4d35a51482a5f99f9290": {
          "model_module": "@jupyter-widgets/controls",
          "model_name": "HBoxModel",
          "model_module_version": "1.5.0",
          "state": {
            "_view_name": "HBoxView",
            "_dom_classes": [],
            "_model_name": "HBoxModel",
            "_view_module": "@jupyter-widgets/controls",
            "_model_module_version": "1.5.0",
            "_view_count": null,
            "_view_module_version": "1.5.0",
            "box_style": "",
            "layout": "IPY_MODEL_d9774decd8fe46b584f760386429ba0d",
            "_model_module": "@jupyter-widgets/controls",
            "children": [
              "IPY_MODEL_a33d720092024919a4f5c136cc7ea2ee",
              "IPY_MODEL_f7f10aaa7cd44c0c9b0b6bdc3d64f51f",
              "IPY_MODEL_daece35d3fa1453ca13479af334d80b8"
            ]
          }
        },
        "d9774decd8fe46b584f760386429ba0d": {
          "model_module": "@jupyter-widgets/base",
          "model_name": "LayoutModel",
          "model_module_version": "1.2.0",
          "state": {
            "_view_name": "LayoutView",
            "grid_template_rows": null,
            "right": null,
            "justify_content": null,
            "_view_module": "@jupyter-widgets/base",
            "overflow": null,
            "_model_module_version": "1.2.0",
            "_view_count": null,
            "flex_flow": null,
            "width": null,
            "min_width": null,
            "border": null,
            "align_items": null,
            "bottom": null,
            "_model_module": "@jupyter-widgets/base",
            "top": null,
            "grid_column": null,
            "overflow_y": null,
            "overflow_x": null,
            "grid_auto_flow": null,
            "grid_area": null,
            "grid_template_columns": null,
            "flex": null,
            "_model_name": "LayoutModel",
            "justify_items": null,
            "grid_row": null,
            "max_height": null,
            "align_content": null,
            "visibility": null,
            "align_self": null,
            "height": null,
            "min_height": null,
            "padding": null,
            "grid_auto_rows": null,
            "grid_gap": null,
            "max_width": null,
            "order": null,
            "_view_module_version": "1.2.0",
            "grid_template_areas": null,
            "object_position": null,
            "object_fit": null,
            "grid_auto_columns": null,
            "margin": null,
            "display": null,
            "left": null
          }
        },
        "a33d720092024919a4f5c136cc7ea2ee": {
          "model_module": "@jupyter-widgets/controls",
          "model_name": "HTMLModel",
          "model_module_version": "1.5.0",
          "state": {
            "_view_name": "HTMLView",
            "style": "IPY_MODEL_3a3ef83464f246e682e687e6fd5618a9",
            "_dom_classes": [],
            "description": "",
            "_model_name": "HTMLModel",
            "placeholder": "​",
            "_view_module": "@jupyter-widgets/controls",
            "_model_module_version": "1.5.0",
            "value": "100%",
            "_view_count": null,
            "_view_module_version": "1.5.0",
            "description_tooltip": null,
            "_model_module": "@jupyter-widgets/controls",
            "layout": "IPY_MODEL_d891825daf9f488b99f34e743ae451c4"
          }
        },
        "f7f10aaa7cd44c0c9b0b6bdc3d64f51f": {
          "model_module": "@jupyter-widgets/controls",
          "model_name": "FloatProgressModel",
          "model_module_version": "1.5.0",
          "state": {
            "_view_name": "ProgressView",
            "style": "IPY_MODEL_177a4ff385dc4e27bb1800cbc4391492",
            "_dom_classes": [],
            "description": "",
            "_model_name": "FloatProgressModel",
            "bar_style": "success",
            "max": 4,
            "_view_module": "@jupyter-widgets/controls",
            "_model_module_version": "1.5.0",
            "value": 4,
            "_view_count": null,
            "_view_module_version": "1.5.0",
            "orientation": "horizontal",
            "min": 0,
            "description_tooltip": null,
            "_model_module": "@jupyter-widgets/controls",
            "layout": "IPY_MODEL_99008b0049f34f2f89fea6378179839f"
          }
        },
        "daece35d3fa1453ca13479af334d80b8": {
          "model_module": "@jupyter-widgets/controls",
          "model_name": "HTMLModel",
          "model_module_version": "1.5.0",
          "state": {
            "_view_name": "HTMLView",
            "style": "IPY_MODEL_457df5bb7310409e92f1e866b91d776c",
            "_dom_classes": [],
            "description": "",
            "_model_name": "HTMLModel",
            "placeholder": "​",
            "_view_module": "@jupyter-widgets/controls",
            "_model_module_version": "1.5.0",
            "value": " 4/4 [00:00&lt;00:00,  5.59ba/s]",
            "_view_count": null,
            "_view_module_version": "1.5.0",
            "description_tooltip": null,
            "_model_module": "@jupyter-widgets/controls",
            "layout": "IPY_MODEL_bb64e5637b98454fa5758724d3a1afe9"
          }
        },
        "3a3ef83464f246e682e687e6fd5618a9": {
          "model_module": "@jupyter-widgets/controls",
          "model_name": "DescriptionStyleModel",
          "model_module_version": "1.5.0",
          "state": {
            "_view_name": "StyleView",
            "_model_name": "DescriptionStyleModel",
            "description_width": "",
            "_view_module": "@jupyter-widgets/base",
            "_model_module_version": "1.5.0",
            "_view_count": null,
            "_view_module_version": "1.2.0",
            "_model_module": "@jupyter-widgets/controls"
          }
        },
        "d891825daf9f488b99f34e743ae451c4": {
          "model_module": "@jupyter-widgets/base",
          "model_name": "LayoutModel",
          "model_module_version": "1.2.0",
          "state": {
            "_view_name": "LayoutView",
            "grid_template_rows": null,
            "right": null,
            "justify_content": null,
            "_view_module": "@jupyter-widgets/base",
            "overflow": null,
            "_model_module_version": "1.2.0",
            "_view_count": null,
            "flex_flow": null,
            "width": null,
            "min_width": null,
            "border": null,
            "align_items": null,
            "bottom": null,
            "_model_module": "@jupyter-widgets/base",
            "top": null,
            "grid_column": null,
            "overflow_y": null,
            "overflow_x": null,
            "grid_auto_flow": null,
            "grid_area": null,
            "grid_template_columns": null,
            "flex": null,
            "_model_name": "LayoutModel",
            "justify_items": null,
            "grid_row": null,
            "max_height": null,
            "align_content": null,
            "visibility": null,
            "align_self": null,
            "height": null,
            "min_height": null,
            "padding": null,
            "grid_auto_rows": null,
            "grid_gap": null,
            "max_width": null,
            "order": null,
            "_view_module_version": "1.2.0",
            "grid_template_areas": null,
            "object_position": null,
            "object_fit": null,
            "grid_auto_columns": null,
            "margin": null,
            "display": null,
            "left": null
          }
        },
        "177a4ff385dc4e27bb1800cbc4391492": {
          "model_module": "@jupyter-widgets/controls",
          "model_name": "ProgressStyleModel",
          "model_module_version": "1.5.0",
          "state": {
            "_view_name": "StyleView",
            "_model_name": "ProgressStyleModel",
            "description_width": "",
            "_view_module": "@jupyter-widgets/base",
            "_model_module_version": "1.5.0",
            "_view_count": null,
            "_view_module_version": "1.2.0",
            "bar_color": null,
            "_model_module": "@jupyter-widgets/controls"
          }
        },
        "99008b0049f34f2f89fea6378179839f": {
          "model_module": "@jupyter-widgets/base",
          "model_name": "LayoutModel",
          "model_module_version": "1.2.0",
          "state": {
            "_view_name": "LayoutView",
            "grid_template_rows": null,
            "right": null,
            "justify_content": null,
            "_view_module": "@jupyter-widgets/base",
            "overflow": null,
            "_model_module_version": "1.2.0",
            "_view_count": null,
            "flex_flow": null,
            "width": null,
            "min_width": null,
            "border": null,
            "align_items": null,
            "bottom": null,
            "_model_module": "@jupyter-widgets/base",
            "top": null,
            "grid_column": null,
            "overflow_y": null,
            "overflow_x": null,
            "grid_auto_flow": null,
            "grid_area": null,
            "grid_template_columns": null,
            "flex": null,
            "_model_name": "LayoutModel",
            "justify_items": null,
            "grid_row": null,
            "max_height": null,
            "align_content": null,
            "visibility": null,
            "align_self": null,
            "height": null,
            "min_height": null,
            "padding": null,
            "grid_auto_rows": null,
            "grid_gap": null,
            "max_width": null,
            "order": null,
            "_view_module_version": "1.2.0",
            "grid_template_areas": null,
            "object_position": null,
            "object_fit": null,
            "grid_auto_columns": null,
            "margin": null,
            "display": null,
            "left": null
          }
        },
        "457df5bb7310409e92f1e866b91d776c": {
          "model_module": "@jupyter-widgets/controls",
          "model_name": "DescriptionStyleModel",
          "model_module_version": "1.5.0",
          "state": {
            "_view_name": "StyleView",
            "_model_name": "DescriptionStyleModel",
            "description_width": "",
            "_view_module": "@jupyter-widgets/base",
            "_model_module_version": "1.5.0",
            "_view_count": null,
            "_view_module_version": "1.2.0",
            "_model_module": "@jupyter-widgets/controls"
          }
        },
        "bb64e5637b98454fa5758724d3a1afe9": {
          "model_module": "@jupyter-widgets/base",
          "model_name": "LayoutModel",
          "model_module_version": "1.2.0",
          "state": {
            "_view_name": "LayoutView",
            "grid_template_rows": null,
            "right": null,
            "justify_content": null,
            "_view_module": "@jupyter-widgets/base",
            "overflow": null,
            "_model_module_version": "1.2.0",
            "_view_count": null,
            "flex_flow": null,
            "width": null,
            "min_width": null,
            "border": null,
            "align_items": null,
            "bottom": null,
            "_model_module": "@jupyter-widgets/base",
            "top": null,
            "grid_column": null,
            "overflow_y": null,
            "overflow_x": null,
            "grid_auto_flow": null,
            "grid_area": null,
            "grid_template_columns": null,
            "flex": null,
            "_model_name": "LayoutModel",
            "justify_items": null,
            "grid_row": null,
            "max_height": null,
            "align_content": null,
            "visibility": null,
            "align_self": null,
            "height": null,
            "min_height": null,
            "padding": null,
            "grid_auto_rows": null,
            "grid_gap": null,
            "max_width": null,
            "order": null,
            "_view_module_version": "1.2.0",
            "grid_template_areas": null,
            "object_position": null,
            "object_fit": null,
            "grid_auto_columns": null,
            "margin": null,
            "display": null,
            "left": null
          }
        },
        "103945997956466192008c4f137000f6": {
          "model_module": "@jupyter-widgets/controls",
          "model_name": "HBoxModel",
          "model_module_version": "1.5.0",
          "state": {
            "_view_name": "HBoxView",
            "_dom_classes": [],
            "_model_name": "HBoxModel",
            "_view_module": "@jupyter-widgets/controls",
            "_model_module_version": "1.5.0",
            "_view_count": null,
            "_view_module_version": "1.5.0",
            "box_style": "",
            "layout": "IPY_MODEL_64aa4589466b49a98181e035a6066dfc",
            "_model_module": "@jupyter-widgets/controls",
            "children": [
              "IPY_MODEL_6f51828b396247f58d4a572274c452b8",
              "IPY_MODEL_78847d53e5c54a7a8b66430615f2203c",
              "IPY_MODEL_61dcb345e0104bf5b9c188ae1258ec24"
            ]
          }
        },
        "64aa4589466b49a98181e035a6066dfc": {
          "model_module": "@jupyter-widgets/base",
          "model_name": "LayoutModel",
          "model_module_version": "1.2.0",
          "state": {
            "_view_name": "LayoutView",
            "grid_template_rows": null,
            "right": null,
            "justify_content": null,
            "_view_module": "@jupyter-widgets/base",
            "overflow": null,
            "_model_module_version": "1.2.0",
            "_view_count": null,
            "flex_flow": null,
            "width": null,
            "min_width": null,
            "border": null,
            "align_items": null,
            "bottom": null,
            "_model_module": "@jupyter-widgets/base",
            "top": null,
            "grid_column": null,
            "overflow_y": null,
            "overflow_x": null,
            "grid_auto_flow": null,
            "grid_area": null,
            "grid_template_columns": null,
            "flex": null,
            "_model_name": "LayoutModel",
            "justify_items": null,
            "grid_row": null,
            "max_height": null,
            "align_content": null,
            "visibility": null,
            "align_self": null,
            "height": null,
            "min_height": null,
            "padding": null,
            "grid_auto_rows": null,
            "grid_gap": null,
            "max_width": null,
            "order": null,
            "_view_module_version": "1.2.0",
            "grid_template_areas": null,
            "object_position": null,
            "object_fit": null,
            "grid_auto_columns": null,
            "margin": null,
            "display": null,
            "left": null
          }
        },
        "6f51828b396247f58d4a572274c452b8": {
          "model_module": "@jupyter-widgets/controls",
          "model_name": "HTMLModel",
          "model_module_version": "1.5.0",
          "state": {
            "_view_name": "HTMLView",
            "style": "IPY_MODEL_23e2fd00a3034bd3b8891005e3baa493",
            "_dom_classes": [],
            "description": "",
            "_model_name": "HTMLModel",
            "placeholder": "​",
            "_view_module": "@jupyter-widgets/controls",
            "_model_module_version": "1.5.0",
            "value": "Downloading: 100%",
            "_view_count": null,
            "_view_module_version": "1.5.0",
            "description_tooltip": null,
            "_model_module": "@jupyter-widgets/controls",
            "layout": "IPY_MODEL_cfd483c86d4f4ff6a5251045b7194864"
          }
        },
        "78847d53e5c54a7a8b66430615f2203c": {
          "model_module": "@jupyter-widgets/controls",
          "model_name": "FloatProgressModel",
          "model_module_version": "1.5.0",
          "state": {
            "_view_name": "ProgressView",
            "style": "IPY_MODEL_90548ec02f3d4342bd2f7842d7c523f2",
            "_dom_classes": [],
            "description": "",
            "_model_name": "FloatProgressModel",
            "bar_style": "success",
            "max": 1425941629,
            "_view_module": "@jupyter-widgets/controls",
            "_model_module_version": "1.5.0",
            "value": 1425941629,
            "_view_count": null,
            "_view_module_version": "1.5.0",
            "orientation": "horizontal",
            "min": 0,
            "description_tooltip": null,
            "_model_module": "@jupyter-widgets/controls",
            "layout": "IPY_MODEL_b4cc2e1cbbbd4d798da2b5cee30365ef"
          }
        },
        "61dcb345e0104bf5b9c188ae1258ec24": {
          "model_module": "@jupyter-widgets/controls",
          "model_name": "HTMLModel",
          "model_module_version": "1.5.0",
          "state": {
            "_view_name": "HTMLView",
            "style": "IPY_MODEL_a30318fcdae94a729ddbfdacb69e1c7d",
            "_dom_classes": [],
            "description": "",
            "_model_name": "HTMLModel",
            "placeholder": "​",
            "_view_module": "@jupyter-widgets/controls",
            "_model_module_version": "1.5.0",
            "value": " 1.33G/1.33G [00:23&lt;00:00, 51.9MB/s]",
            "_view_count": null,
            "_view_module_version": "1.5.0",
            "description_tooltip": null,
            "_model_module": "@jupyter-widgets/controls",
            "layout": "IPY_MODEL_06af76dbf5f64ada8f03a7fac03c168e"
          }
        },
        "23e2fd00a3034bd3b8891005e3baa493": {
          "model_module": "@jupyter-widgets/controls",
          "model_name": "DescriptionStyleModel",
          "model_module_version": "1.5.0",
          "state": {
            "_view_name": "StyleView",
            "_model_name": "DescriptionStyleModel",
            "description_width": "",
            "_view_module": "@jupyter-widgets/base",
            "_model_module_version": "1.5.0",
            "_view_count": null,
            "_view_module_version": "1.2.0",
            "_model_module": "@jupyter-widgets/controls"
          }
        },
        "cfd483c86d4f4ff6a5251045b7194864": {
          "model_module": "@jupyter-widgets/base",
          "model_name": "LayoutModel",
          "model_module_version": "1.2.0",
          "state": {
            "_view_name": "LayoutView",
            "grid_template_rows": null,
            "right": null,
            "justify_content": null,
            "_view_module": "@jupyter-widgets/base",
            "overflow": null,
            "_model_module_version": "1.2.0",
            "_view_count": null,
            "flex_flow": null,
            "width": null,
            "min_width": null,
            "border": null,
            "align_items": null,
            "bottom": null,
            "_model_module": "@jupyter-widgets/base",
            "top": null,
            "grid_column": null,
            "overflow_y": null,
            "overflow_x": null,
            "grid_auto_flow": null,
            "grid_area": null,
            "grid_template_columns": null,
            "flex": null,
            "_model_name": "LayoutModel",
            "justify_items": null,
            "grid_row": null,
            "max_height": null,
            "align_content": null,
            "visibility": null,
            "align_self": null,
            "height": null,
            "min_height": null,
            "padding": null,
            "grid_auto_rows": null,
            "grid_gap": null,
            "max_width": null,
            "order": null,
            "_view_module_version": "1.2.0",
            "grid_template_areas": null,
            "object_position": null,
            "object_fit": null,
            "grid_auto_columns": null,
            "margin": null,
            "display": null,
            "left": null
          }
        },
        "90548ec02f3d4342bd2f7842d7c523f2": {
          "model_module": "@jupyter-widgets/controls",
          "model_name": "ProgressStyleModel",
          "model_module_version": "1.5.0",
          "state": {
            "_view_name": "StyleView",
            "_model_name": "ProgressStyleModel",
            "description_width": "",
            "_view_module": "@jupyter-widgets/base",
            "_model_module_version": "1.5.0",
            "_view_count": null,
            "_view_module_version": "1.2.0",
            "bar_color": null,
            "_model_module": "@jupyter-widgets/controls"
          }
        },
        "b4cc2e1cbbbd4d798da2b5cee30365ef": {
          "model_module": "@jupyter-widgets/base",
          "model_name": "LayoutModel",
          "model_module_version": "1.2.0",
          "state": {
            "_view_name": "LayoutView",
            "grid_template_rows": null,
            "right": null,
            "justify_content": null,
            "_view_module": "@jupyter-widgets/base",
            "overflow": null,
            "_model_module_version": "1.2.0",
            "_view_count": null,
            "flex_flow": null,
            "width": null,
            "min_width": null,
            "border": null,
            "align_items": null,
            "bottom": null,
            "_model_module": "@jupyter-widgets/base",
            "top": null,
            "grid_column": null,
            "overflow_y": null,
            "overflow_x": null,
            "grid_auto_flow": null,
            "grid_area": null,
            "grid_template_columns": null,
            "flex": null,
            "_model_name": "LayoutModel",
            "justify_items": null,
            "grid_row": null,
            "max_height": null,
            "align_content": null,
            "visibility": null,
            "align_self": null,
            "height": null,
            "min_height": null,
            "padding": null,
            "grid_auto_rows": null,
            "grid_gap": null,
            "max_width": null,
            "order": null,
            "_view_module_version": "1.2.0",
            "grid_template_areas": null,
            "object_position": null,
            "object_fit": null,
            "grid_auto_columns": null,
            "margin": null,
            "display": null,
            "left": null
          }
        },
        "a30318fcdae94a729ddbfdacb69e1c7d": {
          "model_module": "@jupyter-widgets/controls",
          "model_name": "DescriptionStyleModel",
          "model_module_version": "1.5.0",
          "state": {
            "_view_name": "StyleView",
            "_model_name": "DescriptionStyleModel",
            "description_width": "",
            "_view_module": "@jupyter-widgets/base",
            "_model_module_version": "1.5.0",
            "_view_count": null,
            "_view_module_version": "1.2.0",
            "_model_module": "@jupyter-widgets/controls"
          }
        },
        "06af76dbf5f64ada8f03a7fac03c168e": {
          "model_module": "@jupyter-widgets/base",
          "model_name": "LayoutModel",
          "model_module_version": "1.2.0",
          "state": {
            "_view_name": "LayoutView",
            "grid_template_rows": null,
            "right": null,
            "justify_content": null,
            "_view_module": "@jupyter-widgets/base",
            "overflow": null,
            "_model_module_version": "1.2.0",
            "_view_count": null,
            "flex_flow": null,
            "width": null,
            "min_width": null,
            "border": null,
            "align_items": null,
            "bottom": null,
            "_model_module": "@jupyter-widgets/base",
            "top": null,
            "grid_column": null,
            "overflow_y": null,
            "overflow_x": null,
            "grid_auto_flow": null,
            "grid_area": null,
            "grid_template_columns": null,
            "flex": null,
            "_model_name": "LayoutModel",
            "justify_items": null,
            "grid_row": null,
            "max_height": null,
            "align_content": null,
            "visibility": null,
            "align_self": null,
            "height": null,
            "min_height": null,
            "padding": null,
            "grid_auto_rows": null,
            "grid_gap": null,
            "max_width": null,
            "order": null,
            "_view_module_version": "1.2.0",
            "grid_template_areas": null,
            "object_position": null,
            "object_fit": null,
            "grid_auto_columns": null,
            "margin": null,
            "display": null,
            "left": null
          }
        }
      }
    }
  },
  "cells": [
    {
      "cell_type": "markdown",
      "source": [
        "#START \n",
        "dependencies"
      ],
      "metadata": {
        "id": "Hs1P92-PaefZ"
      }
    },
    {
      "cell_type": "code",
      "metadata": {
        "id": "Kml5KHaDqkD0",
        "colab": {
          "base_uri": "https://localhost:8080/"
        },
        "outputId": "8f419918-9f27-4e8e-9801-67194c7e9725"
      },
      "source": [
        "pip -q install transformers datasets    "
      ],
      "execution_count": null,
      "outputs": [
        {
          "output_type": "stream",
          "name": "stdout",
          "text": [
            "\u001b[K     |████████████████████████████████| 3.5 MB 9.3 MB/s \n",
            "\u001b[K     |████████████████████████████████| 311 kB 87.5 MB/s \n",
            "\u001b[K     |████████████████████████████████| 596 kB 82.5 MB/s \n",
            "\u001b[K     |████████████████████████████████| 67 kB 5.6 MB/s \n",
            "\u001b[K     |████████████████████████████████| 895 kB 78.4 MB/s \n",
            "\u001b[K     |████████████████████████████████| 6.8 MB 51.9 MB/s \n",
            "\u001b[K     |████████████████████████████████| 1.1 MB 72.1 MB/s \n",
            "\u001b[K     |████████████████████████████████| 133 kB 95.6 MB/s \n",
            "\u001b[K     |████████████████████████████████| 243 kB 91.5 MB/s \n",
            "\u001b[K     |████████████████████████████████| 94 kB 691 kB/s \n",
            "\u001b[K     |████████████████████████████████| 144 kB 44.8 MB/s \n",
            "\u001b[K     |████████████████████████████████| 271 kB 64.6 MB/s \n",
            "\u001b[?25h"
          ]
        }
      ]
    },
    {
      "cell_type": "code",
      "metadata": {
        "colab": {
          "base_uri": "https://localhost:8080/"
        },
        "id": "8MmGPa5BAiKi",
        "outputId": "4ef177e5-e24e-4908-e9bb-5feb109017ab"
      },
      "source": [
        "!nvidia-smi"
      ],
      "execution_count": null,
      "outputs": [
        {
          "output_type": "stream",
          "name": "stdout",
          "text": [
            "Wed Feb  9 10:21:13 2022       \n",
            "+-----------------------------------------------------------------------------+\n",
            "| NVIDIA-SMI 460.32.03    Driver Version: 460.32.03    CUDA Version: 11.2     |\n",
            "|-------------------------------+----------------------+----------------------+\n",
            "| GPU  Name        Persistence-M| Bus-Id        Disp.A | Volatile Uncorr. ECC |\n",
            "| Fan  Temp  Perf  Pwr:Usage/Cap|         Memory-Usage | GPU-Util  Compute M. |\n",
            "|                               |                      |               MIG M. |\n",
            "|===============================+======================+======================|\n",
            "|   0  Tesla P100-PCIE...  Off  | 00000000:00:04.0 Off |                    0 |\n",
            "| N/A   32C    P0    26W / 250W |      0MiB / 16280MiB |      0%      Default |\n",
            "|                               |                      |                  N/A |\n",
            "+-------------------------------+----------------------+----------------------+\n",
            "                                                                               \n",
            "+-----------------------------------------------------------------------------+\n",
            "| Processes:                                                                  |\n",
            "|  GPU   GI   CI        PID   Type   Process name                  GPU Memory |\n",
            "|        ID   ID                                                   Usage      |\n",
            "|=============================================================================|\n",
            "|  No running processes found                                                 |\n",
            "+-----------------------------------------------------------------------------+\n"
          ]
        }
      ]
    },
    {
      "cell_type": "code",
      "metadata": {
        "id": "ErjttzAQ3gth"
      },
      "source": [
        "# load tensorboard extension\n",
        "%load_ext tensorboard"
      ],
      "execution_count": null,
      "outputs": []
    },
    {
      "cell_type": "markdown",
      "metadata": {
        "id": "rIKme_eZez-k"
      },
      "source": [
        "# Patronizing and Condescending Language Detection"
      ]
    },
    {
      "cell_type": "markdown",
      "metadata": {
        "id": "_yQrU4p8RRKm"
      },
      "source": [
        "Baselines from [the paper](https://arxiv.org/pdf/2011.08320.pdf):"
      ]
    },
    {
      "cell_type": "markdown",
      "metadata": {
        "id": "Q_q_pTxtQ0yJ"
      },
      "source": [
        "\n",
        "![Screen Shot 2021-09-11 at 12.09.56 PM.png](data:image/png;base64,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)\n"
      ]
    },
    {
      "cell_type": "markdown",
      "metadata": {
        "id": "MJ9FngSb-RzF"
      },
      "source": [
        "## Prepare Dataset"
      ]
    },
    {
      "cell_type": "code",
      "metadata": {
        "id": "yF3nOctNeqfn"
      },
      "source": [
        "import pandas as pd\n",
        "import numpy as np"
      ],
      "execution_count": null,
      "outputs": []
    },
    {
      "cell_type": "code",
      "source": [
        "!wget https://gist.githubusercontent.com/Sirwe-Saeedi/eff6f35a0aa182c2043da977e3a55171/raw/1865bd29a8a8c16580fec55f084316ed92d34950/TrainingSet_EvaluationPhase.csv"
      ],
      "metadata": {
        "colab": {
          "base_uri": "https://localhost:8080/"
        },
        "id": "DN7rmkWC7MwK",
        "outputId": "7d317b6a-cefa-472a-c84d-a25f4fee15ec"
      },
      "execution_count": null,
      "outputs": [
        {
          "output_type": "stream",
          "name": "stdout",
          "text": [
            "--2022-02-09 10:21:13--  https://gist.githubusercontent.com/Sirwe-Saeedi/eff6f35a0aa182c2043da977e3a55171/raw/1865bd29a8a8c16580fec55f084316ed92d34950/TrainingSet_EvaluationPhase.csv\n",
            "Resolving gist.githubusercontent.com (gist.githubusercontent.com)... 185.199.108.133, 185.199.109.133, 185.199.110.133, ...\n",
            "Connecting to gist.githubusercontent.com (gist.githubusercontent.com)|185.199.108.133|:443... connected.\n",
            "HTTP request sent, awaiting response... 200 OK\n",
            "Length: 3122842 (3.0M) [text/plain]\n",
            "Saving to: ‘TrainingSet_EvaluationPhase.csv’\n",
            "\n",
            "TrainingSet_Evaluat 100%[===================>]   2.98M  --.-KB/s    in 0.04s   \n",
            "\n",
            "2022-02-09 10:21:13 (76.2 MB/s) - ‘TrainingSet_EvaluationPhase.csv’ saved [3122842/3122842]\n",
            "\n"
          ]
        }
      ]
    },
    {
      "cell_type": "code",
      "metadata": {
        "colab": {
          "base_uri": "https://localhost:8080/",
          "height": 423
        },
        "id": "jrIThV48iENP",
        "outputId": "9f43b8f9-a965-42a8-8266-75a0faee65c2"
      },
      "source": [
        "#Skip the disclaimer at the beginning of file\n",
        "df_pcl = pd.read_csv('./TrainingSet_EvaluationPhase.csv', sep='\\t', skiprows=4, header = None)\n",
        "df_pcl.columns = ['index','paragraph_id',\t'keyword', 'country_code',\t'paragraph', 'label']\n",
        "df_pcl.drop('index', axis = 1, inplace=True)\n",
        "df_pcl"
      ],
      "execution_count": null,
      "outputs": [
        {
          "output_type": "execute_result",
          "data": {
            "text/html": [
              "\n",
              "  <div id=\"df-f050888d-bff3-4967-9b76-3b3094b12d0b\">\n",
              "    <div class=\"colab-df-container\">\n",
              "      <div>\n",
              "<style scoped>\n",
              "    .dataframe tbody tr th:only-of-type {\n",
              "        vertical-align: middle;\n",
              "    }\n",
              "\n",
              "    .dataframe tbody tr th {\n",
              "        vertical-align: top;\n",
              "    }\n",
              "\n",
              "    .dataframe thead th {\n",
              "        text-align: right;\n",
              "    }\n",
              "</style>\n",
              "<table border=\"1\" class=\"dataframe\">\n",
              "  <thead>\n",
              "    <tr style=\"text-align: right;\">\n",
              "      <th></th>\n",
              "      <th>paragraph_id</th>\n",
              "      <th>keyword</th>\n",
              "      <th>country_code</th>\n",
              "      <th>paragraph</th>\n",
              "      <th>label</th>\n",
              "    </tr>\n",
              "  </thead>\n",
              "  <tbody>\n",
              "    <tr>\n",
              "      <th>0</th>\n",
              "      <td>@@24942188</td>\n",
              "      <td>hopeless</td>\n",
              "      <td>ph</td>\n",
              "      <td>We 're living in times of absolute insanity , ...</td>\n",
              "      <td>0</td>\n",
              "    </tr>\n",
              "    <tr>\n",
              "      <th>1</th>\n",
              "      <td>@@21968160</td>\n",
              "      <td>migrant</td>\n",
              "      <td>gh</td>\n",
              "      <td>In Libya today , there are countless number of...</td>\n",
              "      <td>0</td>\n",
              "    </tr>\n",
              "    <tr>\n",
              "      <th>2</th>\n",
              "      <td>@@16584954</td>\n",
              "      <td>immigrant</td>\n",
              "      <td>ie</td>\n",
              "      <td>White House press secretary Sean Spicer said t...</td>\n",
              "      <td>0</td>\n",
              "    </tr>\n",
              "    <tr>\n",
              "      <th>3</th>\n",
              "      <td>@@7811231</td>\n",
              "      <td>disabled</td>\n",
              "      <td>nz</td>\n",
              "      <td>Council customers only signs would be displaye...</td>\n",
              "      <td>0</td>\n",
              "    </tr>\n",
              "    <tr>\n",
              "      <th>4</th>\n",
              "      <td>@@1494111</td>\n",
              "      <td>refugee</td>\n",
              "      <td>ca</td>\n",
              "      <td>\" Just like we received migrants fleeing El Sa...</td>\n",
              "      <td>0</td>\n",
              "    </tr>\n",
              "    <tr>\n",
              "      <th>...</th>\n",
              "      <td>...</td>\n",
              "      <td>...</td>\n",
              "      <td>...</td>\n",
              "      <td>...</td>\n",
              "      <td>...</td>\n",
              "    </tr>\n",
              "    <tr>\n",
              "      <th>10464</th>\n",
              "      <td>@@14297363</td>\n",
              "      <td>women</td>\n",
              "      <td>lk</td>\n",
              "      <td>Sri Lankan norms and culture inhibit women fro...</td>\n",
              "      <td>1</td>\n",
              "    </tr>\n",
              "    <tr>\n",
              "      <th>10465</th>\n",
              "      <td>@@70091353</td>\n",
              "      <td>vulnerable</td>\n",
              "      <td>ph</td>\n",
              "      <td>He added that the AFP will continue to bank on...</td>\n",
              "      <td>0</td>\n",
              "    </tr>\n",
              "    <tr>\n",
              "      <th>10466</th>\n",
              "      <td>@@20282330</td>\n",
              "      <td>in-need</td>\n",
              "      <td>ng</td>\n",
              "      <td>\" She has one huge platform , and information ...</td>\n",
              "      <td>3</td>\n",
              "    </tr>\n",
              "    <tr>\n",
              "      <th>10467</th>\n",
              "      <td>@@16753236</td>\n",
              "      <td>hopeless</td>\n",
              "      <td>in</td>\n",
              "      <td>\" Anja Ringgren Loven I ca n't find a word to ...</td>\n",
              "      <td>4</td>\n",
              "    </tr>\n",
              "    <tr>\n",
              "      <th>10468</th>\n",
              "      <td>@@16779383</td>\n",
              "      <td>homeless</td>\n",
              "      <td>ie</td>\n",
              "      <td>\" Guinness World Record of 540lbs of 7-layer m...</td>\n",
              "      <td>3</td>\n",
              "    </tr>\n",
              "  </tbody>\n",
              "</table>\n",
              "<p>10469 rows × 5 columns</p>\n",
              "</div>\n",
              "      <button class=\"colab-df-convert\" onclick=\"convertToInteractive('df-f050888d-bff3-4967-9b76-3b3094b12d0b')\"\n",
              "              title=\"Convert this dataframe to an interactive table.\"\n",
              "              style=\"display:none;\">\n",
              "        \n",
              "  <svg xmlns=\"http://www.w3.org/2000/svg\" height=\"24px\"viewBox=\"0 0 24 24\"\n",
              "       width=\"24px\">\n",
              "    <path d=\"M0 0h24v24H0V0z\" fill=\"none\"/>\n",
              "    <path d=\"M18.56 5.44l.94 2.06.94-2.06 2.06-.94-2.06-.94-.94-2.06-.94 2.06-2.06.94zm-11 1L8.5 8.5l.94-2.06 2.06-.94-2.06-.94L8.5 2.5l-.94 2.06-2.06.94zm10 10l.94 2.06.94-2.06 2.06-.94-2.06-.94-.94-2.06-.94 2.06-2.06.94z\"/><path d=\"M17.41 7.96l-1.37-1.37c-.4-.4-.92-.59-1.43-.59-.52 0-1.04.2-1.43.59L10.3 9.45l-7.72 7.72c-.78.78-.78 2.05 0 2.83L4 21.41c.39.39.9.59 1.41.59.51 0 1.02-.2 1.41-.59l7.78-7.78 2.81-2.81c.8-.78.8-2.07 0-2.86zM5.41 20L4 18.59l7.72-7.72 1.47 1.35L5.41 20z\"/>\n",
              "  </svg>\n",
              "      </button>\n",
              "      \n",
              "  <style>\n",
              "    .colab-df-container {\n",
              "      display:flex;\n",
              "      flex-wrap:wrap;\n",
              "      gap: 12px;\n",
              "    }\n",
              "\n",
              "    .colab-df-convert {\n",
              "      background-color: #E8F0FE;\n",
              "      border: none;\n",
              "      border-radius: 50%;\n",
              "      cursor: pointer;\n",
              "      display: none;\n",
              "      fill: #1967D2;\n",
              "      height: 32px;\n",
              "      padding: 0 0 0 0;\n",
              "      width: 32px;\n",
              "    }\n",
              "\n",
              "    .colab-df-convert:hover {\n",
              "      background-color: #E2EBFA;\n",
              "      box-shadow: 0px 1px 2px rgba(60, 64, 67, 0.3), 0px 1px 3px 1px rgba(60, 64, 67, 0.15);\n",
              "      fill: #174EA6;\n",
              "    }\n",
              "\n",
              "    [theme=dark] .colab-df-convert {\n",
              "      background-color: #3B4455;\n",
              "      fill: #D2E3FC;\n",
              "    }\n",
              "\n",
              "    [theme=dark] .colab-df-convert:hover {\n",
              "      background-color: #434B5C;\n",
              "      box-shadow: 0px 1px 3px 1px rgba(0, 0, 0, 0.15);\n",
              "      filter: drop-shadow(0px 1px 2px rgba(0, 0, 0, 0.3));\n",
              "      fill: #FFFFFF;\n",
              "    }\n",
              "  </style>\n",
              "\n",
              "      <script>\n",
              "        const buttonEl =\n",
              "          document.querySelector('#df-f050888d-bff3-4967-9b76-3b3094b12d0b button.colab-df-convert');\n",
              "        buttonEl.style.display =\n",
              "          google.colab.kernel.accessAllowed ? 'block' : 'none';\n",
              "\n",
              "        async function convertToInteractive(key) {\n",
              "          const element = document.querySelector('#df-f050888d-bff3-4967-9b76-3b3094b12d0b');\n",
              "          const dataTable =\n",
              "            await google.colab.kernel.invokeFunction('convertToInteractive',\n",
              "                                                     [key], {});\n",
              "          if (!dataTable) return;\n",
              "\n",
              "          const docLinkHtml = 'Like what you see? Visit the ' +\n",
              "            '<a target=\"_blank\" href=https://colab.research.google.com/notebooks/data_table.ipynb>data table notebook</a>'\n",
              "            + ' to learn more about interactive tables.';\n",
              "          element.innerHTML = '';\n",
              "          dataTable['output_type'] = 'display_data';\n",
              "          await google.colab.output.renderOutput(dataTable, element);\n",
              "          const docLink = document.createElement('div');\n",
              "          docLink.innerHTML = docLinkHtml;\n",
              "          element.appendChild(docLink);\n",
              "        }\n",
              "      </script>\n",
              "    </div>\n",
              "  </div>\n",
              "  "
            ],
            "text/plain": [
              "      paragraph_id  ... label\n",
              "0       @@24942188  ...     0\n",
              "1       @@21968160  ...     0\n",
              "2       @@16584954  ...     0\n",
              "3        @@7811231  ...     0\n",
              "4        @@1494111  ...     0\n",
              "...            ...  ...   ...\n",
              "10464   @@14297363  ...     1\n",
              "10465   @@70091353  ...     0\n",
              "10466   @@20282330  ...     3\n",
              "10467   @@16753236  ...     4\n",
              "10468   @@16779383  ...     3\n",
              "\n",
              "[10469 rows x 5 columns]"
            ]
          },
          "metadata": {},
          "execution_count": 6
        }
      ]
    },
    {
      "cell_type": "code",
      "source": [
        "df_pcl['keyword'].value_counts('')"
      ],
      "metadata": {
        "colab": {
          "base_uri": "https://localhost:8080/"
        },
        "id": "gcC9KpbaUT9J",
        "outputId": "8562f208-c7b4-4901-9b79-997246771bd9"
      },
      "execution_count": null,
      "outputs": [
        {
          "output_type": "execute_result",
          "data": {
            "text/plain": [
              "migrant          1089\n",
              "in-need          1082\n",
              "vulnerable       1080\n",
              "homeless         1077\n",
              "women            1070\n",
              "refugee          1068\n",
              "immigrant        1061\n",
              "disabled         1028\n",
              "hopeless         1005\n",
              "poor-families     909\n",
              "Name: keyword, dtype: int64"
            ]
          },
          "metadata": {},
          "execution_count": 7
        }
      ]
    },
    {
      "cell_type": "code",
      "metadata": {
        "colab": {
          "base_uri": "https://localhost:8080/"
        },
        "id": "UIeslhtb6T6j",
        "outputId": "a99b40da-0aee-422e-a75a-7deab7d816a8"
      },
      "source": [
        "df_pcl['paragraph_id'].duplicated().value_counts()"
      ],
      "execution_count": null,
      "outputs": [
        {
          "output_type": "execute_result",
          "data": {
            "text/plain": [
              "False    10093\n",
              "True       376\n",
              "Name: paragraph_id, dtype: int64"
            ]
          },
          "metadata": {},
          "execution_count": 8
        }
      ]
    },
    {
      "cell_type": "markdown",
      "source": [
        "Note that none of the duplicated paragraph_ids has matching paragraph text. So we don't have any issue in this regard."
      ],
      "metadata": {
        "id": "IpHFLYlPCfwX"
      }
    },
    {
      "cell_type": "code",
      "source": [
        "df_pcl[df_pcl['paragraph_id'].duplicated()][df_pcl['paragraph_id'] == '@@1958113']"
      ],
      "metadata": {
        "colab": {
          "base_uri": "https://localhost:8080/",
          "height": 147
        },
        "id": "D9SkaRbLBz9D",
        "outputId": "6ca43790-bdfe-4009-8e35-a3dd1cc7b4d2"
      },
      "execution_count": null,
      "outputs": [
        {
          "output_type": "stream",
          "name": "stderr",
          "text": [
            "/usr/local/lib/python3.7/dist-packages/ipykernel_launcher.py:1: UserWarning: Boolean Series key will be reindexed to match DataFrame index.\n",
            "  \"\"\"Entry point for launching an IPython kernel.\n"
          ]
        },
        {
          "output_type": "execute_result",
          "data": {
            "text/html": [
              "\n",
              "  <div id=\"df-44d7d59a-7a5f-4b97-9b51-76fe8ae87e69\">\n",
              "    <div class=\"colab-df-container\">\n",
              "      <div>\n",
              "<style scoped>\n",
              "    .dataframe tbody tr th:only-of-type {\n",
              "        vertical-align: middle;\n",
              "    }\n",
              "\n",
              "    .dataframe tbody tr th {\n",
              "        vertical-align: top;\n",
              "    }\n",
              "\n",
              "    .dataframe thead th {\n",
              "        text-align: right;\n",
              "    }\n",
              "</style>\n",
              "<table border=\"1\" class=\"dataframe\">\n",
              "  <thead>\n",
              "    <tr style=\"text-align: right;\">\n",
              "      <th></th>\n",
              "      <th>paragraph_id</th>\n",
              "      <th>keyword</th>\n",
              "      <th>country_code</th>\n",
              "      <th>paragraph</th>\n",
              "      <th>label</th>\n",
              "    </tr>\n",
              "  </thead>\n",
              "  <tbody>\n",
              "    <tr>\n",
              "      <th>419</th>\n",
              "      <td>@@1958113</td>\n",
              "      <td>homeless</td>\n",
              "      <td>tz</td>\n",
              "      <td>A new Dar es Salaam master plan which has just...</td>\n",
              "      <td>0</td>\n",
              "    </tr>\n",
              "    <tr>\n",
              "      <th>9854</th>\n",
              "      <td>@@1958113</td>\n",
              "      <td>homeless</td>\n",
              "      <td>tz</td>\n",
              "      <td>Last week , many Dar es Salaam residents were ...</td>\n",
              "      <td>0</td>\n",
              "    </tr>\n",
              "  </tbody>\n",
              "</table>\n",
              "</div>\n",
              "      <button class=\"colab-df-convert\" onclick=\"convertToInteractive('df-44d7d59a-7a5f-4b97-9b51-76fe8ae87e69')\"\n",
              "              title=\"Convert this dataframe to an interactive table.\"\n",
              "              style=\"display:none;\">\n",
              "        \n",
              "  <svg xmlns=\"http://www.w3.org/2000/svg\" height=\"24px\"viewBox=\"0 0 24 24\"\n",
              "       width=\"24px\">\n",
              "    <path d=\"M0 0h24v24H0V0z\" fill=\"none\"/>\n",
              "    <path d=\"M18.56 5.44l.94 2.06.94-2.06 2.06-.94-2.06-.94-.94-2.06-.94 2.06-2.06.94zm-11 1L8.5 8.5l.94-2.06 2.06-.94-2.06-.94L8.5 2.5l-.94 2.06-2.06.94zm10 10l.94 2.06.94-2.06 2.06-.94-2.06-.94-.94-2.06-.94 2.06-2.06.94z\"/><path d=\"M17.41 7.96l-1.37-1.37c-.4-.4-.92-.59-1.43-.59-.52 0-1.04.2-1.43.59L10.3 9.45l-7.72 7.72c-.78.78-.78 2.05 0 2.83L4 21.41c.39.39.9.59 1.41.59.51 0 1.02-.2 1.41-.59l7.78-7.78 2.81-2.81c.8-.78.8-2.07 0-2.86zM5.41 20L4 18.59l7.72-7.72 1.47 1.35L5.41 20z\"/>\n",
              "  </svg>\n",
              "      </button>\n",
              "      \n",
              "  <style>\n",
              "    .colab-df-container {\n",
              "      display:flex;\n",
              "      flex-wrap:wrap;\n",
              "      gap: 12px;\n",
              "    }\n",
              "\n",
              "    .colab-df-convert {\n",
              "      background-color: #E8F0FE;\n",
              "      border: none;\n",
              "      border-radius: 50%;\n",
              "      cursor: pointer;\n",
              "      display: none;\n",
              "      fill: #1967D2;\n",
              "      height: 32px;\n",
              "      padding: 0 0 0 0;\n",
              "      width: 32px;\n",
              "    }\n",
              "\n",
              "    .colab-df-convert:hover {\n",
              "      background-color: #E2EBFA;\n",
              "      box-shadow: 0px 1px 2px rgba(60, 64, 67, 0.3), 0px 1px 3px 1px rgba(60, 64, 67, 0.15);\n",
              "      fill: #174EA6;\n",
              "    }\n",
              "\n",
              "    [theme=dark] .colab-df-convert {\n",
              "      background-color: #3B4455;\n",
              "      fill: #D2E3FC;\n",
              "    }\n",
              "\n",
              "    [theme=dark] .colab-df-convert:hover {\n",
              "      background-color: #434B5C;\n",
              "      box-shadow: 0px 1px 3px 1px rgba(0, 0, 0, 0.15);\n",
              "      filter: drop-shadow(0px 1px 2px rgba(0, 0, 0, 0.3));\n",
              "      fill: #FFFFFF;\n",
              "    }\n",
              "  </style>\n",
              "\n",
              "      <script>\n",
              "        const buttonEl =\n",
              "          document.querySelector('#df-44d7d59a-7a5f-4b97-9b51-76fe8ae87e69 button.colab-df-convert');\n",
              "        buttonEl.style.display =\n",
              "          google.colab.kernel.accessAllowed ? 'block' : 'none';\n",
              "\n",
              "        async function convertToInteractive(key) {\n",
              "          const element = document.querySelector('#df-44d7d59a-7a5f-4b97-9b51-76fe8ae87e69');\n",
              "          const dataTable =\n",
              "            await google.colab.kernel.invokeFunction('convertToInteractive',\n",
              "                                                     [key], {});\n",
              "          if (!dataTable) return;\n",
              "\n",
              "          const docLinkHtml = 'Like what you see? Visit the ' +\n",
              "            '<a target=\"_blank\" href=https://colab.research.google.com/notebooks/data_table.ipynb>data table notebook</a>'\n",
              "            + ' to learn more about interactive tables.';\n",
              "          element.innerHTML = '';\n",
              "          dataTable['output_type'] = 'display_data';\n",
              "          await google.colab.output.renderOutput(dataTable, element);\n",
              "          const docLink = document.createElement('div');\n",
              "          docLink.innerHTML = docLinkHtml;\n",
              "          element.appendChild(docLink);\n",
              "        }\n",
              "      </script>\n",
              "    </div>\n",
              "  </div>\n",
              "  "
            ],
            "text/plain": [
              "     paragraph_id  ... label\n",
              "419     @@1958113  ...     0\n",
              "9854    @@1958113  ...     0\n",
              "\n",
              "[2 rows x 5 columns]"
            ]
          },
          "metadata": {},
          "execution_count": 9
        }
      ]
    },
    {
      "cell_type": "markdown",
      "source": [
        "#Test set"
      ],
      "metadata": {
        "id": "jtltemhc3PJI"
      }
    },
    {
      "cell_type": "code",
      "source": [
        "!wget https://gist.githubusercontent.com/Sirwe-Saeedi/f04bd684ad7b43f09934658c096dc475/raw/4128a99896080a84a61fccb73d58f82eb06a3b87/TestSet_EvaluationPhase.csv"
      ],
      "metadata": {
        "colab": {
          "base_uri": "https://localhost:8080/"
        },
        "id": "wLUtKJcC3RH_",
        "outputId": "fb8db9ec-8c0d-4259-8fc0-4c1b822971e1"
      },
      "execution_count": null,
      "outputs": [
        {
          "output_type": "stream",
          "name": "stdout",
          "text": [
            "--2022-02-09 10:21:14--  https://gist.githubusercontent.com/Sirwe-Saeedi/f04bd684ad7b43f09934658c096dc475/raw/4128a99896080a84a61fccb73d58f82eb06a3b87/TestSet_EvaluationPhase.csv\n",
            "Resolving gist.githubusercontent.com (gist.githubusercontent.com)... 185.199.108.133, 185.199.109.133, 185.199.110.133, ...\n",
            "Connecting to gist.githubusercontent.com (gist.githubusercontent.com)|185.199.108.133|:443... connected.\n",
            "HTTP request sent, awaiting response... 200 OK\n",
            "Length: 1145277 (1.1M) [text/plain]\n",
            "Saving to: ‘TestSet_EvaluationPhase.csv’\n",
            "\n",
            "TestSet_EvaluationP 100%[===================>]   1.09M  --.-KB/s    in 0.04s   \n",
            "\n",
            "2022-02-09 10:21:14 (28.8 MB/s) - ‘TestSet_EvaluationPhase.csv’ saved [1145277/1145277]\n",
            "\n"
          ]
        }
      ]
    },
    {
      "cell_type": "code",
      "source": [
        "df_pcl_test = pd.read_csv('./TestSet_EvaluationPhase.csv', sep='\\t', header = None)\n",
        "df_pcl_test.columns = ['index','paragraph_id',\t'keyword', 'country_code',\t'paragraph']\n",
        "#df_pcl_test.drop('index', axis = 1, inplace=True)\n",
        "df_pcl_test"
      ],
      "metadata": {
        "colab": {
          "base_uri": "https://localhost:8080/",
          "height": 423
        },
        "id": "kggYTr5s3ci6",
        "outputId": "7951a1b9-32b0-48f8-a248-5df0d6749386"
      },
      "execution_count": null,
      "outputs": [
        {
          "output_type": "execute_result",
          "data": {
            "text/html": [
              "\n",
              "  <div id=\"df-cbceea59-2519-457d-94d2-32e29b3bfe68\">\n",
              "    <div class=\"colab-df-container\">\n",
              "      <div>\n",
              "<style scoped>\n",
              "    .dataframe tbody tr th:only-of-type {\n",
              "        vertical-align: middle;\n",
              "    }\n",
              "\n",
              "    .dataframe tbody tr th {\n",
              "        vertical-align: top;\n",
              "    }\n",
              "\n",
              "    .dataframe thead th {\n",
              "        text-align: right;\n",
              "    }\n",
              "</style>\n",
              "<table border=\"1\" class=\"dataframe\">\n",
              "  <thead>\n",
              "    <tr style=\"text-align: right;\">\n",
              "      <th></th>\n",
              "      <th>index</th>\n",
              "      <th>paragraph_id</th>\n",
              "      <th>keyword</th>\n",
              "      <th>country_code</th>\n",
              "      <th>paragraph</th>\n",
              "    </tr>\n",
              "  </thead>\n",
              "  <tbody>\n",
              "    <tr>\n",
              "      <th>0</th>\n",
              "      <td>t_0</td>\n",
              "      <td>@@7258997</td>\n",
              "      <td>vulnerable</td>\n",
              "      <td>us</td>\n",
              "      <td>In the meantime , conservatives are working to...</td>\n",
              "    </tr>\n",
              "    <tr>\n",
              "      <th>1</th>\n",
              "      <td>t_1</td>\n",
              "      <td>@@16397324</td>\n",
              "      <td>women</td>\n",
              "      <td>pk</td>\n",
              "      <td>In most poor households with no education chil...</td>\n",
              "    </tr>\n",
              "    <tr>\n",
              "      <th>2</th>\n",
              "      <td>t_2</td>\n",
              "      <td>@@16257812</td>\n",
              "      <td>migrant</td>\n",
              "      <td>ca</td>\n",
              "      <td>The real question is not whether immigration i...</td>\n",
              "    </tr>\n",
              "    <tr>\n",
              "      <th>3</th>\n",
              "      <td>t_3</td>\n",
              "      <td>@@3509652</td>\n",
              "      <td>migrant</td>\n",
              "      <td>gb</td>\n",
              "      <td>In total , the country 's immigrant population...</td>\n",
              "    </tr>\n",
              "    <tr>\n",
              "      <th>4</th>\n",
              "      <td>t_4</td>\n",
              "      <td>@@477506</td>\n",
              "      <td>vulnerable</td>\n",
              "      <td>ca</td>\n",
              "      <td>Members of the church , which is part of Ken C...</td>\n",
              "    </tr>\n",
              "    <tr>\n",
              "      <th>...</th>\n",
              "      <td>...</td>\n",
              "      <td>...</td>\n",
              "      <td>...</td>\n",
              "      <td>...</td>\n",
              "      <td>...</td>\n",
              "    </tr>\n",
              "    <tr>\n",
              "      <th>3827</th>\n",
              "      <td>t_3893</td>\n",
              "      <td>@@20319448</td>\n",
              "      <td>migrant</td>\n",
              "      <td>jm</td>\n",
              "      <td>In a letter dated Thursday to European Commiss...</td>\n",
              "    </tr>\n",
              "    <tr>\n",
              "      <th>3828</th>\n",
              "      <td>t_3894</td>\n",
              "      <td>@@9990672</td>\n",
              "      <td>poor-families</td>\n",
              "      <td>au</td>\n",
              "      <td>They discovered that poor families with health...</td>\n",
              "    </tr>\n",
              "    <tr>\n",
              "      <th>3829</th>\n",
              "      <td>t_3895</td>\n",
              "      <td>@@37984</td>\n",
              "      <td>migrant</td>\n",
              "      <td>ca</td>\n",
              "      <td>She married at 19 , to Milan ( Emil ) Badovina...</td>\n",
              "    </tr>\n",
              "    <tr>\n",
              "      <th>3830</th>\n",
              "      <td>t_3896</td>\n",
              "      <td>@@9691377</td>\n",
              "      <td>immigrant</td>\n",
              "      <td>us</td>\n",
              "      <td>The United Kingdom is n't going to devolve int...</td>\n",
              "    </tr>\n",
              "    <tr>\n",
              "      <th>3831</th>\n",
              "      <td>t_3897</td>\n",
              "      <td>@@26170085</td>\n",
              "      <td>poor-families</td>\n",
              "      <td>ng</td>\n",
              "      <td>This moral battle informed the recent defectio...</td>\n",
              "    </tr>\n",
              "  </tbody>\n",
              "</table>\n",
              "<p>3832 rows × 5 columns</p>\n",
              "</div>\n",
              "      <button class=\"colab-df-convert\" onclick=\"convertToInteractive('df-cbceea59-2519-457d-94d2-32e29b3bfe68')\"\n",
              "              title=\"Convert this dataframe to an interactive table.\"\n",
              "              style=\"display:none;\">\n",
              "        \n",
              "  <svg xmlns=\"http://www.w3.org/2000/svg\" height=\"24px\"viewBox=\"0 0 24 24\"\n",
              "       width=\"24px\">\n",
              "    <path d=\"M0 0h24v24H0V0z\" fill=\"none\"/>\n",
              "    <path d=\"M18.56 5.44l.94 2.06.94-2.06 2.06-.94-2.06-.94-.94-2.06-.94 2.06-2.06.94zm-11 1L8.5 8.5l.94-2.06 2.06-.94-2.06-.94L8.5 2.5l-.94 2.06-2.06.94zm10 10l.94 2.06.94-2.06 2.06-.94-2.06-.94-.94-2.06-.94 2.06-2.06.94z\"/><path d=\"M17.41 7.96l-1.37-1.37c-.4-.4-.92-.59-1.43-.59-.52 0-1.04.2-1.43.59L10.3 9.45l-7.72 7.72c-.78.78-.78 2.05 0 2.83L4 21.41c.39.39.9.59 1.41.59.51 0 1.02-.2 1.41-.59l7.78-7.78 2.81-2.81c.8-.78.8-2.07 0-2.86zM5.41 20L4 18.59l7.72-7.72 1.47 1.35L5.41 20z\"/>\n",
              "  </svg>\n",
              "      </button>\n",
              "      \n",
              "  <style>\n",
              "    .colab-df-container {\n",
              "      display:flex;\n",
              "      flex-wrap:wrap;\n",
              "      gap: 12px;\n",
              "    }\n",
              "\n",
              "    .colab-df-convert {\n",
              "      background-color: #E8F0FE;\n",
              "      border: none;\n",
              "      border-radius: 50%;\n",
              "      cursor: pointer;\n",
              "      display: none;\n",
              "      fill: #1967D2;\n",
              "      height: 32px;\n",
              "      padding: 0 0 0 0;\n",
              "      width: 32px;\n",
              "    }\n",
              "\n",
              "    .colab-df-convert:hover {\n",
              "      background-color: #E2EBFA;\n",
              "      box-shadow: 0px 1px 2px rgba(60, 64, 67, 0.3), 0px 1px 3px 1px rgba(60, 64, 67, 0.15);\n",
              "      fill: #174EA6;\n",
              "    }\n",
              "\n",
              "    [theme=dark] .colab-df-convert {\n",
              "      background-color: #3B4455;\n",
              "      fill: #D2E3FC;\n",
              "    }\n",
              "\n",
              "    [theme=dark] .colab-df-convert:hover {\n",
              "      background-color: #434B5C;\n",
              "      box-shadow: 0px 1px 3px 1px rgba(0, 0, 0, 0.15);\n",
              "      filter: drop-shadow(0px 1px 2px rgba(0, 0, 0, 0.3));\n",
              "      fill: #FFFFFF;\n",
              "    }\n",
              "  </style>\n",
              "\n",
              "      <script>\n",
              "        const buttonEl =\n",
              "          document.querySelector('#df-cbceea59-2519-457d-94d2-32e29b3bfe68 button.colab-df-convert');\n",
              "        buttonEl.style.display =\n",
              "          google.colab.kernel.accessAllowed ? 'block' : 'none';\n",
              "\n",
              "        async function convertToInteractive(key) {\n",
              "          const element = document.querySelector('#df-cbceea59-2519-457d-94d2-32e29b3bfe68');\n",
              "          const dataTable =\n",
              "            await google.colab.kernel.invokeFunction('convertToInteractive',\n",
              "                                                     [key], {});\n",
              "          if (!dataTable) return;\n",
              "\n",
              "          const docLinkHtml = 'Like what you see? Visit the ' +\n",
              "            '<a target=\"_blank\" href=https://colab.research.google.com/notebooks/data_table.ipynb>data table notebook</a>'\n",
              "            + ' to learn more about interactive tables.';\n",
              "          element.innerHTML = '';\n",
              "          dataTable['output_type'] = 'display_data';\n",
              "          await google.colab.output.renderOutput(dataTable, element);\n",
              "          const docLink = document.createElement('div');\n",
              "          docLink.innerHTML = docLinkHtml;\n",
              "          element.appendChild(docLink);\n",
              "        }\n",
              "      </script>\n",
              "    </div>\n",
              "  </div>\n",
              "  "
            ],
            "text/plain": [
              "       index  ...                                          paragraph\n",
              "0        t_0  ...  In the meantime , conservatives are working to...\n",
              "1        t_1  ...  In most poor households with no education chil...\n",
              "2        t_2  ...  The real question is not whether immigration i...\n",
              "3        t_3  ...  In total , the country 's immigrant population...\n",
              "4        t_4  ...  Members of the church , which is part of Ken C...\n",
              "...      ...  ...                                                ...\n",
              "3827  t_3893  ...  In a letter dated Thursday to European Commiss...\n",
              "3828  t_3894  ...  They discovered that poor families with health...\n",
              "3829  t_3895  ...  She married at 19 , to Milan ( Emil ) Badovina...\n",
              "3830  t_3896  ...  The United Kingdom is n't going to devolve int...\n",
              "3831  t_3897  ...  This moral battle informed the recent defectio...\n",
              "\n",
              "[3832 rows x 5 columns]"
            ]
          },
          "metadata": {},
          "execution_count": 11
        }
      ]
    },
    {
      "cell_type": "markdown",
      "metadata": {
        "id": "lVJmmpoOWs0G"
      },
      "source": [
        "## Binary Classification\n"
      ]
    },
    {
      "cell_type": "code",
      "metadata": {
        "id": "9jzP03pn5KFj"
      },
      "source": [
        "import os\n",
        "# os.environ['WANDB_PROJECT'] = 'pcl-binary'"
      ],
      "execution_count": null,
      "outputs": []
    },
    {
      "cell_type": "code",
      "metadata": {
        "id": "nLkhyhQnSs3O"
      },
      "source": [
        "import torch\n",
        "from tqdm.notebook import tqdm\n",
        "\n",
        "from transformers import RobertaTokenizer, BertTokenizer\n",
        "from torch.utils.data import TensorDataset\n",
        "\n",
        "from transformers import RobertaForSequenceClassification, BertForSequenceClassification\n",
        "\n",
        "import seaborn as sns"
      ],
      "execution_count": null,
      "outputs": []
    },
    {
      "cell_type": "code",
      "metadata": {
        "colab": {
          "base_uri": "https://localhost:8080/"
        },
        "id": "qFgjI0pmSgdd",
        "outputId": "4495b99d-b641-4fbd-ee1e-3a3c4185c878"
      },
      "source": [
        "len(df_pcl), len(df_pcl_test) "
      ],
      "execution_count": null,
      "outputs": [
        {
          "output_type": "execute_result",
          "data": {
            "text/plain": [
              "(10469, 3832)"
            ]
          },
          "metadata": {},
          "execution_count": 14
        }
      ]
    },
    {
      "cell_type": "markdown",
      "source": [
        "#Is there one null in paragraph column\n",
        "drop it. so the df_pcl length is 10468."
      ],
      "metadata": {
        "id": "ej8ib31FIyz-"
      }
    },
    {
      "cell_type": "code",
      "source": [
        "df_pcl.isnull().sum()"
      ],
      "metadata": {
        "colab": {
          "base_uri": "https://localhost:8080/"
        },
        "id": "N7Ve7wMjIv86",
        "outputId": "a346b2ec-5003-4790-9939-026c612fbadd"
      },
      "execution_count": null,
      "outputs": [
        {
          "output_type": "execute_result",
          "data": {
            "text/plain": [
              "paragraph_id    0\n",
              "keyword         0\n",
              "country_code    0\n",
              "paragraph       1\n",
              "label           0\n",
              "dtype: int64"
            ]
          },
          "metadata": {},
          "execution_count": 15
        }
      ]
    },
    {
      "cell_type": "code",
      "metadata": {
        "colab": {
          "base_uri": "https://localhost:8080/"
        },
        "id": "0woMPr4_TZUV",
        "outputId": "9b4b8d23-8d36-4d73-8b54-e9ae777c54f6"
      },
      "source": [
        "df_pcl = df_pcl.dropna().reset_index()\n",
        "df_pcl.isnull().sum()"
      ],
      "execution_count": null,
      "outputs": [
        {
          "output_type": "execute_result",
          "data": {
            "text/plain": [
              "index           0\n",
              "paragraph_id    0\n",
              "keyword         0\n",
              "country_code    0\n",
              "paragraph       0\n",
              "label           0\n",
              "dtype: int64"
            ]
          },
          "metadata": {},
          "execution_count": 16
        }
      ]
    },
    {
      "cell_type": "code",
      "source": [
        "len(df_pcl)"
      ],
      "metadata": {
        "colab": {
          "base_uri": "https://localhost:8080/"
        },
        "id": "ui4S86mKI8ns",
        "outputId": "a1238bce-522c-43bc-868f-09c8ce24730a"
      },
      "execution_count": null,
      "outputs": [
        {
          "output_type": "execute_result",
          "data": {
            "text/plain": [
              "10468"
            ]
          },
          "metadata": {},
          "execution_count": 17
        }
      ]
    },
    {
      "cell_type": "code",
      "source": [
        "df_pcl_test.isnull().sum()"
      ],
      "metadata": {
        "colab": {
          "base_uri": "https://localhost:8080/"
        },
        "id": "6xuUc0UP32i8",
        "outputId": "bb9865be-6fc0-4571-ac87-022cc77bc099"
      },
      "execution_count": null,
      "outputs": [
        {
          "output_type": "execute_result",
          "data": {
            "text/plain": [
              "index           0\n",
              "paragraph_id    0\n",
              "keyword         0\n",
              "country_code    0\n",
              "paragraph       0\n",
              "dtype: int64"
            ]
          },
          "metadata": {},
          "execution_count": 18
        }
      ]
    },
    {
      "cell_type": "code",
      "metadata": {
        "colab": {
          "base_uri": "https://localhost:8080/",
          "height": 334
        },
        "id": "apBdtyYYYioo",
        "outputId": "cfc44088-11d5-4eda-fb83-7e7f34c1c222"
      },
      "source": [
        "s1 = sns.countplot(df_pcl['label'], palette=\"Set3\");"
      ],
      "execution_count": null,
      "outputs": [
        {
          "output_type": "stream",
          "name": "stderr",
          "text": [
            "/usr/local/lib/python3.7/dist-packages/seaborn/_decorators.py:43: FutureWarning: Pass the following variable as a keyword arg: x. From version 0.12, the only valid positional argument will be `data`, and passing other arguments without an explicit keyword will result in an error or misinterpretation.\n",
            "  FutureWarning\n"
          ]
        },
        {
          "output_type": "display_data",
          "data": {
            "image/png": "[encoded data removed]",
            "text/plain": [
              "<Figure size 432x288 with 1 Axes>"
            ]
          },
          "metadata": {
            "needs_background": "light"
          }
        }
      ]
    },
    {
      "cell_type": "code",
      "source": [
        "import matplotlib.pyplot as plt\n",
        "fig = s1.get_figure()\n",
        "fig.savefig('First-Imbalance-dataset.pdf')  "
      ],
      "metadata": {
        "id": "zNDlVmprqdVb"
      },
      "execution_count": null,
      "outputs": []
    },
    {
      "cell_type": "markdown",
      "metadata": {
        "id": "s8SKtgmgSUJC"
      },
      "source": [
        "#[0,1,2,3,4] --> [0,1]\n",
        "From [the paper](https://arxiv.org/pdf/2011.08320.pdf):\n",
        "\n",
        "\n",
        "> for Task 1 we view paragraphs labelled with 0 or 1 as negative examples, and the remaining paragraphs, labelled with 2, 3 or 4, as positive examples\n",
        "\n"
      ]
    },
    {
      "cell_type": "code",
      "metadata": {
        "colab": {
          "base_uri": "https://localhost:8080/",
          "height": 423
        },
        "id": "-bZ-Ky2zsPUV",
        "outputId": "7a500a22-d0ba-4bfc-f651-2c0d976560d6"
      },
      "source": [
        "df_pcl['labels'] = 0\n",
        "df_pcl.loc[df_pcl.label.isin([2,3,4]), 'labels'] = 1 \n",
        "df_pcl.drop('index', axis=1, inplace=True)\n",
        "df_pcl"
      ],
      "execution_count": null,
      "outputs": [
        {
          "output_type": "execute_result",
          "data": {
            "text/html": [
              "\n",
              "  <div id=\"df-a6f6e33f-4f9a-4a96-b408-59baf3b11a82\">\n",
              "    <div class=\"colab-df-container\">\n",
              "      <div>\n",
              "<style scoped>\n",
              "    .dataframe tbody tr th:only-of-type {\n",
              "        vertical-align: middle;\n",
              "    }\n",
              "\n",
              "    .dataframe tbody tr th {\n",
              "        vertical-align: top;\n",
              "    }\n",
              "\n",
              "    .dataframe thead th {\n",
              "        text-align: right;\n",
              "    }\n",
              "</style>\n",
              "<table border=\"1\" class=\"dataframe\">\n",
              "  <thead>\n",
              "    <tr style=\"text-align: right;\">\n",
              "      <th></th>\n",
              "      <th>paragraph_id</th>\n",
              "      <th>keyword</th>\n",
              "      <th>country_code</th>\n",
              "      <th>paragraph</th>\n",
              "      <th>label</th>\n",
              "      <th>labels</th>\n",
              "    </tr>\n",
              "  </thead>\n",
              "  <tbody>\n",
              "    <tr>\n",
              "      <th>0</th>\n",
              "      <td>@@24942188</td>\n",
              "      <td>hopeless</td>\n",
              "      <td>ph</td>\n",
              "      <td>We 're living in times of absolute insanity , ...</td>\n",
              "      <td>0</td>\n",
              "      <td>0</td>\n",
              "    </tr>\n",
              "    <tr>\n",
              "      <th>1</th>\n",
              "      <td>@@21968160</td>\n",
              "      <td>migrant</td>\n",
              "      <td>gh</td>\n",
              "      <td>In Libya today , there are countless number of...</td>\n",
              "      <td>0</td>\n",
              "      <td>0</td>\n",
              "    </tr>\n",
              "    <tr>\n",
              "      <th>2</th>\n",
              "      <td>@@16584954</td>\n",
              "      <td>immigrant</td>\n",
              "      <td>ie</td>\n",
              "      <td>White House press secretary Sean Spicer said t...</td>\n",
              "      <td>0</td>\n",
              "      <td>0</td>\n",
              "    </tr>\n",
              "    <tr>\n",
              "      <th>3</th>\n",
              "      <td>@@7811231</td>\n",
              "      <td>disabled</td>\n",
              "      <td>nz</td>\n",
              "      <td>Council customers only signs would be displaye...</td>\n",
              "      <td>0</td>\n",
              "      <td>0</td>\n",
              "    </tr>\n",
              "    <tr>\n",
              "      <th>4</th>\n",
              "      <td>@@1494111</td>\n",
              "      <td>refugee</td>\n",
              "      <td>ca</td>\n",
              "      <td>\" Just like we received migrants fleeing El Sa...</td>\n",
              "      <td>0</td>\n",
              "      <td>0</td>\n",
              "    </tr>\n",
              "    <tr>\n",
              "      <th>...</th>\n",
              "      <td>...</td>\n",
              "      <td>...</td>\n",
              "      <td>...</td>\n",
              "      <td>...</td>\n",
              "      <td>...</td>\n",
              "      <td>...</td>\n",
              "    </tr>\n",
              "    <tr>\n",
              "      <th>10463</th>\n",
              "      <td>@@14297363</td>\n",
              "      <td>women</td>\n",
              "      <td>lk</td>\n",
              "      <td>Sri Lankan norms and culture inhibit women fro...</td>\n",
              "      <td>1</td>\n",
              "      <td>0</td>\n",
              "    </tr>\n",
              "    <tr>\n",
              "      <th>10464</th>\n",
              "      <td>@@70091353</td>\n",
              "      <td>vulnerable</td>\n",
              "      <td>ph</td>\n",
              "      <td>He added that the AFP will continue to bank on...</td>\n",
              "      <td>0</td>\n",
              "      <td>0</td>\n",
              "    </tr>\n",
              "    <tr>\n",
              "      <th>10465</th>\n",
              "      <td>@@20282330</td>\n",
              "      <td>in-need</td>\n",
              "      <td>ng</td>\n",
              "      <td>\" She has one huge platform , and information ...</td>\n",
              "      <td>3</td>\n",
              "      <td>1</td>\n",
              "    </tr>\n",
              "    <tr>\n",
              "      <th>10466</th>\n",
              "      <td>@@16753236</td>\n",
              "      <td>hopeless</td>\n",
              "      <td>in</td>\n",
              "      <td>\" Anja Ringgren Loven I ca n't find a word to ...</td>\n",
              "      <td>4</td>\n",
              "      <td>1</td>\n",
              "    </tr>\n",
              "    <tr>\n",
              "      <th>10467</th>\n",
              "      <td>@@16779383</td>\n",
              "      <td>homeless</td>\n",
              "      <td>ie</td>\n",
              "      <td>\" Guinness World Record of 540lbs of 7-layer m...</td>\n",
              "      <td>3</td>\n",
              "      <td>1</td>\n",
              "    </tr>\n",
              "  </tbody>\n",
              "</table>\n",
              "<p>10468 rows × 6 columns</p>\n",
              "</div>\n",
              "      <button class=\"colab-df-convert\" onclick=\"convertToInteractive('df-a6f6e33f-4f9a-4a96-b408-59baf3b11a82')\"\n",
              "              title=\"Convert this dataframe to an interactive table.\"\n",
              "              style=\"display:none;\">\n",
              "        \n",
              "  <svg xmlns=\"http://www.w3.org/2000/svg\" height=\"24px\"viewBox=\"0 0 24 24\"\n",
              "       width=\"24px\">\n",
              "    <path d=\"M0 0h24v24H0V0z\" fill=\"none\"/>\n",
              "    <path d=\"M18.56 5.44l.94 2.06.94-2.06 2.06-.94-2.06-.94-.94-2.06-.94 2.06-2.06.94zm-11 1L8.5 8.5l.94-2.06 2.06-.94-2.06-.94L8.5 2.5l-.94 2.06-2.06.94zm10 10l.94 2.06.94-2.06 2.06-.94-2.06-.94-.94-2.06-.94 2.06-2.06.94z\"/><path d=\"M17.41 7.96l-1.37-1.37c-.4-.4-.92-.59-1.43-.59-.52 0-1.04.2-1.43.59L10.3 9.45l-7.72 7.72c-.78.78-.78 2.05 0 2.83L4 21.41c.39.39.9.59 1.41.59.51 0 1.02-.2 1.41-.59l7.78-7.78 2.81-2.81c.8-.78.8-2.07 0-2.86zM5.41 20L4 18.59l7.72-7.72 1.47 1.35L5.41 20z\"/>\n",
              "  </svg>\n",
              "      </button>\n",
              "      \n",
              "  <style>\n",
              "    .colab-df-container {\n",
              "      display:flex;\n",
              "      flex-wrap:wrap;\n",
              "      gap: 12px;\n",
              "    }\n",
              "\n",
              "    .colab-df-convert {\n",
              "      background-color: #E8F0FE;\n",
              "      border: none;\n",
              "      border-radius: 50%;\n",
              "      cursor: pointer;\n",
              "      display: none;\n",
              "      fill: #1967D2;\n",
              "      height: 32px;\n",
              "      padding: 0 0 0 0;\n",
              "      width: 32px;\n",
              "    }\n",
              "\n",
              "    .colab-df-convert:hover {\n",
              "      background-color: #E2EBFA;\n",
              "      box-shadow: 0px 1px 2px rgba(60, 64, 67, 0.3), 0px 1px 3px 1px rgba(60, 64, 67, 0.15);\n",
              "      fill: #174EA6;\n",
              "    }\n",
              "\n",
              "    [theme=dark] .colab-df-convert {\n",
              "      background-color: #3B4455;\n",
              "      fill: #D2E3FC;\n",
              "    }\n",
              "\n",
              "    [theme=dark] .colab-df-convert:hover {\n",
              "      background-color: #434B5C;\n",
              "      box-shadow: 0px 1px 3px 1px rgba(0, 0, 0, 0.15);\n",
              "      filter: drop-shadow(0px 1px 2px rgba(0, 0, 0, 0.3));\n",
              "      fill: #FFFFFF;\n",
              "    }\n",
              "  </style>\n",
              "\n",
              "      <script>\n",
              "        const buttonEl =\n",
              "          document.querySelector('#df-a6f6e33f-4f9a-4a96-b408-59baf3b11a82 button.colab-df-convert');\n",
              "        buttonEl.style.display =\n",
              "          google.colab.kernel.accessAllowed ? 'block' : 'none';\n",
              "\n",
              "        async function convertToInteractive(key) {\n",
              "          const element = document.querySelector('#df-a6f6e33f-4f9a-4a96-b408-59baf3b11a82');\n",
              "          const dataTable =\n",
              "            await google.colab.kernel.invokeFunction('convertToInteractive',\n",
              "                                                     [key], {});\n",
              "          if (!dataTable) return;\n",
              "\n",
              "          const docLinkHtml = 'Like what you see? Visit the ' +\n",
              "            '<a target=\"_blank\" href=https://colab.research.google.com/notebooks/data_table.ipynb>data table notebook</a>'\n",
              "            + ' to learn more about interactive tables.';\n",
              "          element.innerHTML = '';\n",
              "          dataTable['output_type'] = 'display_data';\n",
              "          await google.colab.output.renderOutput(dataTable, element);\n",
              "          const docLink = document.createElement('div');\n",
              "          docLink.innerHTML = docLinkHtml;\n",
              "          element.appendChild(docLink);\n",
              "        }\n",
              "      </script>\n",
              "    </div>\n",
              "  </div>\n",
              "  "
            ],
            "text/plain": [
              "      paragraph_id     keyword  ... label labels\n",
              "0       @@24942188    hopeless  ...     0      0\n",
              "1       @@21968160     migrant  ...     0      0\n",
              "2       @@16584954   immigrant  ...     0      0\n",
              "3        @@7811231    disabled  ...     0      0\n",
              "4        @@1494111     refugee  ...     0      0\n",
              "...            ...         ...  ...   ...    ...\n",
              "10463   @@14297363       women  ...     1      0\n",
              "10464   @@70091353  vulnerable  ...     0      0\n",
              "10465   @@20282330     in-need  ...     3      1\n",
              "10466   @@16753236    hopeless  ...     4      1\n",
              "10467   @@16779383    homeless  ...     3      1\n",
              "\n",
              "[10468 rows x 6 columns]"
            ]
          },
          "metadata": {},
          "execution_count": 21
        }
      ]
    },
    {
      "cell_type": "code",
      "source": [
        "s2 = sns.countplot(df_pcl['labels'], palette=\"Set3\");"
      ],
      "metadata": {
        "colab": {
          "base_uri": "https://localhost:8080/",
          "height": 334
        },
        "id": "b9sLSww6tbdX",
        "outputId": "0ac44899-bfcf-4bb7-e589-18aa200411ee"
      },
      "execution_count": null,
      "outputs": [
        {
          "output_type": "stream",
          "name": "stderr",
          "text": [
            "/usr/local/lib/python3.7/dist-packages/seaborn/_decorators.py:43: FutureWarning: Pass the following variable as a keyword arg: x. From version 0.12, the only valid positional argument will be `data`, and passing other arguments without an explicit keyword will result in an error or misinterpretation.\n",
            "  FutureWarning\n"
          ]
        },
        {
          "output_type": "display_data",
          "data": {
            "image/png": "[encoded data removed]",
            "text/plain": [
              "<Figure size 432x288 with 1 Axes>"
            ]
          },
          "metadata": {
            "needs_background": "light"
          }
        }
      ]
    },
    {
      "cell_type": "code",
      "source": [
        "import matplotlib.pyplot as plt\n",
        "fig = s2.get_figure()\n",
        "fig.savefig('Combined-labels-Imbalance-dataset.pdf')  "
      ],
      "metadata": {
        "id": "L7hnouhctggm"
      },
      "execution_count": null,
      "outputs": []
    },
    {
      "cell_type": "code",
      "metadata": {
        "colab": {
          "base_uri": "https://localhost:8080/"
        },
        "id": "burLZI7wuOUl",
        "outputId": "e4b556d5-e096-4aaa-a793-3cafc0a41790"
      },
      "source": [
        "df_pcl['labels'].sum()/len(df_pcl)    #number of data with lable 1 -->993 and 10468-993=9475 label 0\n",
        "\n",
        "#df_pcl['paragraph'] = [df_pcl['paragraph'][i].replace('<h>', '') for i in range(10468)] makes it worse"
      ],
      "execution_count": null,
      "outputs": [
        {
          "output_type": "execute_result",
          "data": {
            "text/plain": [
              "0.09486052732136034"
            ]
          },
          "metadata": {},
          "execution_count": 24
        }
      ]
    },
    {
      "cell_type": "markdown",
      "metadata": {
        "id": "4803fNK5YywX"
      },
      "source": [
        "# Training using Huggingface API"
      ]
    },
    {
      "cell_type": "markdown",
      "source": [
        "##Combined Features for Training set"
      ],
      "metadata": {
        "id": "AR4lEMh588WI"
      }
    },
    {
      "cell_type": "code",
      "metadata": {
        "colab": {
          "base_uri": "https://localhost:8080/",
          "height": 363
        },
        "id": "lDc6dqwFh_iD",
        "outputId": "0e658f54-b1cc-4be9-b950-95b0ab20720a"
      },
      "source": [
        "def combine_features(row) :\n",
        "  return '</s>'.join(row.drop(['labels','label'],axis=0).apply(str).values)\n",
        "df_pcl['combined_features'] = df_pcl.apply(combine_features, axis = 1)\n",
        "# df_pcl = df_pcl[['combined_features','labels']]\n",
        "df_pcl.head(10)"
      ],
      "execution_count": null,
      "outputs": [
        {
          "output_type": "execute_result",
          "data": {
            "text/html": [
              "\n",
              "  <div id=\"df-945dd40c-4221-433d-a702-bc73f0ec4596\">\n",
              "    <div class=\"colab-df-container\">\n",
              "      <div>\n",
              "<style scoped>\n",
              "    .dataframe tbody tr th:only-of-type {\n",
              "        vertical-align: middle;\n",
              "    }\n",
              "\n",
              "    .dataframe tbody tr th {\n",
              "        vertical-align: top;\n",
              "    }\n",
              "\n",
              "    .dataframe thead th {\n",
              "        text-align: right;\n",
              "    }\n",
              "</style>\n",
              "<table border=\"1\" class=\"dataframe\">\n",
              "  <thead>\n",
              "    <tr style=\"text-align: right;\">\n",
              "      <th></th>\n",
              "      <th>paragraph_id</th>\n",
              "      <th>keyword</th>\n",
              "      <th>country_code</th>\n",
              "      <th>paragraph</th>\n",
              "      <th>label</th>\n",
              "      <th>labels</th>\n",
              "      <th>combined_features</th>\n",
              "    </tr>\n",
              "  </thead>\n",
              "  <tbody>\n",
              "    <tr>\n",
              "      <th>0</th>\n",
              "      <td>@@24942188</td>\n",
              "      <td>hopeless</td>\n",
              "      <td>ph</td>\n",
              "      <td>We 're living in times of absolute insanity , ...</td>\n",
              "      <td>0</td>\n",
              "      <td>0</td>\n",
              "      <td>@@24942188&lt;/s&gt;hopeless&lt;/s&gt;ph&lt;/s&gt;We 're living ...</td>\n",
              "    </tr>\n",
              "    <tr>\n",
              "      <th>1</th>\n",
              "      <td>@@21968160</td>\n",
              "      <td>migrant</td>\n",
              "      <td>gh</td>\n",
              "      <td>In Libya today , there are countless number of...</td>\n",
              "      <td>0</td>\n",
              "      <td>0</td>\n",
              "      <td>@@21968160&lt;/s&gt;migrant&lt;/s&gt;gh&lt;/s&gt;In Libya today ...</td>\n",
              "    </tr>\n",
              "    <tr>\n",
              "      <th>2</th>\n",
              "      <td>@@16584954</td>\n",
              "      <td>immigrant</td>\n",
              "      <td>ie</td>\n",
              "      <td>White House press secretary Sean Spicer said t...</td>\n",
              "      <td>0</td>\n",
              "      <td>0</td>\n",
              "      <td>@@16584954&lt;/s&gt;immigrant&lt;/s&gt;ie&lt;/s&gt;White House p...</td>\n",
              "    </tr>\n",
              "    <tr>\n",
              "      <th>3</th>\n",
              "      <td>@@7811231</td>\n",
              "      <td>disabled</td>\n",
              "      <td>nz</td>\n",
              "      <td>Council customers only signs would be displaye...</td>\n",
              "      <td>0</td>\n",
              "      <td>0</td>\n",
              "      <td>@@7811231&lt;/s&gt;disabled&lt;/s&gt;nz&lt;/s&gt;Council custome...</td>\n",
              "    </tr>\n",
              "    <tr>\n",
              "      <th>4</th>\n",
              "      <td>@@1494111</td>\n",
              "      <td>refugee</td>\n",
              "      <td>ca</td>\n",
              "      <td>\" Just like we received migrants fleeing El Sa...</td>\n",
              "      <td>0</td>\n",
              "      <td>0</td>\n",
              "      <td>@@1494111&lt;/s&gt;refugee&lt;/s&gt;ca&lt;/s&gt;\" Just like we r...</td>\n",
              "    </tr>\n",
              "    <tr>\n",
              "      <th>5</th>\n",
              "      <td>@@9382277</td>\n",
              "      <td>in-need</td>\n",
              "      <td>in</td>\n",
              "      <td>To bring down high blood sugar levels , insuli...</td>\n",
              "      <td>0</td>\n",
              "      <td>0</td>\n",
              "      <td>@@9382277&lt;/s&gt;in-need&lt;/s&gt;in&lt;/s&gt;To bring down hi...</td>\n",
              "    </tr>\n",
              "    <tr>\n",
              "      <th>6</th>\n",
              "      <td>@@7562079</td>\n",
              "      <td>refugee</td>\n",
              "      <td>za</td>\n",
              "      <td>The European Union is making an historic mista...</td>\n",
              "      <td>0</td>\n",
              "      <td>0</td>\n",
              "      <td>@@7562079&lt;/s&gt;refugee&lt;/s&gt;za&lt;/s&gt;The European Uni...</td>\n",
              "    </tr>\n",
              "    <tr>\n",
              "      <th>7</th>\n",
              "      <td>@@23663488</td>\n",
              "      <td>hopeless</td>\n",
              "      <td>nz</td>\n",
              "      <td>\" They 're either hopeless for being beaten by...</td>\n",
              "      <td>0</td>\n",
              "      <td>0</td>\n",
              "      <td>@@23663488&lt;/s&gt;hopeless&lt;/s&gt;nz&lt;/s&gt;\" They 're eit...</td>\n",
              "    </tr>\n",
              "    <tr>\n",
              "      <th>8</th>\n",
              "      <td>@@3449225</td>\n",
              "      <td>homeless</td>\n",
              "      <td>ph</td>\n",
              "      <td>NUEVA ERA , Ilocos Norte - No family shall be ...</td>\n",
              "      <td>1</td>\n",
              "      <td>0</td>\n",
              "      <td>@@3449225&lt;/s&gt;homeless&lt;/s&gt;ph&lt;/s&gt;NUEVA ERA , Ilo...</td>\n",
              "    </tr>\n",
              "    <tr>\n",
              "      <th>9</th>\n",
              "      <td>@@2485090</td>\n",
              "      <td>in-need</td>\n",
              "      <td>nz</td>\n",
              "      <td>His spokesman said the Kremlin needed more inf...</td>\n",
              "      <td>0</td>\n",
              "      <td>0</td>\n",
              "      <td>@@2485090&lt;/s&gt;in-need&lt;/s&gt;nz&lt;/s&gt;His spokesman sa...</td>\n",
              "    </tr>\n",
              "  </tbody>\n",
              "</table>\n",
              "</div>\n",
              "      <button class=\"colab-df-convert\" onclick=\"convertToInteractive('df-945dd40c-4221-433d-a702-bc73f0ec4596')\"\n",
              "              title=\"Convert this dataframe to an interactive table.\"\n",
              "              style=\"display:none;\">\n",
              "        \n",
              "  <svg xmlns=\"http://www.w3.org/2000/svg\" height=\"24px\"viewBox=\"0 0 24 24\"\n",
              "       width=\"24px\">\n",
              "    <path d=\"M0 0h24v24H0V0z\" fill=\"none\"/>\n",
              "    <path d=\"M18.56 5.44l.94 2.06.94-2.06 2.06-.94-2.06-.94-.94-2.06-.94 2.06-2.06.94zm-11 1L8.5 8.5l.94-2.06 2.06-.94-2.06-.94L8.5 2.5l-.94 2.06-2.06.94zm10 10l.94 2.06.94-2.06 2.06-.94-2.06-.94-.94-2.06-.94 2.06-2.06.94z\"/><path d=\"M17.41 7.96l-1.37-1.37c-.4-.4-.92-.59-1.43-.59-.52 0-1.04.2-1.43.59L10.3 9.45l-7.72 7.72c-.78.78-.78 2.05 0 2.83L4 21.41c.39.39.9.59 1.41.59.51 0 1.02-.2 1.41-.59l7.78-7.78 2.81-2.81c.8-.78.8-2.07 0-2.86zM5.41 20L4 18.59l7.72-7.72 1.47 1.35L5.41 20z\"/>\n",
              "  </svg>\n",
              "      </button>\n",
              "      \n",
              "  <style>\n",
              "    .colab-df-container {\n",
              "      display:flex;\n",
              "      flex-wrap:wrap;\n",
              "      gap: 12px;\n",
              "    }\n",
              "\n",
              "    .colab-df-convert {\n",
              "      background-color: #E8F0FE;\n",
              "      border: none;\n",
              "      border-radius: 50%;\n",
              "      cursor: pointer;\n",
              "      display: none;\n",
              "      fill: #1967D2;\n",
              "      height: 32px;\n",
              "      padding: 0 0 0 0;\n",
              "      width: 32px;\n",
              "    }\n",
              "\n",
              "    .colab-df-convert:hover {\n",
              "      background-color: #E2EBFA;\n",
              "      box-shadow: 0px 1px 2px rgba(60, 64, 67, 0.3), 0px 1px 3px 1px rgba(60, 64, 67, 0.15);\n",
              "      fill: #174EA6;\n",
              "    }\n",
              "\n",
              "    [theme=dark] .colab-df-convert {\n",
              "      background-color: #3B4455;\n",
              "      fill: #D2E3FC;\n",
              "    }\n",
              "\n",
              "    [theme=dark] .colab-df-convert:hover {\n",
              "      background-color: #434B5C;\n",
              "      box-shadow: 0px 1px 3px 1px rgba(0, 0, 0, 0.15);\n",
              "      filter: drop-shadow(0px 1px 2px rgba(0, 0, 0, 0.3));\n",
              "      fill: #FFFFFF;\n",
              "    }\n",
              "  </style>\n",
              "\n",
              "      <script>\n",
              "        const buttonEl =\n",
              "          document.querySelector('#df-945dd40c-4221-433d-a702-bc73f0ec4596 button.colab-df-convert');\n",
              "        buttonEl.style.display =\n",
              "          google.colab.kernel.accessAllowed ? 'block' : 'none';\n",
              "\n",
              "        async function convertToInteractive(key) {\n",
              "          const element = document.querySelector('#df-945dd40c-4221-433d-a702-bc73f0ec4596');\n",
              "          const dataTable =\n",
              "            await google.colab.kernel.invokeFunction('convertToInteractive',\n",
              "                                                     [key], {});\n",
              "          if (!dataTable) return;\n",
              "\n",
              "          const docLinkHtml = 'Like what you see? Visit the ' +\n",
              "            '<a target=\"_blank\" href=https://colab.research.google.com/notebooks/data_table.ipynb>data table notebook</a>'\n",
              "            + ' to learn more about interactive tables.';\n",
              "          element.innerHTML = '';\n",
              "          dataTable['output_type'] = 'display_data';\n",
              "          await google.colab.output.renderOutput(dataTable, element);\n",
              "          const docLink = document.createElement('div');\n",
              "          docLink.innerHTML = docLinkHtml;\n",
              "          element.appendChild(docLink);\n",
              "        }\n",
              "      </script>\n",
              "    </div>\n",
              "  </div>\n",
              "  "
            ],
            "text/plain": [
              "  paragraph_id  ...                                  combined_features\n",
              "0   @@24942188  ...  @@24942188</s>hopeless</s>ph</s>We 're living ...\n",
              "1   @@21968160  ...  @@21968160</s>migrant</s>gh</s>In Libya today ...\n",
              "2   @@16584954  ...  @@16584954</s>immigrant</s>ie</s>White House p...\n",
              "3    @@7811231  ...  @@7811231</s>disabled</s>nz</s>Council custome...\n",
              "4    @@1494111  ...  @@1494111</s>refugee</s>ca</s>\" Just like we r...\n",
              "5    @@9382277  ...  @@9382277</s>in-need</s>in</s>To bring down hi...\n",
              "6    @@7562079  ...  @@7562079</s>refugee</s>za</s>The European Uni...\n",
              "7   @@23663488  ...  @@23663488</s>hopeless</s>nz</s>\" They 're eit...\n",
              "8    @@3449225  ...  @@3449225</s>homeless</s>ph</s>NUEVA ERA , Ilo...\n",
              "9    @@2485090  ...  @@2485090</s>in-need</s>nz</s>His spokesman sa...\n",
              "\n",
              "[10 rows x 7 columns]"
            ]
          },
          "metadata": {},
          "execution_count": 25
        }
      ]
    },
    {
      "cell_type": "code",
      "source": [
        "len(df_pcl)"
      ],
      "metadata": {
        "colab": {
          "base_uri": "https://localhost:8080/"
        },
        "id": "_SONTrq6Raop",
        "outputId": "685a414f-166e-4e72-9d75-6e49164e4f1e"
      },
      "execution_count": null,
      "outputs": [
        {
          "output_type": "execute_result",
          "data": {
            "text/plain": [
              "10468"
            ]
          },
          "metadata": {},
          "execution_count": 26
        }
      ]
    },
    {
      "cell_type": "code",
      "source": [
        "df_pcl_train = df_pcl\n",
        "df_pcl_train"
      ],
      "metadata": {
        "colab": {
          "base_uri": "https://localhost:8080/",
          "height": 423
        },
        "id": "T0QFV6R8SHtQ",
        "outputId": "bc516532-29fa-4500-d1e0-ce303c27fad9"
      },
      "execution_count": null,
      "outputs": [
        {
          "output_type": "execute_result",
          "data": {
            "text/html": [
              "\n",
              "  <div id=\"df-c6a57e36-09c1-442b-a703-b5d9456cc212\">\n",
              "    <div class=\"colab-df-container\">\n",
              "      <div>\n",
              "<style scoped>\n",
              "    .dataframe tbody tr th:only-of-type {\n",
              "        vertical-align: middle;\n",
              "    }\n",
              "\n",
              "    .dataframe tbody tr th {\n",
              "        vertical-align: top;\n",
              "    }\n",
              "\n",
              "    .dataframe thead th {\n",
              "        text-align: right;\n",
              "    }\n",
              "</style>\n",
              "<table border=\"1\" class=\"dataframe\">\n",
              "  <thead>\n",
              "    <tr style=\"text-align: right;\">\n",
              "      <th></th>\n",
              "      <th>paragraph_id</th>\n",
              "      <th>keyword</th>\n",
              "      <th>country_code</th>\n",
              "      <th>paragraph</th>\n",
              "      <th>label</th>\n",
              "      <th>labels</th>\n",
              "      <th>combined_features</th>\n",
              "    </tr>\n",
              "  </thead>\n",
              "  <tbody>\n",
              "    <tr>\n",
              "      <th>0</th>\n",
              "      <td>@@24942188</td>\n",
              "      <td>hopeless</td>\n",
              "      <td>ph</td>\n",
              "      <td>We 're living in times of absolute insanity , ...</td>\n",
              "      <td>0</td>\n",
              "      <td>0</td>\n",
              "      <td>@@24942188&lt;/s&gt;hopeless&lt;/s&gt;ph&lt;/s&gt;We 're living ...</td>\n",
              "    </tr>\n",
              "    <tr>\n",
              "      <th>1</th>\n",
              "      <td>@@21968160</td>\n",
              "      <td>migrant</td>\n",
              "      <td>gh</td>\n",
              "      <td>In Libya today , there are countless number of...</td>\n",
              "      <td>0</td>\n",
              "      <td>0</td>\n",
              "      <td>@@21968160&lt;/s&gt;migrant&lt;/s&gt;gh&lt;/s&gt;In Libya today ...</td>\n",
              "    </tr>\n",
              "    <tr>\n",
              "      <th>2</th>\n",
              "      <td>@@16584954</td>\n",
              "      <td>immigrant</td>\n",
              "      <td>ie</td>\n",
              "      <td>White House press secretary Sean Spicer said t...</td>\n",
              "      <td>0</td>\n",
              "      <td>0</td>\n",
              "      <td>@@16584954&lt;/s&gt;immigrant&lt;/s&gt;ie&lt;/s&gt;White House p...</td>\n",
              "    </tr>\n",
              "    <tr>\n",
              "      <th>3</th>\n",
              "      <td>@@7811231</td>\n",
              "      <td>disabled</td>\n",
              "      <td>nz</td>\n",
              "      <td>Council customers only signs would be displaye...</td>\n",
              "      <td>0</td>\n",
              "      <td>0</td>\n",
              "      <td>@@7811231&lt;/s&gt;disabled&lt;/s&gt;nz&lt;/s&gt;Council custome...</td>\n",
              "    </tr>\n",
              "    <tr>\n",
              "      <th>4</th>\n",
              "      <td>@@1494111</td>\n",
              "      <td>refugee</td>\n",
              "      <td>ca</td>\n",
              "      <td>\" Just like we received migrants fleeing El Sa...</td>\n",
              "      <td>0</td>\n",
              "      <td>0</td>\n",
              "      <td>@@1494111&lt;/s&gt;refugee&lt;/s&gt;ca&lt;/s&gt;\" Just like we r...</td>\n",
              "    </tr>\n",
              "    <tr>\n",
              "      <th>...</th>\n",
              "      <td>...</td>\n",
              "      <td>...</td>\n",
              "      <td>...</td>\n",
              "      <td>...</td>\n",
              "      <td>...</td>\n",
              "      <td>...</td>\n",
              "      <td>...</td>\n",
              "    </tr>\n",
              "    <tr>\n",
              "      <th>10463</th>\n",
              "      <td>@@14297363</td>\n",
              "      <td>women</td>\n",
              "      <td>lk</td>\n",
              "      <td>Sri Lankan norms and culture inhibit women fro...</td>\n",
              "      <td>1</td>\n",
              "      <td>0</td>\n",
              "      <td>@@14297363&lt;/s&gt;women&lt;/s&gt;lk&lt;/s&gt;Sri Lankan norms ...</td>\n",
              "    </tr>\n",
              "    <tr>\n",
              "      <th>10464</th>\n",
              "      <td>@@70091353</td>\n",
              "      <td>vulnerable</td>\n",
              "      <td>ph</td>\n",
              "      <td>He added that the AFP will continue to bank on...</td>\n",
              "      <td>0</td>\n",
              "      <td>0</td>\n",
              "      <td>@@70091353&lt;/s&gt;vulnerable&lt;/s&gt;ph&lt;/s&gt;He added tha...</td>\n",
              "    </tr>\n",
              "    <tr>\n",
              "      <th>10465</th>\n",
              "      <td>@@20282330</td>\n",
              "      <td>in-need</td>\n",
              "      <td>ng</td>\n",
              "      <td>\" She has one huge platform , and information ...</td>\n",
              "      <td>3</td>\n",
              "      <td>1</td>\n",
              "      <td>@@20282330&lt;/s&gt;in-need&lt;/s&gt;ng&lt;/s&gt;\" She has one h...</td>\n",
              "    </tr>\n",
              "    <tr>\n",
              "      <th>10466</th>\n",
              "      <td>@@16753236</td>\n",
              "      <td>hopeless</td>\n",
              "      <td>in</td>\n",
              "      <td>\" Anja Ringgren Loven I ca n't find a word to ...</td>\n",
              "      <td>4</td>\n",
              "      <td>1</td>\n",
              "      <td>@@16753236&lt;/s&gt;hopeless&lt;/s&gt;in&lt;/s&gt;\" Anja Ringgre...</td>\n",
              "    </tr>\n",
              "    <tr>\n",
              "      <th>10467</th>\n",
              "      <td>@@16779383</td>\n",
              "      <td>homeless</td>\n",
              "      <td>ie</td>\n",
              "      <td>\" Guinness World Record of 540lbs of 7-layer m...</td>\n",
              "      <td>3</td>\n",
              "      <td>1</td>\n",
              "      <td>@@16779383&lt;/s&gt;homeless&lt;/s&gt;ie&lt;/s&gt;\" Guinness Wor...</td>\n",
              "    </tr>\n",
              "  </tbody>\n",
              "</table>\n",
              "<p>10468 rows × 7 columns</p>\n",
              "</div>\n",
              "      <button class=\"colab-df-convert\" onclick=\"convertToInteractive('df-c6a57e36-09c1-442b-a703-b5d9456cc212')\"\n",
              "              title=\"Convert this dataframe to an interactive table.\"\n",
              "              style=\"display:none;\">\n",
              "        \n",
              "  <svg xmlns=\"http://www.w3.org/2000/svg\" height=\"24px\"viewBox=\"0 0 24 24\"\n",
              "       width=\"24px\">\n",
              "    <path d=\"M0 0h24v24H0V0z\" fill=\"none\"/>\n",
              "    <path d=\"M18.56 5.44l.94 2.06.94-2.06 2.06-.94-2.06-.94-.94-2.06-.94 2.06-2.06.94zm-11 1L8.5 8.5l.94-2.06 2.06-.94-2.06-.94L8.5 2.5l-.94 2.06-2.06.94zm10 10l.94 2.06.94-2.06 2.06-.94-2.06-.94-.94-2.06-.94 2.06-2.06.94z\"/><path d=\"M17.41 7.96l-1.37-1.37c-.4-.4-.92-.59-1.43-.59-.52 0-1.04.2-1.43.59L10.3 9.45l-7.72 7.72c-.78.78-.78 2.05 0 2.83L4 21.41c.39.39.9.59 1.41.59.51 0 1.02-.2 1.41-.59l7.78-7.78 2.81-2.81c.8-.78.8-2.07 0-2.86zM5.41 20L4 18.59l7.72-7.72 1.47 1.35L5.41 20z\"/>\n",
              "  </svg>\n",
              "      </button>\n",
              "      \n",
              "  <style>\n",
              "    .colab-df-container {\n",
              "      display:flex;\n",
              "      flex-wrap:wrap;\n",
              "      gap: 12px;\n",
              "    }\n",
              "\n",
              "    .colab-df-convert {\n",
              "      background-color: #E8F0FE;\n",
              "      border: none;\n",
              "      border-radius: 50%;\n",
              "      cursor: pointer;\n",
              "      display: none;\n",
              "      fill: #1967D2;\n",
              "      height: 32px;\n",
              "      padding: 0 0 0 0;\n",
              "      width: 32px;\n",
              "    }\n",
              "\n",
              "    .colab-df-convert:hover {\n",
              "      background-color: #E2EBFA;\n",
              "      box-shadow: 0px 1px 2px rgba(60, 64, 67, 0.3), 0px 1px 3px 1px rgba(60, 64, 67, 0.15);\n",
              "      fill: #174EA6;\n",
              "    }\n",
              "\n",
              "    [theme=dark] .colab-df-convert {\n",
              "      background-color: #3B4455;\n",
              "      fill: #D2E3FC;\n",
              "    }\n",
              "\n",
              "    [theme=dark] .colab-df-convert:hover {\n",
              "      background-color: #434B5C;\n",
              "      box-shadow: 0px 1px 3px 1px rgba(0, 0, 0, 0.15);\n",
              "      filter: drop-shadow(0px 1px 2px rgba(0, 0, 0, 0.3));\n",
              "      fill: #FFFFFF;\n",
              "    }\n",
              "  </style>\n",
              "\n",
              "      <script>\n",
              "        const buttonEl =\n",
              "          document.querySelector('#df-c6a57e36-09c1-442b-a703-b5d9456cc212 button.colab-df-convert');\n",
              "        buttonEl.style.display =\n",
              "          google.colab.kernel.accessAllowed ? 'block' : 'none';\n",
              "\n",
              "        async function convertToInteractive(key) {\n",
              "          const element = document.querySelector('#df-c6a57e36-09c1-442b-a703-b5d9456cc212');\n",
              "          const dataTable =\n",
              "            await google.colab.kernel.invokeFunction('convertToInteractive',\n",
              "                                                     [key], {});\n",
              "          if (!dataTable) return;\n",
              "\n",
              "          const docLinkHtml = 'Like what you see? Visit the ' +\n",
              "            '<a target=\"_blank\" href=https://colab.research.google.com/notebooks/data_table.ipynb>data table notebook</a>'\n",
              "            + ' to learn more about interactive tables.';\n",
              "          element.innerHTML = '';\n",
              "          dataTable['output_type'] = 'display_data';\n",
              "          await google.colab.output.renderOutput(dataTable, element);\n",
              "          const docLink = document.createElement('div');\n",
              "          docLink.innerHTML = docLinkHtml;\n",
              "          element.appendChild(docLink);\n",
              "        }\n",
              "      </script>\n",
              "    </div>\n",
              "  </div>\n",
              "  "
            ],
            "text/plain": [
              "      paragraph_id  ...                                  combined_features\n",
              "0       @@24942188  ...  @@24942188</s>hopeless</s>ph</s>We 're living ...\n",
              "1       @@21968160  ...  @@21968160</s>migrant</s>gh</s>In Libya today ...\n",
              "2       @@16584954  ...  @@16584954</s>immigrant</s>ie</s>White House p...\n",
              "3        @@7811231  ...  @@7811231</s>disabled</s>nz</s>Council custome...\n",
              "4        @@1494111  ...  @@1494111</s>refugee</s>ca</s>\" Just like we r...\n",
              "...            ...  ...                                                ...\n",
              "10463   @@14297363  ...  @@14297363</s>women</s>lk</s>Sri Lankan norms ...\n",
              "10464   @@70091353  ...  @@70091353</s>vulnerable</s>ph</s>He added tha...\n",
              "10465   @@20282330  ...  @@20282330</s>in-need</s>ng</s>\" She has one h...\n",
              "10466   @@16753236  ...  @@16753236</s>hopeless</s>in</s>\" Anja Ringgre...\n",
              "10467   @@16779383  ...  @@16779383</s>homeless</s>ie</s>\" Guinness Wor...\n",
              "\n",
              "[10468 rows x 7 columns]"
            ]
          },
          "metadata": {},
          "execution_count": 27
        }
      ]
    },
    {
      "cell_type": "markdown",
      "source": [
        "##Combined features for test set"
      ],
      "metadata": {
        "id": "4ipxhUtw85_H"
      }
    },
    {
      "cell_type": "code",
      "source": [
        "def combine_features(row) :\n",
        "  return '</s>'.join(row.drop(['index'],axis=0).apply(str).values)\n",
        "df_pcl_test['combined_features'] = df_pcl_test.apply(combine_features, axis = 1)\n",
        "df_pcl_test.head(10)"
      ],
      "metadata": {
        "colab": {
          "base_uri": "https://localhost:8080/",
          "height": 363
        },
        "id": "vmLUu0Ue85LI",
        "outputId": "6454c034-8fb0-43f3-fee3-dc63dab94030"
      },
      "execution_count": null,
      "outputs": [
        {
          "output_type": "execute_result",
          "data": {
            "text/html": [
              "\n",
              "  <div id=\"df-a68462a2-7efd-4bd0-9f07-e67c165a7af9\">\n",
              "    <div class=\"colab-df-container\">\n",
              "      <div>\n",
              "<style scoped>\n",
              "    .dataframe tbody tr th:only-of-type {\n",
              "        vertical-align: middle;\n",
              "    }\n",
              "\n",
              "    .dataframe tbody tr th {\n",
              "        vertical-align: top;\n",
              "    }\n",
              "\n",
              "    .dataframe thead th {\n",
              "        text-align: right;\n",
              "    }\n",
              "</style>\n",
              "<table border=\"1\" class=\"dataframe\">\n",
              "  <thead>\n",
              "    <tr style=\"text-align: right;\">\n",
              "      <th></th>\n",
              "      <th>index</th>\n",
              "      <th>paragraph_id</th>\n",
              "      <th>keyword</th>\n",
              "      <th>country_code</th>\n",
              "      <th>paragraph</th>\n",
              "      <th>combined_features</th>\n",
              "    </tr>\n",
              "  </thead>\n",
              "  <tbody>\n",
              "    <tr>\n",
              "      <th>0</th>\n",
              "      <td>t_0</td>\n",
              "      <td>@@7258997</td>\n",
              "      <td>vulnerable</td>\n",
              "      <td>us</td>\n",
              "      <td>In the meantime , conservatives are working to...</td>\n",
              "      <td>@@7258997&lt;/s&gt;vulnerable&lt;/s&gt;us&lt;/s&gt;In the meanti...</td>\n",
              "    </tr>\n",
              "    <tr>\n",
              "      <th>1</th>\n",
              "      <td>t_1</td>\n",
              "      <td>@@16397324</td>\n",
              "      <td>women</td>\n",
              "      <td>pk</td>\n",
              "      <td>In most poor households with no education chil...</td>\n",
              "      <td>@@16397324&lt;/s&gt;women&lt;/s&gt;pk&lt;/s&gt;In most poor hous...</td>\n",
              "    </tr>\n",
              "    <tr>\n",
              "      <th>2</th>\n",
              "      <td>t_2</td>\n",
              "      <td>@@16257812</td>\n",
              "      <td>migrant</td>\n",
              "      <td>ca</td>\n",
              "      <td>The real question is not whether immigration i...</td>\n",
              "      <td>@@16257812&lt;/s&gt;migrant&lt;/s&gt;ca&lt;/s&gt;The real questi...</td>\n",
              "    </tr>\n",
              "    <tr>\n",
              "      <th>3</th>\n",
              "      <td>t_3</td>\n",
              "      <td>@@3509652</td>\n",
              "      <td>migrant</td>\n",
              "      <td>gb</td>\n",
              "      <td>In total , the country 's immigrant population...</td>\n",
              "      <td>@@3509652&lt;/s&gt;migrant&lt;/s&gt;gb&lt;/s&gt;In total , the c...</td>\n",
              "    </tr>\n",
              "    <tr>\n",
              "      <th>4</th>\n",
              "      <td>t_4</td>\n",
              "      <td>@@477506</td>\n",
              "      <td>vulnerable</td>\n",
              "      <td>ca</td>\n",
              "      <td>Members of the church , which is part of Ken C...</td>\n",
              "      <td>@@477506&lt;/s&gt;vulnerable&lt;/s&gt;ca&lt;/s&gt;Members of the...</td>\n",
              "    </tr>\n",
              "    <tr>\n",
              "      <th>5</th>\n",
              "      <td>t_5</td>\n",
              "      <td>@@1797863</td>\n",
              "      <td>women</td>\n",
              "      <td>tz</td>\n",
              "      <td>To ensure that \" Priority Agriculture Programm...</td>\n",
              "      <td>@@1797863&lt;/s&gt;women&lt;/s&gt;tz&lt;/s&gt;To ensure that \" P...</td>\n",
              "    </tr>\n",
              "    <tr>\n",
              "      <th>6</th>\n",
              "      <td>t_6</td>\n",
              "      <td>@@17227791</td>\n",
              "      <td>immigrant</td>\n",
              "      <td>us</td>\n",
              "      <td>The deportees stepped off their flight from El...</td>\n",
              "      <td>@@17227791&lt;/s&gt;immigrant&lt;/s&gt;us&lt;/s&gt;The deportees...</td>\n",
              "    </tr>\n",
              "    <tr>\n",
              "      <th>7</th>\n",
              "      <td>t_7</td>\n",
              "      <td>@@8213205</td>\n",
              "      <td>disabled</td>\n",
              "      <td>pk</td>\n",
              "      <td>PIMS staffer who raped disabled girl at ICU wa...</td>\n",
              "      <td>@@8213205&lt;/s&gt;disabled&lt;/s&gt;pk&lt;/s&gt;PIMS staffer wh...</td>\n",
              "    </tr>\n",
              "    <tr>\n",
              "      <th>8</th>\n",
              "      <td>t_9</td>\n",
              "      <td>@@1750742</td>\n",
              "      <td>vulnerable</td>\n",
              "      <td>lk</td>\n",
              "      <td>I conclude , Yes , the general FEELING generat...</td>\n",
              "      <td>@@1750742&lt;/s&gt;vulnerable&lt;/s&gt;lk&lt;/s&gt;I conclude , ...</td>\n",
              "    </tr>\n",
              "    <tr>\n",
              "      <th>9</th>\n",
              "      <td>t_10</td>\n",
              "      <td>@@21002471</td>\n",
              "      <td>women</td>\n",
              "      <td>ke</td>\n",
              "      <td>After enduring discrimination in the all-male ...</td>\n",
              "      <td>@@21002471&lt;/s&gt;women&lt;/s&gt;ke&lt;/s&gt;After enduring di...</td>\n",
              "    </tr>\n",
              "  </tbody>\n",
              "</table>\n",
              "</div>\n",
              "      <button class=\"colab-df-convert\" onclick=\"convertToInteractive('df-a68462a2-7efd-4bd0-9f07-e67c165a7af9')\"\n",
              "              title=\"Convert this dataframe to an interactive table.\"\n",
              "              style=\"display:none;\">\n",
              "        \n",
              "  <svg xmlns=\"http://www.w3.org/2000/svg\" height=\"24px\"viewBox=\"0 0 24 24\"\n",
              "       width=\"24px\">\n",
              "    <path d=\"M0 0h24v24H0V0z\" fill=\"none\"/>\n",
              "    <path d=\"M18.56 5.44l.94 2.06.94-2.06 2.06-.94-2.06-.94-.94-2.06-.94 2.06-2.06.94zm-11 1L8.5 8.5l.94-2.06 2.06-.94-2.06-.94L8.5 2.5l-.94 2.06-2.06.94zm10 10l.94 2.06.94-2.06 2.06-.94-2.06-.94-.94-2.06-.94 2.06-2.06.94z\"/><path d=\"M17.41 7.96l-1.37-1.37c-.4-.4-.92-.59-1.43-.59-.52 0-1.04.2-1.43.59L10.3 9.45l-7.72 7.72c-.78.78-.78 2.05 0 2.83L4 21.41c.39.39.9.59 1.41.59.51 0 1.02-.2 1.41-.59l7.78-7.78 2.81-2.81c.8-.78.8-2.07 0-2.86zM5.41 20L4 18.59l7.72-7.72 1.47 1.35L5.41 20z\"/>\n",
              "  </svg>\n",
              "      </button>\n",
              "      \n",
              "  <style>\n",
              "    .colab-df-container {\n",
              "      display:flex;\n",
              "      flex-wrap:wrap;\n",
              "      gap: 12px;\n",
              "    }\n",
              "\n",
              "    .colab-df-convert {\n",
              "      background-color: #E8F0FE;\n",
              "      border: none;\n",
              "      border-radius: 50%;\n",
              "      cursor: pointer;\n",
              "      display: none;\n",
              "      fill: #1967D2;\n",
              "      height: 32px;\n",
              "      padding: 0 0 0 0;\n",
              "      width: 32px;\n",
              "    }\n",
              "\n",
              "    .colab-df-convert:hover {\n",
              "      background-color: #E2EBFA;\n",
              "      box-shadow: 0px 1px 2px rgba(60, 64, 67, 0.3), 0px 1px 3px 1px rgba(60, 64, 67, 0.15);\n",
              "      fill: #174EA6;\n",
              "    }\n",
              "\n",
              "    [theme=dark] .colab-df-convert {\n",
              "      background-color: #3B4455;\n",
              "      fill: #D2E3FC;\n",
              "    }\n",
              "\n",
              "    [theme=dark] .colab-df-convert:hover {\n",
              "      background-color: #434B5C;\n",
              "      box-shadow: 0px 1px 3px 1px rgba(0, 0, 0, 0.15);\n",
              "      filter: drop-shadow(0px 1px 2px rgba(0, 0, 0, 0.3));\n",
              "      fill: #FFFFFF;\n",
              "    }\n",
              "  </style>\n",
              "\n",
              "      <script>\n",
              "        const buttonEl =\n",
              "          document.querySelector('#df-a68462a2-7efd-4bd0-9f07-e67c165a7af9 button.colab-df-convert');\n",
              "        buttonEl.style.display =\n",
              "          google.colab.kernel.accessAllowed ? 'block' : 'none';\n",
              "\n",
              "        async function convertToInteractive(key) {\n",
              "          const element = document.querySelector('#df-a68462a2-7efd-4bd0-9f07-e67c165a7af9');\n",
              "          const dataTable =\n",
              "            await google.colab.kernel.invokeFunction('convertToInteractive',\n",
              "                                                     [key], {});\n",
              "          if (!dataTable) return;\n",
              "\n",
              "          const docLinkHtml = 'Like what you see? Visit the ' +\n",
              "            '<a target=\"_blank\" href=https://colab.research.google.com/notebooks/data_table.ipynb>data table notebook</a>'\n",
              "            + ' to learn more about interactive tables.';\n",
              "          element.innerHTML = '';\n",
              "          dataTable['output_type'] = 'display_data';\n",
              "          await google.colab.output.renderOutput(dataTable, element);\n",
              "          const docLink = document.createElement('div');\n",
              "          docLink.innerHTML = docLinkHtml;\n",
              "          element.appendChild(docLink);\n",
              "        }\n",
              "      </script>\n",
              "    </div>\n",
              "  </div>\n",
              "  "
            ],
            "text/plain": [
              "  index  ...                                  combined_features\n",
              "0   t_0  ...  @@7258997</s>vulnerable</s>us</s>In the meanti...\n",
              "1   t_1  ...  @@16397324</s>women</s>pk</s>In most poor hous...\n",
              "2   t_2  ...  @@16257812</s>migrant</s>ca</s>The real questi...\n",
              "3   t_3  ...  @@3509652</s>migrant</s>gb</s>In total , the c...\n",
              "4   t_4  ...  @@477506</s>vulnerable</s>ca</s>Members of the...\n",
              "5   t_5  ...  @@1797863</s>women</s>tz</s>To ensure that \" P...\n",
              "6   t_6  ...  @@17227791</s>immigrant</s>us</s>The deportees...\n",
              "7   t_7  ...  @@8213205</s>disabled</s>pk</s>PIMS staffer wh...\n",
              "8   t_9  ...  @@1750742</s>vulnerable</s>lk</s>I conclude , ...\n",
              "9  t_10  ...  @@21002471</s>women</s>ke</s>After enduring di...\n",
              "\n",
              "[10 rows x 6 columns]"
            ]
          },
          "metadata": {},
          "execution_count": 28
        }
      ]
    },
    {
      "cell_type": "code",
      "source": [
        "df_pcl_test"
      ],
      "metadata": {
        "colab": {
          "base_uri": "https://localhost:8080/",
          "height": 423
        },
        "id": "i7c95k0SEoEi",
        "outputId": "51741b95-e168-4727-849c-1db71c9beb5e"
      },
      "execution_count": null,
      "outputs": [
        {
          "output_type": "execute_result",
          "data": {
            "text/html": [
              "\n",
              "  <div id=\"df-b2b4e1cb-88f7-42d1-ac80-62a5d38da6ca\">\n",
              "    <div class=\"colab-df-container\">\n",
              "      <div>\n",
              "<style scoped>\n",
              "    .dataframe tbody tr th:only-of-type {\n",
              "        vertical-align: middle;\n",
              "    }\n",
              "\n",
              "    .dataframe tbody tr th {\n",
              "        vertical-align: top;\n",
              "    }\n",
              "\n",
              "    .dataframe thead th {\n",
              "        text-align: right;\n",
              "    }\n",
              "</style>\n",
              "<table border=\"1\" class=\"dataframe\">\n",
              "  <thead>\n",
              "    <tr style=\"text-align: right;\">\n",
              "      <th></th>\n",
              "      <th>index</th>\n",
              "      <th>paragraph_id</th>\n",
              "      <th>keyword</th>\n",
              "      <th>country_code</th>\n",
              "      <th>paragraph</th>\n",
              "      <th>combined_features</th>\n",
              "    </tr>\n",
              "  </thead>\n",
              "  <tbody>\n",
              "    <tr>\n",
              "      <th>0</th>\n",
              "      <td>t_0</td>\n",
              "      <td>@@7258997</td>\n",
              "      <td>vulnerable</td>\n",
              "      <td>us</td>\n",
              "      <td>In the meantime , conservatives are working to...</td>\n",
              "      <td>@@7258997&lt;/s&gt;vulnerable&lt;/s&gt;us&lt;/s&gt;In the meanti...</td>\n",
              "    </tr>\n",
              "    <tr>\n",
              "      <th>1</th>\n",
              "      <td>t_1</td>\n",
              "      <td>@@16397324</td>\n",
              "      <td>women</td>\n",
              "      <td>pk</td>\n",
              "      <td>In most poor households with no education chil...</td>\n",
              "      <td>@@16397324&lt;/s&gt;women&lt;/s&gt;pk&lt;/s&gt;In most poor hous...</td>\n",
              "    </tr>\n",
              "    <tr>\n",
              "      <th>2</th>\n",
              "      <td>t_2</td>\n",
              "      <td>@@16257812</td>\n",
              "      <td>migrant</td>\n",
              "      <td>ca</td>\n",
              "      <td>The real question is not whether immigration i...</td>\n",
              "      <td>@@16257812&lt;/s&gt;migrant&lt;/s&gt;ca&lt;/s&gt;The real questi...</td>\n",
              "    </tr>\n",
              "    <tr>\n",
              "      <th>3</th>\n",
              "      <td>t_3</td>\n",
              "      <td>@@3509652</td>\n",
              "      <td>migrant</td>\n",
              "      <td>gb</td>\n",
              "      <td>In total , the country 's immigrant population...</td>\n",
              "      <td>@@3509652&lt;/s&gt;migrant&lt;/s&gt;gb&lt;/s&gt;In total , the c...</td>\n",
              "    </tr>\n",
              "    <tr>\n",
              "      <th>4</th>\n",
              "      <td>t_4</td>\n",
              "      <td>@@477506</td>\n",
              "      <td>vulnerable</td>\n",
              "      <td>ca</td>\n",
              "      <td>Members of the church , which is part of Ken C...</td>\n",
              "      <td>@@477506&lt;/s&gt;vulnerable&lt;/s&gt;ca&lt;/s&gt;Members of the...</td>\n",
              "    </tr>\n",
              "    <tr>\n",
              "      <th>...</th>\n",
              "      <td>...</td>\n",
              "      <td>...</td>\n",
              "      <td>...</td>\n",
              "      <td>...</td>\n",
              "      <td>...</td>\n",
              "      <td>...</td>\n",
              "    </tr>\n",
              "    <tr>\n",
              "      <th>3827</th>\n",
              "      <td>t_3893</td>\n",
              "      <td>@@20319448</td>\n",
              "      <td>migrant</td>\n",
              "      <td>jm</td>\n",
              "      <td>In a letter dated Thursday to European Commiss...</td>\n",
              "      <td>@@20319448&lt;/s&gt;migrant&lt;/s&gt;jm&lt;/s&gt;In a letter dat...</td>\n",
              "    </tr>\n",
              "    <tr>\n",
              "      <th>3828</th>\n",
              "      <td>t_3894</td>\n",
              "      <td>@@9990672</td>\n",
              "      <td>poor-families</td>\n",
              "      <td>au</td>\n",
              "      <td>They discovered that poor families with health...</td>\n",
              "      <td>@@9990672&lt;/s&gt;poor-families&lt;/s&gt;au&lt;/s&gt;They disco...</td>\n",
              "    </tr>\n",
              "    <tr>\n",
              "      <th>3829</th>\n",
              "      <td>t_3895</td>\n",
              "      <td>@@37984</td>\n",
              "      <td>migrant</td>\n",
              "      <td>ca</td>\n",
              "      <td>She married at 19 , to Milan ( Emil ) Badovina...</td>\n",
              "      <td>@@37984&lt;/s&gt;migrant&lt;/s&gt;ca&lt;/s&gt;She married at 19 ...</td>\n",
              "    </tr>\n",
              "    <tr>\n",
              "      <th>3830</th>\n",
              "      <td>t_3896</td>\n",
              "      <td>@@9691377</td>\n",
              "      <td>immigrant</td>\n",
              "      <td>us</td>\n",
              "      <td>The United Kingdom is n't going to devolve int...</td>\n",
              "      <td>@@9691377&lt;/s&gt;immigrant&lt;/s&gt;us&lt;/s&gt;The United Kin...</td>\n",
              "    </tr>\n",
              "    <tr>\n",
              "      <th>3831</th>\n",
              "      <td>t_3897</td>\n",
              "      <td>@@26170085</td>\n",
              "      <td>poor-families</td>\n",
              "      <td>ng</td>\n",
              "      <td>This moral battle informed the recent defectio...</td>\n",
              "      <td>@@26170085&lt;/s&gt;poor-families&lt;/s&gt;ng&lt;/s&gt;This mora...</td>\n",
              "    </tr>\n",
              "  </tbody>\n",
              "</table>\n",
              "<p>3832 rows × 6 columns</p>\n",
              "</div>\n",
              "      <button class=\"colab-df-convert\" onclick=\"convertToInteractive('df-b2b4e1cb-88f7-42d1-ac80-62a5d38da6ca')\"\n",
              "              title=\"Convert this dataframe to an interactive table.\"\n",
              "              style=\"display:none;\">\n",
              "        \n",
              "  <svg xmlns=\"http://www.w3.org/2000/svg\" height=\"24px\"viewBox=\"0 0 24 24\"\n",
              "       width=\"24px\">\n",
              "    <path d=\"M0 0h24v24H0V0z\" fill=\"none\"/>\n",
              "    <path d=\"M18.56 5.44l.94 2.06.94-2.06 2.06-.94-2.06-.94-.94-2.06-.94 2.06-2.06.94zm-11 1L8.5 8.5l.94-2.06 2.06-.94-2.06-.94L8.5 2.5l-.94 2.06-2.06.94zm10 10l.94 2.06.94-2.06 2.06-.94-2.06-.94-.94-2.06-.94 2.06-2.06.94z\"/><path d=\"M17.41 7.96l-1.37-1.37c-.4-.4-.92-.59-1.43-.59-.52 0-1.04.2-1.43.59L10.3 9.45l-7.72 7.72c-.78.78-.78 2.05 0 2.83L4 21.41c.39.39.9.59 1.41.59.51 0 1.02-.2 1.41-.59l7.78-7.78 2.81-2.81c.8-.78.8-2.07 0-2.86zM5.41 20L4 18.59l7.72-7.72 1.47 1.35L5.41 20z\"/>\n",
              "  </svg>\n",
              "      </button>\n",
              "      \n",
              "  <style>\n",
              "    .colab-df-container {\n",
              "      display:flex;\n",
              "      flex-wrap:wrap;\n",
              "      gap: 12px;\n",
              "    }\n",
              "\n",
              "    .colab-df-convert {\n",
              "      background-color: #E8F0FE;\n",
              "      border: none;\n",
              "      border-radius: 50%;\n",
              "      cursor: pointer;\n",
              "      display: none;\n",
              "      fill: #1967D2;\n",
              "      height: 32px;\n",
              "      padding: 0 0 0 0;\n",
              "      width: 32px;\n",
              "    }\n",
              "\n",
              "    .colab-df-convert:hover {\n",
              "      background-color: #E2EBFA;\n",
              "      box-shadow: 0px 1px 2px rgba(60, 64, 67, 0.3), 0px 1px 3px 1px rgba(60, 64, 67, 0.15);\n",
              "      fill: #174EA6;\n",
              "    }\n",
              "\n",
              "    [theme=dark] .colab-df-convert {\n",
              "      background-color: #3B4455;\n",
              "      fill: #D2E3FC;\n",
              "    }\n",
              "\n",
              "    [theme=dark] .colab-df-convert:hover {\n",
              "      background-color: #434B5C;\n",
              "      box-shadow: 0px 1px 3px 1px rgba(0, 0, 0, 0.15);\n",
              "      filter: drop-shadow(0px 1px 2px rgba(0, 0, 0, 0.3));\n",
              "      fill: #FFFFFF;\n",
              "    }\n",
              "  </style>\n",
              "\n",
              "      <script>\n",
              "        const buttonEl =\n",
              "          document.querySelector('#df-b2b4e1cb-88f7-42d1-ac80-62a5d38da6ca button.colab-df-convert');\n",
              "        buttonEl.style.display =\n",
              "          google.colab.kernel.accessAllowed ? 'block' : 'none';\n",
              "\n",
              "        async function convertToInteractive(key) {\n",
              "          const element = document.querySelector('#df-b2b4e1cb-88f7-42d1-ac80-62a5d38da6ca');\n",
              "          const dataTable =\n",
              "            await google.colab.kernel.invokeFunction('convertToInteractive',\n",
              "                                                     [key], {});\n",
              "          if (!dataTable) return;\n",
              "\n",
              "          const docLinkHtml = 'Like what you see? Visit the ' +\n",
              "            '<a target=\"_blank\" href=https://colab.research.google.com/notebooks/data_table.ipynb>data table notebook</a>'\n",
              "            + ' to learn more about interactive tables.';\n",
              "          element.innerHTML = '';\n",
              "          dataTable['output_type'] = 'display_data';\n",
              "          await google.colab.output.renderOutput(dataTable, element);\n",
              "          const docLink = document.createElement('div');\n",
              "          docLink.innerHTML = docLinkHtml;\n",
              "          element.appendChild(docLink);\n",
              "        }\n",
              "      </script>\n",
              "    </div>\n",
              "  </div>\n",
              "  "
            ],
            "text/plain": [
              "       index  ...                                  combined_features\n",
              "0        t_0  ...  @@7258997</s>vulnerable</s>us</s>In the meanti...\n",
              "1        t_1  ...  @@16397324</s>women</s>pk</s>In most poor hous...\n",
              "2        t_2  ...  @@16257812</s>migrant</s>ca</s>The real questi...\n",
              "3        t_3  ...  @@3509652</s>migrant</s>gb</s>In total , the c...\n",
              "4        t_4  ...  @@477506</s>vulnerable</s>ca</s>Members of the...\n",
              "...      ...  ...                                                ...\n",
              "3827  t_3893  ...  @@20319448</s>migrant</s>jm</s>In a letter dat...\n",
              "3828  t_3894  ...  @@9990672</s>poor-families</s>au</s>They disco...\n",
              "3829  t_3895  ...  @@37984</s>migrant</s>ca</s>She married at 19 ...\n",
              "3830  t_3896  ...  @@9691377</s>immigrant</s>us</s>The United Kin...\n",
              "3831  t_3897  ...  @@26170085</s>poor-families</s>ng</s>This mora...\n",
              "\n",
              "[3832 rows x 6 columns]"
            ]
          },
          "metadata": {},
          "execution_count": 29
        }
      ]
    },
    {
      "cell_type": "markdown",
      "source": [
        "#Validation set"
      ],
      "metadata": {
        "id": "bZR-YU3W9jVj"
      }
    },
    {
      "cell_type": "code",
      "source": [
        "np.random.seed(101)"
      ],
      "metadata": {
        "id": "8XHwHWFWFGcH"
      },
      "execution_count": null,
      "outputs": []
    },
    {
      "cell_type": "code",
      "metadata": {
        "colab": {
          "base_uri": "https://localhost:8080/"
        },
        "id": "sTezyA1dn0Xv",
        "outputId": "94dc4a7b-f989-492c-a835-6a37de7b304a"
      },
      "source": [
        "valid_size = 1000\n",
        "# duplicate = df_pcl_selected[df_pcl['paragraph'].duplicated()]  #There is no duplicate\n",
        "# none_duplicate = df_pcl_selected.drop(duplicate.index, axis=0)   # none_duplicate = df_pcl\n",
        "df_pcl_valid = df_pcl.sample(valid_size, random_state = 42)\n",
        "df_pcl_train = df_pcl.drop(df_pcl_valid.index, axis=0)\n",
        "df_pcl_train, df_pcl_valid, df_pcl_test"
      ],
      "execution_count": null,
      "outputs": [
        {
          "output_type": "execute_result",
          "data": {
            "text/plain": [
              "(      paragraph_id  ...                                  combined_features\n",
              " 0       @@24942188  ...  @@24942188</s>hopeless</s>ph</s>We 're living ...\n",
              " 1       @@21968160  ...  @@21968160</s>migrant</s>gh</s>In Libya today ...\n",
              " 2       @@16584954  ...  @@16584954</s>immigrant</s>ie</s>White House p...\n",
              " 4        @@1494111  ...  @@1494111</s>refugee</s>ca</s>\" Just like we r...\n",
              " 5        @@9382277  ...  @@9382277</s>in-need</s>in</s>To bring down hi...\n",
              " ...            ...  ...                                                ...\n",
              " 10462   @@19612634  ...  @@19612634</s>disabled</s>ie</s>When Marie O'D...\n",
              " 10463   @@14297363  ...  @@14297363</s>women</s>lk</s>Sri Lankan norms ...\n",
              " 10464   @@70091353  ...  @@70091353</s>vulnerable</s>ph</s>He added tha...\n",
              " 10465   @@20282330  ...  @@20282330</s>in-need</s>ng</s>\" She has one h...\n",
              " 10466   @@16753236  ...  @@16753236</s>hopeless</s>in</s>\" Anja Ringgre...\n",
              " \n",
              " [9468 rows x 7 columns],\n",
              "      paragraph_id  ...                                  combined_features\n",
              " 7565     @@681921  ...  @@681921</s>disabled</s>au</s>Ekso -- formerly...\n",
              " 5262     @@408450  ...  @@408450</s>disabled</s>in</s>Thirty seven per...\n",
              " 2114    @@2207866  ...  @@2207866</s>vulnerable</s>ca</s>Old buildings...\n",
              " 7469    @@7897597  ...  @@7897597</s>vulnerable</s>ke</s>\" Water crisi...\n",
              " 4768   @@14477625  ...  @@14477625</s>migrant</s>lk</s>Mohammad Rahami...\n",
              " ...           ...  ...                                                ...\n",
              " 3244    @@1260897  ...  @@1260897</s>women</s>ph</s>This January , Phi...\n",
              " 8013   @@14120959  ...  @@14120959</s>vulnerable</s>gh</s>I have no op...\n",
              " 7180   @@60051505  ...  @@60051505</s>refugee</s>pk</s>ISLAMABAD . : P...\n",
              " 7645   @@19355993  ...  @@19355993</s>disabled</s>ke</s>In addition , ...\n",
              " 245    @@20000497  ...  @@20000497</s>homeless</s>au</s>What causes so...\n",
              " \n",
              " [1000 rows x 7 columns],\n",
              "        index  ...                                  combined_features\n",
              " 0        t_0  ...  @@7258997</s>vulnerable</s>us</s>In the meanti...\n",
              " 1        t_1  ...  @@16397324</s>women</s>pk</s>In most poor hous...\n",
              " 2        t_2  ...  @@16257812</s>migrant</s>ca</s>The real questi...\n",
              " 3        t_3  ...  @@3509652</s>migrant</s>gb</s>In total , the c...\n",
              " 4        t_4  ...  @@477506</s>vulnerable</s>ca</s>Members of the...\n",
              " ...      ...  ...                                                ...\n",
              " 3827  t_3893  ...  @@20319448</s>migrant</s>jm</s>In a letter dat...\n",
              " 3828  t_3894  ...  @@9990672</s>poor-families</s>au</s>They disco...\n",
              " 3829  t_3895  ...  @@37984</s>migrant</s>ca</s>She married at 19 ...\n",
              " 3830  t_3896  ...  @@9691377</s>immigrant</s>us</s>The United Kin...\n",
              " 3831  t_3897  ...  @@26170085</s>poor-families</s>ng</s>This mora...\n",
              " \n",
              " [3832 rows x 6 columns])"
            ]
          },
          "metadata": {},
          "execution_count": 31
        }
      ]
    },
    {
      "cell_type": "markdown",
      "metadata": {
        "id": "fKeJdtPtLsMY"
      },
      "source": [
        "#Oversampling\n",
        "Replicate rows with lable 1 in train dataframe"
      ]
    },
    {
      "cell_type": "code",
      "metadata": {
        "id": "z-ywXmwcLrW8"
      },
      "source": [
        "replicated_pcls = pd.concat([df_pcl_train[df_pcl_train['labels'] == 1]]*8, ignore_index=True)"
      ],
      "execution_count": null,
      "outputs": []
    },
    {
      "cell_type": "code",
      "source": [
        "df_pcl_train['labels'].sum()     # output: 949  # Add 7592 paragraph with lable 1 to to training data"
      ],
      "metadata": {
        "colab": {
          "base_uri": "https://localhost:8080/"
        },
        "id": "UIckkGKN2mCN",
        "outputId": "ef2684fb-c307-4555-ee21-1cddbeb0b35c"
      },
      "execution_count": null,
      "outputs": [
        {
          "output_type": "execute_result",
          "data": {
            "text/plain": [
              "891"
            ]
          },
          "metadata": {},
          "execution_count": 33
        }
      ]
    },
    {
      "cell_type": "code",
      "source": [
        "replicated_pcls['labels'].sum(), len(replicated_pcls)    #(7592, 7592)"
      ],
      "metadata": {
        "colab": {
          "base_uri": "https://localhost:8080/"
        },
        "id": "2_sT-uBs19SU",
        "outputId": "99371baa-6e78-43e7-bff9-26872cd89cac"
      },
      "execution_count": null,
      "outputs": [
        {
          "output_type": "execute_result",
          "data": {
            "text/plain": [
              "(7128, 7128)"
            ]
          },
          "metadata": {},
          "execution_count": 34
        }
      ]
    },
    {
      "cell_type": "code",
      "metadata": {
        "id": "JEltG3xOM1-J",
        "colab": {
          "base_uri": "https://localhost:8080/"
        },
        "outputId": "d17cac78-1d43-449b-eb8f-0295b04d0c22"
      },
      "source": [
        "df_pcl_train = pd.concat([df_pcl_train, replicated_pcls])\n",
        "len(df_pcl_train), df_pcl_train['labels'].sum()   #(17560, 8541)"
      ],
      "execution_count": null,
      "outputs": [
        {
          "output_type": "execute_result",
          "data": {
            "text/plain": [
              "(16596, 8019)"
            ]
          },
          "metadata": {},
          "execution_count": 35
        }
      ]
    },
    {
      "cell_type": "code",
      "metadata": {
        "colab": {
          "base_uri": "https://localhost:8080/"
        },
        "id": "fWOcIlw1OSnW",
        "outputId": "1045bbba-307b-45b9-f2ef-9bbb73186bf2"
      },
      "source": [
        "replicated_train = df_pcl_train.sample(frac = 1, random_state = 42)\n",
        "len(replicated_train)   #17560"
      ],
      "execution_count": null,
      "outputs": [
        {
          "output_type": "execute_result",
          "data": {
            "text/plain": [
              "16596"
            ]
          },
          "metadata": {},
          "execution_count": 36
        }
      ]
    },
    {
      "cell_type": "code",
      "source": [
        "df_pcl_train"
      ],
      "metadata": {
        "colab": {
          "base_uri": "https://localhost:8080/",
          "height": 423
        },
        "id": "C44b9fi7F4La",
        "outputId": "0f698de1-3dd0-4db2-b721-6147dc94ee5d"
      },
      "execution_count": null,
      "outputs": [
        {
          "output_type": "execute_result",
          "data": {
            "text/html": [
              "\n",
              "  <div id=\"df-2a8e648d-17ec-46ba-89ce-454d0b13fb99\">\n",
              "    <div class=\"colab-df-container\">\n",
              "      <div>\n",
              "<style scoped>\n",
              "    .dataframe tbody tr th:only-of-type {\n",
              "        vertical-align: middle;\n",
              "    }\n",
              "\n",
              "    .dataframe tbody tr th {\n",
              "        vertical-align: top;\n",
              "    }\n",
              "\n",
              "    .dataframe thead th {\n",
              "        text-align: right;\n",
              "    }\n",
              "</style>\n",
              "<table border=\"1\" class=\"dataframe\">\n",
              "  <thead>\n",
              "    <tr style=\"text-align: right;\">\n",
              "      <th></th>\n",
              "      <th>paragraph_id</th>\n",
              "      <th>keyword</th>\n",
              "      <th>country_code</th>\n",
              "      <th>paragraph</th>\n",
              "      <th>label</th>\n",
              "      <th>labels</th>\n",
              "      <th>combined_features</th>\n",
              "    </tr>\n",
              "  </thead>\n",
              "  <tbody>\n",
              "    <tr>\n",
              "      <th>0</th>\n",
              "      <td>@@24942188</td>\n",
              "      <td>hopeless</td>\n",
              "      <td>ph</td>\n",
              "      <td>We 're living in times of absolute insanity , ...</td>\n",
              "      <td>0</td>\n",
              "      <td>0</td>\n",
              "      <td>@@24942188&lt;/s&gt;hopeless&lt;/s&gt;ph&lt;/s&gt;We 're living ...</td>\n",
              "    </tr>\n",
              "    <tr>\n",
              "      <th>1</th>\n",
              "      <td>@@21968160</td>\n",
              "      <td>migrant</td>\n",
              "      <td>gh</td>\n",
              "      <td>In Libya today , there are countless number of...</td>\n",
              "      <td>0</td>\n",
              "      <td>0</td>\n",
              "      <td>@@21968160&lt;/s&gt;migrant&lt;/s&gt;gh&lt;/s&gt;In Libya today ...</td>\n",
              "    </tr>\n",
              "    <tr>\n",
              "      <th>2</th>\n",
              "      <td>@@16584954</td>\n",
              "      <td>immigrant</td>\n",
              "      <td>ie</td>\n",
              "      <td>White House press secretary Sean Spicer said t...</td>\n",
              "      <td>0</td>\n",
              "      <td>0</td>\n",
              "      <td>@@16584954&lt;/s&gt;immigrant&lt;/s&gt;ie&lt;/s&gt;White House p...</td>\n",
              "    </tr>\n",
              "    <tr>\n",
              "      <th>4</th>\n",
              "      <td>@@1494111</td>\n",
              "      <td>refugee</td>\n",
              "      <td>ca</td>\n",
              "      <td>\" Just like we received migrants fleeing El Sa...</td>\n",
              "      <td>0</td>\n",
              "      <td>0</td>\n",
              "      <td>@@1494111&lt;/s&gt;refugee&lt;/s&gt;ca&lt;/s&gt;\" Just like we r...</td>\n",
              "    </tr>\n",
              "    <tr>\n",
              "      <th>5</th>\n",
              "      <td>@@9382277</td>\n",
              "      <td>in-need</td>\n",
              "      <td>in</td>\n",
              "      <td>To bring down high blood sugar levels , insuli...</td>\n",
              "      <td>0</td>\n",
              "      <td>0</td>\n",
              "      <td>@@9382277&lt;/s&gt;in-need&lt;/s&gt;in&lt;/s&gt;To bring down hi...</td>\n",
              "    </tr>\n",
              "    <tr>\n",
              "      <th>...</th>\n",
              "      <td>...</td>\n",
              "      <td>...</td>\n",
              "      <td>...</td>\n",
              "      <td>...</td>\n",
              "      <td>...</td>\n",
              "      <td>...</td>\n",
              "      <td>...</td>\n",
              "    </tr>\n",
              "    <tr>\n",
              "      <th>7123</th>\n",
              "      <td>@@4665292</td>\n",
              "      <td>women</td>\n",
              "      <td>jm</td>\n",
              "      <td>\" I do n't believe in abortion , I think it is...</td>\n",
              "      <td>3</td>\n",
              "      <td>1</td>\n",
              "      <td>@@4665292&lt;/s&gt;women&lt;/s&gt;jm&lt;/s&gt;\" I do n't believe...</td>\n",
              "    </tr>\n",
              "    <tr>\n",
              "      <th>7124</th>\n",
              "      <td>@@3923193</td>\n",
              "      <td>refugee</td>\n",
              "      <td>gb</td>\n",
              "      <td>More than 150 volunteers spent the night in ' ...</td>\n",
              "      <td>3</td>\n",
              "      <td>1</td>\n",
              "      <td>@@3923193&lt;/s&gt;refugee&lt;/s&gt;gb&lt;/s&gt;More than 150 vo...</td>\n",
              "    </tr>\n",
              "    <tr>\n",
              "      <th>7125</th>\n",
              "      <td>@@22338535</td>\n",
              "      <td>vulnerable</td>\n",
              "      <td>ie</td>\n",
              "      <td>\" We are challenged , I suggest , to turn this...</td>\n",
              "      <td>4</td>\n",
              "      <td>1</td>\n",
              "      <td>@@22338535&lt;/s&gt;vulnerable&lt;/s&gt;ie&lt;/s&gt;\" We are cha...</td>\n",
              "    </tr>\n",
              "    <tr>\n",
              "      <th>7126</th>\n",
              "      <td>@@20282330</td>\n",
              "      <td>in-need</td>\n",
              "      <td>ng</td>\n",
              "      <td>\" She has one huge platform , and information ...</td>\n",
              "      <td>3</td>\n",
              "      <td>1</td>\n",
              "      <td>@@20282330&lt;/s&gt;in-need&lt;/s&gt;ng&lt;/s&gt;\" She has one h...</td>\n",
              "    </tr>\n",
              "    <tr>\n",
              "      <th>7127</th>\n",
              "      <td>@@16753236</td>\n",
              "      <td>hopeless</td>\n",
              "      <td>in</td>\n",
              "      <td>\" Anja Ringgren Loven I ca n't find a word to ...</td>\n",
              "      <td>4</td>\n",
              "      <td>1</td>\n",
              "      <td>@@16753236&lt;/s&gt;hopeless&lt;/s&gt;in&lt;/s&gt;\" Anja Ringgre...</td>\n",
              "    </tr>\n",
              "  </tbody>\n",
              "</table>\n",
              "<p>16596 rows × 7 columns</p>\n",
              "</div>\n",
              "      <button class=\"colab-df-convert\" onclick=\"convertToInteractive('df-2a8e648d-17ec-46ba-89ce-454d0b13fb99')\"\n",
              "              title=\"Convert this dataframe to an interactive table.\"\n",
              "              style=\"display:none;\">\n",
              "        \n",
              "  <svg xmlns=\"http://www.w3.org/2000/svg\" height=\"24px\"viewBox=\"0 0 24 24\"\n",
              "       width=\"24px\">\n",
              "    <path d=\"M0 0h24v24H0V0z\" fill=\"none\"/>\n",
              "    <path d=\"M18.56 5.44l.94 2.06.94-2.06 2.06-.94-2.06-.94-.94-2.06-.94 2.06-2.06.94zm-11 1L8.5 8.5l.94-2.06 2.06-.94-2.06-.94L8.5 2.5l-.94 2.06-2.06.94zm10 10l.94 2.06.94-2.06 2.06-.94-2.06-.94-.94-2.06-.94 2.06-2.06.94z\"/><path d=\"M17.41 7.96l-1.37-1.37c-.4-.4-.92-.59-1.43-.59-.52 0-1.04.2-1.43.59L10.3 9.45l-7.72 7.72c-.78.78-.78 2.05 0 2.83L4 21.41c.39.39.9.59 1.41.59.51 0 1.02-.2 1.41-.59l7.78-7.78 2.81-2.81c.8-.78.8-2.07 0-2.86zM5.41 20L4 18.59l7.72-7.72 1.47 1.35L5.41 20z\"/>\n",
              "  </svg>\n",
              "      </button>\n",
              "      \n",
              "  <style>\n",
              "    .colab-df-container {\n",
              "      display:flex;\n",
              "      flex-wrap:wrap;\n",
              "      gap: 12px;\n",
              "    }\n",
              "\n",
              "    .colab-df-convert {\n",
              "      background-color: #E8F0FE;\n",
              "      border: none;\n",
              "      border-radius: 50%;\n",
              "      cursor: pointer;\n",
              "      display: none;\n",
              "      fill: #1967D2;\n",
              "      height: 32px;\n",
              "      padding: 0 0 0 0;\n",
              "      width: 32px;\n",
              "    }\n",
              "\n",
              "    .colab-df-convert:hover {\n",
              "      background-color: #E2EBFA;\n",
              "      box-shadow: 0px 1px 2px rgba(60, 64, 67, 0.3), 0px 1px 3px 1px rgba(60, 64, 67, 0.15);\n",
              "      fill: #174EA6;\n",
              "    }\n",
              "\n",
              "    [theme=dark] .colab-df-convert {\n",
              "      background-color: #3B4455;\n",
              "      fill: #D2E3FC;\n",
              "    }\n",
              "\n",
              "    [theme=dark] .colab-df-convert:hover {\n",
              "      background-color: #434B5C;\n",
              "      box-shadow: 0px 1px 3px 1px rgba(0, 0, 0, 0.15);\n",
              "      filter: drop-shadow(0px 1px 2px rgba(0, 0, 0, 0.3));\n",
              "      fill: #FFFFFF;\n",
              "    }\n",
              "  </style>\n",
              "\n",
              "      <script>\n",
              "        const buttonEl =\n",
              "          document.querySelector('#df-2a8e648d-17ec-46ba-89ce-454d0b13fb99 button.colab-df-convert');\n",
              "        buttonEl.style.display =\n",
              "          google.colab.kernel.accessAllowed ? 'block' : 'none';\n",
              "\n",
              "        async function convertToInteractive(key) {\n",
              "          const element = document.querySelector('#df-2a8e648d-17ec-46ba-89ce-454d0b13fb99');\n",
              "          const dataTable =\n",
              "            await google.colab.kernel.invokeFunction('convertToInteractive',\n",
              "                                                     [key], {});\n",
              "          if (!dataTable) return;\n",
              "\n",
              "          const docLinkHtml = 'Like what you see? Visit the ' +\n",
              "            '<a target=\"_blank\" href=https://colab.research.google.com/notebooks/data_table.ipynb>data table notebook</a>'\n",
              "            + ' to learn more about interactive tables.';\n",
              "          element.innerHTML = '';\n",
              "          dataTable['output_type'] = 'display_data';\n",
              "          await google.colab.output.renderOutput(dataTable, element);\n",
              "          const docLink = document.createElement('div');\n",
              "          docLink.innerHTML = docLinkHtml;\n",
              "          element.appendChild(docLink);\n",
              "        }\n",
              "      </script>\n",
              "    </div>\n",
              "  </div>\n",
              "  "
            ],
            "text/plain": [
              "     paragraph_id  ...                                  combined_features\n",
              "0      @@24942188  ...  @@24942188</s>hopeless</s>ph</s>We 're living ...\n",
              "1      @@21968160  ...  @@21968160</s>migrant</s>gh</s>In Libya today ...\n",
              "2      @@16584954  ...  @@16584954</s>immigrant</s>ie</s>White House p...\n",
              "4       @@1494111  ...  @@1494111</s>refugee</s>ca</s>\" Just like we r...\n",
              "5       @@9382277  ...  @@9382277</s>in-need</s>in</s>To bring down hi...\n",
              "...           ...  ...                                                ...\n",
              "7123    @@4665292  ...  @@4665292</s>women</s>jm</s>\" I do n't believe...\n",
              "7124    @@3923193  ...  @@3923193</s>refugee</s>gb</s>More than 150 vo...\n",
              "7125   @@22338535  ...  @@22338535</s>vulnerable</s>ie</s>\" We are cha...\n",
              "7126   @@20282330  ...  @@20282330</s>in-need</s>ng</s>\" She has one h...\n",
              "7127   @@16753236  ...  @@16753236</s>hopeless</s>in</s>\" Anja Ringgre...\n",
              "\n",
              "[16596 rows x 7 columns]"
            ]
          },
          "metadata": {},
          "execution_count": 37
        }
      ]
    },
    {
      "cell_type": "markdown",
      "metadata": {
        "id": "bYpJZbm7Lz1d"
      },
      "source": [
        "### Create Dataset from Dataset\n"
      ]
    },
    {
      "cell_type": "code",
      "metadata": {
        "colab": {
          "base_uri": "https://localhost:8080/"
        },
        "id": "qONi-AmefOCH",
        "outputId": "4f395b29-567d-4698-8b12-750889ebd7af"
      },
      "source": [
        "from datasets import Dataset\n",
        "raw_datasets_valid = Dataset.from_pandas(df_pcl_valid[['combined_features','labels']])\n",
        "raw_datasets_train = Dataset.from_pandas(df_pcl_train[['combined_features','labels']])\n",
        "raw_datasets_test  = Dataset.from_pandas(df_pcl_test[['combined_features']])\n",
        "\n",
        "raw_datasets_train, raw_datasets_valid, raw_datasets_test"
      ],
      "execution_count": null,
      "outputs": [
        {
          "output_type": "execute_result",
          "data": {
            "text/plain": [
              "(Dataset({\n",
              "     features: ['combined_features', 'labels', '__index_level_0__'],\n",
              "     num_rows: 16596\n",
              " }), Dataset({\n",
              "     features: ['combined_features', 'labels', '__index_level_0__'],\n",
              "     num_rows: 1000\n",
              " }), Dataset({\n",
              "     features: ['combined_features'],\n",
              "     num_rows: 3832\n",
              " }))"
            ]
          },
          "metadata": {},
          "execution_count": 38
        }
      ]
    },
    {
      "cell_type": "code",
      "source": [
        "len(df_pcl_train), df_pcl_train['labels'].sum()    #(17560, 8541)"
      ],
      "metadata": {
        "colab": {
          "base_uri": "https://localhost:8080/"
        },
        "id": "OB8rkI5uHCAo",
        "outputId": "ca8ab96b-b378-42b1-9b87-eaa3183e24ac"
      },
      "execution_count": null,
      "outputs": [
        {
          "output_type": "execute_result",
          "data": {
            "text/plain": [
              "(16596, 8019)"
            ]
          },
          "metadata": {},
          "execution_count": 39
        }
      ]
    },
    {
      "cell_type": "markdown",
      "metadata": {
        "id": "MoX2kRDwY3Rg"
      },
      "source": [
        "Because the labels are imbalanced, we split the data set in a stratified fashion, using this as the class labels."
      ]
    },
    {
      "cell_type": "code",
      "metadata": {
        "id": "Y-OaoZ9CiJIh",
        "colab": {
          "base_uri": "https://localhost:8080/",
          "height": 145,
          "referenced_widgets": [
            "199cd1ca9f134b7a88a0ac288deee50a",
            "0f40728deda0401199ee0b2c34dce1e2",
            "34502ecc76b04208ae8a3272e91acb41",
            "ba26d4d0ffad42b980a363e39c10b91f",
            "6e467caf7daa49eb8b75745f8448d111",
            "077bfc43b70e4cd988b6b3c44948d9ad",
            "37fc15f60d5a48c1b8214d2edb7f4b8a",
            "e62715eec17b471b916b7e65af8d8c6f",
            "489d544e04aa4089ba872c70b9404249",
            "f786754512214c35842041a6e9cf7bf7",
            "857858c02b9e41a38137dc8782ab4bcf",
            "3926ca0e4d6743bb95c85c8bc81b5531",
            "0efccbac625f4d359729535827075c70",
            "178735db1b1844cf8038f8dbab3c739d",
            "0010896583674fe4ba0a2bfc4c0cc107",
            "c3fdd819949e4489aea1463e7569e31c",
            "b128a4f54d12485c89d1047f5117c816",
            "eb79a15949d04093b5d20551d5a6af12",
            "ba515066859448e1965ebdd6e7e6ac5a",
            "8943b2495bd94839b96e486461319c40",
            "e562a3e9ba3f4e8684d9e496bf097367",
            "db63e4cdc22248358a6e1624d9afaed4",
            "e89ad92318fd46e99a55a0e72533f138",
            "3026b4fc3dd14e0d98b7286bc87ab880",
            "2c9234d12ba244cc877e92cd879a3a1f",
            "277b10bd853944468d4dd0fd7a72edd3",
            "e931ff6ce51f4dc0b29898bff57826ec",
            "01e8b3be41e34c27923f02bd056ac48a",
            "ee077f9fa1924eb58e5ebaf1b2ab1453",
            "bfc75d8d670644bf8f10d13a4c8a7a01",
            "bef11b75c39a44289f9bcd7181b5fc88",
            "1a5930f437fd449799b9a956559e71a4",
            "30babb5785c54131ae75827e8a457cc5",
            "5734c69b3f2144af856b0c80ed047873",
            "facfd6339ebf4e3f88f1e1fe6224737e",
            "bfdbdb59099f41709bb4f86d775a69c2",
            "093916c423b2454f9ecfd10f18094640",
            "df9ae158441245edb1db0324e8c23f23",
            "92691b9c45cd49f7bf1f689367fd8518",
            "972813e4f313449b9e328c38d1cc6b51",
            "1c8e04adba94477f9b38134f36ad4815",
            "318205a942cf44a2b54a5a0630a3e40d",
            "655e5493ab6e45a1b6d02a3e8bea9b21",
            "6e40c95ad8554957be61bd31de35c2d3"
          ]
        },
        "outputId": "5f7de789-5cfc-41b8-c751-390a64945f1d"
      },
      "source": [
        "# FIXME: Ali - Idea: Try zero shot, few shot, fine-tuning with GPT-3\n",
        "from transformers import AutoTokenizer\n",
        "model_name = 'roberta-large'\n",
        "# model_name = 'bert-base-uncased'\n",
        "# model_name = 'roberta-large-openai-detector' #FIXME: Ali - Idea: Try other larger models\n",
        "tokenizer = AutoTokenizer.from_pretrained(model_name)"
      ],
      "execution_count": null,
      "outputs": [
        {
          "output_type": "display_data",
          "data": {
            "application/vnd.jupyter.widget-view+json": {
              "model_id": "199cd1ca9f134b7a88a0ac288deee50a",
              "version_minor": 0,
              "version_major": 2
            },
            "text/plain": [
              "Downloading:   0%|          | 0.00/482 [00:00<?, ?B/s]"
            ]
          },
          "metadata": {}
        },
        {
          "output_type": "display_data",
          "data": {
            "application/vnd.jupyter.widget-view+json": {
              "model_id": "3926ca0e4d6743bb95c85c8bc81b5531",
              "version_minor": 0,
              "version_major": 2
            },
            "text/plain": [
              "Downloading:   0%|          | 0.00/878k [00:00<?, ?B/s]"
            ]
          },
          "metadata": {}
        },
        {
          "output_type": "display_data",
          "data": {
            "application/vnd.jupyter.widget-view+json": {
              "model_id": "e89ad92318fd46e99a55a0e72533f138",
              "version_minor": 0,
              "version_major": 2
            },
            "text/plain": [
              "Downloading:   0%|          | 0.00/446k [00:00<?, ?B/s]"
            ]
          },
          "metadata": {}
        },
        {
          "output_type": "display_data",
          "data": {
            "application/vnd.jupyter.widget-view+json": {
              "model_id": "5734c69b3f2144af856b0c80ed047873",
              "version_minor": 0,
              "version_major": 2
            },
            "text/plain": [
              "Downloading:   0%|          | 0.00/1.29M [00:00<?, ?B/s]"
            ]
          },
          "metadata": {}
        }
      ]
    },
    {
      "cell_type": "markdown",
      "source": [
        "#Tokenization"
      ],
      "metadata": {
        "id": "5RF1UcpkGQrg"
      }
    },
    {
      "cell_type": "code",
      "metadata": {
        "colab": {
          "base_uri": "https://localhost:8080/",
          "height": 184,
          "referenced_widgets": [
            "2c61e674e72541c48c514631e820d84d",
            "9185a887bfb54b6da18bc4f493cd1b3f",
            "5628507aca0e4c708f7921769aed50ec",
            "014d6c9ef16145ec94ec4e523e90d9c2",
            "2fe5d347f31c45f3a497b1187b7a25be",
            "c98aa3713f554a4fa9d754124205f277",
            "34c4efd6692e40269bb13a4901dd8ddb",
            "6b68f1a3351249c39e9b7cfcc9aa0474",
            "3d797675853f4c8c9388364af937be94",
            "592e7253ffe141f6bffcb0835ec658cd",
            "f57d6a4a39124f4d8bee275f04532c10",
            "7f9c256af81e4f8b895251c12ef2a279",
            "797a31287bae416b8b34a55a8c9583dd",
            "c541c4765b864ad3a5a586d57eff18c1",
            "a2d81b7191ff4af8bf907cd126819b6d",
            "6636a42d1c5f40a7bf2be3dc34d96414",
            "57a55871c8734554b85358dac349b61b",
            "47a668e05995497ea2a05a87a51287fe",
            "09de96e112ea4344910bb364f926dd3e",
            "76588a2422aa4c76a498f2cd36e94154",
            "f0cb3c75026641fb9e6ed2e321aac069",
            "3f02abe82c8c4854a83ae07d1cf1bb26",
            "b47acce7549b4d35a51482a5f99f9290",
            "d9774decd8fe46b584f760386429ba0d",
            "a33d720092024919a4f5c136cc7ea2ee",
            "f7f10aaa7cd44c0c9b0b6bdc3d64f51f",
            "daece35d3fa1453ca13479af334d80b8",
            "3a3ef83464f246e682e687e6fd5618a9",
            "d891825daf9f488b99f34e743ae451c4",
            "177a4ff385dc4e27bb1800cbc4391492",
            "99008b0049f34f2f89fea6378179839f",
            "457df5bb7310409e92f1e866b91d776c",
            "bb64e5637b98454fa5758724d3a1afe9"
          ]
        },
        "id": "aWZDgiyfb_eA",
        "outputId": "6be5eb52-3b7e-4ec6-e8ba-32206fc1860e"
      },
      "source": [
        "def tokenize_function(examples):\n",
        "    return tokenizer(examples[\"combined_features\"], padding=\"max_length\", truncation=True)\n",
        "\n",
        "tokenized_datasets_train = raw_datasets_train.map(tokenize_function, batched=True)\n",
        "tokenized_datasets_valid = raw_datasets_valid.map(tokenize_function, batched=True)\n",
        "tokenized_datasets_test = raw_datasets_test.map(tokenize_function, batched=True)\n",
        "\n",
        "tokenized_datasets_train = tokenized_datasets_train.remove_columns([\"__index_level_0__\", 'combined_features'])\n",
        "tokenized_datasets_valid = tokenized_datasets_valid.remove_columns([\"__index_level_0__\", 'combined_features'])\n",
        "tokenized_datasets_test = tokenized_datasets_test.remove_columns(['combined_features'])\n",
        "\n",
        "tokenized_datasets_train"
      ],
      "execution_count": null,
      "outputs": [
        {
          "output_type": "display_data",
          "data": {
            "application/vnd.jupyter.widget-view+json": {
              "model_id": "2c61e674e72541c48c514631e820d84d",
              "version_minor": 0,
              "version_major": 2
            },
            "text/plain": [
              "  0%|          | 0/17 [00:00<?, ?ba/s]"
            ]
          },
          "metadata": {}
        },
        {
          "output_type": "display_data",
          "data": {
            "application/vnd.jupyter.widget-view+json": {
              "model_id": "7f9c256af81e4f8b895251c12ef2a279",
              "version_minor": 0,
              "version_major": 2
            },
            "text/plain": [
              "  0%|          | 0/1 [00:00<?, ?ba/s]"
            ]
          },
          "metadata": {}
        },
        {
          "output_type": "display_data",
          "data": {
            "application/vnd.jupyter.widget-view+json": {
              "model_id": "b47acce7549b4d35a51482a5f99f9290",
              "version_minor": 0,
              "version_major": 2
            },
            "text/plain": [
              "  0%|          | 0/4 [00:00<?, ?ba/s]"
            ]
          },
          "metadata": {}
        },
        {
          "output_type": "execute_result",
          "data": {
            "text/plain": [
              "Dataset({\n",
              "    features: ['labels', 'input_ids', 'attention_mask'],\n",
              "    num_rows: 16596\n",
              "})"
            ]
          },
          "metadata": {},
          "execution_count": 41
        }
      ]
    },
    {
      "cell_type": "code",
      "source": [
        "tokenized_datasets_test"
      ],
      "metadata": {
        "colab": {
          "base_uri": "https://localhost:8080/"
        },
        "id": "RAzAAw-5HNl_",
        "outputId": "0759ecb1-eb2c-4200-aff7-4e98c9010997"
      },
      "execution_count": null,
      "outputs": [
        {
          "output_type": "execute_result",
          "data": {
            "text/plain": [
              "Dataset({\n",
              "    features: ['input_ids', 'attention_mask'],\n",
              "    num_rows: 3832\n",
              "})"
            ]
          },
          "metadata": {},
          "execution_count": 42
        }
      ]
    },
    {
      "cell_type": "code",
      "metadata": {
        "id": "N-5kX57Zlua7"
      },
      "source": [
        "small_dataset_size = 100\n",
        "# small_train_dataset = tokenized_datasets_train.shuffle(seed=42).select(range(small_dataset_size))\n",
        "# small_eval_dataset = tokenized_datasets_valid.shuffle(seed=42).select(range(small_dataset_size))\n",
        "# small_test_dataset = tokenized_datasets_test.shuffle(seed=42).select(range(small_dataset_size))\n",
        "\n",
        "full_train_dataset = tokenized_datasets_train\n",
        "full_eval_dataset = tokenized_datasets_valid\n",
        "full_test_dataset = tokenized_datasets_test"
      ],
      "execution_count": null,
      "outputs": []
    },
    {
      "cell_type": "code",
      "metadata": {
        "id": "8zH-6AC9v7pd"
      },
      "source": [
        "# model_bert = AutoModelForSequenceClassification.from_pretrained('bert-base-uncased', num_labels=2)\n",
        "# model_bert"
      ],
      "execution_count": null,
      "outputs": []
    },
    {
      "cell_type": "code",
      "metadata": {
        "id": "i02LUhaDws0B"
      },
      "source": [
        "# model_bert()"
      ],
      "execution_count": null,
      "outputs": []
    },
    {
      "cell_type": "code",
      "metadata": {
        "colab": {
          "base_uri": "https://localhost:8080/",
          "height": 157,
          "referenced_widgets": [
            "103945997956466192008c4f137000f6",
            "64aa4589466b49a98181e035a6066dfc",
            "6f51828b396247f58d4a572274c452b8",
            "78847d53e5c54a7a8b66430615f2203c",
            "61dcb345e0104bf5b9c188ae1258ec24",
            "23e2fd00a3034bd3b8891005e3baa493",
            "cfd483c86d4f4ff6a5251045b7194864",
            "90548ec02f3d4342bd2f7842d7c523f2",
            "b4cc2e1cbbbd4d798da2b5cee30365ef",
            "a30318fcdae94a729ddbfdacb69e1c7d",
            "06af76dbf5f64ada8f03a7fac03c168e"
          ]
        },
        "id": "lMungeHyhZLe",
        "outputId": "28094158-9b4e-4cd7-e38e-dcf1bfc26861"
      },
      "source": [
        "from transformers import AutoModelForSequenceClassification\n",
        "\n",
        "model = AutoModelForSequenceClassification.from_pretrained(model_name, num_labels=2)"
      ],
      "execution_count": null,
      "outputs": [
        {
          "output_type": "display_data",
          "data": {
            "application/vnd.jupyter.widget-view+json": {
              "model_id": "103945997956466192008c4f137000f6",
              "version_minor": 0,
              "version_major": 2
            },
            "text/plain": [
              "Downloading:   0%|          | 0.00/1.33G [00:00<?, ?B/s]"
            ]
          },
          "metadata": {}
        },
        {
          "output_type": "stream",
          "name": "stderr",
          "text": [
            "Some weights of the model checkpoint at roberta-large were not used when initializing RobertaForSequenceClassification: ['roberta.pooler.dense.bias', 'lm_head.layer_norm.weight', 'lm_head.dense.weight', 'lm_head.bias', 'lm_head.layer_norm.bias', 'roberta.pooler.dense.weight', 'lm_head.decoder.weight', 'lm_head.dense.bias']\n",
            "- This IS expected if you are initializing RobertaForSequenceClassification from the checkpoint of a model trained on another task or with another architecture (e.g. initializing a BertForSequenceClassification model from a BertForPreTraining model).\n",
            "- This IS NOT expected if you are initializing RobertaForSequenceClassification from the checkpoint of a model that you expect to be exactly identical (initializing a BertForSequenceClassification model from a BertForSequenceClassification model).\n",
            "Some weights of RobertaForSequenceClassification were not initialized from the model checkpoint at roberta-large and are newly initialized: ['classifier.dense.weight', 'classifier.out_proj.weight', 'classifier.dense.bias', 'classifier.out_proj.bias']\n",
            "You should probably TRAIN this model on a down-stream task to be able to use it for predictions and inference.\n"
          ]
        }
      ]
    },
    {
      "cell_type": "code",
      "source": [
        "full_train_dataset[0].keys()"
      ],
      "metadata": {
        "colab": {
          "base_uri": "https://localhost:8080/"
        },
        "id": "2VdkdEQSo4tS",
        "outputId": "ad36e19f-9a7b-47f6-9641-1406602a5365"
      },
      "execution_count": null,
      "outputs": [
        {
          "output_type": "execute_result",
          "data": {
            "text/plain": [
              "dict_keys(['labels', 'input_ids', 'attention_mask'])"
            ]
          },
          "metadata": {},
          "execution_count": 47
        }
      ]
    },
    {
      "cell_type": "code",
      "source": [
        "full_test_dataset[0].keys()"
      ],
      "metadata": {
        "colab": {
          "base_uri": "https://localhost:8080/"
        },
        "id": "KD_1QHVHHajc",
        "outputId": "031db2fb-7148-457c-fbfe-b4223d41a55a"
      },
      "execution_count": null,
      "outputs": [
        {
          "output_type": "execute_result",
          "data": {
            "text/plain": [
              "dict_keys(['input_ids', 'attention_mask'])"
            ]
          },
          "metadata": {},
          "execution_count": 48
        }
      ]
    },
    {
      "cell_type": "code",
      "metadata": {
        "id": "k5EdPkupplPB"
      },
      "source": [
        "from datasets import load_metric, list_metrics\n",
        "# list_metrics()"
      ],
      "execution_count": null,
      "outputs": []
    },
    {
      "cell_type": "code",
      "metadata": {
        "id": "cdptGp4Dm8bR"
      },
      "source": [
        "from transformers import TrainingArguments\n",
        "run_name = 'roberta_large_cosine_lr1e-5'\n",
        "# https://huggingface.co/transformers/main_classes/trainer.html#transformers.TrainingArguments\n",
        "training_args = TrainingArguments(run_name,\n",
        "                                  num_train_epochs=10,\n",
        "                                  save_total_limit=2,\n",
        "                                  learning_rate=1e-5,\n",
        "                                  evaluation_strategy= \"epoch\",\n",
        "                                  per_device_train_batch_size=4,\n",
        "                                  gradient_accumulation_steps=1,\n",
        "                                  warmup_steps=4000,\n",
        "                                  lr_scheduler_type='cosine') \n",
        "# , resume_from_checkpoint='full_roberta_lr5e-5' , per_device_train_batch_size=4\n",
        "# FIXME: Ali - Idea: use schedulers with different learning_rate (higher or lower) \n",
        "# TODO: Ali - add Gdrive to save checkpoints in gdrive\n",
        "# TODO: Ali - use `resume_from_checkpoint` to load model from last checkpoint"
      ],
      "execution_count": null,
      "outputs": []
    },
    {
      "cell_type": "code",
      "metadata": {
        "id": "LXbibJnDnZnG"
      },
      "source": [
        "from transformers import Trainer\n",
        "import numpy as np\n",
        "# from datasets import load_metric\n",
        "\n",
        "# f1_metric = load_metric('f1')\n",
        "\n",
        "# accuracy_metric = load_metric(\"accuracy\")"
      ],
      "execution_count": null,
      "outputs": []
    },
    {
      "cell_type": "code",
      "metadata": {
        "id": "mwoN9LSZuttE"
      },
      "source": [
        "# model.roberta.encoder"
      ],
      "execution_count": null,
      "outputs": []
    },
    {
      "cell_type": "code",
      "metadata": {
        "id": "HDZQN_NB1Oz3"
      },
      "source": [
        "# df_pcl_valid['labels'].values[:10]"
      ],
      "execution_count": null,
      "outputs": []
    },
    {
      "cell_type": "code",
      "metadata": {
        "id": "4V7bi6Sz0D0O"
      },
      "source": [
        "# f1_metric.compute(predictions=y_pred.predictions.argmax(axis=1), references=df_pcl_valid['labels'].values[10:20])"
      ],
      "execution_count": null,
      "outputs": []
    },
    {
      "cell_type": "code",
      "source": [
        "f1_history = []"
      ],
      "metadata": {
        "id": "XUlTY7eztz4a"
      },
      "execution_count": null,
      "outputs": []
    },
    {
      "cell_type": "code",
      "metadata": {
        "id": "mIVITSRYq9O9"
      },
      "source": [
        "from sklearn.metrics import f1_score\n",
        "def compute_metrics(eval_pred):\n",
        "    logits, labels = eval_pred\n",
        "    predictions = logits.argmax(axis=-1)\n",
        "    f1 = f1_score(labels, predictions, average='macro')\n",
        "    f1_history.append(f1)\n",
        "    return {'f1': f1}\n",
        "    # return f1_metric.compute(predictions=predictions, references=labels)\n",
        "\n",
        "\n",
        "trainer = Trainer(\n",
        "    model=model, args=training_args,\n",
        "    train_dataset = full_train_dataset,\n",
        "    eval_dataset = full_eval_dataset,\n",
        "    # train_dataset=small_train_dataset,\n",
        "    # eval_dataset=small_eval_dataset,\n",
        "    compute_metrics=compute_metrics,\n",
        ")"
      ],
      "execution_count": null,
      "outputs": []
    },
    {
      "cell_type": "code",
      "metadata": {
        "colab": {
          "base_uri": "https://localhost:8080/"
        },
        "id": "axhmHpAF6qSA",
        "outputId": "272522e9-0b8d-4ac8-895c-a4a4fab3d59b"
      },
      "source": [
        "!nvidia-smi"
      ],
      "execution_count": null,
      "outputs": [
        {
          "output_type": "stream",
          "name": "stdout",
          "text": [
            "Wed Feb  9 10:22:25 2022       \n",
            "+-----------------------------------------------------------------------------+\n",
            "| NVIDIA-SMI 460.32.03    Driver Version: 460.32.03    CUDA Version: 11.2     |\n",
            "|-------------------------------+----------------------+----------------------+\n",
            "| GPU  Name        Persistence-M| Bus-Id        Disp.A | Volatile Uncorr. ECC |\n",
            "| Fan  Temp  Perf  Pwr:Usage/Cap|         Memory-Usage | GPU-Util  Compute M. |\n",
            "|                               |                      |               MIG M. |\n",
            "|===============================+======================+======================|\n",
            "|   0  Tesla P100-PCIE...  Off  | 00000000:00:04.0 Off |                    0 |\n",
            "| N/A   32C    P0    32W / 250W |   2489MiB / 16280MiB |      5%      Default |\n",
            "|                               |                      |                  N/A |\n",
            "+-------------------------------+----------------------+----------------------+\n",
            "                                                                               \n",
            "+-----------------------------------------------------------------------------+\n",
            "| Processes:                                                                  |\n",
            "|  GPU   GI   CI        PID   Type   Process name                  GPU Memory |\n",
            "|        ID   ID                                                   Usage      |\n",
            "|=============================================================================|\n",
            "+-----------------------------------------------------------------------------+\n"
          ]
        }
      ]
    },
    {
      "cell_type": "code",
      "metadata": {
        "id": "XvAi8aPGlSgG"
      },
      "source": [
        "# from google.colab import drive\n",
        "# drive.mount('/content/drive')"
      ],
      "execution_count": null,
      "outputs": []
    },
    {
      "cell_type": "code",
      "metadata": {
        "id": "QnzZb9Q548zR"
      },
      "source": [
        "# Wandb accces code: 6eac997ed11cad663510778e5e1c33388cdac6c5\n",
        "# swswswswsw"
      ],
      "execution_count": null,
      "outputs": []
    },
    {
      "cell_type": "code",
      "metadata": {
        "id": "qOawyaSMWuan"
      },
      "source": [
        "# import gc\n",
        "# gc.collect()\n",
        "# torch.cuda.empty_cache()"
      ],
      "execution_count": null,
      "outputs": []
    },
    {
      "cell_type": "code",
      "metadata": {
        "colab": {
          "base_uri": "https://localhost:8080/",
          "height": 1000
        },
        "id": "U9pCqU9MeWh1",
        "outputId": "8c0dde93-8bdc-4531-928b-4f4dc1e88af3"
      },
      "source": [
        "trainer.train()"
      ],
      "execution_count": null,
      "outputs": [
        {
          "output_type": "stream",
          "name": "stderr",
          "text": [
            "/usr/local/lib/python3.7/dist-packages/transformers/optimization.py:309: FutureWarning: This implementation of AdamW is deprecated and will be removed in a future version. Use thePyTorch implementation torch.optim.AdamW instead, or set `no_deprecation_warning=True` to disable this warning\n",
            "  FutureWarning,\n",
            "***** Running training *****\n",
            "  Num examples = 16596\n",
            "  Num Epochs = 10\n",
            "  Instantaneous batch size per device = 4\n",
            "  Total train batch size (w. parallel, distributed & accumulation) = 4\n",
            "  Gradient Accumulation steps = 1\n",
            "  Total optimization steps = 41490\n"
          ]
        },
        {
          "output_type": "display_data",
          "data": {
            "text/html": [
              "\n",
              "    <div>\n",
              "      \n",
              "      <progress value='41490' max='41490' style='width:300px; height:20px; vertical-align: middle;'></progress>\n",
              "      [41490/41490 10:14:54, Epoch 10/10]\n",
              "    </div>\n",
              "    <table border=\"1\" class=\"dataframe\">\n",
              "  <thead>\n",
              " <tr style=\"text-align: left;\">\n",
              "      <th>Epoch</th>\n",
              "      <th>Training Loss</th>\n",
              "      <th>Validation Loss</th>\n",
              "      <th>F1</th>\n",
              "    </tr>\n",
              "  </thead>\n",
              "  <tbody>\n",
              "    <tr>\n",
              "      <td>1</td>\n",
              "      <td>0.376600</td>\n",
              "      <td>0.450121</td>\n",
              "      <td>0.782122</td>\n",
              "    </tr>\n",
              "    <tr>\n",
              "      <td>2</td>\n",
              "      <td>0.135300</td>\n",
              "      <td>0.655485</td>\n",
              "      <td>0.771216</td>\n",
              "    </tr>\n",
              "    <tr>\n",
              "      <td>3</td>\n",
              "      <td>0.075200</td>\n",
              "      <td>0.548950</td>\n",
              "      <td>0.802662</td>\n",
              "    </tr>\n",
              "    <tr>\n",
              "      <td>4</td>\n",
              "      <td>0.065200</td>\n",
              "      <td>0.619344</td>\n",
              "      <td>0.784680</td>\n",
              "    </tr>\n",
              "    <tr>\n",
              "      <td>5</td>\n",
              "      <td>0.035600</td>\n",
              "      <td>0.715683</td>\n",
              "      <td>0.785156</td>\n",
              "    </tr>\n",
              "    <tr>\n",
              "      <td>6</td>\n",
              "      <td>0.021400</td>\n",
              "      <td>0.831294</td>\n",
              "      <td>0.755800</td>\n",
              "    </tr>\n",
              "    <tr>\n",
              "      <td>7</td>\n",
              "      <td>0.010300</td>\n",
              "      <td>0.799689</td>\n",
              "      <td>0.776045</td>\n",
              "    </tr>\n",
              "    <tr>\n",
              "      <td>8</td>\n",
              "      <td>0.000000</td>\n",
              "      <td>0.989604</td>\n",
              "      <td>0.753804</td>\n",
              "    </tr>\n",
              "    <tr>\n",
              "      <td>9</td>\n",
              "      <td>0.000000</td>\n",
              "      <td>0.982491</td>\n",
              "      <td>0.760199</td>\n",
              "    </tr>\n",
              "    <tr>\n",
              "      <td>10</td>\n",
              "      <td>0.000000</td>\n",
              "      <td>0.980676</td>\n",
              "      <td>0.759565</td>\n",
              "    </tr>\n",
              "  </tbody>\n",
              "</table><p>"
            ],
            "text/plain": [
              "<IPython.core.display.HTML object>"
            ]
          },
          "metadata": {}
        },
        {
          "output_type": "stream",
          "name": "stderr",
          "text": [
            "Saving model checkpoint to roberta_large_cosine_lr1e-5/checkpoint-500\n",
            "Configuration saved in roberta_large_cosine_lr1e-5/checkpoint-500/config.json\n",
            "Model weights saved in roberta_large_cosine_lr1e-5/checkpoint-500/pytorch_model.bin\n",
            "Saving model checkpoint to roberta_large_cosine_lr1e-5/checkpoint-1000\n",
            "Configuration saved in roberta_large_cosine_lr1e-5/checkpoint-1000/config.json\n",
            "Model weights saved in roberta_large_cosine_lr1e-5/checkpoint-1000/pytorch_model.bin\n",
            "Saving model checkpoint to roberta_large_cosine_lr1e-5/checkpoint-1500\n",
            "Configuration saved in roberta_large_cosine_lr1e-5/checkpoint-1500/config.json\n",
            "Model weights saved in roberta_large_cosine_lr1e-5/checkpoint-1500/pytorch_model.bin\n",
            "Deleting older checkpoint [roberta_large_cosine_lr1e-5/checkpoint-500] due to args.save_total_limit\n",
            "Saving model checkpoint to roberta_large_cosine_lr1e-5/checkpoint-2000\n",
            "Configuration saved in roberta_large_cosine_lr1e-5/checkpoint-2000/config.json\n",
            "Model weights saved in roberta_large_cosine_lr1e-5/checkpoint-2000/pytorch_model.bin\n",
            "Deleting older checkpoint [roberta_large_cosine_lr1e-5/checkpoint-1000] due to args.save_total_limit\n",
            "Saving model checkpoint to roberta_large_cosine_lr1e-5/checkpoint-2500\n",
            "Configuration saved in roberta_large_cosine_lr1e-5/checkpoint-2500/config.json\n",
            "Model weights saved in roberta_large_cosine_lr1e-5/checkpoint-2500/pytorch_model.bin\n",
            "Deleting older checkpoint [roberta_large_cosine_lr1e-5/checkpoint-1500] due to args.save_total_limit\n",
            "Saving model checkpoint to roberta_large_cosine_lr1e-5/checkpoint-3000\n",
            "Configuration saved in roberta_large_cosine_lr1e-5/checkpoint-3000/config.json\n",
            "Model weights saved in roberta_large_cosine_lr1e-5/checkpoint-3000/pytorch_model.bin\n",
            "Deleting older checkpoint [roberta_large_cosine_lr1e-5/checkpoint-2000] due to args.save_total_limit\n",
            "Saving model checkpoint to roberta_large_cosine_lr1e-5/checkpoint-3500\n",
            "Configuration saved in roberta_large_cosine_lr1e-5/checkpoint-3500/config.json\n",
            "Model weights saved in roberta_large_cosine_lr1e-5/checkpoint-3500/pytorch_model.bin\n",
            "Deleting older checkpoint [roberta_large_cosine_lr1e-5/checkpoint-2500] due to args.save_total_limit\n",
            "Saving model checkpoint to roberta_large_cosine_lr1e-5/checkpoint-4000\n",
            "Configuration saved in roberta_large_cosine_lr1e-5/checkpoint-4000/config.json\n",
            "Model weights saved in roberta_large_cosine_lr1e-5/checkpoint-4000/pytorch_model.bin\n",
            "Deleting older checkpoint [roberta_large_cosine_lr1e-5/checkpoint-3000] due to args.save_total_limit\n",
            "***** Running Evaluation *****\n",
            "  Num examples = 1000\n",
            "  Batch size = 8\n",
            "Saving model checkpoint to roberta_large_cosine_lr1e-5/checkpoint-4500\n",
            "Configuration saved in roberta_large_cosine_lr1e-5/checkpoint-4500/config.json\n",
            "Model weights saved in roberta_large_cosine_lr1e-5/checkpoint-4500/pytorch_model.bin\n",
            "Deleting older checkpoint [roberta_large_cosine_lr1e-5/checkpoint-3500] due to args.save_total_limit\n",
            "Saving model checkpoint to roberta_large_cosine_lr1e-5/checkpoint-5000\n",
            "Configuration saved in roberta_large_cosine_lr1e-5/checkpoint-5000/config.json\n",
            "Model weights saved in roberta_large_cosine_lr1e-5/checkpoint-5000/pytorch_model.bin\n",
            "Deleting older checkpoint [roberta_large_cosine_lr1e-5/checkpoint-4000] due to args.save_total_limit\n",
            "Saving model checkpoint to roberta_large_cosine_lr1e-5/checkpoint-5500\n",
            "Configuration saved in roberta_large_cosine_lr1e-5/checkpoint-5500/config.json\n",
            "Model weights saved in roberta_large_cosine_lr1e-5/checkpoint-5500/pytorch_model.bin\n",
            "Deleting older checkpoint [roberta_large_cosine_lr1e-5/checkpoint-4500] due to args.save_total_limit\n",
            "Saving model checkpoint to roberta_large_cosine_lr1e-5/checkpoint-6000\n",
            "Configuration saved in roberta_large_cosine_lr1e-5/checkpoint-6000/config.json\n",
            "Model weights saved in roberta_large_cosine_lr1e-5/checkpoint-6000/pytorch_model.bin\n",
            "Deleting older checkpoint [roberta_large_cosine_lr1e-5/checkpoint-5000] due to args.save_total_limit\n",
            "Saving model checkpoint to roberta_large_cosine_lr1e-5/checkpoint-6500\n",
            "Configuration saved in roberta_large_cosine_lr1e-5/checkpoint-6500/config.json\n",
            "Model weights saved in roberta_large_cosine_lr1e-5/checkpoint-6500/pytorch_model.bin\n",
            "Deleting older checkpoint [roberta_large_cosine_lr1e-5/checkpoint-5500] due to args.save_total_limit\n",
            "Saving model checkpoint to roberta_large_cosine_lr1e-5/checkpoint-7000\n",
            "Configuration saved in roberta_large_cosine_lr1e-5/checkpoint-7000/config.json\n",
            "Model weights saved in roberta_large_cosine_lr1e-5/checkpoint-7000/pytorch_model.bin\n",
            "Deleting older checkpoint [roberta_large_cosine_lr1e-5/checkpoint-6000] due to args.save_total_limit\n",
            "Saving model checkpoint to roberta_large_cosine_lr1e-5/checkpoint-7500\n",
            "Configuration saved in roberta_large_cosine_lr1e-5/checkpoint-7500/config.json\n",
            "Model weights saved in roberta_large_cosine_lr1e-5/checkpoint-7500/pytorch_model.bin\n",
            "Deleting older checkpoint [roberta_large_cosine_lr1e-5/checkpoint-6500] due to args.save_total_limit\n",
            "Saving model checkpoint to roberta_large_cosine_lr1e-5/checkpoint-8000\n",
            "Configuration saved in roberta_large_cosine_lr1e-5/checkpoint-8000/config.json\n",
            "Model weights saved in roberta_large_cosine_lr1e-5/checkpoint-8000/pytorch_model.bin\n",
            "Deleting older checkpoint [roberta_large_cosine_lr1e-5/checkpoint-7000] due to args.save_total_limit\n",
            "***** Running Evaluation *****\n",
            "  Num examples = 1000\n",
            "  Batch size = 8\n",
            "Saving model checkpoint to roberta_large_cosine_lr1e-5/checkpoint-8500\n",
            "Configuration saved in roberta_large_cosine_lr1e-5/checkpoint-8500/config.json\n",
            "Model weights saved in roberta_large_cosine_lr1e-5/checkpoint-8500/pytorch_model.bin\n",
            "Deleting older checkpoint [roberta_large_cosine_lr1e-5/checkpoint-7500] due to args.save_total_limit\n",
            "Saving model checkpoint to roberta_large_cosine_lr1e-5/checkpoint-9000\n",
            "Configuration saved in roberta_large_cosine_lr1e-5/checkpoint-9000/config.json\n",
            "Model weights saved in roberta_large_cosine_lr1e-5/checkpoint-9000/pytorch_model.bin\n",
            "Deleting older checkpoint [roberta_large_cosine_lr1e-5/checkpoint-8000] due to args.save_total_limit\n",
            "Saving model checkpoint to roberta_large_cosine_lr1e-5/checkpoint-9500\n",
            "Configuration saved in roberta_large_cosine_lr1e-5/checkpoint-9500/config.json\n",
            "Model weights saved in roberta_large_cosine_lr1e-5/checkpoint-9500/pytorch_model.bin\n",
            "Deleting older checkpoint [roberta_large_cosine_lr1e-5/checkpoint-8500] due to args.save_total_limit\n",
            "Saving model checkpoint to roberta_large_cosine_lr1e-5/checkpoint-10000\n",
            "Configuration saved in roberta_large_cosine_lr1e-5/checkpoint-10000/config.json\n",
            "Model weights saved in roberta_large_cosine_lr1e-5/checkpoint-10000/pytorch_model.bin\n",
            "Deleting older checkpoint [roberta_large_cosine_lr1e-5/checkpoint-9000] due to args.save_total_limit\n",
            "Saving model checkpoint to roberta_large_cosine_lr1e-5/checkpoint-10500\n",
            "Configuration saved in roberta_large_cosine_lr1e-5/checkpoint-10500/config.json\n",
            "Model weights saved in roberta_large_cosine_lr1e-5/checkpoint-10500/pytorch_model.bin\n",
            "Deleting older checkpoint [roberta_large_cosine_lr1e-5/checkpoint-9500] due to args.save_total_limit\n",
            "Saving model checkpoint to roberta_large_cosine_lr1e-5/checkpoint-11000\n",
            "Configuration saved in roberta_large_cosine_lr1e-5/checkpoint-11000/config.json\n",
            "Model weights saved in roberta_large_cosine_lr1e-5/checkpoint-11000/pytorch_model.bin\n",
            "Deleting older checkpoint [roberta_large_cosine_lr1e-5/checkpoint-10000] due to args.save_total_limit\n",
            "Saving model checkpoint to roberta_large_cosine_lr1e-5/checkpoint-11500\n",
            "Configuration saved in roberta_large_cosine_lr1e-5/checkpoint-11500/config.json\n",
            "Model weights saved in roberta_large_cosine_lr1e-5/checkpoint-11500/pytorch_model.bin\n",
            "Deleting older checkpoint [roberta_large_cosine_lr1e-5/checkpoint-10500] due to args.save_total_limit\n",
            "Saving model checkpoint to roberta_large_cosine_lr1e-5/checkpoint-12000\n",
            "Configuration saved in roberta_large_cosine_lr1e-5/checkpoint-12000/config.json\n",
            "Model weights saved in roberta_large_cosine_lr1e-5/checkpoint-12000/pytorch_model.bin\n",
            "Deleting older checkpoint [roberta_large_cosine_lr1e-5/checkpoint-11000] due to args.save_total_limit\n",
            "***** Running Evaluation *****\n",
            "  Num examples = 1000\n",
            "  Batch size = 8\n",
            "Saving model checkpoint to roberta_large_cosine_lr1e-5/checkpoint-12500\n",
            "Configuration saved in roberta_large_cosine_lr1e-5/checkpoint-12500/config.json\n",
            "Model weights saved in roberta_large_cosine_lr1e-5/checkpoint-12500/pytorch_model.bin\n",
            "Deleting older checkpoint [roberta_large_cosine_lr1e-5/checkpoint-11500] due to args.save_total_limit\n",
            "Saving model checkpoint to roberta_large_cosine_lr1e-5/checkpoint-13000\n",
            "Configuration saved in roberta_large_cosine_lr1e-5/checkpoint-13000/config.json\n",
            "Model weights saved in roberta_large_cosine_lr1e-5/checkpoint-13000/pytorch_model.bin\n",
            "Deleting older checkpoint [roberta_large_cosine_lr1e-5/checkpoint-12000] due to args.save_total_limit\n",
            "Saving model checkpoint to roberta_large_cosine_lr1e-5/checkpoint-13500\n",
            "Configuration saved in roberta_large_cosine_lr1e-5/checkpoint-13500/config.json\n",
            "Model weights saved in roberta_large_cosine_lr1e-5/checkpoint-13500/pytorch_model.bin\n",
            "Deleting older checkpoint [roberta_large_cosine_lr1e-5/checkpoint-12500] due to args.save_total_limit\n",
            "Saving model checkpoint to roberta_large_cosine_lr1e-5/checkpoint-14000\n",
            "Configuration saved in roberta_large_cosine_lr1e-5/checkpoint-14000/config.json\n",
            "Model weights saved in roberta_large_cosine_lr1e-5/checkpoint-14000/pytorch_model.bin\n",
            "Deleting older checkpoint [roberta_large_cosine_lr1e-5/checkpoint-13000] due to args.save_total_limit\n",
            "Saving model checkpoint to roberta_large_cosine_lr1e-5/checkpoint-14500\n",
            "Configuration saved in roberta_large_cosine_lr1e-5/checkpoint-14500/config.json\n",
            "Model weights saved in roberta_large_cosine_lr1e-5/checkpoint-14500/pytorch_model.bin\n",
            "Deleting older checkpoint [roberta_large_cosine_lr1e-5/checkpoint-13500] due to args.save_total_limit\n",
            "Saving model checkpoint to roberta_large_cosine_lr1e-5/checkpoint-15000\n",
            "Configuration saved in roberta_large_cosine_lr1e-5/checkpoint-15000/config.json\n",
            "Model weights saved in roberta_large_cosine_lr1e-5/checkpoint-15000/pytorch_model.bin\n",
            "Deleting older checkpoint [roberta_large_cosine_lr1e-5/checkpoint-14000] due to args.save_total_limit\n",
            "Saving model checkpoint to roberta_large_cosine_lr1e-5/checkpoint-15500\n",
            "Configuration saved in roberta_large_cosine_lr1e-5/checkpoint-15500/config.json\n",
            "Model weights saved in roberta_large_cosine_lr1e-5/checkpoint-15500/pytorch_model.bin\n",
            "Deleting older checkpoint [roberta_large_cosine_lr1e-5/checkpoint-14500] due to args.save_total_limit\n",
            "Saving model checkpoint to roberta_large_cosine_lr1e-5/checkpoint-16000\n",
            "Configuration saved in roberta_large_cosine_lr1e-5/checkpoint-16000/config.json\n",
            "Model weights saved in roberta_large_cosine_lr1e-5/checkpoint-16000/pytorch_model.bin\n",
            "Deleting older checkpoint [roberta_large_cosine_lr1e-5/checkpoint-15000] due to args.save_total_limit\n",
            "Saving model checkpoint to roberta_large_cosine_lr1e-5/checkpoint-16500\n",
            "Configuration saved in roberta_large_cosine_lr1e-5/checkpoint-16500/config.json\n",
            "Model weights saved in roberta_large_cosine_lr1e-5/checkpoint-16500/pytorch_model.bin\n",
            "Deleting older checkpoint [roberta_large_cosine_lr1e-5/checkpoint-15500] due to args.save_total_limit\n",
            "***** Running Evaluation *****\n",
            "  Num examples = 1000\n",
            "  Batch size = 8\n",
            "Saving model checkpoint to roberta_large_cosine_lr1e-5/checkpoint-17000\n",
            "Configuration saved in roberta_large_cosine_lr1e-5/checkpoint-17000/config.json\n",
            "Model weights saved in roberta_large_cosine_lr1e-5/checkpoint-17000/pytorch_model.bin\n",
            "Deleting older checkpoint [roberta_large_cosine_lr1e-5/checkpoint-16000] due to args.save_total_limit\n",
            "Saving model checkpoint to roberta_large_cosine_lr1e-5/checkpoint-17500\n",
            "Configuration saved in roberta_large_cosine_lr1e-5/checkpoint-17500/config.json\n",
            "Model weights saved in roberta_large_cosine_lr1e-5/checkpoint-17500/pytorch_model.bin\n",
            "Deleting older checkpoint [roberta_large_cosine_lr1e-5/checkpoint-16500] due to args.save_total_limit\n",
            "Saving model checkpoint to roberta_large_cosine_lr1e-5/checkpoint-18000\n",
            "Configuration saved in roberta_large_cosine_lr1e-5/checkpoint-18000/config.json\n",
            "Model weights saved in roberta_large_cosine_lr1e-5/checkpoint-18000/pytorch_model.bin\n",
            "Deleting older checkpoint [roberta_large_cosine_lr1e-5/checkpoint-17000] due to args.save_total_limit\n",
            "Saving model checkpoint to roberta_large_cosine_lr1e-5/checkpoint-18500\n",
            "Configuration saved in roberta_large_cosine_lr1e-5/checkpoint-18500/config.json\n",
            "Model weights saved in roberta_large_cosine_lr1e-5/checkpoint-18500/pytorch_model.bin\n",
            "Deleting older checkpoint [roberta_large_cosine_lr1e-5/checkpoint-17500] due to args.save_total_limit\n",
            "Saving model checkpoint to roberta_large_cosine_lr1e-5/checkpoint-19000\n",
            "Configuration saved in roberta_large_cosine_lr1e-5/checkpoint-19000/config.json\n",
            "Model weights saved in roberta_large_cosine_lr1e-5/checkpoint-19000/pytorch_model.bin\n",
            "Deleting older checkpoint [roberta_large_cosine_lr1e-5/checkpoint-18000] due to args.save_total_limit\n",
            "Saving model checkpoint to roberta_large_cosine_lr1e-5/checkpoint-19500\n",
            "Configuration saved in roberta_large_cosine_lr1e-5/checkpoint-19500/config.json\n",
            "Model weights saved in roberta_large_cosine_lr1e-5/checkpoint-19500/pytorch_model.bin\n",
            "Deleting older checkpoint [roberta_large_cosine_lr1e-5/checkpoint-18500] due to args.save_total_limit\n",
            "Saving model checkpoint to roberta_large_cosine_lr1e-5/checkpoint-20000\n",
            "Configuration saved in roberta_large_cosine_lr1e-5/checkpoint-20000/config.json\n",
            "Model weights saved in roberta_large_cosine_lr1e-5/checkpoint-20000/pytorch_model.bin\n",
            "Deleting older checkpoint [roberta_large_cosine_lr1e-5/checkpoint-19000] due to args.save_total_limit\n",
            "Saving model checkpoint to roberta_large_cosine_lr1e-5/checkpoint-20500\n",
            "Configuration saved in roberta_large_cosine_lr1e-5/checkpoint-20500/config.json\n",
            "Model weights saved in roberta_large_cosine_lr1e-5/checkpoint-20500/pytorch_model.bin\n",
            "Deleting older checkpoint [roberta_large_cosine_lr1e-5/checkpoint-19500] due to args.save_total_limit\n",
            "***** Running Evaluation *****\n",
            "  Num examples = 1000\n",
            "  Batch size = 8\n",
            "Saving model checkpoint to roberta_large_cosine_lr1e-5/checkpoint-21000\n",
            "Configuration saved in roberta_large_cosine_lr1e-5/checkpoint-21000/config.json\n",
            "Model weights saved in roberta_large_cosine_lr1e-5/checkpoint-21000/pytorch_model.bin\n",
            "Deleting older checkpoint [roberta_large_cosine_lr1e-5/checkpoint-20000] due to args.save_total_limit\n",
            "Saving model checkpoint to roberta_large_cosine_lr1e-5/checkpoint-21500\n",
            "Configuration saved in roberta_large_cosine_lr1e-5/checkpoint-21500/config.json\n",
            "Model weights saved in roberta_large_cosine_lr1e-5/checkpoint-21500/pytorch_model.bin\n",
            "Deleting older checkpoint [roberta_large_cosine_lr1e-5/checkpoint-20500] due to args.save_total_limit\n",
            "Saving model checkpoint to roberta_large_cosine_lr1e-5/checkpoint-22000\n",
            "Configuration saved in roberta_large_cosine_lr1e-5/checkpoint-22000/config.json\n",
            "Model weights saved in roberta_large_cosine_lr1e-5/checkpoint-22000/pytorch_model.bin\n",
            "Deleting older checkpoint [roberta_large_cosine_lr1e-5/checkpoint-21000] due to args.save_total_limit\n",
            "Saving model checkpoint to roberta_large_cosine_lr1e-5/checkpoint-22500\n",
            "Configuration saved in roberta_large_cosine_lr1e-5/checkpoint-22500/config.json\n",
            "Model weights saved in roberta_large_cosine_lr1e-5/checkpoint-22500/pytorch_model.bin\n",
            "Deleting older checkpoint [roberta_large_cosine_lr1e-5/checkpoint-21500] due to args.save_total_limit\n",
            "Saving model checkpoint to roberta_large_cosine_lr1e-5/checkpoint-23000\n",
            "Configuration saved in roberta_large_cosine_lr1e-5/checkpoint-23000/config.json\n",
            "Model weights saved in roberta_large_cosine_lr1e-5/checkpoint-23000/pytorch_model.bin\n",
            "Deleting older checkpoint [roberta_large_cosine_lr1e-5/checkpoint-22000] due to args.save_total_limit\n",
            "Saving model checkpoint to roberta_large_cosine_lr1e-5/checkpoint-23500\n",
            "Configuration saved in roberta_large_cosine_lr1e-5/checkpoint-23500/config.json\n",
            "Model weights saved in roberta_large_cosine_lr1e-5/checkpoint-23500/pytorch_model.bin\n",
            "Deleting older checkpoint [roberta_large_cosine_lr1e-5/checkpoint-22500] due to args.save_total_limit\n",
            "Saving model checkpoint to roberta_large_cosine_lr1e-5/checkpoint-24000\n",
            "Configuration saved in roberta_large_cosine_lr1e-5/checkpoint-24000/config.json\n",
            "Model weights saved in roberta_large_cosine_lr1e-5/checkpoint-24000/pytorch_model.bin\n",
            "Deleting older checkpoint [roberta_large_cosine_lr1e-5/checkpoint-23000] due to args.save_total_limit\n",
            "Saving model checkpoint to roberta_large_cosine_lr1e-5/checkpoint-24500\n",
            "Configuration saved in roberta_large_cosine_lr1e-5/checkpoint-24500/config.json\n",
            "Model weights saved in roberta_large_cosine_lr1e-5/checkpoint-24500/pytorch_model.bin\n",
            "Deleting older checkpoint [roberta_large_cosine_lr1e-5/checkpoint-23500] due to args.save_total_limit\n",
            "***** Running Evaluation *****\n",
            "  Num examples = 1000\n",
            "  Batch size = 8\n",
            "Saving model checkpoint to roberta_large_cosine_lr1e-5/checkpoint-25000\n",
            "Configuration saved in roberta_large_cosine_lr1e-5/checkpoint-25000/config.json\n",
            "Model weights saved in roberta_large_cosine_lr1e-5/checkpoint-25000/pytorch_model.bin\n",
            "Deleting older checkpoint [roberta_large_cosine_lr1e-5/checkpoint-24000] due to args.save_total_limit\n",
            "Saving model checkpoint to roberta_large_cosine_lr1e-5/checkpoint-25500\n",
            "Configuration saved in roberta_large_cosine_lr1e-5/checkpoint-25500/config.json\n",
            "Model weights saved in roberta_large_cosine_lr1e-5/checkpoint-25500/pytorch_model.bin\n",
            "Deleting older checkpoint [roberta_large_cosine_lr1e-5/checkpoint-24500] due to args.save_total_limit\n",
            "Saving model checkpoint to roberta_large_cosine_lr1e-5/checkpoint-26000\n",
            "Configuration saved in roberta_large_cosine_lr1e-5/checkpoint-26000/config.json\n",
            "Model weights saved in roberta_large_cosine_lr1e-5/checkpoint-26000/pytorch_model.bin\n",
            "Deleting older checkpoint [roberta_large_cosine_lr1e-5/checkpoint-25000] due to args.save_total_limit\n",
            "Saving model checkpoint to roberta_large_cosine_lr1e-5/checkpoint-26500\n",
            "Configuration saved in roberta_large_cosine_lr1e-5/checkpoint-26500/config.json\n",
            "Model weights saved in roberta_large_cosine_lr1e-5/checkpoint-26500/pytorch_model.bin\n",
            "Deleting older checkpoint [roberta_large_cosine_lr1e-5/checkpoint-25500] due to args.save_total_limit\n",
            "Saving model checkpoint to roberta_large_cosine_lr1e-5/checkpoint-27000\n",
            "Configuration saved in roberta_large_cosine_lr1e-5/checkpoint-27000/config.json\n",
            "Model weights saved in roberta_large_cosine_lr1e-5/checkpoint-27000/pytorch_model.bin\n",
            "Deleting older checkpoint [roberta_large_cosine_lr1e-5/checkpoint-26000] due to args.save_total_limit\n",
            "Saving model checkpoint to roberta_large_cosine_lr1e-5/checkpoint-27500\n",
            "Configuration saved in roberta_large_cosine_lr1e-5/checkpoint-27500/config.json\n",
            "Model weights saved in roberta_large_cosine_lr1e-5/checkpoint-27500/pytorch_model.bin\n",
            "Deleting older checkpoint [roberta_large_cosine_lr1e-5/checkpoint-26500] due to args.save_total_limit\n",
            "Saving model checkpoint to roberta_large_cosine_lr1e-5/checkpoint-28000\n",
            "Configuration saved in roberta_large_cosine_lr1e-5/checkpoint-28000/config.json\n",
            "Model weights saved in roberta_large_cosine_lr1e-5/checkpoint-28000/pytorch_model.bin\n",
            "Deleting older checkpoint [roberta_large_cosine_lr1e-5/checkpoint-27000] due to args.save_total_limit\n",
            "Saving model checkpoint to roberta_large_cosine_lr1e-5/checkpoint-28500\n",
            "Configuration saved in roberta_large_cosine_lr1e-5/checkpoint-28500/config.json\n",
            "Model weights saved in roberta_large_cosine_lr1e-5/checkpoint-28500/pytorch_model.bin\n",
            "Deleting older checkpoint [roberta_large_cosine_lr1e-5/checkpoint-27500] due to args.save_total_limit\n",
            "Saving model checkpoint to roberta_large_cosine_lr1e-5/checkpoint-29000\n",
            "Configuration saved in roberta_large_cosine_lr1e-5/checkpoint-29000/config.json\n",
            "Model weights saved in roberta_large_cosine_lr1e-5/checkpoint-29000/pytorch_model.bin\n",
            "Deleting older checkpoint [roberta_large_cosine_lr1e-5/checkpoint-28000] due to args.save_total_limit\n",
            "***** Running Evaluation *****\n",
            "  Num examples = 1000\n",
            "  Batch size = 8\n",
            "Saving model checkpoint to roberta_large_cosine_lr1e-5/checkpoint-29500\n",
            "Configuration saved in roberta_large_cosine_lr1e-5/checkpoint-29500/config.json\n",
            "Model weights saved in roberta_large_cosine_lr1e-5/checkpoint-29500/pytorch_model.bin\n",
            "Deleting older checkpoint [roberta_large_cosine_lr1e-5/checkpoint-28500] due to args.save_total_limit\n",
            "Saving model checkpoint to roberta_large_cosine_lr1e-5/checkpoint-30000\n",
            "Configuration saved in roberta_large_cosine_lr1e-5/checkpoint-30000/config.json\n",
            "Model weights saved in roberta_large_cosine_lr1e-5/checkpoint-30000/pytorch_model.bin\n",
            "Deleting older checkpoint [roberta_large_cosine_lr1e-5/checkpoint-29000] due to args.save_total_limit\n",
            "Saving model checkpoint to roberta_large_cosine_lr1e-5/checkpoint-30500\n",
            "Configuration saved in roberta_large_cosine_lr1e-5/checkpoint-30500/config.json\n",
            "Model weights saved in roberta_large_cosine_lr1e-5/checkpoint-30500/pytorch_model.bin\n",
            "Deleting older checkpoint [roberta_large_cosine_lr1e-5/checkpoint-29500] due to args.save_total_limit\n",
            "Saving model checkpoint to roberta_large_cosine_lr1e-5/checkpoint-31000\n",
            "Configuration saved in roberta_large_cosine_lr1e-5/checkpoint-31000/config.json\n",
            "Model weights saved in roberta_large_cosine_lr1e-5/checkpoint-31000/pytorch_model.bin\n",
            "Deleting older checkpoint [roberta_large_cosine_lr1e-5/checkpoint-30000] due to args.save_total_limit\n",
            "Saving model checkpoint to roberta_large_cosine_lr1e-5/checkpoint-31500\n",
            "Configuration saved in roberta_large_cosine_lr1e-5/checkpoint-31500/config.json\n",
            "Model weights saved in roberta_large_cosine_lr1e-5/checkpoint-31500/pytorch_model.bin\n",
            "Deleting older checkpoint [roberta_large_cosine_lr1e-5/checkpoint-30500] due to args.save_total_limit\n",
            "Saving model checkpoint to roberta_large_cosine_lr1e-5/checkpoint-32000\n",
            "Configuration saved in roberta_large_cosine_lr1e-5/checkpoint-32000/config.json\n",
            "Model weights saved in roberta_large_cosine_lr1e-5/checkpoint-32000/pytorch_model.bin\n",
            "Deleting older checkpoint [roberta_large_cosine_lr1e-5/checkpoint-31000] due to args.save_total_limit\n",
            "Saving model checkpoint to roberta_large_cosine_lr1e-5/checkpoint-32500\n",
            "Configuration saved in roberta_large_cosine_lr1e-5/checkpoint-32500/config.json\n",
            "Model weights saved in roberta_large_cosine_lr1e-5/checkpoint-32500/pytorch_model.bin\n",
            "Deleting older checkpoint [roberta_large_cosine_lr1e-5/checkpoint-31500] due to args.save_total_limit\n",
            "Saving model checkpoint to roberta_large_cosine_lr1e-5/checkpoint-33000\n",
            "Configuration saved in roberta_large_cosine_lr1e-5/checkpoint-33000/config.json\n",
            "Model weights saved in roberta_large_cosine_lr1e-5/checkpoint-33000/pytorch_model.bin\n",
            "Deleting older checkpoint [roberta_large_cosine_lr1e-5/checkpoint-32000] due to args.save_total_limit\n",
            "***** Running Evaluation *****\n",
            "  Num examples = 1000\n",
            "  Batch size = 8\n",
            "Saving model checkpoint to roberta_large_cosine_lr1e-5/checkpoint-33500\n",
            "Configuration saved in roberta_large_cosine_lr1e-5/checkpoint-33500/config.json\n",
            "Model weights saved in roberta_large_cosine_lr1e-5/checkpoint-33500/pytorch_model.bin\n",
            "Deleting older checkpoint [roberta_large_cosine_lr1e-5/checkpoint-32500] due to args.save_total_limit\n",
            "Saving model checkpoint to roberta_large_cosine_lr1e-5/checkpoint-34000\n",
            "Configuration saved in roberta_large_cosine_lr1e-5/checkpoint-34000/config.json\n",
            "Model weights saved in roberta_large_cosine_lr1e-5/checkpoint-34000/pytorch_model.bin\n",
            "Deleting older checkpoint [roberta_large_cosine_lr1e-5/checkpoint-33000] due to args.save_total_limit\n",
            "Saving model checkpoint to roberta_large_cosine_lr1e-5/checkpoint-34500\n",
            "Configuration saved in roberta_large_cosine_lr1e-5/checkpoint-34500/config.json\n",
            "Model weights saved in roberta_large_cosine_lr1e-5/checkpoint-34500/pytorch_model.bin\n",
            "Deleting older checkpoint [roberta_large_cosine_lr1e-5/checkpoint-33500] due to args.save_total_limit\n",
            "Saving model checkpoint to roberta_large_cosine_lr1e-5/checkpoint-35000\n",
            "Configuration saved in roberta_large_cosine_lr1e-5/checkpoint-35000/config.json\n",
            "Model weights saved in roberta_large_cosine_lr1e-5/checkpoint-35000/pytorch_model.bin\n",
            "Deleting older checkpoint [roberta_large_cosine_lr1e-5/checkpoint-34000] due to args.save_total_limit\n",
            "Saving model checkpoint to roberta_large_cosine_lr1e-5/checkpoint-35500\n",
            "Configuration saved in roberta_large_cosine_lr1e-5/checkpoint-35500/config.json\n",
            "Model weights saved in roberta_large_cosine_lr1e-5/checkpoint-35500/pytorch_model.bin\n",
            "Deleting older checkpoint [roberta_large_cosine_lr1e-5/checkpoint-34500] due to args.save_total_limit\n",
            "Saving model checkpoint to roberta_large_cosine_lr1e-5/checkpoint-36000\n",
            "Configuration saved in roberta_large_cosine_lr1e-5/checkpoint-36000/config.json\n",
            "Model weights saved in roberta_large_cosine_lr1e-5/checkpoint-36000/pytorch_model.bin\n",
            "Deleting older checkpoint [roberta_large_cosine_lr1e-5/checkpoint-35000] due to args.save_total_limit\n",
            "Saving model checkpoint to roberta_large_cosine_lr1e-5/checkpoint-36500\n",
            "Configuration saved in roberta_large_cosine_lr1e-5/checkpoint-36500/config.json\n",
            "Model weights saved in roberta_large_cosine_lr1e-5/checkpoint-36500/pytorch_model.bin\n",
            "Deleting older checkpoint [roberta_large_cosine_lr1e-5/checkpoint-35500] due to args.save_total_limit\n",
            "Saving model checkpoint to roberta_large_cosine_lr1e-5/checkpoint-37000\n",
            "Configuration saved in roberta_large_cosine_lr1e-5/checkpoint-37000/config.json\n",
            "Model weights saved in roberta_large_cosine_lr1e-5/checkpoint-37000/pytorch_model.bin\n",
            "Deleting older checkpoint [roberta_large_cosine_lr1e-5/checkpoint-36000] due to args.save_total_limit\n",
            "***** Running Evaluation *****\n",
            "  Num examples = 1000\n",
            "  Batch size = 8\n",
            "Saving model checkpoint to roberta_large_cosine_lr1e-5/checkpoint-37500\n",
            "Configuration saved in roberta_large_cosine_lr1e-5/checkpoint-37500/config.json\n",
            "Model weights saved in roberta_large_cosine_lr1e-5/checkpoint-37500/pytorch_model.bin\n",
            "Deleting older checkpoint [roberta_large_cosine_lr1e-5/checkpoint-36500] due to args.save_total_limit\n",
            "Saving model checkpoint to roberta_large_cosine_lr1e-5/checkpoint-38000\n",
            "Configuration saved in roberta_large_cosine_lr1e-5/checkpoint-38000/config.json\n",
            "Model weights saved in roberta_large_cosine_lr1e-5/checkpoint-38000/pytorch_model.bin\n",
            "Deleting older checkpoint [roberta_large_cosine_lr1e-5/checkpoint-37000] due to args.save_total_limit\n",
            "Saving model checkpoint to roberta_large_cosine_lr1e-5/checkpoint-38500\n",
            "Configuration saved in roberta_large_cosine_lr1e-5/checkpoint-38500/config.json\n",
            "Model weights saved in roberta_large_cosine_lr1e-5/checkpoint-38500/pytorch_model.bin\n",
            "Deleting older checkpoint [roberta_large_cosine_lr1e-5/checkpoint-37500] due to args.save_total_limit\n",
            "Saving model checkpoint to roberta_large_cosine_lr1e-5/checkpoint-39000\n",
            "Configuration saved in roberta_large_cosine_lr1e-5/checkpoint-39000/config.json\n",
            "Model weights saved in roberta_large_cosine_lr1e-5/checkpoint-39000/pytorch_model.bin\n",
            "Deleting older checkpoint [roberta_large_cosine_lr1e-5/checkpoint-38000] due to args.save_total_limit\n",
            "Saving model checkpoint to roberta_large_cosine_lr1e-5/checkpoint-39500\n",
            "Configuration saved in roberta_large_cosine_lr1e-5/checkpoint-39500/config.json\n",
            "Model weights saved in roberta_large_cosine_lr1e-5/checkpoint-39500/pytorch_model.bin\n",
            "Deleting older checkpoint [roberta_large_cosine_lr1e-5/checkpoint-38500] due to args.save_total_limit\n",
            "Saving model checkpoint to roberta_large_cosine_lr1e-5/checkpoint-40000\n",
            "Configuration saved in roberta_large_cosine_lr1e-5/checkpoint-40000/config.json\n",
            "Model weights saved in roberta_large_cosine_lr1e-5/checkpoint-40000/pytorch_model.bin\n",
            "Deleting older checkpoint [roberta_large_cosine_lr1e-5/checkpoint-39000] due to args.save_total_limit\n",
            "Saving model checkpoint to roberta_large_cosine_lr1e-5/checkpoint-40500\n",
            "Configuration saved in roberta_large_cosine_lr1e-5/checkpoint-40500/config.json\n",
            "Model weights saved in roberta_large_cosine_lr1e-5/checkpoint-40500/pytorch_model.bin\n",
            "Deleting older checkpoint [roberta_large_cosine_lr1e-5/checkpoint-39500] due to args.save_total_limit\n",
            "Saving model checkpoint to roberta_large_cosine_lr1e-5/checkpoint-41000\n",
            "Configuration saved in roberta_large_cosine_lr1e-5/checkpoint-41000/config.json\n",
            "Model weights saved in roberta_large_cosine_lr1e-5/checkpoint-41000/pytorch_model.bin\n",
            "Deleting older checkpoint [roberta_large_cosine_lr1e-5/checkpoint-40000] due to args.save_total_limit\n",
            "***** Running Evaluation *****\n",
            "  Num examples = 1000\n",
            "  Batch size = 8\n",
            "\n",
            "\n",
            "Training completed. Do not forget to share your model on huggingface.co/models =)\n",
            "\n",
            "\n"
          ]
        },
        {
          "output_type": "execute_result",
          "data": {
            "text/plain": [
              "TrainOutput(global_step=41490, training_loss=0.09236664332165315, metrics={'train_runtime': 36895.5691, 'train_samples_per_second': 4.498, 'train_steps_per_second': 1.125, 'total_flos': 1.5466332905791488e+17, 'train_loss': 0.09236664332165315, 'epoch': 10.0})"
            ]
          },
          "metadata": {},
          "execution_count": 61
        }
      ]
    },
    {
      "cell_type": "code",
      "source": [
        "f1_history"
      ],
      "metadata": {
        "id": "fO8glXZHxTWh",
        "colab": {
          "base_uri": "https://localhost:8080/"
        },
        "outputId": "5426c153-243a-42ad-e6af-f4a44e7e6c53"
      },
      "execution_count": null,
      "outputs": [
        {
          "output_type": "execute_result",
          "data": {
            "text/plain": [
              "[0.7821218293659238,\n",
              " 0.7712157488693802,\n",
              " 0.8026616016477757,\n",
              " 0.7846804569493644,\n",
              " 0.7851556505459,\n",
              " 0.7557997557997558,\n",
              " 0.776045453569314,\n",
              " 0.753804047205676,\n",
              " 0.7601987472782556,\n",
              " 0.7595653982116863]"
            ]
          },
          "metadata": {},
          "execution_count": 62
        }
      ]
    },
    {
      "cell_type": "code",
      "source": [
        "f = plt.figure()\n",
        "plt.plot(f1_history)\n",
        "plt.title('Accuracy per epoch')\n",
        "plt.ylabel('Accuracy')\n",
        "plt.xlabel('Epoch')\n",
        "plt.show()\n",
        "f.savefig(\"accuracy.pdf\", bbox_inches='tight')"
      ],
      "metadata": {
        "id": "RYamhnmg4mGV",
        "colab": {
          "base_uri": "https://localhost:8080/",
          "height": 295
        },
        "outputId": "ecee9338-afaf-41b5-8324-b418078c1bed"
      },
      "execution_count": null,
      "outputs": [
        {
          "output_type": "display_data",
          "data": {
            "image/png": "[encoded data removed]",
            "text/plain": [
              "<Figure size 432x288 with 1 Axes>"
            ]
          },
          "metadata": {
            "needs_background": "light"
          }
        }
      ]
    },
    {
      "cell_type": "code",
      "metadata": {
        "id": "geRQoZtqsEXi",
        "colab": {
          "base_uri": "https://localhost:8080/",
          "height": 197
        },
        "outputId": "efdb54a2-c57d-41db-8c55-bc67496bc307"
      },
      "source": [
        "trainer.evaluate()"
      ],
      "execution_count": null,
      "outputs": [
        {
          "output_type": "stream",
          "name": "stderr",
          "text": [
            "***** Running Evaluation *****\n",
            "  Num examples = 1000\n",
            "  Batch size = 8\n"
          ]
        },
        {
          "output_type": "display_data",
          "data": {
            "text/html": [
              "\n",
              "    <div>\n",
              "      \n",
              "      <progress value='125' max='125' style='width:300px; height:20px; vertical-align: middle;'></progress>\n",
              "      [125/125 00:59]\n",
              "    </div>\n",
              "    "
            ],
            "text/plain": [
              "<IPython.core.display.HTML object>"
            ]
          },
          "metadata": {}
        },
        {
          "output_type": "execute_result",
          "data": {
            "text/plain": [
              "{'epoch': 10.0,\n",
              " 'eval_f1': 0.7595653982116863,\n",
              " 'eval_loss': 0.9806757569313049,\n",
              " 'eval_runtime': 59.6536,\n",
              " 'eval_samples_per_second': 16.763,\n",
              " 'eval_steps_per_second': 2.095}"
            ]
          },
          "metadata": {},
          "execution_count": 64
        }
      ]
    },
    {
      "cell_type": "code",
      "source": [
        "predictions = trainer.predict(full_eval_dataset)"
      ],
      "metadata": {
        "id": "TRTz8-j1AA55",
        "colab": {
          "base_uri": "https://localhost:8080/",
          "height": 90
        },
        "outputId": "95dee174-e8cd-4e00-d839-03c6ff2bb84d"
      },
      "execution_count": null,
      "outputs": [
        {
          "output_type": "stream",
          "name": "stderr",
          "text": [
            "***** Running Prediction *****\n",
            "  Num examples = 1000\n",
            "  Batch size = 8\n"
          ]
        },
        {
          "output_type": "display_data",
          "data": {
            "text/html": [
              "\n",
              "    <div>\n",
              "      \n",
              "      <progress value='250' max='125' style='width:300px; height:20px; vertical-align: middle;'></progress>\n",
              "      [125/125 01:58]\n",
              "    </div>\n",
              "    "
            ],
            "text/plain": [
              "<IPython.core.display.HTML object>"
            ]
          },
          "metadata": {}
        }
      ]
    },
    {
      "cell_type": "code",
      "source": [
        "pred = np.argmax(predictions.predictions, axis=1)\n",
        "pred"
      ],
      "metadata": {
        "id": "BC77ygxlCC1w",
        "colab": {
          "base_uri": "https://localhost:8080/"
        },
        "outputId": "f205558c-7de5-47ca-87ac-9c99767613eb"
      },
      "execution_count": null,
      "outputs": [
        {
          "output_type": "execute_result",
          "data": {
            "text/plain": [
              "array([0, 0, 0, 0, 0, 0, 0, 0, 0, 0, 0, 0, 0, 0, 0, 0, 1, 0, 0, 0, 0, 0,\n",
              "       0, 0, 0, 0, 0, 0, 0, 0, 0, 0, 0, 0, 0, 0, 0, 0, 0, 0, 1, 0, 1, 0,\n",
              "       0, 0, 0, 0, 0, 0, 0, 0, 0, 0, 0, 0, 0, 0, 0, 1, 0, 0, 0, 0, 0, 0,\n",
              "       0, 0, 0, 0, 0, 0, 0, 0, 0, 0, 0, 0, 0, 0, 0, 0, 0, 0, 0, 0, 0, 0,\n",
              "       0, 0, 0, 0, 0, 0, 0, 0, 0, 0, 0, 0, 0, 0, 0, 0, 0, 0, 1, 0, 0, 0,\n",
              "       0, 0, 0, 1, 0, 0, 0, 0, 0, 0, 0, 0, 0, 0, 0, 0, 0, 0, 0, 0, 0, 0,\n",
              "       0, 0, 0, 0, 0, 0, 0, 0, 0, 0, 0, 0, 0, 0, 0, 0, 0, 0, 0, 0, 0, 0,\n",
              "       1, 0, 0, 0, 0, 0, 1, 0, 0, 0, 0, 0, 0, 0, 0, 0, 0, 0, 1, 0, 0, 0,\n",
              "       0, 0, 0, 0, 0, 0, 0, 0, 0, 0, 0, 0, 0, 0, 0, 0, 0, 0, 0, 0, 0, 0,\n",
              "       0, 0, 0, 0, 0, 0, 0, 0, 0, 1, 0, 0, 0, 0, 0, 0, 0, 0, 0, 0, 0, 0,\n",
              "       0, 0, 0, 0, 0, 0, 0, 0, 0, 0, 0, 0, 0, 0, 0, 0, 0, 0, 0, 0, 0, 0,\n",
              "       0, 0, 0, 0, 0, 0, 0, 0, 0, 0, 0, 1, 0, 0, 0, 0, 0, 0, 0, 0, 0, 0,\n",
              "       0, 0, 0, 0, 0, 0, 1, 0, 0, 0, 0, 0, 0, 0, 1, 0, 0, 0, 0, 0, 0, 0,\n",
              "       0, 0, 0, 0, 0, 0, 0, 0, 0, 0, 0, 0, 0, 0, 0, 0, 0, 0, 0, 0, 0, 0,\n",
              "       0, 0, 0, 0, 1, 0, 0, 0, 0, 0, 0, 0, 0, 0, 0, 1, 0, 0, 0, 0, 0, 0,\n",
              "       0, 0, 0, 0, 0, 0, 0, 0, 0, 0, 0, 0, 0, 0, 1, 0, 0, 1, 0, 0, 0, 0,\n",
              "       0, 0, 0, 0, 0, 0, 0, 0, 0, 0, 0, 0, 0, 0, 0, 0, 0, 0, 1, 0, 0, 1,\n",
              "       0, 0, 0, 0, 0, 1, 0, 0, 0, 0, 0, 0, 0, 0, 0, 0, 0, 0, 0, 0, 0, 0,\n",
              "       0, 0, 0, 0, 0, 0, 0, 0, 0, 0, 0, 0, 0, 0, 0, 0, 0, 0, 1, 0, 0, 0,\n",
              "       0, 0, 0, 0, 0, 0, 0, 0, 0, 0, 0, 0, 0, 0, 0, 0, 0, 0, 0, 0, 0, 0,\n",
              "       0, 0, 1, 0, 0, 0, 0, 0, 0, 0, 0, 0, 0, 0, 0, 0, 0, 0, 0, 1, 0, 0,\n",
              "       0, 0, 0, 0, 0, 0, 0, 0, 0, 0, 0, 0, 0, 0, 0, 0, 0, 0, 1, 0, 0, 0,\n",
              "       0, 0, 0, 0, 0, 0, 0, 1, 0, 0, 0, 0, 0, 0, 0, 0, 0, 0, 0, 0, 1, 0,\n",
              "       0, 0, 0, 0, 0, 1, 1, 0, 0, 0, 0, 1, 0, 0, 0, 0, 0, 0, 0, 0, 0, 0,\n",
              "       0, 0, 0, 0, 0, 0, 0, 0, 0, 0, 0, 0, 0, 0, 0, 0, 0, 0, 0, 0, 0, 0,\n",
              "       0, 0, 0, 0, 0, 0, 0, 1, 0, 0, 0, 0, 0, 0, 0, 1, 0, 0, 0, 0, 0, 0,\n",
              "       0, 0, 0, 0, 0, 0, 0, 0, 0, 0, 0, 0, 0, 0, 0, 0, 0, 0, 0, 0, 0, 0,\n",
              "       0, 0, 0, 0, 0, 0, 0, 0, 0, 0, 0, 0, 0, 0, 0, 0, 0, 0, 0, 0, 0, 0,\n",
              "       0, 0, 0, 0, 0, 0, 0, 0, 0, 1, 0, 0, 0, 1, 0, 0, 0, 0, 0, 0, 0, 0,\n",
              "       0, 0, 1, 0, 0, 0, 0, 0, 0, 0, 0, 0, 0, 0, 0, 0, 0, 0, 0, 0, 0, 0,\n",
              "       0, 0, 0, 0, 0, 1, 0, 0, 0, 0, 0, 0, 0, 0, 0, 0, 1, 0, 0, 0, 0, 0,\n",
              "       0, 0, 0, 0, 0, 0, 0, 0, 0, 0, 0, 0, 0, 0, 0, 0, 0, 0, 0, 0, 0, 0,\n",
              "       0, 0, 0, 0, 0, 0, 0, 0, 0, 0, 0, 0, 0, 0, 0, 1, 0, 0, 1, 1, 0, 1,\n",
              "       0, 0, 0, 1, 0, 1, 0, 0, 0, 0, 0, 1, 0, 0, 1, 0, 0, 0, 0, 1, 0, 1,\n",
              "       0, 0, 0, 0, 0, 0, 0, 0, 0, 0, 0, 0, 0, 0, 0, 0, 0, 0, 0, 0, 0, 0,\n",
              "       0, 1, 0, 0, 0, 0, 1, 0, 0, 0, 0, 1, 0, 0, 0, 0, 0, 0, 0, 0, 0, 0,\n",
              "       0, 0, 0, 1, 0, 0, 0, 0, 0, 0, 0, 0, 0, 0, 0, 0, 0, 0, 0, 0, 0, 0,\n",
              "       1, 0, 0, 0, 0, 0, 0, 0, 0, 0, 0, 0, 0, 1, 0, 0, 0, 0, 0, 0, 0, 0,\n",
              "       0, 0, 0, 0, 1, 0, 0, 0, 0, 0, 0, 0, 0, 1, 0, 0, 0, 1, 0, 0, 0, 0,\n",
              "       0, 0, 0, 0, 0, 1, 0, 0, 0, 0, 0, 0, 0, 0, 0, 0, 0, 0, 0, 0, 0, 0,\n",
              "       0, 0, 0, 0, 0, 0, 0, 0, 0, 0, 0, 0, 0, 0, 0, 0, 0, 0, 0, 1, 0, 0,\n",
              "       0, 0, 0, 0, 0, 0, 0, 0, 0, 0, 0, 0, 1, 0, 0, 1, 0, 0, 0, 1, 0, 0,\n",
              "       1, 0, 0, 0, 0, 0, 0, 0, 0, 0, 0, 0, 0, 0, 0, 0, 0, 0, 0, 0, 1, 0,\n",
              "       0, 0, 0, 0, 0, 0, 0, 0, 0, 0, 0, 0, 0, 1, 0, 0, 0, 0, 0, 0, 0, 0,\n",
              "       0, 0, 0, 1, 0, 0, 0, 0, 0, 0, 0, 0, 0, 1, 0, 0, 0, 0, 0, 1, 0, 0,\n",
              "       0, 0, 0, 0, 0, 0, 0, 0, 0, 0])"
            ]
          },
          "metadata": {},
          "execution_count": 66
        }
      ]
    },
    {
      "cell_type": "code",
      "source": [
        "from sklearn.metrics import confusion_matrix \n",
        "plt.figure(figsize=(10,8))\n",
        "conf_mat = confusion_matrix(pred.tolist(), full_eval_dataset['labels'])\n",
        "s1 = sns.heatmap(conf_mat, annot=True, cmap='Blues')\n",
        "plt.title('Confusion Matrix')"
      ],
      "metadata": {
        "id": "35lo4CME6hMy",
        "colab": {
          "base_uri": "https://localhost:8080/",
          "height": 517
        },
        "outputId": "78b80a38-cc68-45b4-9220-7a4784e043e7"
      },
      "execution_count": null,
      "outputs": [
        {
          "output_type": "execute_result",
          "data": {
            "text/plain": [
              "Text(0.5, 1.0, 'Confusion Matrix')"
            ]
          },
          "metadata": {},
          "execution_count": 67
        },
        {
          "output_type": "display_data",
          "data": {
            "image/png": "[encoded data removed]",
            "text/plain": [
              "<Figure size 720x576 with 2 Axes>"
            ]
          },
          "metadata": {
            "needs_background": "light"
          }
        }
      ]
    },
    {
      "cell_type": "code",
      "source": [
        "fig = s1.get_figure()\n",
        "fig.savefig('Confusion_Matrix.pdf')  "
      ],
      "metadata": {
        "id": "kaaHsPDaFUAC"
      },
      "execution_count": null,
      "outputs": []
    },
    {
      "cell_type": "code",
      "metadata": {
        "id": "7lSURhg6pn4t",
        "colab": {
          "base_uri": "https://localhost:8080/",
          "height": 90
        },
        "outputId": "b14c9073-6953-4b45-b9ab-b48348ef816b"
      },
      "source": [
        "y_pred = trainer.predict(full_test_dataset)"
      ],
      "execution_count": null,
      "outputs": [
        {
          "output_type": "stream",
          "name": "stderr",
          "text": [
            "***** Running Prediction *****\n",
            "  Num examples = 3832\n",
            "  Batch size = 8\n"
          ]
        },
        {
          "output_type": "display_data",
          "data": {
            "text/html": [
              "\n",
              "    <div>\n",
              "      \n",
              "      <progress value='729' max='125' style='width:300px; height:20px; vertical-align: middle;'></progress>\n",
              "      [125/125 05:47]\n",
              "    </div>\n",
              "    "
            ],
            "text/plain": [
              "<IPython.core.display.HTML object>"
            ]
          },
          "metadata": {}
        }
      ]
    },
    {
      "cell_type": "code",
      "metadata": {
        "id": "zaBv_4Ozyd5G",
        "colab": {
          "base_uri": "https://localhost:8080/"
        },
        "outputId": "0a15f955-292d-42fb-9398-d943f9fc4e1b"
      },
      "source": [
        "y_pred.predictions.argmax(axis=1)"
      ],
      "execution_count": null,
      "outputs": [
        {
          "output_type": "execute_result",
          "data": {
            "text/plain": [
              "array([0, 0, 0, ..., 0, 0, 0])"
            ]
          },
          "metadata": {},
          "execution_count": 70
        }
      ]
    },
    {
      "cell_type": "code",
      "metadata": {
        "id": "3JVVJKV_qyG7",
        "colab": {
          "base_uri": "https://localhost:8080/",
          "height": 49
        },
        "outputId": "c74d2828-f3b9-4971-e581-cca96ad3b1e7"
      },
      "source": [
        "df_preds=pd.DataFrame(y_pred.label_ids)\n",
        "df_preds"
      ],
      "execution_count": null,
      "outputs": [
        {
          "output_type": "execute_result",
          "data": {
            "text/html": [
              "\n",
              "  <div id=\"df-4f811dce-f7d3-4e6b-b3a2-31a81d5dd68a\">\n",
              "    <div class=\"colab-df-container\">\n",
              "      <div>\n",
              "<style scoped>\n",
              "    .dataframe tbody tr th:only-of-type {\n",
              "        vertical-align: middle;\n",
              "    }\n",
              "\n",
              "    .dataframe tbody tr th {\n",
              "        vertical-align: top;\n",
              "    }\n",
              "\n",
              "    .dataframe thead th {\n",
              "        text-align: right;\n",
              "    }\n",
              "</style>\n",
              "<table border=\"1\" class=\"dataframe\">\n",
              "  <thead>\n",
              "    <tr style=\"text-align: right;\">\n",
              "      <th></th>\n",
              "    </tr>\n",
              "  </thead>\n",
              "  <tbody>\n",
              "  </tbody>\n",
              "</table>\n",
              "</div>\n",
              "      <button class=\"colab-df-convert\" onclick=\"convertToInteractive('df-4f811dce-f7d3-4e6b-b3a2-31a81d5dd68a')\"\n",
              "              title=\"Convert this dataframe to an interactive table.\"\n",
              "              style=\"display:none;\">\n",
              "        \n",
              "  <svg xmlns=\"http://www.w3.org/2000/svg\" height=\"24px\"viewBox=\"0 0 24 24\"\n",
              "       width=\"24px\">\n",
              "    <path d=\"M0 0h24v24H0V0z\" fill=\"none\"/>\n",
              "    <path d=\"M18.56 5.44l.94 2.06.94-2.06 2.06-.94-2.06-.94-.94-2.06-.94 2.06-2.06.94zm-11 1L8.5 8.5l.94-2.06 2.06-.94-2.06-.94L8.5 2.5l-.94 2.06-2.06.94zm10 10l.94 2.06.94-2.06 2.06-.94-2.06-.94-.94-2.06-.94 2.06-2.06.94z\"/><path d=\"M17.41 7.96l-1.37-1.37c-.4-.4-.92-.59-1.43-.59-.52 0-1.04.2-1.43.59L10.3 9.45l-7.72 7.72c-.78.78-.78 2.05 0 2.83L4 21.41c.39.39.9.59 1.41.59.51 0 1.02-.2 1.41-.59l7.78-7.78 2.81-2.81c.8-.78.8-2.07 0-2.86zM5.41 20L4 18.59l7.72-7.72 1.47 1.35L5.41 20z\"/>\n",
              "  </svg>\n",
              "      </button>\n",
              "      \n",
              "  <style>\n",
              "    .colab-df-container {\n",
              "      display:flex;\n",
              "      flex-wrap:wrap;\n",
              "      gap: 12px;\n",
              "    }\n",
              "\n",
              "    .colab-df-convert {\n",
              "      background-color: #E8F0FE;\n",
              "      border: none;\n",
              "      border-radius: 50%;\n",
              "      cursor: pointer;\n",
              "      display: none;\n",
              "      fill: #1967D2;\n",
              "      height: 32px;\n",
              "      padding: 0 0 0 0;\n",
              "      width: 32px;\n",
              "    }\n",
              "\n",
              "    .colab-df-convert:hover {\n",
              "      background-color: #E2EBFA;\n",
              "      box-shadow: 0px 1px 2px rgba(60, 64, 67, 0.3), 0px 1px 3px 1px rgba(60, 64, 67, 0.15);\n",
              "      fill: #174EA6;\n",
              "    }\n",
              "\n",
              "    [theme=dark] .colab-df-convert {\n",
              "      background-color: #3B4455;\n",
              "      fill: #D2E3FC;\n",
              "    }\n",
              "\n",
              "    [theme=dark] .colab-df-convert:hover {\n",
              "      background-color: #434B5C;\n",
              "      box-shadow: 0px 1px 3px 1px rgba(0, 0, 0, 0.15);\n",
              "      filter: drop-shadow(0px 1px 2px rgba(0, 0, 0, 0.3));\n",
              "      fill: #FFFFFF;\n",
              "    }\n",
              "  </style>\n",
              "\n",
              "      <script>\n",
              "        const buttonEl =\n",
              "          document.querySelector('#df-4f811dce-f7d3-4e6b-b3a2-31a81d5dd68a button.colab-df-convert');\n",
              "        buttonEl.style.display =\n",
              "          google.colab.kernel.accessAllowed ? 'block' : 'none';\n",
              "\n",
              "        async function convertToInteractive(key) {\n",
              "          const element = document.querySelector('#df-4f811dce-f7d3-4e6b-b3a2-31a81d5dd68a');\n",
              "          const dataTable =\n",
              "            await google.colab.kernel.invokeFunction('convertToInteractive',\n",
              "                                                     [key], {});\n",
              "          if (!dataTable) return;\n",
              "\n",
              "          const docLinkHtml = 'Like what you see? Visit the ' +\n",
              "            '<a target=\"_blank\" href=https://colab.research.google.com/notebooks/data_table.ipynb>data table notebook</a>'\n",
              "            + ' to learn more about interactive tables.';\n",
              "          element.innerHTML = '';\n",
              "          dataTable['output_type'] = 'display_data';\n",
              "          await google.colab.output.renderOutput(dataTable, element);\n",
              "          const docLink = document.createElement('div');\n",
              "          docLink.innerHTML = docLinkHtml;\n",
              "          element.appendChild(docLink);\n",
              "        }\n",
              "      </script>\n",
              "    </div>\n",
              "  </div>\n",
              "  "
            ],
            "text/plain": [
              "Empty DataFrame\n",
              "Columns: []\n",
              "Index: []"
            ]
          },
          "metadata": {},
          "execution_count": 71
        }
      ]
    },
    {
      "cell_type": "code",
      "source": [
        "y = y_pred.predictions.argmax(axis=1)\n",
        "y, len(y)"
      ],
      "metadata": {
        "colab": {
          "base_uri": "https://localhost:8080/"
        },
        "id": "94sJDuRLhaCA",
        "outputId": "ee1c4081-c99c-4ed2-8efd-98aa3b148406"
      },
      "execution_count": null,
      "outputs": [
        {
          "output_type": "execute_result",
          "data": {
            "text/plain": [
              "(array([0, 0, 0, ..., 0, 0, 0]), 3832)"
            ]
          },
          "metadata": {},
          "execution_count": 72
        }
      ]
    },
    {
      "cell_type": "code",
      "source": [
        "np.savetxt('y_pred.csv', y, fmt='%s')"
      ],
      "metadata": {
        "id": "nNr8ufYchOZ5"
      },
      "execution_count": null,
      "outputs": []
    },
    {
      "cell_type": "code",
      "source": [
        "df_preds=pd.DataFrame(y)\n",
        "df_preds.columns = ['label']\n",
        "df_preds.sum(), df_preds"
      ],
      "metadata": {
        "colab": {
          "base_uri": "https://localhost:8080/"
        },
        "id": "ZY0SgCQvhinj",
        "outputId": "c7174b33-6403-40cf-c61e-ae177f842114"
      },
      "execution_count": null,
      "outputs": [
        {
          "output_type": "execute_result",
          "data": {
            "text/plain": [
              "(label    229\n",
              " dtype: int64,       label\n",
              " 0         0\n",
              " 1         0\n",
              " 2         0\n",
              " 3         0\n",
              " 4         0\n",
              " ...     ...\n",
              " 3827      0\n",
              " 3828      0\n",
              " 3829      0\n",
              " 3830      0\n",
              " 3831      0\n",
              " \n",
              " [3832 rows x 1 columns])"
            ]
          },
          "metadata": {},
          "execution_count": 74
        }
      ]
    },
    {
      "cell_type": "code",
      "source": [
        "from google.colab import files\n",
        "files.download('y_pred.csv') "
      ],
      "metadata": {
        "colab": {
          "base_uri": "https://localhost:8080/",
          "height": 17
        },
        "id": "kfp25AXphnGM",
        "outputId": "414f7cb2-24d6-4844-e1ac-627764a5c491"
      },
      "execution_count": null,
      "outputs": [
        {
          "output_type": "display_data",
          "data": {
            "application/javascript": [
              "\n",
              "    async function download(id, filename, size) {\n",
              "      if (!google.colab.kernel.accessAllowed) {\n",
              "        return;\n",
              "      }\n",
              "      const div = document.createElement('div');\n",
              "      const label = document.createElement('label');\n",
              "      label.textContent = `Downloading \"${filename}\": `;\n",
              "      div.appendChild(label);\n",
              "      const progress = document.createElement('progress');\n",
              "      progress.max = size;\n",
              "      div.appendChild(progress);\n",
              "      document.body.appendChild(div);\n",
              "\n",
              "      const buffers = [];\n",
              "      let downloaded = 0;\n",
              "\n",
              "      const channel = await google.colab.kernel.comms.open(id);\n",
              "      // Send a message to notify the kernel that we're ready.\n",
              "      channel.send({})\n",
              "\n",
              "      for await (const message of channel.messages) {\n",
              "        // Send a message to notify the kernel that we're ready.\n",
              "        channel.send({})\n",
              "        if (message.buffers) {\n",
              "          for (const buffer of message.buffers) {\n",
              "            buffers.push(buffer);\n",
              "            downloaded += buffer.byteLength;\n",
              "            progress.value = downloaded;\n",
              "          }\n",
              "        }\n",
              "      }\n",
              "      const blob = new Blob(buffers, {type: 'application/binary'});\n",
              "      const a = document.createElement('a');\n",
              "      a.href = window.URL.createObjectURL(blob);\n",
              "      a.download = filename;\n",
              "      div.appendChild(a);\n",
              "      a.click();\n",
              "      div.remove();\n",
              "    }\n",
              "  "
            ],
            "text/plain": [
              "<IPython.core.display.Javascript object>"
            ]
          },
          "metadata": {}
        },
        {
          "output_type": "display_data",
          "data": {
            "application/javascript": [
              "download(\"download_3818806c-d48d-47f8-8beb-42b1a9fcda79\", \"y_pred.csv\", 7664)"
            ],
            "text/plain": [
              "<IPython.core.display.Javascript object>"
            ]
          },
          "metadata": {}
        }
      ]
    },
    {
      "cell_type": "code",
      "source": [
        "# helper function to save predictions to an output file\n",
        "def labels2file(p, outf_path):\n",
        "\twith open(outf_path,'w') as outf:\n",
        "\t\tfor pi in p:\n",
        "\t\t\toutf.write(','.join([str(k) for k in pi])+'\\n')"
      ],
      "metadata": {
        "id": "aYqjYv1Qhnzc"
      },
      "execution_count": null,
      "outputs": []
    },
    {
      "cell_type": "code",
      "source": [
        "labels2file([[k] for k in list(df_preds['label'])], 'task1.txt')"
      ],
      "metadata": {
        "id": "lOwUqCHihrzt"
      },
      "execution_count": null,
      "outputs": []
    },
    {
      "cell_type": "code",
      "source": [
        "#Zip submission File\n",
        "!zip submission.zip task1.txt"
      ],
      "metadata": {
        "colab": {
          "base_uri": "https://localhost:8080/"
        },
        "id": "vpOxQiVmhugP",
        "outputId": "66964fa8-fe6e-4177-d7ad-12f385ca7b24"
      },
      "execution_count": null,
      "outputs": [
        {
          "output_type": "stream",
          "name": "stdout",
          "text": [
            "  adding: task1.txt (deflated 96%)\n"
          ]
        }
      ]
    },
    {
      "cell_type": "code",
      "metadata": {
        "id": "gThFPWFP0fDx"
      },
      "source": [
        "# del trainer\n",
        "# import gc\n",
        "# gc.collect()\n",
        "# torch.cuda.empty_cache()"
      ],
      "execution_count": null,
      "outputs": []
    },
    {
      "cell_type": "code",
      "metadata": {
        "id": "Qk8FYg2Ul1kp"
      },
      "source": [
        "# mkdir -p /content/drive/MyDrive/full_roberta_lr5e-5/checkpoint-5500/"
      ],
      "execution_count": null,
      "outputs": []
    },
    {
      "cell_type": "code",
      "metadata": {
        "id": "ErcqwvyZlg57"
      },
      "source": [
        "# cp -r /content/full_roberta_lr5e-5/checkpoint-5500/ /content/drive/MyDrive/full_roberta_lr5e-5/checkpoint-5500/"
      ],
      "execution_count": null,
      "outputs": []
    },
    {
      "cell_type": "code",
      "metadata": {
        "id": "yH0t1XpclzRz"
      },
      "source": [
        "# import wandb\n",
        "# wandb.init(project='pcl-binary')"
      ],
      "execution_count": null,
      "outputs": []
    },
    {
      "cell_type": "code",
      "metadata": {
        "id": "6_IPGsb_mbhK"
      },
      "source": [
        "# from sklearn.metrics import classification_report\n",
        "# print(classification_report(df_pcl_valid['labels'].values, df_preds.values, target_names=['0','1']))"
      ],
      "execution_count": null,
      "outputs": []
    },
    {
      "cell_type": "code",
      "metadata": {
        "id": "rxmxSyzExbFZ"
      },
      "source": [
        "# from sklearn.metrics import f1_score\n",
        "# f1_score(df_pcl_valid['labels'].values, df_preds.values, average='macro')"
      ],
      "execution_count": null,
      "outputs": []
    },
    {
      "cell_type": "code",
      "metadata": {
        "id": "iW5k_pJLx50S"
      },
      "source": [
        "# df_pcl_valid['labels'].values[:10]"
      ],
      "execution_count": null,
      "outputs": []
    }
  ]
}