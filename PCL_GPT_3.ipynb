{
  "nbformat": 4,
  "nbformat_minor": 0,
  "metadata": {
    "colab": {
      "name": "PCL_GPT-3.ipynb",
      "provenance": [],
      "collapsed_sections": []
    },
    "kernelspec": {
      "name": "python3",
      "display_name": "Python 3"
    },
    "language_info": {
      "name": "python"
    }
  },
  "cells": [
    {
      "cell_type": "markdown",
      "metadata": {
        "id": "Qk_Aor-fctyp"
      },
      "source": [
        "# PCL Detection using GPT-3 Model"
      ]
    },
    {
      "cell_type": "code",
      "metadata": {
        "id": "LhxomEkQc49h"
      },
      "source": [
        "import pandas as pd\n",
        "import numpy as np"
      ],
      "execution_count": null,
      "outputs": []
    },
    {
      "cell_type": "code",
      "metadata": {
        "colab": {
          "base_uri": "https://localhost:8080/",
          "height": 604
        },
        "id": "hczMDmvKc2fi",
        "outputId": "5b77aeb8-2e1f-4dbb-dcc3-1628960a5711"
      },
      "source": [
        "!pip install openai"
      ],
      "execution_count": null,
      "outputs": [
        {
          "output_type": "stream",
          "name": "stdout",
          "text": [
            "Collecting openai\n",
            "  Downloading openai-0.14.0.tar.gz (40 kB)\n",
            "\u001b[K     |████████████████████████████████| 40 kB 3.2 MB/s \n",
            "\u001b[?25hRequirement already satisfied: requests>=2.20 in /usr/local/lib/python3.7/dist-packages (from openai) (2.23.0)\n",
            "Requirement already satisfied: tqdm in /usr/local/lib/python3.7/dist-packages (from openai) (4.62.3)\n",
            "Requirement already satisfied: pandas>=1.2.3 in /usr/local/lib/python3.7/dist-packages (from openai) (1.3.5)\n",
            "Collecting pandas-stubs>=1.1.0.11\n",
            "  Downloading pandas_stubs-1.2.0.47-py3-none-any.whl (161 kB)\n",
            "\u001b[K     |████████████████████████████████| 161 kB 6.7 MB/s \n",
            "\u001b[?25hRequirement already satisfied: openpyxl>=3.0.7 in /usr/local/lib/python3.7/dist-packages (from openai) (3.0.9)\n",
            "Requirement already satisfied: et-xmlfile in /usr/local/lib/python3.7/dist-packages (from openpyxl>=3.0.7->openai) (1.1.0)\n",
            "Requirement already satisfied: numpy>=1.17.3 in /usr/local/lib/python3.7/dist-packages (from pandas>=1.2.3->openai) (1.19.5)\n",
            "Requirement already satisfied: python-dateutil>=2.7.3 in /usr/local/lib/python3.7/dist-packages (from pandas>=1.2.3->openai) (2.8.2)\n",
            "Requirement already satisfied: pytz>=2017.3 in /usr/local/lib/python3.7/dist-packages (from pandas>=1.2.3->openai) (2018.9)\n",
            "Requirement already satisfied: typing-extensions>=3.7.4.3 in /usr/local/lib/python3.7/dist-packages (from pandas-stubs>=1.1.0.11->openai) (3.10.0.2)\n",
            "Requirement already satisfied: six>=1.5 in /usr/local/lib/python3.7/dist-packages (from python-dateutil>=2.7.3->pandas>=1.2.3->openai) (1.15.0)\n",
            "Requirement already satisfied: idna<3,>=2.5 in /usr/local/lib/python3.7/dist-packages (from requests>=2.20->openai) (2.10)\n",
            "Requirement already satisfied: certifi>=2017.4.17 in /usr/local/lib/python3.7/dist-packages (from requests>=2.20->openai) (2021.10.8)\n",
            "Requirement already satisfied: chardet<4,>=3.0.2 in /usr/local/lib/python3.7/dist-packages (from requests>=2.20->openai) (3.0.4)\n",
            "Requirement already satisfied: urllib3!=1.25.0,!=1.25.1,<1.26,>=1.21.1 in /usr/local/lib/python3.7/dist-packages (from requests>=2.20->openai) (1.24.3)\n",
            "Building wheels for collected packages: openai\n",
            "  Building wheel for openai (setup.py) ... \u001b[?25l\u001b[?25hdone\n",
            "  Created wheel for openai: filename=openai-0.14.0-py3-none-any.whl size=49824 sha256=1ff29a896c837b748178c000675f3034a253d14607d46abc4d79259c511040a5\n",
            "  Stored in directory: /root/.cache/pip/wheels/45/5f/9e/6035f88eb6fc313fd26ddb4d4b65bfb6fa02d7e5a124160fe9\n",
            "Successfully built openai\n",
            "Installing collected packages: pandas-stubs, openai\n",
            "Successfully installed openai-0.14.0 pandas-stubs-1.2.0.47\n"
          ]
        },
        {
          "output_type": "display_data",
          "data": {
            "application/vnd.colab-display-data+json": {
              "pip_warning": {
                "packages": [
                  "pandas"
                ]
              }
            }
          },
          "metadata": {}
        }
      ]
    },
    {
      "cell_type": "code",
      "metadata": {
        "id": "8g5tUhH2d6Rb"
      },
      "source": [
        "import os\n",
        "import openai\n",
        "import math\n",
        "\n",
        "# Load your API key from an environment variable or secret management service\n",
        "secret_key = 'enter_your_secret_key_here'\n",
        "openai.api_key = secret_key"
      ],
      "execution_count": null,
      "outputs": []
    },
    {
      "cell_type": "code",
      "source": [
        "!wget https://gist.githubusercontent.com/Sirwe-Saeedi/eff6f35a0aa182c2043da977e3a55171/raw/1865bd29a8a8c16580fec55f084316ed92d34950/TrainingSet_EvaluationPhase.csv"
      ],
      "metadata": {
        "colab": {
          "base_uri": "https://localhost:8080/"
        },
        "id": "pHHWvD20I3jB",
        "outputId": "46d701ed-6eb4-4c94-c780-58bc8ccadfef"
      },
      "execution_count": null,
      "outputs": [
        {
          "output_type": "stream",
          "name": "stdout",
          "text": [
            "--2022-02-10 22:49:21--  https://gist.githubusercontent.com/Sirwe-Saeedi/eff6f35a0aa182c2043da977e3a55171/raw/1865bd29a8a8c16580fec55f084316ed92d34950/TrainingSet_EvaluationPhase.csv\n",
            "Resolving gist.githubusercontent.com (gist.githubusercontent.com)... 185.199.108.133, 185.199.109.133, 185.199.110.133, ...\n",
            "Connecting to gist.githubusercontent.com (gist.githubusercontent.com)|185.199.108.133|:443... connected.\n",
            "HTTP request sent, awaiting response... 200 OK\n",
            "Length: 3122842 (3.0M) [text/plain]\n",
            "Saving to: ‘TrainingSet_EvaluationPhase.csv’\n",
            "\n",
            "TrainingSet_Evaluat 100%[===================>]   2.98M  --.-KB/s    in 0.08s   \n",
            "\n",
            "2022-02-10 22:49:22 (36.4 MB/s) - ‘TrainingSet_EvaluationPhase.csv’ saved [3122842/3122842]\n",
            "\n"
          ]
        }
      ]
    },
    {
      "cell_type": "code",
      "source": [
        "#Skip the disclaimer at the beginning of file\n",
        "df_pcl = pd.read_csv('./TrainingSet_EvaluationPhase.csv', sep='\\t', skiprows=4, header = None)\n",
        "df_pcl.columns = ['index','paragraph_id',\t'keyword', 'country_code',\t'paragraph', 'label']\n",
        "df_pcl.drop('index', axis = 1, inplace=True)\n",
        "df_pcl"
      ],
      "metadata": {
        "colab": {
          "base_uri": "https://localhost:8080/",
          "height": 423
        },
        "id": "o_jGEOW1I4G0",
        "outputId": "536d3419-81c3-4128-d550-0c04ae23010b"
      },
      "execution_count": null,
      "outputs": [
        {
          "output_type": "execute_result",
          "data": {
            "text/html": [
              "\n",
              "  <div id=\"df-f93a7ae8-7154-448e-a8bd-47f8b903e6b1\">\n",
              "    <div class=\"colab-df-container\">\n",
              "      <div>\n",
              "<style scoped>\n",
              "    .dataframe tbody tr th:only-of-type {\n",
              "        vertical-align: middle;\n",
              "    }\n",
              "\n",
              "    .dataframe tbody tr th {\n",
              "        vertical-align: top;\n",
              "    }\n",
              "\n",
              "    .dataframe thead th {\n",
              "        text-align: right;\n",
              "    }\n",
              "</style>\n",
              "<table border=\"1\" class=\"dataframe\">\n",
              "  <thead>\n",
              "    <tr style=\"text-align: right;\">\n",
              "      <th></th>\n",
              "      <th>paragraph_id</th>\n",
              "      <th>keyword</th>\n",
              "      <th>country_code</th>\n",
              "      <th>paragraph</th>\n",
              "      <th>label</th>\n",
              "    </tr>\n",
              "  </thead>\n",
              "  <tbody>\n",
              "    <tr>\n",
              "      <th>0</th>\n",
              "      <td>@@24942188</td>\n",
              "      <td>hopeless</td>\n",
              "      <td>ph</td>\n",
              "      <td>We 're living in times of absolute insanity , ...</td>\n",
              "      <td>0</td>\n",
              "    </tr>\n",
              "    <tr>\n",
              "      <th>1</th>\n",
              "      <td>@@21968160</td>\n",
              "      <td>migrant</td>\n",
              "      <td>gh</td>\n",
              "      <td>In Libya today , there are countless number of...</td>\n",
              "      <td>0</td>\n",
              "    </tr>\n",
              "    <tr>\n",
              "      <th>2</th>\n",
              "      <td>@@16584954</td>\n",
              "      <td>immigrant</td>\n",
              "      <td>ie</td>\n",
              "      <td>White House press secretary Sean Spicer said t...</td>\n",
              "      <td>0</td>\n",
              "    </tr>\n",
              "    <tr>\n",
              "      <th>3</th>\n",
              "      <td>@@7811231</td>\n",
              "      <td>disabled</td>\n",
              "      <td>nz</td>\n",
              "      <td>Council customers only signs would be displaye...</td>\n",
              "      <td>0</td>\n",
              "    </tr>\n",
              "    <tr>\n",
              "      <th>4</th>\n",
              "      <td>@@1494111</td>\n",
              "      <td>refugee</td>\n",
              "      <td>ca</td>\n",
              "      <td>\" Just like we received migrants fleeing El Sa...</td>\n",
              "      <td>0</td>\n",
              "    </tr>\n",
              "    <tr>\n",
              "      <th>...</th>\n",
              "      <td>...</td>\n",
              "      <td>...</td>\n",
              "      <td>...</td>\n",
              "      <td>...</td>\n",
              "      <td>...</td>\n",
              "    </tr>\n",
              "    <tr>\n",
              "      <th>10464</th>\n",
              "      <td>@@14297363</td>\n",
              "      <td>women</td>\n",
              "      <td>lk</td>\n",
              "      <td>Sri Lankan norms and culture inhibit women fro...</td>\n",
              "      <td>1</td>\n",
              "    </tr>\n",
              "    <tr>\n",
              "      <th>10465</th>\n",
              "      <td>@@70091353</td>\n",
              "      <td>vulnerable</td>\n",
              "      <td>ph</td>\n",
              "      <td>He added that the AFP will continue to bank on...</td>\n",
              "      <td>0</td>\n",
              "    </tr>\n",
              "    <tr>\n",
              "      <th>10466</th>\n",
              "      <td>@@20282330</td>\n",
              "      <td>in-need</td>\n",
              "      <td>ng</td>\n",
              "      <td>\" She has one huge platform , and information ...</td>\n",
              "      <td>3</td>\n",
              "    </tr>\n",
              "    <tr>\n",
              "      <th>10467</th>\n",
              "      <td>@@16753236</td>\n",
              "      <td>hopeless</td>\n",
              "      <td>in</td>\n",
              "      <td>\" Anja Ringgren Loven I ca n't find a word to ...</td>\n",
              "      <td>4</td>\n",
              "    </tr>\n",
              "    <tr>\n",
              "      <th>10468</th>\n",
              "      <td>@@16779383</td>\n",
              "      <td>homeless</td>\n",
              "      <td>ie</td>\n",
              "      <td>\" Guinness World Record of 540lbs of 7-layer m...</td>\n",
              "      <td>3</td>\n",
              "    </tr>\n",
              "  </tbody>\n",
              "</table>\n",
              "<p>10469 rows × 5 columns</p>\n",
              "</div>\n",
              "      <button class=\"colab-df-convert\" onclick=\"convertToInteractive('df-f93a7ae8-7154-448e-a8bd-47f8b903e6b1')\"\n",
              "              title=\"Convert this dataframe to an interactive table.\"\n",
              "              style=\"display:none;\">\n",
              "        \n",
              "  <svg xmlns=\"http://www.w3.org/2000/svg\" height=\"24px\"viewBox=\"0 0 24 24\"\n",
              "       width=\"24px\">\n",
              "    <path d=\"M0 0h24v24H0V0z\" fill=\"none\"/>\n",
              "    <path d=\"M18.56 5.44l.94 2.06.94-2.06 2.06-.94-2.06-.94-.94-2.06-.94 2.06-2.06.94zm-11 1L8.5 8.5l.94-2.06 2.06-.94-2.06-.94L8.5 2.5l-.94 2.06-2.06.94zm10 10l.94 2.06.94-2.06 2.06-.94-2.06-.94-.94-2.06-.94 2.06-2.06.94z\"/><path d=\"M17.41 7.96l-1.37-1.37c-.4-.4-.92-.59-1.43-.59-.52 0-1.04.2-1.43.59L10.3 9.45l-7.72 7.72c-.78.78-.78 2.05 0 2.83L4 21.41c.39.39.9.59 1.41.59.51 0 1.02-.2 1.41-.59l7.78-7.78 2.81-2.81c.8-.78.8-2.07 0-2.86zM5.41 20L4 18.59l7.72-7.72 1.47 1.35L5.41 20z\"/>\n",
              "  </svg>\n",
              "      </button>\n",
              "      \n",
              "  <style>\n",
              "    .colab-df-container {\n",
              "      display:flex;\n",
              "      flex-wrap:wrap;\n",
              "      gap: 12px;\n",
              "    }\n",
              "\n",
              "    .colab-df-convert {\n",
              "      background-color: #E8F0FE;\n",
              "      border: none;\n",
              "      border-radius: 50%;\n",
              "      cursor: pointer;\n",
              "      display: none;\n",
              "      fill: #1967D2;\n",
              "      height: 32px;\n",
              "      padding: 0 0 0 0;\n",
              "      width: 32px;\n",
              "    }\n",
              "\n",
              "    .colab-df-convert:hover {\n",
              "      background-color: #E2EBFA;\n",
              "      box-shadow: 0px 1px 2px rgba(60, 64, 67, 0.3), 0px 1px 3px 1px rgba(60, 64, 67, 0.15);\n",
              "      fill: #174EA6;\n",
              "    }\n",
              "\n",
              "    [theme=dark] .colab-df-convert {\n",
              "      background-color: #3B4455;\n",
              "      fill: #D2E3FC;\n",
              "    }\n",
              "\n",
              "    [theme=dark] .colab-df-convert:hover {\n",
              "      background-color: #434B5C;\n",
              "      box-shadow: 0px 1px 3px 1px rgba(0, 0, 0, 0.15);\n",
              "      filter: drop-shadow(0px 1px 2px rgba(0, 0, 0, 0.3));\n",
              "      fill: #FFFFFF;\n",
              "    }\n",
              "  </style>\n",
              "\n",
              "      <script>\n",
              "        const buttonEl =\n",
              "          document.querySelector('#df-f93a7ae8-7154-448e-a8bd-47f8b903e6b1 button.colab-df-convert');\n",
              "        buttonEl.style.display =\n",
              "          google.colab.kernel.accessAllowed ? 'block' : 'none';\n",
              "\n",
              "        async function convertToInteractive(key) {\n",
              "          const element = document.querySelector('#df-f93a7ae8-7154-448e-a8bd-47f8b903e6b1');\n",
              "          const dataTable =\n",
              "            await google.colab.kernel.invokeFunction('convertToInteractive',\n",
              "                                                     [key], {});\n",
              "          if (!dataTable) return;\n",
              "\n",
              "          const docLinkHtml = 'Like what you see? Visit the ' +\n",
              "            '<a target=\"_blank\" href=https://colab.research.google.com/notebooks/data_table.ipynb>data table notebook</a>'\n",
              "            + ' to learn more about interactive tables.';\n",
              "          element.innerHTML = '';\n",
              "          dataTable['output_type'] = 'display_data';\n",
              "          await google.colab.output.renderOutput(dataTable, element);\n",
              "          const docLink = document.createElement('div');\n",
              "          docLink.innerHTML = docLinkHtml;\n",
              "          element.appendChild(docLink);\n",
              "        }\n",
              "      </script>\n",
              "    </div>\n",
              "  </div>\n",
              "  "
            ],
            "text/plain": [
              "      paragraph_id  ... label\n",
              "0       @@24942188  ...     0\n",
              "1       @@21968160  ...     0\n",
              "2       @@16584954  ...     0\n",
              "3        @@7811231  ...     0\n",
              "4        @@1494111  ...     0\n",
              "...            ...  ...   ...\n",
              "10464   @@14297363  ...     1\n",
              "10465   @@70091353  ...     0\n",
              "10466   @@20282330  ...     3\n",
              "10467   @@16753236  ...     4\n",
              "10468   @@16779383  ...     3\n",
              "\n",
              "[10469 rows x 5 columns]"
            ]
          },
          "metadata": {},
          "execution_count": 6
        }
      ]
    },
    {
      "cell_type": "code",
      "metadata": {
        "id": "s-j3fL4j_AKw"
      },
      "source": [
        "def predict(df,file_, model_name = 'curie') :\n",
        "  predictions = []\n",
        "  for index, row in df.iterrows():\n",
        "    res = openai.Classification.create(\n",
        "        file=file_,\n",
        "        query=row['text'],\n",
        "        search_model=model_name, \n",
        "        model=model_name, \n",
        "        max_examples=3\n",
        "    )\n",
        "    best_score = -math.inf\n",
        "    predicted_label = '0'\n",
        "    i = 0\n",
        "    for selected_example in res['selected_examples'] :\n",
        "      score = float(res['selected_examples'][i]['score'])\n",
        "      label = str(res['selected_examples'][i]['label'])\n",
        "\n",
        "      if best_score < score :\n",
        "        best_score = score\n",
        "        predicted_label = label\n",
        "    \n",
        "    predictions.append(predicted_label)\n",
        "    i += 1\n",
        "  \n",
        "  return predictions"
      ],
      "execution_count": null,
      "outputs": []
    },
    {
      "cell_type": "code",
      "metadata": {
        "id": "gN-Crwl5AtTd"
      },
      "source": [
        "import sys\n",
        "import json\n",
        "def make_train_file(df,file_dir = 'train_binary.jsonl') :\n",
        "  print('Writing the train.jsonl file...')\n",
        "\n",
        "  original_stdout = sys.stdout # Save a reference to the original standard output\n",
        "\n",
        "  with open(file_dir, 'w') as f:\n",
        "      sys.stdout = f # Change the standard output to the file we created.\n",
        "      for jdict in df.to_dict(orient='records'):\n",
        "        print(json.dumps(jdict))\n",
        "      sys.stdout = original_stdout # Reset the standard output to its original value"
      ],
      "execution_count": null,
      "outputs": []
    },
    {
      "cell_type": "code",
      "metadata": {
        "id": "tUYGtHltCIC-"
      },
      "source": [
        "def make_sample_dataframe(df,_n,_random_state = 119) :\n",
        "  pcl_sample_test = pd.concat([df[df['label'] == 0].sample(n = _n,random_state = _random_state),\n",
        "                        df[df['label'] == 1].sample(n = _n,random_state = _random_state)], axis = 0)\n",
        "  pcl_sample_test = pcl_sample_test.drop(['paragraph_id','keyword','country_code'], axis = 1)\n",
        "  pcl_sample_test = pcl_sample_test.set_axis(['text','label'], axis=1, inplace=False)\n",
        "  pcl_sample_test['label'] = pcl_sample_test['label'].apply(str)\n",
        "  pcl_sample_test.label = pcl_sample_test.label.astype(str)\n",
        "  pcl_sample_test.text = pcl_sample_test.text.astype(str)\n",
        "\n",
        "  # Shuffling the samples\n",
        "  pcl_sample_test = pcl_sample_test.sample(frac=1,random_state = _random_state)\n",
        "  return pcl_sample_test"
      ],
      "execution_count": null,
      "outputs": []
    },
    {
      "cell_type": "markdown",
      "metadata": {
        "id": "2cPipqKYX1Sf"
      },
      "source": [
        "# Binary Classification"
      ]
    },
    {
      "cell_type": "markdown",
      "metadata": {
        "id": "WvshU-YoAfK1"
      },
      "source": [
        "## Curie Model"
      ]
    },
    {
      "cell_type": "code",
      "metadata": {
        "colab": {
          "base_uri": "https://localhost:8080/"
        },
        "id": "KqEVj1Q7YEIl",
        "outputId": "7ce3fe43-e1bf-4cb8-b63a-28e03daa905c"
      },
      "source": [
        "df_binary = df_pcl\n",
        "df_binary['label'] = df_binary['label'].replace({0 : 0, 1 : 1, 2 : 1, 3 : 1, 4 : 1})\n",
        "df_binary['label'].value_counts()"
      ],
      "execution_count": null,
      "outputs": [
        {
          "output_type": "execute_result",
          "data": {
            "text/plain": [
              "0    8529\n",
              "1    1940\n",
              "Name: label, dtype: int64"
            ]
          },
          "metadata": {},
          "execution_count": 122
        }
      ]
    },
    {
      "cell_type": "code",
      "metadata": {
        "colab": {
          "base_uri": "https://localhost:8080/",
          "height": 423
        },
        "id": "Z66zs4fVqiXF",
        "outputId": "55ba4a09-34fd-4ec7-e0e4-72a6bbd05e95"
      },
      "source": [
        "pcl_sample = make_sample_dataframe(df = df_binary, _n = 500, _random_state = 17)\n",
        "pcl_sample"
      ],
      "execution_count": null,
      "outputs": [
        {
          "output_type": "execute_result",
          "data": {
            "text/html": [
              "\n",
              "  <div id=\"df-f5ef463f-a1dd-4200-bd1d-725b1429029c\">\n",
              "    <div class=\"colab-df-container\">\n",
              "      <div>\n",
              "<style scoped>\n",
              "    .dataframe tbody tr th:only-of-type {\n",
              "        vertical-align: middle;\n",
              "    }\n",
              "\n",
              "    .dataframe tbody tr th {\n",
              "        vertical-align: top;\n",
              "    }\n",
              "\n",
              "    .dataframe thead th {\n",
              "        text-align: right;\n",
              "    }\n",
              "</style>\n",
              "<table border=\"1\" class=\"dataframe\">\n",
              "  <thead>\n",
              "    <tr style=\"text-align: right;\">\n",
              "      <th></th>\n",
              "      <th>text</th>\n",
              "      <th>label</th>\n",
              "    </tr>\n",
              "  </thead>\n",
              "  <tbody>\n",
              "    <tr>\n",
              "      <th>6570</th>\n",
              "      <td>Following that , Mr. Mair said the whole essen...</td>\n",
              "      <td>1</td>\n",
              "    </tr>\n",
              "    <tr>\n",
              "      <th>10421</th>\n",
              "      <td>The European Commission further announced an e...</td>\n",
              "      <td>0</td>\n",
              "    </tr>\n",
              "    <tr>\n",
              "      <th>8615</th>\n",
              "      <td>\" We want all poor families to earn enough and...</td>\n",
              "      <td>1</td>\n",
              "    </tr>\n",
              "    <tr>\n",
              "      <th>2357</th>\n",
              "      <td>He said the refugee problem is an internationa...</td>\n",
              "      <td>0</td>\n",
              "    </tr>\n",
              "    <tr>\n",
              "      <th>3726</th>\n",
              "      <td>Last year , Obasanjo called Biafra agitators :...</td>\n",
              "      <td>1</td>\n",
              "    </tr>\n",
              "    <tr>\n",
              "      <th>...</th>\n",
              "      <td>...</td>\n",
              "      <td>...</td>\n",
              "    </tr>\n",
              "    <tr>\n",
              "      <th>4839</th>\n",
              "      <td>Also in 2012 , a homeless man , Naeem Davis , ...</td>\n",
              "      <td>0</td>\n",
              "    </tr>\n",
              "    <tr>\n",
              "      <th>4576</th>\n",
              "      <td>Miller , out since straining his left hamstrin...</td>\n",
              "      <td>0</td>\n",
              "    </tr>\n",
              "    <tr>\n",
              "      <th>5594</th>\n",
              "      <td>\" The guy from Rosengard a district of Malmo w...</td>\n",
              "      <td>0</td>\n",
              "    </tr>\n",
              "    <tr>\n",
              "      <th>5198</th>\n",
              "      <td>To be able to feel pain is a defence mechanism...</td>\n",
              "      <td>0</td>\n",
              "    </tr>\n",
              "    <tr>\n",
              "      <th>5567</th>\n",
              "      <td>The \" Good Will Walk -- Walk to Feed 2017 \" , ...</td>\n",
              "      <td>1</td>\n",
              "    </tr>\n",
              "  </tbody>\n",
              "</table>\n",
              "<p>1000 rows × 2 columns</p>\n",
              "</div>\n",
              "      <button class=\"colab-df-convert\" onclick=\"convertToInteractive('df-f5ef463f-a1dd-4200-bd1d-725b1429029c')\"\n",
              "              title=\"Convert this dataframe to an interactive table.\"\n",
              "              style=\"display:none;\">\n",
              "        \n",
              "  <svg xmlns=\"http://www.w3.org/2000/svg\" height=\"24px\"viewBox=\"0 0 24 24\"\n",
              "       width=\"24px\">\n",
              "    <path d=\"M0 0h24v24H0V0z\" fill=\"none\"/>\n",
              "    <path d=\"M18.56 5.44l.94 2.06.94-2.06 2.06-.94-2.06-.94-.94-2.06-.94 2.06-2.06.94zm-11 1L8.5 8.5l.94-2.06 2.06-.94-2.06-.94L8.5 2.5l-.94 2.06-2.06.94zm10 10l.94 2.06.94-2.06 2.06-.94-2.06-.94-.94-2.06-.94 2.06-2.06.94z\"/><path d=\"M17.41 7.96l-1.37-1.37c-.4-.4-.92-.59-1.43-.59-.52 0-1.04.2-1.43.59L10.3 9.45l-7.72 7.72c-.78.78-.78 2.05 0 2.83L4 21.41c.39.39.9.59 1.41.59.51 0 1.02-.2 1.41-.59l7.78-7.78 2.81-2.81c.8-.78.8-2.07 0-2.86zM5.41 20L4 18.59l7.72-7.72 1.47 1.35L5.41 20z\"/>\n",
              "  </svg>\n",
              "      </button>\n",
              "      \n",
              "  <style>\n",
              "    .colab-df-container {\n",
              "      display:flex;\n",
              "      flex-wrap:wrap;\n",
              "      gap: 12px;\n",
              "    }\n",
              "\n",
              "    .colab-df-convert {\n",
              "      background-color: #E8F0FE;\n",
              "      border: none;\n",
              "      border-radius: 50%;\n",
              "      cursor: pointer;\n",
              "      display: none;\n",
              "      fill: #1967D2;\n",
              "      height: 32px;\n",
              "      padding: 0 0 0 0;\n",
              "      width: 32px;\n",
              "    }\n",
              "\n",
              "    .colab-df-convert:hover {\n",
              "      background-color: #E2EBFA;\n",
              "      box-shadow: 0px 1px 2px rgba(60, 64, 67, 0.3), 0px 1px 3px 1px rgba(60, 64, 67, 0.15);\n",
              "      fill: #174EA6;\n",
              "    }\n",
              "\n",
              "    [theme=dark] .colab-df-convert {\n",
              "      background-color: #3B4455;\n",
              "      fill: #D2E3FC;\n",
              "    }\n",
              "\n",
              "    [theme=dark] .colab-df-convert:hover {\n",
              "      background-color: #434B5C;\n",
              "      box-shadow: 0px 1px 3px 1px rgba(0, 0, 0, 0.15);\n",
              "      filter: drop-shadow(0px 1px 2px rgba(0, 0, 0, 0.3));\n",
              "      fill: #FFFFFF;\n",
              "    }\n",
              "  </style>\n",
              "\n",
              "      <script>\n",
              "        const buttonEl =\n",
              "          document.querySelector('#df-f5ef463f-a1dd-4200-bd1d-725b1429029c button.colab-df-convert');\n",
              "        buttonEl.style.display =\n",
              "          google.colab.kernel.accessAllowed ? 'block' : 'none';\n",
              "\n",
              "        async function convertToInteractive(key) {\n",
              "          const element = document.querySelector('#df-f5ef463f-a1dd-4200-bd1d-725b1429029c');\n",
              "          const dataTable =\n",
              "            await google.colab.kernel.invokeFunction('convertToInteractive',\n",
              "                                                     [key], {});\n",
              "          if (!dataTable) return;\n",
              "\n",
              "          const docLinkHtml = 'Like what you see? Visit the ' +\n",
              "            '<a target=\"_blank\" href=https://colab.research.google.com/notebooks/data_table.ipynb>data table notebook</a>'\n",
              "            + ' to learn more about interactive tables.';\n",
              "          element.innerHTML = '';\n",
              "          dataTable['output_type'] = 'display_data';\n",
              "          await google.colab.output.renderOutput(dataTable, element);\n",
              "          const docLink = document.createElement('div');\n",
              "          docLink.innerHTML = docLinkHtml;\n",
              "          element.appendChild(docLink);\n",
              "        }\n",
              "      </script>\n",
              "    </div>\n",
              "  </div>\n",
              "  "
            ],
            "text/plain": [
              "                                                    text label\n",
              "6570   Following that , Mr. Mair said the whole essen...     1\n",
              "10421  The European Commission further announced an e...     0\n",
              "8615   \" We want all poor families to earn enough and...     1\n",
              "2357   He said the refugee problem is an internationa...     0\n",
              "3726   Last year , Obasanjo called Biafra agitators :...     1\n",
              "...                                                  ...   ...\n",
              "4839   Also in 2012 , a homeless man , Naeem Davis , ...     0\n",
              "4576   Miller , out since straining his left hamstrin...     0\n",
              "5594   \" The guy from Rosengard a district of Malmo w...     0\n",
              "5198   To be able to feel pain is a defence mechanism...     0\n",
              "5567   The \" Good Will Walk -- Walk to Feed 2017 \" , ...     1\n",
              "\n",
              "[1000 rows x 2 columns]"
            ]
          },
          "metadata": {},
          "execution_count": 188
        }
      ]
    },
    {
      "cell_type": "code",
      "metadata": {
        "colab": {
          "base_uri": "https://localhost:8080/",
          "height": 352
        },
        "id": "Pxw2eMX3tNLq",
        "outputId": "d33671d5-d200-49d8-bbf2-2a484c5edbd4"
      },
      "source": [
        "import seaborn as sns\n",
        "sns.countplot(pcl_sample['label'])"
      ],
      "execution_count": null,
      "outputs": [
        {
          "output_type": "stream",
          "name": "stderr",
          "text": [
            "/usr/local/lib/python3.7/dist-packages/seaborn/_decorators.py:43: FutureWarning: Pass the following variable as a keyword arg: x. From version 0.12, the only valid positional argument will be `data`, and passing other arguments without an explicit keyword will result in an error or misinterpretation.\n",
            "  FutureWarning\n"
          ]
        },
        {
          "output_type": "execute_result",
          "data": {
            "text/plain": [
              "<matplotlib.axes._subplots.AxesSubplot at 0x7febc6433610>"
            ]
          },
          "metadata": {},
          "execution_count": 189
        },
        {
          "output_type": "display_data",
          "data": {
            "image/png": "[encoded data removed]",
            "text/plain": [
              "<Figure size 432x288 with 1 Axes>"
            ]
          },
          "metadata": {
            "needs_background": "light"
          }
        }
      ]
    },
    {
      "cell_type": "code",
      "metadata": {
        "colab": {
          "base_uri": "https://localhost:8080/"
        },
        "id": "yTWbKogUtNOn",
        "outputId": "d140dc06-7b27-46c0-8291-4b3e075b27f2"
      },
      "source": [
        "make_train_file(pcl_sample,'train_binary.jsonl')"
      ],
      "execution_count": null,
      "outputs": [
        {
          "output_type": "stream",
          "name": "stdout",
          "text": [
            "Writing the train.jsonl file...\n"
          ]
        }
      ]
    },
    {
      "cell_type": "code",
      "metadata": {
        "colab": {
          "base_uri": "https://localhost:8080/"
        },
        "id": "goLZwmC3tjVI",
        "outputId": "85d0d5dc-7699-4a93-e83a-aeae9644928e"
      },
      "source": [
        "openai.File.create(file=open(\"/content/train_binary.jsonl\"), purpose=\"classifications\")"
      ],
      "execution_count": null,
      "outputs": [
        {
          "output_type": "execute_result",
          "data": {
            "text/plain": [
              "<File file id=file-fZ3iHtT1iKNPwVR7dGCG8kCT at 0x7febc6461dd0> JSON: {\n",
              "  \"bytes\": 292394,\n",
              "  \"created_at\": 1644518016,\n",
              "  \"filename\": \"train_binary.jsonl\",\n",
              "  \"id\": \"file-fZ3iHtT1iKNPwVR7dGCG8kCT\",\n",
              "  \"object\": \"file\",\n",
              "  \"purpose\": \"classifications\",\n",
              "  \"status\": \"uploaded\",\n",
              "  \"status_details\": null\n",
              "}"
            ]
          },
          "metadata": {},
          "execution_count": 191
        }
      ]
    },
    {
      "cell_type": "code",
      "metadata": {
        "colab": {
          "base_uri": "https://localhost:8080/",
          "height": 423
        },
        "id": "af1offAAyfdh",
        "outputId": "7ee39c62-1af9-450a-d751-55610de7683c"
      },
      "source": [
        "pcl_sample_test = make_sample_dataframe(df = df_binary, _n = 50, _random_state = 107)\n",
        "pcl_sample_test"
      ],
      "execution_count": null,
      "outputs": [
        {
          "output_type": "execute_result",
          "data": {
            "text/html": [
              "\n",
              "  <div id=\"df-2968d70d-71ff-41a7-bbe3-09c2bcdfd612\">\n",
              "    <div class=\"colab-df-container\">\n",
              "      <div>\n",
              "<style scoped>\n",
              "    .dataframe tbody tr th:only-of-type {\n",
              "        vertical-align: middle;\n",
              "    }\n",
              "\n",
              "    .dataframe tbody tr th {\n",
              "        vertical-align: top;\n",
              "    }\n",
              "\n",
              "    .dataframe thead th {\n",
              "        text-align: right;\n",
              "    }\n",
              "</style>\n",
              "<table border=\"1\" class=\"dataframe\">\n",
              "  <thead>\n",
              "    <tr style=\"text-align: right;\">\n",
              "      <th></th>\n",
              "      <th>text</th>\n",
              "      <th>label</th>\n",
              "    </tr>\n",
              "  </thead>\n",
              "  <tbody>\n",
              "    <tr>\n",
              "      <th>6356</th>\n",
              "      <td>Amnesty International said his sentence set \" ...</td>\n",
              "      <td>0</td>\n",
              "    </tr>\n",
              "    <tr>\n",
              "      <th>8887</th>\n",
              "      <td>Dr. Abdul-Hamid pointed out that thanks to the...</td>\n",
              "      <td>0</td>\n",
              "    </tr>\n",
              "    <tr>\n",
              "      <th>9015</th>\n",
              "      <td>These were the \" Jews \" that came into power i...</td>\n",
              "      <td>0</td>\n",
              "    </tr>\n",
              "    <tr>\n",
              "      <th>3652</th>\n",
              "      <td>Ms Randall said it was essential that the Gove...</td>\n",
              "      <td>0</td>\n",
              "    </tr>\n",
              "    <tr>\n",
              "      <th>8599</th>\n",
              "      <td>B.C. housing minister Selina Robinson said tha...</td>\n",
              "      <td>1</td>\n",
              "    </tr>\n",
              "    <tr>\n",
              "      <th>...</th>\n",
              "      <td>...</td>\n",
              "      <td>...</td>\n",
              "    </tr>\n",
              "    <tr>\n",
              "      <th>6868</th>\n",
              "      <td>Immigration officials would have 90 days to de...</td>\n",
              "      <td>0</td>\n",
              "    </tr>\n",
              "    <tr>\n",
              "      <th>1410</th>\n",
              "      <td>Sheikh Hasina said she is happy of note that B...</td>\n",
              "      <td>1</td>\n",
              "    </tr>\n",
              "    <tr>\n",
              "      <th>5429</th>\n",
              "      <td>It is the government 's duty to ensure homeles...</td>\n",
              "      <td>1</td>\n",
              "    </tr>\n",
              "    <tr>\n",
              "      <th>6243</th>\n",
              "      <td>@TheTruth -You are already hopeless .</td>\n",
              "      <td>0</td>\n",
              "    </tr>\n",
              "    <tr>\n",
              "      <th>3114</th>\n",
              "      <td>While the future of the peace process remains ...</td>\n",
              "      <td>1</td>\n",
              "    </tr>\n",
              "  </tbody>\n",
              "</table>\n",
              "<p>100 rows × 2 columns</p>\n",
              "</div>\n",
              "      <button class=\"colab-df-convert\" onclick=\"convertToInteractive('df-2968d70d-71ff-41a7-bbe3-09c2bcdfd612')\"\n",
              "              title=\"Convert this dataframe to an interactive table.\"\n",
              "              style=\"display:none;\">\n",
              "        \n",
              "  <svg xmlns=\"http://www.w3.org/2000/svg\" height=\"24px\"viewBox=\"0 0 24 24\"\n",
              "       width=\"24px\">\n",
              "    <path d=\"M0 0h24v24H0V0z\" fill=\"none\"/>\n",
              "    <path d=\"M18.56 5.44l.94 2.06.94-2.06 2.06-.94-2.06-.94-.94-2.06-.94 2.06-2.06.94zm-11 1L8.5 8.5l.94-2.06 2.06-.94-2.06-.94L8.5 2.5l-.94 2.06-2.06.94zm10 10l.94 2.06.94-2.06 2.06-.94-2.06-.94-.94-2.06-.94 2.06-2.06.94z\"/><path d=\"M17.41 7.96l-1.37-1.37c-.4-.4-.92-.59-1.43-.59-.52 0-1.04.2-1.43.59L10.3 9.45l-7.72 7.72c-.78.78-.78 2.05 0 2.83L4 21.41c.39.39.9.59 1.41.59.51 0 1.02-.2 1.41-.59l7.78-7.78 2.81-2.81c.8-.78.8-2.07 0-2.86zM5.41 20L4 18.59l7.72-7.72 1.47 1.35L5.41 20z\"/>\n",
              "  </svg>\n",
              "      </button>\n",
              "      \n",
              "  <style>\n",
              "    .colab-df-container {\n",
              "      display:flex;\n",
              "      flex-wrap:wrap;\n",
              "      gap: 12px;\n",
              "    }\n",
              "\n",
              "    .colab-df-convert {\n",
              "      background-color: #E8F0FE;\n",
              "      border: none;\n",
              "      border-radius: 50%;\n",
              "      cursor: pointer;\n",
              "      display: none;\n",
              "      fill: #1967D2;\n",
              "      height: 32px;\n",
              "      padding: 0 0 0 0;\n",
              "      width: 32px;\n",
              "    }\n",
              "\n",
              "    .colab-df-convert:hover {\n",
              "      background-color: #E2EBFA;\n",
              "      box-shadow: 0px 1px 2px rgba(60, 64, 67, 0.3), 0px 1px 3px 1px rgba(60, 64, 67, 0.15);\n",
              "      fill: #174EA6;\n",
              "    }\n",
              "\n",
              "    [theme=dark] .colab-df-convert {\n",
              "      background-color: #3B4455;\n",
              "      fill: #D2E3FC;\n",
              "    }\n",
              "\n",
              "    [theme=dark] .colab-df-convert:hover {\n",
              "      background-color: #434B5C;\n",
              "      box-shadow: 0px 1px 3px 1px rgba(0, 0, 0, 0.15);\n",
              "      filter: drop-shadow(0px 1px 2px rgba(0, 0, 0, 0.3));\n",
              "      fill: #FFFFFF;\n",
              "    }\n",
              "  </style>\n",
              "\n",
              "      <script>\n",
              "        const buttonEl =\n",
              "          document.querySelector('#df-2968d70d-71ff-41a7-bbe3-09c2bcdfd612 button.colab-df-convert');\n",
              "        buttonEl.style.display =\n",
              "          google.colab.kernel.accessAllowed ? 'block' : 'none';\n",
              "\n",
              "        async function convertToInteractive(key) {\n",
              "          const element = document.querySelector('#df-2968d70d-71ff-41a7-bbe3-09c2bcdfd612');\n",
              "          const dataTable =\n",
              "            await google.colab.kernel.invokeFunction('convertToInteractive',\n",
              "                                                     [key], {});\n",
              "          if (!dataTable) return;\n",
              "\n",
              "          const docLinkHtml = 'Like what you see? Visit the ' +\n",
              "            '<a target=\"_blank\" href=https://colab.research.google.com/notebooks/data_table.ipynb>data table notebook</a>'\n",
              "            + ' to learn more about interactive tables.';\n",
              "          element.innerHTML = '';\n",
              "          dataTable['output_type'] = 'display_data';\n",
              "          await google.colab.output.renderOutput(dataTable, element);\n",
              "          const docLink = document.createElement('div');\n",
              "          docLink.innerHTML = docLinkHtml;\n",
              "          element.appendChild(docLink);\n",
              "        }\n",
              "      </script>\n",
              "    </div>\n",
              "  </div>\n",
              "  "
            ],
            "text/plain": [
              "                                                   text label\n",
              "6356  Amnesty International said his sentence set \" ...     0\n",
              "8887  Dr. Abdul-Hamid pointed out that thanks to the...     0\n",
              "9015  These were the \" Jews \" that came into power i...     0\n",
              "3652  Ms Randall said it was essential that the Gove...     0\n",
              "8599  B.C. housing minister Selina Robinson said tha...     1\n",
              "...                                                 ...   ...\n",
              "6868  Immigration officials would have 90 days to de...     0\n",
              "1410  Sheikh Hasina said she is happy of note that B...     1\n",
              "5429  It is the government 's duty to ensure homeles...     1\n",
              "6243              @TheTruth -You are already hopeless .     0\n",
              "3114  While the future of the peace process remains ...     1\n",
              "\n",
              "[100 rows x 2 columns]"
            ]
          },
          "metadata": {},
          "execution_count": 187
        }
      ]
    },
    {
      "cell_type": "code",
      "metadata": {
        "id": "lYhUWBfUz0J7"
      },
      "source": [
        "predictions_curie = predict(pcl_sample_test,\"file-fZ3iHtT1iKNPwVR7dGCG8kCT\", model_name = 'curie')"
      ],
      "execution_count": null,
      "outputs": []
    },
    {
      "cell_type": "code",
      "metadata": {
        "id": "cE0oeens1RI2",
        "colab": {
          "base_uri": "https://localhost:8080/"
        },
        "outputId": "cdb47608-3e36-4b69-f299-5a2a2ba8409d"
      },
      "source": [
        "predictions_curie"
      ],
      "execution_count": null,
      "outputs": [
        {
          "output_type": "execute_result",
          "data": {
            "text/plain": [
              "['1',\n",
              " '1',\n",
              " '1',\n",
              " '1',\n",
              " '1',\n",
              " '1',\n",
              " '1',\n",
              " '1',\n",
              " '1',\n",
              " '1',\n",
              " '1',\n",
              " '1',\n",
              " '1',\n",
              " '0',\n",
              " '1',\n",
              " '1',\n",
              " '1',\n",
              " '1',\n",
              " '1',\n",
              " '1',\n",
              " '0',\n",
              " '1',\n",
              " '1',\n",
              " '0',\n",
              " '1',\n",
              " '1',\n",
              " '1',\n",
              " '0',\n",
              " '1',\n",
              " '1',\n",
              " '1',\n",
              " '1',\n",
              " '1',\n",
              " '1',\n",
              " '1',\n",
              " '1',\n",
              " '1',\n",
              " '1',\n",
              " '0',\n",
              " '1',\n",
              " '0',\n",
              " '1',\n",
              " '1',\n",
              " '0',\n",
              " '1',\n",
              " '0',\n",
              " '0',\n",
              " '1',\n",
              " '1',\n",
              " '0',\n",
              " '1',\n",
              " '1',\n",
              " '1',\n",
              " '1',\n",
              " '1',\n",
              " '1',\n",
              " '1',\n",
              " '1',\n",
              " '1',\n",
              " '1',\n",
              " '1',\n",
              " '1',\n",
              " '0',\n",
              " '1',\n",
              " '1',\n",
              " '1',\n",
              " '1',\n",
              " '0',\n",
              " '1',\n",
              " '1',\n",
              " '0',\n",
              " '1',\n",
              " '1',\n",
              " '1',\n",
              " '1',\n",
              " '1',\n",
              " '1',\n",
              " '1',\n",
              " '1',\n",
              " '1',\n",
              " '1',\n",
              " '1',\n",
              " '0',\n",
              " '1',\n",
              " '1',\n",
              " '1',\n",
              " '1',\n",
              " '1',\n",
              " '1',\n",
              " '1',\n",
              " '1',\n",
              " '1',\n",
              " '1',\n",
              " '0',\n",
              " '0',\n",
              " '0',\n",
              " '1',\n",
              " '1',\n",
              " '0',\n",
              " '1']"
            ]
          },
          "metadata": {},
          "execution_count": 194
        }
      ]
    },
    {
      "cell_type": "code",
      "metadata": {
        "colab": {
          "base_uri": "https://localhost:8080/"
        },
        "id": "KKFZY6c61zLe",
        "outputId": "04666819-1af2-4bb5-a9af-01ac81411065"
      },
      "source": [
        "from sklearn.metrics import classification_report\n",
        "y_true = pcl_sample_test['label'].to_list()\n",
        "print(classification_report(y_true, predictions_curie))"
      ],
      "execution_count": null,
      "outputs": [
        {
          "output_type": "stream",
          "name": "stdout",
          "text": [
            "              precision    recall  f1-score   support\n",
            "\n",
            "           0       0.61      0.22      0.32        50\n",
            "           1       0.52      0.86      0.65        50\n",
            "\n",
            "    accuracy                           0.54       100\n",
            "   macro avg       0.57      0.54      0.49       100\n",
            "weighted avg       0.57      0.54      0.49       100\n",
            "\n"
          ]
        }
      ]
    },
    {
      "cell_type": "code",
      "source": [
        "from sklearn.metrics import confusion_matrix\n",
        "import matplotlib.pyplot as plt\n",
        "\n",
        "plt.figure(figsize=(10,8))\n",
        "conf_mat = confusion_matrix(predictions_curie, y_true)\n",
        "s1 = sns.heatmap(conf_mat, annot=True, cmap='Blues')\n",
        "plt.title('Confusion Matrix')"
      ],
      "metadata": {
        "colab": {
          "base_uri": "https://localhost:8080/",
          "height": 517
        },
        "id": "uMimg-LKuJSt",
        "outputId": "e0a7bf13-5df0-46f9-e400-f2c9941dc199"
      },
      "execution_count": null,
      "outputs": [
        {
          "output_type": "execute_result",
          "data": {
            "text/plain": [
              "Text(0.5, 1.0, 'Confusion Matrix')"
            ]
          },
          "metadata": {},
          "execution_count": 196
        },
        {
          "output_type": "display_data",
          "data": {
            "image/png": "[encoded data removed]",
            "text/plain": [
              "<Figure size 720x576 with 2 Axes>"
            ]
          },
          "metadata": {
            "needs_background": "light"
          }
        }
      ]
    },
    {
      "cell_type": "code",
      "source": [
        "fig = s1.get_figure()\n",
        "fig.savefig('Confusion_Matrix_Curie.pdf')  "
      ],
      "metadata": {
        "id": "1B-7H5Xp4lo7"
      },
      "execution_count": null,
      "outputs": []
    },
    {
      "cell_type": "markdown",
      "metadata": {
        "id": "1KiKzqw4Ekfg"
      },
      "source": [
        "## Davinci Model"
      ]
    },
    {
      "cell_type": "code",
      "metadata": {
        "id": "dYzPKxZI2h6v",
        "colab": {
          "base_uri": "https://localhost:8080/",
          "height": 423
        },
        "outputId": "5f2a1ed8-f7a4-4fac-b45f-3f61b434fc2a"
      },
      "source": [
        "pcl_sample = make_sample_dataframe(df = df_binary, _n = 100, _random_state = 42)\n",
        "pcl_sample"
      ],
      "execution_count": null,
      "outputs": [
        {
          "output_type": "execute_result",
          "data": {
            "text/html": [
              "\n",
              "  <div id=\"df-d25f714b-d569-4c37-857b-61f7fa46d64e\">\n",
              "    <div class=\"colab-df-container\">\n",
              "      <div>\n",
              "<style scoped>\n",
              "    .dataframe tbody tr th:only-of-type {\n",
              "        vertical-align: middle;\n",
              "    }\n",
              "\n",
              "    .dataframe tbody tr th {\n",
              "        vertical-align: top;\n",
              "    }\n",
              "\n",
              "    .dataframe thead th {\n",
              "        text-align: right;\n",
              "    }\n",
              "</style>\n",
              "<table border=\"1\" class=\"dataframe\">\n",
              "  <thead>\n",
              "    <tr style=\"text-align: right;\">\n",
              "      <th></th>\n",
              "      <th>text</th>\n",
              "      <th>label</th>\n",
              "    </tr>\n",
              "  </thead>\n",
              "  <tbody>\n",
              "    <tr>\n",
              "      <th>9914</th>\n",
              "      <td>By continuing to use this site you consent to ...</td>\n",
              "      <td>0</td>\n",
              "    </tr>\n",
              "    <tr>\n",
              "      <th>7161</th>\n",
              "      <td>\" In a charged environment , a show like this ...</td>\n",
              "      <td>0</td>\n",
              "    </tr>\n",
              "    <tr>\n",
              "      <th>1663</th>\n",
              "      <td>\" The Impact of Climate Change in small commun...</td>\n",
              "      <td>0</td>\n",
              "    </tr>\n",
              "    <tr>\n",
              "      <th>7873</th>\n",
              "      <td>Hope Reins pairs rescued horses with kids in n...</td>\n",
              "      <td>1</td>\n",
              "    </tr>\n",
              "    <tr>\n",
              "      <th>660</th>\n",
              "      <td>The common thieves then stole a crust of bread...</td>\n",
              "      <td>1</td>\n",
              "    </tr>\n",
              "    <tr>\n",
              "      <th>...</th>\n",
              "      <td>...</td>\n",
              "      <td>...</td>\n",
              "    </tr>\n",
              "    <tr>\n",
              "      <th>9935</th>\n",
              "      <td>Since its inception in 1994 , the NCVT has had...</td>\n",
              "      <td>1</td>\n",
              "    </tr>\n",
              "    <tr>\n",
              "      <th>10095</th>\n",
              "      <td>Another key focus is to provide healthcare for...</td>\n",
              "      <td>0</td>\n",
              "    </tr>\n",
              "    <tr>\n",
              "      <th>2163</th>\n",
              "      <td>Analysts say that so-called \" chain migration ...</td>\n",
              "      <td>0</td>\n",
              "    </tr>\n",
              "    <tr>\n",
              "      <th>2576</th>\n",
              "      <td>Later in 2008 , Avril Lavigne was awarded a Ce...</td>\n",
              "      <td>1</td>\n",
              "    </tr>\n",
              "    <tr>\n",
              "      <th>371</th>\n",
              "      <td>Talking about the desperation of refugees she ...</td>\n",
              "      <td>1</td>\n",
              "    </tr>\n",
              "  </tbody>\n",
              "</table>\n",
              "<p>200 rows × 2 columns</p>\n",
              "</div>\n",
              "      <button class=\"colab-df-convert\" onclick=\"convertToInteractive('df-d25f714b-d569-4c37-857b-61f7fa46d64e')\"\n",
              "              title=\"Convert this dataframe to an interactive table.\"\n",
              "              style=\"display:none;\">\n",
              "        \n",
              "  <svg xmlns=\"http://www.w3.org/2000/svg\" height=\"24px\"viewBox=\"0 0 24 24\"\n",
              "       width=\"24px\">\n",
              "    <path d=\"M0 0h24v24H0V0z\" fill=\"none\"/>\n",
              "    <path d=\"M18.56 5.44l.94 2.06.94-2.06 2.06-.94-2.06-.94-.94-2.06-.94 2.06-2.06.94zm-11 1L8.5 8.5l.94-2.06 2.06-.94-2.06-.94L8.5 2.5l-.94 2.06-2.06.94zm10 10l.94 2.06.94-2.06 2.06-.94-2.06-.94-.94-2.06-.94 2.06-2.06.94z\"/><path d=\"M17.41 7.96l-1.37-1.37c-.4-.4-.92-.59-1.43-.59-.52 0-1.04.2-1.43.59L10.3 9.45l-7.72 7.72c-.78.78-.78 2.05 0 2.83L4 21.41c.39.39.9.59 1.41.59.51 0 1.02-.2 1.41-.59l7.78-7.78 2.81-2.81c.8-.78.8-2.07 0-2.86zM5.41 20L4 18.59l7.72-7.72 1.47 1.35L5.41 20z\"/>\n",
              "  </svg>\n",
              "      </button>\n",
              "      \n",
              "  <style>\n",
              "    .colab-df-container {\n",
              "      display:flex;\n",
              "      flex-wrap:wrap;\n",
              "      gap: 12px;\n",
              "    }\n",
              "\n",
              "    .colab-df-convert {\n",
              "      background-color: #E8F0FE;\n",
              "      border: none;\n",
              "      border-radius: 50%;\n",
              "      cursor: pointer;\n",
              "      display: none;\n",
              "      fill: #1967D2;\n",
              "      height: 32px;\n",
              "      padding: 0 0 0 0;\n",
              "      width: 32px;\n",
              "    }\n",
              "\n",
              "    .colab-df-convert:hover {\n",
              "      background-color: #E2EBFA;\n",
              "      box-shadow: 0px 1px 2px rgba(60, 64, 67, 0.3), 0px 1px 3px 1px rgba(60, 64, 67, 0.15);\n",
              "      fill: #174EA6;\n",
              "    }\n",
              "\n",
              "    [theme=dark] .colab-df-convert {\n",
              "      background-color: #3B4455;\n",
              "      fill: #D2E3FC;\n",
              "    }\n",
              "\n",
              "    [theme=dark] .colab-df-convert:hover {\n",
              "      background-color: #434B5C;\n",
              "      box-shadow: 0px 1px 3px 1px rgba(0, 0, 0, 0.15);\n",
              "      filter: drop-shadow(0px 1px 2px rgba(0, 0, 0, 0.3));\n",
              "      fill: #FFFFFF;\n",
              "    }\n",
              "  </style>\n",
              "\n",
              "      <script>\n",
              "        const buttonEl =\n",
              "          document.querySelector('#df-d25f714b-d569-4c37-857b-61f7fa46d64e button.colab-df-convert');\n",
              "        buttonEl.style.display =\n",
              "          google.colab.kernel.accessAllowed ? 'block' : 'none';\n",
              "\n",
              "        async function convertToInteractive(key) {\n",
              "          const element = document.querySelector('#df-d25f714b-d569-4c37-857b-61f7fa46d64e');\n",
              "          const dataTable =\n",
              "            await google.colab.kernel.invokeFunction('convertToInteractive',\n",
              "                                                     [key], {});\n",
              "          if (!dataTable) return;\n",
              "\n",
              "          const docLinkHtml = 'Like what you see? Visit the ' +\n",
              "            '<a target=\"_blank\" href=https://colab.research.google.com/notebooks/data_table.ipynb>data table notebook</a>'\n",
              "            + ' to learn more about interactive tables.';\n",
              "          element.innerHTML = '';\n",
              "          dataTable['output_type'] = 'display_data';\n",
              "          await google.colab.output.renderOutput(dataTable, element);\n",
              "          const docLink = document.createElement('div');\n",
              "          docLink.innerHTML = docLinkHtml;\n",
              "          element.appendChild(docLink);\n",
              "        }\n",
              "      </script>\n",
              "    </div>\n",
              "  </div>\n",
              "  "
            ],
            "text/plain": [
              "                                                    text label\n",
              "9914   By continuing to use this site you consent to ...     0\n",
              "7161   \" In a charged environment , a show like this ...     0\n",
              "1663   \" The Impact of Climate Change in small commun...     0\n",
              "7873   Hope Reins pairs rescued horses with kids in n...     1\n",
              "660    The common thieves then stole a crust of bread...     1\n",
              "...                                                  ...   ...\n",
              "9935   Since its inception in 1994 , the NCVT has had...     1\n",
              "10095  Another key focus is to provide healthcare for...     0\n",
              "2163   Analysts say that so-called \" chain migration ...     0\n",
              "2576   Later in 2008 , Avril Lavigne was awarded a Ce...     1\n",
              "371    Talking about the desperation of refugees she ...     1\n",
              "\n",
              "[200 rows x 2 columns]"
            ]
          },
          "metadata": {},
          "execution_count": 101
        }
      ]
    },
    {
      "cell_type": "code",
      "metadata": {
        "colab": {
          "base_uri": "https://localhost:8080/"
        },
        "id": "aCxyOR1oE0il",
        "outputId": "5449e792-1c2b-4448-d3fb-82b7e7f7efa2"
      },
      "source": [
        "make_train_file(pcl_sample,'train_binary_davinci.jsonl')"
      ],
      "execution_count": null,
      "outputs": [
        {
          "output_type": "stream",
          "name": "stdout",
          "text": [
            "Writing the train.jsonl file...\n"
          ]
        }
      ]
    },
    {
      "cell_type": "code",
      "metadata": {
        "colab": {
          "base_uri": "https://localhost:8080/"
        },
        "id": "0RBnpl0kE73v",
        "outputId": "d4071e37-7384-4fb3-d3df-3c86990c3a66"
      },
      "source": [
        "openai.File.create(file=open('train_binary_davinci.jsonl'), purpose=\"classifications\")"
      ],
      "execution_count": null,
      "outputs": [
        {
          "output_type": "execute_result",
          "data": {
            "text/plain": [
              "<File file id=file-napbH51vETb8AfQfLCYtJJQ8 at 0x7febcf391b30> JSON: {\n",
              "  \"bytes\": 60902,\n",
              "  \"created_at\": 1644514990,\n",
              "  \"filename\": \"train_binary_davinci.jsonl\",\n",
              "  \"id\": \"file-napbH51vETb8AfQfLCYtJJQ8\",\n",
              "  \"object\": \"file\",\n",
              "  \"purpose\": \"classifications\",\n",
              "  \"status\": \"uploaded\",\n",
              "  \"status_details\": null\n",
              "}"
            ]
          },
          "metadata": {},
          "execution_count": 103
        }
      ]
    },
    {
      "cell_type": "code",
      "metadata": {
        "colab": {
          "base_uri": "https://localhost:8080/",
          "height": 423
        },
        "id": "ZjqGU67-F-ZC",
        "outputId": "1f0c95be-11ed-400c-d66d-cb49840765a3"
      },
      "source": [
        "pcl_sample_test = make_sample_dataframe(df = df_binary, _n = 50, _random_state = 13)\n",
        "pcl_sample_test"
      ],
      "execution_count": null,
      "outputs": [
        {
          "output_type": "execute_result",
          "data": {
            "text/html": [
              "\n",
              "  <div id=\"df-7750a4c3-810b-4e23-911f-78bd7fb8e483\">\n",
              "    <div class=\"colab-df-container\">\n",
              "      <div>\n",
              "<style scoped>\n",
              "    .dataframe tbody tr th:only-of-type {\n",
              "        vertical-align: middle;\n",
              "    }\n",
              "\n",
              "    .dataframe tbody tr th {\n",
              "        vertical-align: top;\n",
              "    }\n",
              "\n",
              "    .dataframe thead th {\n",
              "        text-align: right;\n",
              "    }\n",
              "</style>\n",
              "<table border=\"1\" class=\"dataframe\">\n",
              "  <thead>\n",
              "    <tr style=\"text-align: right;\">\n",
              "      <th></th>\n",
              "      <th>text</th>\n",
              "      <th>label</th>\n",
              "    </tr>\n",
              "  </thead>\n",
              "  <tbody>\n",
              "    <tr>\n",
              "      <th>7119</th>\n",
              "      <td>The notion of \" pilgrimage \" offers a power mo...</td>\n",
              "      <td>0</td>\n",
              "    </tr>\n",
              "    <tr>\n",
              "      <th>1999</th>\n",
              "      <td>It is encouraging to note that the poor famili...</td>\n",
              "      <td>1</td>\n",
              "    </tr>\n",
              "    <tr>\n",
              "      <th>153</th>\n",
              "      <td>When some people feel causing problem for some...</td>\n",
              "      <td>1</td>\n",
              "    </tr>\n",
              "    <tr>\n",
              "      <th>7518</th>\n",
              "      <td>The White Ferns celebrate victory over Austral...</td>\n",
              "      <td>0</td>\n",
              "    </tr>\n",
              "    <tr>\n",
              "      <th>3657</th>\n",
              "      <td>Viet Thanh Nguyen 's new book , \" The Refugees...</td>\n",
              "      <td>0</td>\n",
              "    </tr>\n",
              "    <tr>\n",
              "      <th>...</th>\n",
              "      <td>...</td>\n",
              "      <td>...</td>\n",
              "    </tr>\n",
              "    <tr>\n",
              "      <th>10023</th>\n",
              "      <td>After returning , migrants often face difficul...</td>\n",
              "      <td>0</td>\n",
              "    </tr>\n",
              "    <tr>\n",
              "      <th>826</th>\n",
              "      <td>Former director of Dhaka University 's Institu...</td>\n",
              "      <td>0</td>\n",
              "    </tr>\n",
              "    <tr>\n",
              "      <th>5856</th>\n",
              "      <td>Migration , an issue that has vexed Germany si...</td>\n",
              "      <td>1</td>\n",
              "    </tr>\n",
              "    <tr>\n",
              "      <th>9678</th>\n",
              "      <td>\" The days when physically disabled persons we...</td>\n",
              "      <td>0</td>\n",
              "    </tr>\n",
              "    <tr>\n",
              "      <th>151</th>\n",
              "      <td>Desperation and fear of a dismal future filled...</td>\n",
              "      <td>1</td>\n",
              "    </tr>\n",
              "  </tbody>\n",
              "</table>\n",
              "<p>100 rows × 2 columns</p>\n",
              "</div>\n",
              "      <button class=\"colab-df-convert\" onclick=\"convertToInteractive('df-7750a4c3-810b-4e23-911f-78bd7fb8e483')\"\n",
              "              title=\"Convert this dataframe to an interactive table.\"\n",
              "              style=\"display:none;\">\n",
              "        \n",
              "  <svg xmlns=\"http://www.w3.org/2000/svg\" height=\"24px\"viewBox=\"0 0 24 24\"\n",
              "       width=\"24px\">\n",
              "    <path d=\"M0 0h24v24H0V0z\" fill=\"none\"/>\n",
              "    <path d=\"M18.56 5.44l.94 2.06.94-2.06 2.06-.94-2.06-.94-.94-2.06-.94 2.06-2.06.94zm-11 1L8.5 8.5l.94-2.06 2.06-.94-2.06-.94L8.5 2.5l-.94 2.06-2.06.94zm10 10l.94 2.06.94-2.06 2.06-.94-2.06-.94-.94-2.06-.94 2.06-2.06.94z\"/><path d=\"M17.41 7.96l-1.37-1.37c-.4-.4-.92-.59-1.43-.59-.52 0-1.04.2-1.43.59L10.3 9.45l-7.72 7.72c-.78.78-.78 2.05 0 2.83L4 21.41c.39.39.9.59 1.41.59.51 0 1.02-.2 1.41-.59l7.78-7.78 2.81-2.81c.8-.78.8-2.07 0-2.86zM5.41 20L4 18.59l7.72-7.72 1.47 1.35L5.41 20z\"/>\n",
              "  </svg>\n",
              "      </button>\n",
              "      \n",
              "  <style>\n",
              "    .colab-df-container {\n",
              "      display:flex;\n",
              "      flex-wrap:wrap;\n",
              "      gap: 12px;\n",
              "    }\n",
              "\n",
              "    .colab-df-convert {\n",
              "      background-color: #E8F0FE;\n",
              "      border: none;\n",
              "      border-radius: 50%;\n",
              "      cursor: pointer;\n",
              "      display: none;\n",
              "      fill: #1967D2;\n",
              "      height: 32px;\n",
              "      padding: 0 0 0 0;\n",
              "      width: 32px;\n",
              "    }\n",
              "\n",
              "    .colab-df-convert:hover {\n",
              "      background-color: #E2EBFA;\n",
              "      box-shadow: 0px 1px 2px rgba(60, 64, 67, 0.3), 0px 1px 3px 1px rgba(60, 64, 67, 0.15);\n",
              "      fill: #174EA6;\n",
              "    }\n",
              "\n",
              "    [theme=dark] .colab-df-convert {\n",
              "      background-color: #3B4455;\n",
              "      fill: #D2E3FC;\n",
              "    }\n",
              "\n",
              "    [theme=dark] .colab-df-convert:hover {\n",
              "      background-color: #434B5C;\n",
              "      box-shadow: 0px 1px 3px 1px rgba(0, 0, 0, 0.15);\n",
              "      filter: drop-shadow(0px 1px 2px rgba(0, 0, 0, 0.3));\n",
              "      fill: #FFFFFF;\n",
              "    }\n",
              "  </style>\n",
              "\n",
              "      <script>\n",
              "        const buttonEl =\n",
              "          document.querySelector('#df-7750a4c3-810b-4e23-911f-78bd7fb8e483 button.colab-df-convert');\n",
              "        buttonEl.style.display =\n",
              "          google.colab.kernel.accessAllowed ? 'block' : 'none';\n",
              "\n",
              "        async function convertToInteractive(key) {\n",
              "          const element = document.querySelector('#df-7750a4c3-810b-4e23-911f-78bd7fb8e483');\n",
              "          const dataTable =\n",
              "            await google.colab.kernel.invokeFunction('convertToInteractive',\n",
              "                                                     [key], {});\n",
              "          if (!dataTable) return;\n",
              "\n",
              "          const docLinkHtml = 'Like what you see? Visit the ' +\n",
              "            '<a target=\"_blank\" href=https://colab.research.google.com/notebooks/data_table.ipynb>data table notebook</a>'\n",
              "            + ' to learn more about interactive tables.';\n",
              "          element.innerHTML = '';\n",
              "          dataTable['output_type'] = 'display_data';\n",
              "          await google.colab.output.renderOutput(dataTable, element);\n",
              "          const docLink = document.createElement('div');\n",
              "          docLink.innerHTML = docLinkHtml;\n",
              "          element.appendChild(docLink);\n",
              "        }\n",
              "      </script>\n",
              "    </div>\n",
              "  </div>\n",
              "  "
            ],
            "text/plain": [
              "                                                    text label\n",
              "7119   The notion of \" pilgrimage \" offers a power mo...     0\n",
              "1999   It is encouraging to note that the poor famili...     1\n",
              "153    When some people feel causing problem for some...     1\n",
              "7518   The White Ferns celebrate victory over Austral...     0\n",
              "3657   Viet Thanh Nguyen 's new book , \" The Refugees...     0\n",
              "...                                                  ...   ...\n",
              "10023  After returning , migrants often face difficul...     0\n",
              "826    Former director of Dhaka University 's Institu...     0\n",
              "5856   Migration , an issue that has vexed Germany si...     1\n",
              "9678   \" The days when physically disabled persons we...     0\n",
              "151    Desperation and fear of a dismal future filled...     1\n",
              "\n",
              "[100 rows x 2 columns]"
            ]
          },
          "metadata": {},
          "execution_count": 110
        }
      ]
    },
    {
      "cell_type": "code",
      "metadata": {
        "colab": {
          "base_uri": "https://localhost:8080/"
        },
        "id": "kmuivtT4GV2o",
        "outputId": "6324c9bc-876c-4ff6-9aec-cb4bb62e0978"
      },
      "source": [
        "len(list(set(pcl_sample_test.index) - set(pcl_sample.index)))"
      ],
      "execution_count": null,
      "outputs": [
        {
          "output_type": "execute_result",
          "data": {
            "text/plain": [
              "100"
            ]
          },
          "metadata": {},
          "execution_count": 111
        }
      ]
    },
    {
      "cell_type": "code",
      "metadata": {
        "id": "PPNL5YPuFD8j"
      },
      "source": [
        "predictions_davinci = predict(pcl_sample_test,\"file-napbH51vETb8AfQfLCYtJJQ8\", model_name = 'davinci')"
      ],
      "execution_count": null,
      "outputs": []
    },
    {
      "cell_type": "code",
      "metadata": {
        "colab": {
          "base_uri": "https://localhost:8080/"
        },
        "id": "4QrMMfN3G4ET",
        "outputId": "ee4bbb2d-2042-48e6-d391-635a5d46e4bd"
      },
      "source": [
        "predictions_davinci"
      ],
      "execution_count": null,
      "outputs": [
        {
          "output_type": "execute_result",
          "data": {
            "text/plain": [
              "['0',\n",
              " '1',\n",
              " '1',\n",
              " '1',\n",
              " '1',\n",
              " '1',\n",
              " '1',\n",
              " '1',\n",
              " '1',\n",
              " '1',\n",
              " '0',\n",
              " '1',\n",
              " '1',\n",
              " '1',\n",
              " '1',\n",
              " '1',\n",
              " '1',\n",
              " '1',\n",
              " '1',\n",
              " '0',\n",
              " '1',\n",
              " '1',\n",
              " '0',\n",
              " '1',\n",
              " '1',\n",
              " '0',\n",
              " '1',\n",
              " '1',\n",
              " '0',\n",
              " '1',\n",
              " '1',\n",
              " '0',\n",
              " '1',\n",
              " '0',\n",
              " '1',\n",
              " '0',\n",
              " '1',\n",
              " '1',\n",
              " '1',\n",
              " '1',\n",
              " '1',\n",
              " '1',\n",
              " '1',\n",
              " '1',\n",
              " '1',\n",
              " '1',\n",
              " '1',\n",
              " '1',\n",
              " '1',\n",
              " '1',\n",
              " '1',\n",
              " '1',\n",
              " '0',\n",
              " '1',\n",
              " '1',\n",
              " '0',\n",
              " '1',\n",
              " '0',\n",
              " '1',\n",
              " '1',\n",
              " '1',\n",
              " '0',\n",
              " '1',\n",
              " '1',\n",
              " '0',\n",
              " '1',\n",
              " '1',\n",
              " '1',\n",
              " '1',\n",
              " '1',\n",
              " '0',\n",
              " '1',\n",
              " '0',\n",
              " '1',\n",
              " '1',\n",
              " '1',\n",
              " '1',\n",
              " '0',\n",
              " '1',\n",
              " '0',\n",
              " '1',\n",
              " '1',\n",
              " '0',\n",
              " '1',\n",
              " '1',\n",
              " '1',\n",
              " '1',\n",
              " '1',\n",
              " '1',\n",
              " '1',\n",
              " '1',\n",
              " '1',\n",
              " '1',\n",
              " '0',\n",
              " '0',\n",
              " '1',\n",
              " '1',\n",
              " '0',\n",
              " '1',\n",
              " '1']"
            ]
          },
          "metadata": {},
          "execution_count": 114
        }
      ]
    },
    {
      "cell_type": "code",
      "metadata": {
        "id": "QEFUk1tHJD_-",
        "colab": {
          "base_uri": "https://localhost:8080/"
        },
        "outputId": "e7aaf499-5ad5-4c7a-b101-6c3443684af2"
      },
      "source": [
        "from sklearn.metrics import classification_report\n",
        "y_true = pcl_sample_test['label'].to_list()\n",
        "print(classification_report(y_true, predictions_curie))"
      ],
      "execution_count": null,
      "outputs": [
        {
          "output_type": "stream",
          "name": "stdout",
          "text": [
            "              precision    recall  f1-score   support\n",
            "\n",
            "           0       0.58      0.30      0.39        50\n",
            "           1       0.53      0.78      0.63        50\n",
            "\n",
            "    accuracy                           0.54       100\n",
            "   macro avg       0.55      0.54      0.51       100\n",
            "weighted avg       0.55      0.54      0.51       100\n",
            "\n"
          ]
        }
      ]
    },
    {
      "cell_type": "code",
      "source": [
        "from sklearn.metrics import confusion_matrix\n",
        "import matplotlib.pyplot as plt\n",
        "\n",
        "plt.figure(figsize=(10,8))\n",
        "conf_mat = confusion_matrix(predictions_davinci, y_true)\n",
        "s1 = sns.heatmap(conf_mat, annot=True, cmap='Blues')\n",
        "plt.title('Confusion Matrix')"
      ],
      "metadata": {
        "colab": {
          "base_uri": "https://localhost:8080/",
          "height": 517
        },
        "id": "D4kaoezOxGLT",
        "outputId": "7dde30b3-2252-4932-a1f5-032a72a75146"
      },
      "execution_count": null,
      "outputs": [
        {
          "output_type": "execute_result",
          "data": {
            "text/plain": [
              "Text(0.5, 1.0, 'Confusion Matrix')"
            ]
          },
          "metadata": {},
          "execution_count": 197
        },
        {
          "output_type": "display_data",
          "data": {
            "image/png": "[encoded data removed]",
            "text/plain": [
              "<Figure size 720x576 with 2 Axes>"
            ]
          },
          "metadata": {
            "needs_background": "light"
          }
        }
      ]
    },
    {
      "cell_type": "code",
      "source": [
        "fig = s1.get_figure()\n",
        "fig.savefig('Confusion_Matrix_Davinci.pdf')  "
      ],
      "metadata": {
        "id": "gGXM8BZm45m_"
      },
      "execution_count": null,
      "outputs": []
    },
    {
      "cell_type": "code",
      "source": [
        ""
      ],
      "metadata": {
        "id": "MJUgbVDf49i8"
      },
      "execution_count": null,
      "outputs": []
    }
  ]
}